{
 "cells": [
  {
   "cell_type": "code",
   "execution_count": 1,
   "id": "294d9f2d",
   "metadata": {},
   "outputs": [
    {
     "name": "stderr",
     "output_type": "stream",
     "text": [
      "pybullet build time: Jul 21 2022 19:59:54\n"
     ]
    }
   ],
   "source": [
    "# These are standard modules\n",
    "import numpy as np\n",
    "import sympy as sym\n",
    "import matplotlib.pyplot as plt\n",
    "\n",
    "# This is a custom interface to the pybullet simulator\n",
    "import ae483_drone"
   ]
  },
  {
   "cell_type": "code",
   "execution_count": 2,
   "id": "needed-motion",
   "metadata": {},
   "outputs": [
    {
     "name": "stdout",
     "output_type": "stream",
     "text": [
      "argv[0]=--width=640\n",
      "argv[1]=--height=480\n",
      "Version = 4.1 ATI-4.9.48\n",
      "Vendor = ATI Technologies Inc.\n",
      "Renderer = AMD Radeon Pro 560X OpenGL Engine\n",
      "b3Printf: Selected demo: Physics Server\n",
      "startThreads creating 1 threads.\n",
      "starting thread 0\n",
      "started thread 0 \n",
      "MotionThreadFunc thread started\n"
     ]
    }
   ],
   "source": [
    "simulator = ae483_drone.Simulator(\n",
    "    display=True,\n",
    "    width=640,\n",
    "    height=480,\n",
    ")"
   ]
  },
  {
   "cell_type": "code",
   "execution_count": 3,
   "id": "ff588162",
   "metadata": {},
   "outputs": [],
   "source": [
    "class RobotClient:\n",
    "    def __init__(self):\n",
    "        pass\n",
    "    \n",
    "    def run(self, t):\n",
    "        # Get start time (hard-coded at zero)\n",
    "        start_time = 0.\n",
    "        \n",
    "        # Get current time\n",
    "        current_time = t\n",
    "        \n",
    "        # Define initial point (in the coordinates of the world frame)\n",
    "        p1 = np.array([0., 0., 0.3])\n",
    "        \n",
    "        # Define final point (in the coordinates of the world frame)\n",
    "        p2 = np.array([2.5, 0., 0.3]) # <-- FIXME (A)\n",
    "        \n",
    "        # Define speed in meters / second\n",
    "        speed = 0.25\n",
    "        \n",
    "        # Compute distance from p1 to p2\n",
    "        distance_from_p1_to_p2 = np.linalg.norm(p1-p2) # <-- FIXME (B)\n",
    "        \n",
    "        # Compute time it takes to move from p1 to p2 at desired speed\n",
    "        time_from_p1_to_p2 = distance_from_p1_to_p2/speed # <-- FIXME (C)\n",
    "        \n",
    "        # Compute what fraction of the distance from p1 to p2 should have\n",
    "        # been travelled by the current time\n",
    "        s = (current_time - start_time)/time_from_p1_to_p2 # <-- FIXME (D)\n",
    "        \n",
    "        # Compute where the drone should be at the current time, in the\n",
    "        # coordinates of the world frame\n",
    "        p = ((1-s) * p1) + (s*p2) # <-- FIXME (E)\n",
    "        \n",
    "        # Check if the drone should have reached p2 already\n",
    "        if s >= 1:\n",
    "            p = p2\n",
    "        \n",
    "        # Get x, y, z coordinates of desired position\n",
    "        o_x = p[0]\n",
    "        o_y = p[1]\n",
    "        o_z = p[2]\n",
    "        psi = 0.\n",
    "    \n",
    "        return {\n",
    "            'o_x': o_x,\n",
    "            'o_y': o_y,\n",
    "            'o_z': o_z,\n",
    "            'psi': psi,\n",
    "        }"
   ]
  },
  {
   "cell_type": "code",
   "execution_count": 4,
   "id": "ca1c23f4",
   "metadata": {},
   "outputs": [],
   "source": [
    "class RobotController:\n",
    "    def __init__(self):\n",
    "        pass\n",
    "\n",
    "    def limitUint16(self, m):\n",
    "        \"\"\"\n",
    "        This function returns the closest integer to \"m\" in the\n",
    "        range [0, 65535]. It is called \"limitUint16\" because an\n",
    "        \"unsigned 16-bit integer\" is limited to this range.\n",
    "        \"\"\"\n",
    "        m = np.round(m, decimals=0)\n",
    "        if m < 0:\n",
    "            m = 0\n",
    "        elif m > 65535:\n",
    "            m = 65535\n",
    "        return m\n",
    "\n",
    "    def run(self, state, setpoint):\n",
    "        # Parse state\n",
    "        o_x = state['o_x']\n",
    "        o_y = state['o_y']\n",
    "        o_z = state['o_z']\n",
    "        psi = state['psi']\n",
    "        theta = state['theta']\n",
    "        phi = state['phi']\n",
    "        v_x = state['v_x']\n",
    "        v_y = state['v_y']\n",
    "        v_z = state['v_z']\n",
    "        w_x = state['w_x']\n",
    "        w_y = state['w_y']\n",
    "        w_z = state['w_z']\n",
    "        alpha = state['alpha']\n",
    "        \n",
    "        # Parse setpoint\n",
    "        o_x_des = setpoint['o_x']\n",
    "        o_y_des = setpoint['o_y']\n",
    "        o_z_des = setpoint['o_z']\n",
    "        \n",
    "        # FIXME: Add code here to compute net torques and net force\n",
    "        #\n",
    "        # tau_x = 0.00264575 * (o_y - o_y_des) -0.00667388 * phi + 0.00209759 * v_y -0.00110243 * w_x\n",
    "        # tau_y = -0.00223607 * (o_x - o_x_des) -0.00644865 * theta -0.00193385 * v_x -0.00108568 * w_y\n",
    "        # tau_z = -0.00100000 * psi -0.00102777 * w_z\n",
    "        # f_z = -0.21447611 * (o_z - o_z_des) -0.18271100 * v_z + 0.30607200\n",
    "        \n",
    "        tau_x = 0\n",
    "        tau_y = 0\n",
    "        tau_z = 0\n",
    "        f_z = 0\n",
    "\n",
    "        # FIXME: Replace code here to compute motor power commands\n",
    "        m_1 = self.limitUint16( -3622138.5 * tau_x -3622138.5 * tau_y -2765486.7 * tau_z + 123152.7 * f_z )\n",
    "        m_2 = self.limitUint16( -3622138.5 * tau_x + 3622138.5 * tau_y + 2765486.7 * tau_z + 123152.7 * f_z )\n",
    "        m_3 = self.limitUint16( 3622138.5 * tau_x + 3622138.5 * tau_y -2765486.7 * tau_z + 123152.7 * f_z )\n",
    "        m_4 = self.limitUint16( 3622138.5 * tau_x -3622138.5 * tau_y + 2765486.7 * tau_z + 123152.7 * f_z )\n",
    "        \n",
    "        return m_1, m_2, m_3, m_4"
   ]
  },
  {
   "cell_type": "code",
   "execution_count": 5,
   "id": "32cf78f4",
   "metadata": {},
   "outputs": [],
   "source": [
    "simulator.clear_drones()"
   ]
  },
  {
   "cell_type": "code",
   "execution_count": 6,
   "id": "6e177797",
   "metadata": {},
   "outputs": [],
   "source": [
    "simulator.add_drone(\n",
    "    'my_drone',\n",
    "    RobotClient,\n",
    "    RobotController,\n",
    "    rgba=[1., 0., 1., 1.],\n",
    "    m=0.039,   # <-- FIXME\n",
    "    J_x=1e-5,  # <-- FIXME\n",
    "    J_y=1e-5,  # <-- FIXME\n",
    "    J_z=2e-5,  # <-- FIXME\n",
    "    g=9.81,\n",
    "    l=0.035,   # <-- FIXME\n",
    "    k_F=2e-6,  # <-- FIXME\n",
    "    k_M=1e-8,  # <-- FIXME\n",
    ")"
   ]
  },
  {
   "cell_type": "markdown",
   "id": "4e0ccb17",
   "metadata": {},
   "source": [
    "Set the initial state of this drone. Here, as an example, we start the drone near the desired position that was specified by the client."
   ]
  },
  {
   "cell_type": "code",
   "execution_count": 18,
   "id": "d1e4ad5e",
   "metadata": {},
   "outputs": [],
   "source": [
    "simulator.set_state(\n",
    "    'my_drone',\n",
    "    {\n",
    "        'o_x': 0.,\n",
    "        'o_y': 0.,\n",
    "        'o_z': 0.3,\n",
    "        'psi': 0.,\n",
    "        'theta': 0.,\n",
    "        'phi': 0.,\n",
    "        'v_x': 0.,\n",
    "        'v_y': 0.,\n",
    "        'v_z': 0.,\n",
    "        'w_x': 0.,\n",
    "        'w_y': 0.,\n",
    "        'w_z': 0.,\n",
    "    },\n",
    ")"
   ]
  },
  {
   "cell_type": "code",
   "execution_count": 8,
   "id": "9e507c18",
   "metadata": {},
   "outputs": [
    {
     "data": {
      "text/plain": [
       "{'o_x': -6.789868468800125e-05,\n",
       " 'o_y': 9.808071072034952e-06,\n",
       " 'o_z': 0.005486871538019891,\n",
       " 'psi': 0.0013490058894195752,\n",
       " 'theta': -0.0002838011760445914,\n",
       " 'phi': -3.322618457540599e-05,\n",
       " 'v_x': -4.901281191313405e-05,\n",
       " 'v_y': 9.105346829796618e-05,\n",
       " 'v_z': 6.374108382462679e-05,\n",
       " 'w_x': -0.0148861145042058,\n",
       " 'w_y': -0.007266016726283014,\n",
       " 'w_z': -0.0007093028448644893,\n",
       " 'alpha': -1.4200693585249555}"
      ]
     },
     "execution_count": 8,
     "metadata": {},
     "output_type": "execute_result"
    }
   ],
   "source": [
    "simulator.get_state(simulator.get_drone_by_name('my_drone')) # debugging"
   ]
  },
  {
   "cell_type": "code",
   "execution_count": 21,
   "id": "30671698",
   "metadata": {},
   "outputs": [],
   "source": [
    "simulator.set_camera_target('my_drone')"
   ]
  },
  {
   "cell_type": "code",
   "execution_count": 7,
   "id": "f8526f69",
   "metadata": {},
   "outputs": [
    {
     "name": "stdout",
     "output_type": "stream",
     "text": [
      "Completed 2000 time steps in 20.0515 seconds (99.7429 time steps per second)\n"
     ]
    }
   ],
   "source": [
    "simulator.run(\n",
    "    max_time=20.,\n",
    "    data_filename='simulation_smooth-2.5m.json',\n",
    "    video_filename=None,\n",
    ")"
   ]
  },
  {
   "cell_type": "code",
   "execution_count": null,
   "id": "3d98d0b5",
   "metadata": {},
   "outputs": [],
   "source": []
  }
 ],
 "metadata": {
  "kernelspec": {
   "display_name": "Python 3.10.6 ('ae483')",
   "language": "python",
   "name": "python3"
  },
  "language_info": {
   "codemirror_mode": {
    "name": "ipython",
    "version": 3
   },
   "file_extension": ".py",
   "mimetype": "text/x-python",
   "name": "python",
   "nbconvert_exporter": "python",
   "pygments_lexer": "ipython3",
   "version": "3.10.6"
  },
  "vscode": {
   "interpreter": {
    "hash": "e607d91ad8461b7f4d32b45dc997919202eed13abef693ebfa93f752e4f06177"
   }
  }
 },
 "nbformat": 4,
 "nbformat_minor": 5
}
