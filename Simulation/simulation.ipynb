{
 "cells": [
  {
   "cell_type": "code",
   "execution_count": 1,
   "id": "294d9f2d",
   "metadata": {},
   "outputs": [],
   "source": [
    "# These are standard modules\n",
    "import numpy as np\n",
    "import sympy as sym\n",
    "import matplotlib.pyplot as plt\n",
    "\n",
    "# This is a custom interface to the pybullet simulator\n",
    "import ae483_drone"
   ]
  },
  {
   "cell_type": "code",
   "execution_count": 2,
   "id": "needed-motion",
   "metadata": {},
   "outputs": [],
   "source": [
    "simulator = ae483_drone.Simulator(\n",
    "    display=True,\n",
    "    width=640,\n",
    "    height=480,\n",
    ")"
   ]
  },
  {
   "cell_type": "code",
   "execution_count": 3,
   "id": "ff588162",
   "metadata": {},
   "outputs": [],
   "source": [
    "class RobotClient:\n",
    "    def __init__(self):\n",
    "        pass\n",
    "    \n",
    "    def run(self, t):\n",
    "        # Get start time (hard-coded at zero)\n",
    "        start_time = 0.\n",
    "        \n",
    "        # Get current time\n",
    "        current_time = t\n",
    "        \n",
    "        # Define initial point (in the coordinates of the world frame)\n",
    "        p1 = np.array([0., 0., 0.3])\n",
    "        \n",
    "        # Define final point (in the coordinates of the world frame)\n",
    "        p2 = np.array([0.1, 0., 0.3]) # <-- FIXME (A)\n",
    "        \n",
    "        # Define speed in meters / second\n",
    "        speed = 0.25\n",
    "        \n",
    "        # Compute distance from p1 to p2\n",
    "        distance_from_p1_to_p2 = np.linalg.norm(p1-p2) # <-- FIXME (B)\n",
    "        \n",
    "        # Compute time it takes to move from p1 to p2 at desired speed\n",
    "        time_from_p1_to_p2 = distance_from_p1_to_p2/speed # <-- FIXME (C)\n",
    "        \n",
    "        # Compute what fraction of the distance from p1 to p2 should have\n",
    "        # been travelled by the current time\n",
    "        s = (current_time - start_time)/time_from_p1_to_p2 # <-- FIXME (D)\n",
    "        \n",
    "        # Compute where the drone should be at the current time, in the\n",
    "        # coordinates of the world frame\n",
    "        p = ((1-s) * p1) + (s*p2) # <-- FIXME (E)\n",
    "        \n",
    "        # Check if the drone should have reached p2 already\n",
    "        if s >= 1:\n",
    "            p = p2\n",
    "        \n",
    "        # Get x, y, z coordinates of desired position\n",
    "        o_x = p[0]\n",
    "        o_y = p[1]\n",
    "        o_z = p[2]\n",
    "        psi = 0.\n",
    "    \n",
    "        return {\n",
    "            'o_x': o_x,\n",
    "            'o_y': o_y,\n",
    "            'o_z': o_z,\n",
    "            'psi': psi,\n",
    "        }"
   ]
  },
  {
   "cell_type": "code",
   "execution_count": 4,
   "id": "ca1c23f4",
   "metadata": {},
   "outputs": [],
   "source": [
    "class RobotController:\n",
    "    def __init__(self):\n",
    "        pass\n",
    "\n",
    "    def limitUint16(self, m):\n",
    "        \"\"\"\n",
    "        This function returns the closest integer to \"m\" in the\n",
    "        range [0, 65535]. It is called \"limitUint16\" because an\n",
    "        \"unsigned 16-bit integer\" is limited to this range.\n",
    "        \"\"\"\n",
    "        m = np.round(m, decimals=0)\n",
    "        if m < 0:\n",
    "            m = 0\n",
    "        elif m > 65535:\n",
    "            m = 65535\n",
    "        return m\n",
    "\n",
    "    def run(self, state, setpoint):\n",
    "        # Parse state\n",
    "        # i = 0\n",
    "        o_x = state['o_x']\n",
    "        o_y = state['o_y']\n",
    "        o_z = state['o_z']\n",
    "        psi = state['psi']\n",
    "        theta = state['theta']\n",
    "        phi = state['phi']\n",
    "        v_x = state['v_x']\n",
    "        v_y = state['v_y']\n",
    "        v_z = state['v_z']\n",
    "        w_x = state['w_x']\n",
    "        w_y = state['w_y']\n",
    "        w_z = state['w_z']\n",
    "        # if i == 0:\n",
    "        #     alpha_old = 0\n",
    "        #     i += 1\n",
    "        # else:\n",
    "        #     alpha_old = alpha\n",
    "        alpha = state['alpha']\n",
    "        alpha_dot = state['alpha_dot']\n",
    "        # Parse setpoint\n",
    "        o_x_des = setpoint['o_x']\n",
    "        o_y_des = setpoint['o_y']\n",
    "        o_z_des = setpoint['o_z']\n",
    "        \n",
    "\n",
    "        # alpha_dot = (alpha - alpha_old)/0.01\n",
    "        # print(alpha_dot)\n",
    "        \n",
    "        # tau_x = 0.00264575 * (o_y - o_y_des) -0.00666529 * phi + 0.00209649 * v_y -0.00109968 * w_x\n",
    "        # tau_y = -0.00070711 * (o_x - o_x_des) -0.00979975 * theta -0.01242196 * v_x -0.00064311 * w_y -0.00316507 * alpha -0.00064037 * alpha_dot\n",
    "        # tau_z = -0.00100000 * psi -0.00102029 * w_z\n",
    "        # f_z = -0.31622777 * (o_z - o_z_des) -0.21869624 * v_z + 0.43164000\n",
    "        \n",
    "        # tau_x = 0.00264575 * (o_y - o_y_des) -0.00666529 * phi + 0.00209649 * v_y -0.00109968 * w_x\n",
    "        # tau_y = -0.00070711 * (o_x - o_x_des) -0.00979975 * theta -0.01242196 * v_x -0.00064311 * w_y -0.05 * alpha\n",
    "        # tau_z = -0.00100000 * psi -0.00102029 * w_z\n",
    "        # f_z = -0.31622777 * (o_z - o_z_des) -0.21869624 * v_z + 0.43164000\n",
    "\n",
    "        # tau_x = 0.00264575 * (o_y - o_y_des) -0.00666549 * phi + 0.00209651 * v_y -0.00109968 * w_x\n",
    "        # tau_y = 0.00000316 * (o_x - o_x_des) +0.00144414 * theta + 0.00014953 * v_x +0.00021499 * w_y + 0.00010829 * alpha + 0.00010390 * alpha_dot\n",
    "        # tau_z = -0.00100000 * psi -0.00102029 * w_z\n",
    "        # f_z = -0.70710678 * (o_z - o_z_des) -0.40277214 * v_z + 0.43164000\n",
    "\n",
    "        tau_x = 0.00264575 * (o_y - o_y_des) -0.00666549 * phi + 0.00209651 * v_y -0.00109968 * w_x\n",
    "        tau_y = 0.000100000 * (o_x - o_x_des) +0.007739537 * theta + 0.004701170 * v_x +0.000186458 * w_y + 0.43272437 * alpha + 0.12369150 * alpha_dot\n",
    "        tau_z = -0.00100000 * psi -0.00102029 * w_z\n",
    "        f_z = -0.70710678 * (o_z - o_z_des) -0.40277214 * v_z + 0.43164000\n",
    "        \n",
    "        # print('o_x = ', o_x)\n",
    "        # print('o_x_des = ', o_x_des)\n",
    "        # print('o_y = ', o_y)\n",
    "        # print('o_y_des = ', o_y_des)\n",
    "        # print('phi = ', phi)\n",
    "        # print('v_x = ', v_x)\n",
    "        # print('w_x = ', w_x)\n",
    "        # print('v_y = ', v_y)\n",
    "        # print('alpha = ', alpha)\n",
    "        # print('f_z = ', f_z)\n",
    "\n",
    "        m_1 = self.limitUint16( -3770739.1 * tau_x -3770739.1 * tau_y -39494470.8 * tau_z + 122549.0 * f_z )\n",
    "        m_2 = self.limitUint16( -3770739.1 * tau_x + 3770739.1 * tau_y + 39494470.8 * tau_z + 122549.0 * f_z )\n",
    "        m_3 = self.limitUint16( 3770739.1 * tau_x + 3770739.1 * tau_y -39494470.8 * tau_z + 122549.0 * f_z )\n",
    "        m_4 = self.limitUint16( 3770739.1 * tau_x -3770739.1 * tau_y + 39494470.8 * tau_z + 122549.0 * f_z )\n",
    "        \n",
    "        return m_1, m_2, m_3, m_4"
   ]
  },
  {
   "cell_type": "code",
   "execution_count": 5,
   "id": "32cf78f4",
   "metadata": {},
   "outputs": [],
   "source": [
    "simulator.clear_drones()"
   ]
  },
  {
   "cell_type": "code",
   "execution_count": null,
   "id": "82c3b4dc",
   "metadata": {},
   "outputs": [],
   "source": []
  },
  {
   "cell_type": "code",
   "execution_count": 6,
   "id": "6e177797",
   "metadata": {},
   "outputs": [],
   "source": [
    "simulator.add_drone(\n",
    "    'my_drone',\n",
    "    RobotClient,\n",
    "    RobotController,\n",
    "    rgba=[1., 0., 1., 1.],\n",
    "    m=0.039,   # <-- FIXME\n",
    "    J_x=1e-5,  # <-- FIXME\n",
    "    J_y=1e-5,  # <-- FIXME\n",
    "    J_z=2e-5,  # <-- FIXME\n",
    "    g=9.81,\n",
    "    l=0.035,   # <-- FIXME\n",
    "    k_F=2e-6,  # <-- FIXME\n",
    "    k_M=1e-8,  # <-- FIXME\n",
    ")"
   ]
  },
  {
   "cell_type": "markdown",
   "id": "4e0ccb17",
   "metadata": {},
   "source": [
    "Set the initial state of this drone. Here, as an example, we start the drone near the desired position that was specified by the client."
   ]
  },
  {
   "cell_type": "code",
   "execution_count": 7,
   "id": "d1e4ad5e",
   "metadata": {},
   "outputs": [],
   "source": [
    "simulator.set_state(\n",
    "    'my_drone',\n",
    "    {\n",
    "        'o_x': 0.,\n",
    "        'o_y': 0.,\n",
    "        'o_z': 0.3,\n",
    "        'psi': 0.,\n",
    "        'theta': 0.,\n",
    "        'phi': 0.,\n",
    "        'v_x': 0.,\n",
    "        'v_y': 0.,\n",
    "        'v_z': 0.,\n",
    "        'w_x': 0.,\n",
    "        'w_y': 0.,\n",
    "        'w_z': 0.,\n",
    "        'alpha': -0.0\n",
    "    },\n",
    ")"
   ]
  },
  {
   "cell_type": "code",
   "execution_count": 8,
   "id": "9e507c18",
   "metadata": {},
   "outputs": [
    {
     "data": {
      "text/plain": [
       "{'o_x': 0.0,\n",
       " 'o_y': 0.0,\n",
       " 'o_z': 0.3,\n",
       " 'psi': 0.0,\n",
       " 'theta': -0.0,\n",
       " 'phi': 0.0,\n",
       " 'v_x': 0.0,\n",
       " 'v_y': 0.0,\n",
       " 'v_z': 0.0,\n",
       " 'w_x': 0.0,\n",
       " 'w_y': 0.0,\n",
       " 'w_z': 0.0,\n",
       " 'alpha': -0.0,\n",
       " 'alpha_dot': 0.0}"
      ]
     },
     "execution_count": 8,
     "metadata": {},
     "output_type": "execute_result"
    }
   ],
   "source": [
    "simulator.get_state(simulator.get_drone_by_name('my_drone')) # debugging"
   ]
  },
  {
   "cell_type": "code",
   "execution_count": 9,
   "id": "30671698",
   "metadata": {},
   "outputs": [],
   "source": [
    "simulator.set_camera_target('my_drone')\n",
    "simulator.set_camera_yaw(90.0)"
   ]
  },
  {
   "cell_type": "code",
   "execution_count": 10,
   "id": "f8526f69",
   "metadata": {},
   "outputs": [
    {
     "ename": "error",
     "evalue": "Not connected to physics server.",
     "output_type": "error",
     "traceback": [
      "\u001b[1;31m---------------------------------------------------------------------------\u001b[0m",
      "\u001b[1;31merror\u001b[0m                                     Traceback (most recent call last)",
      "\u001b[1;32mc:\\Users\\anshu\\OneDrive\\Desktop\\Repositories\\DroneInvertedPendulum\\Simulation\\simulation.ipynb Cell 12\u001b[0m in \u001b[0;36m<cell line: 1>\u001b[1;34m()\u001b[0m\n\u001b[1;32m----> <a href='vscode-notebook-cell:/c%3A/Users/anshu/OneDrive/Desktop/Repositories/DroneInvertedPendulum/Simulation/simulation.ipynb#X14sZmlsZQ%3D%3D?line=0'>1</a>\u001b[0m simulator\u001b[39m.\u001b[39;49mrun(\n\u001b[0;32m      <a href='vscode-notebook-cell:/c%3A/Users/anshu/OneDrive/Desktop/Repositories/DroneInvertedPendulum/Simulation/simulation.ipynb#X14sZmlsZQ%3D%3D?line=1'>2</a>\u001b[0m     max_time\u001b[39m=\u001b[39;49m\u001b[39m6.\u001b[39;49m,\n\u001b[0;32m      <a href='vscode-notebook-cell:/c%3A/Users/anshu/OneDrive/Desktop/Repositories/DroneInvertedPendulum/Simulation/simulation.ipynb#X14sZmlsZQ%3D%3D?line=2'>3</a>\u001b[0m     data_filename\u001b[39m=\u001b[39;49m\u001b[39m'\u001b[39;49m\u001b[39mpendulum_initial_test.json\u001b[39;49m\u001b[39m'\u001b[39;49m,\n\u001b[0;32m      <a href='vscode-notebook-cell:/c%3A/Users/anshu/OneDrive/Desktop/Repositories/DroneInvertedPendulum/Simulation/simulation.ipynb#X14sZmlsZQ%3D%3D?line=3'>4</a>\u001b[0m     video_filename\u001b[39m=\u001b[39;49m\u001b[39mNone\u001b[39;49;00m,\n\u001b[0;32m      <a href='vscode-notebook-cell:/c%3A/Users/anshu/OneDrive/Desktop/Repositories/DroneInvertedPendulum/Simulation/simulation.ipynb#X14sZmlsZQ%3D%3D?line=4'>5</a>\u001b[0m )\n",
      "File \u001b[1;32mc:\\Users\\anshu\\OneDrive\\Desktop\\Repositories\\DroneInvertedPendulum\\Simulation\\ae483_drone.py:348\u001b[0m, in \u001b[0;36mSimulator.run\u001b[1;34m(self, max_time, data_filename, video_filename)\u001b[0m\n\u001b[0;32m    345\u001b[0m     w\u001b[39m.\u001b[39mappend_data(rgba)\n\u001b[0;32m    347\u001b[0m \u001b[39mwhile\u001b[39;00m \u001b[39mTrue\u001b[39;00m:\n\u001b[1;32m--> 348\u001b[0m     all_done \u001b[39m=\u001b[39m \u001b[39mself\u001b[39;49m\u001b[39m.\u001b[39;49mstep()\n\u001b[0;32m    350\u001b[0m     \u001b[39mif\u001b[39;00m video_filename \u001b[39mis\u001b[39;00m \u001b[39mnot\u001b[39;00m \u001b[39mNone\u001b[39;00m:\n\u001b[0;32m    351\u001b[0m         \u001b[39mif\u001b[39;00m \u001b[39mself\u001b[39m\u001b[39m.\u001b[39mtime_step \u001b[39m%\u001b[39m \u001b[39m100\u001b[39m \u001b[39m==\u001b[39m \u001b[39m0\u001b[39m:\n",
      "File \u001b[1;32mc:\\Users\\anshu\\OneDrive\\Desktop\\Repositories\\DroneInvertedPendulum\\Simulation\\ae483_drone.py:458\u001b[0m, in \u001b[0;36mSimulator.step\u001b[1;34m(self)\u001b[0m\n\u001b[0;32m    456\u001b[0m \u001b[39m# update camera\u001b[39;00m\n\u001b[0;32m    457\u001b[0m \u001b[39mif\u001b[39;00m \u001b[39misinstance\u001b[39m(\u001b[39mself\u001b[39m\u001b[39m.\u001b[39mcamera_target, \u001b[39mstr\u001b[39m):\n\u001b[1;32m--> 458\u001b[0m     \u001b[39mself\u001b[39;49m\u001b[39m.\u001b[39;49mcamera()\n\u001b[0;32m    460\u001b[0m \u001b[39mreturn\u001b[39;00m all_done\n",
      "File \u001b[1;32mc:\\Users\\anshu\\OneDrive\\Desktop\\Repositories\\DroneInvertedPendulum\\Simulation\\ae483_drone.py:182\u001b[0m, in \u001b[0;36mSimulator.camera\u001b[1;34m(self)\u001b[0m\n\u001b[0;32m    180\u001b[0m \u001b[39m# hack to get GUI to update on MacOS\u001b[39;00m\n\u001b[0;32m    181\u001b[0m time\u001b[39m.\u001b[39msleep(\u001b[39m0.01\u001b[39m)\n\u001b[1;32m--> 182\u001b[0m keys \u001b[39m=\u001b[39m pybullet\u001b[39m.\u001b[39;49mgetKeyboardEvents()\n",
      "\u001b[1;31merror\u001b[0m: Not connected to physics server."
     ]
    }
   ],
   "source": [
    "simulator.run(\n",
    "    max_time=6.,\n",
    "    data_filename='pendulum_initial_test.json',\n",
    "    video_filename=None,\n",
    ")"
   ]
  },
  {
   "cell_type": "code",
   "execution_count": null,
   "id": "f8b734ba",
   "metadata": {},
   "outputs": [],
   "source": []
  }
 ],
 "metadata": {
  "kernelspec": {
   "display_name": "Python 3.10.8 ('ae483')",
   "language": "python",
   "name": "python3"
  },
  "language_info": {
   "codemirror_mode": {
    "name": "ipython",
    "version": 3
   },
   "file_extension": ".py",
   "mimetype": "text/x-python",
   "name": "python",
   "nbconvert_exporter": "python",
   "pygments_lexer": "ipython3",
   "version": "3.10.8"
  },
  "vscode": {
   "interpreter": {
    "hash": "8c40dc438cbaf29904496e251f9298e4e78e6a453aad7c4f4912b52bbfbdf3f4"
   }
  }
 },
 "nbformat": 4,
 "nbformat_minor": 5
}
