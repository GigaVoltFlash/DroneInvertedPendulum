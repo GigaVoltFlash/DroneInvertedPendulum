{
 "cells": [
  {
   "cell_type": "markdown",
   "id": "f4233d19",
   "metadata": {},
   "source": [
    "# 1. Set up the notebook"
   ]
  },
  {
   "cell_type": "markdown",
   "id": "38bcc561",
   "metadata": {},
   "source": [
    "## 1.1 Import modules"
   ]
  },
  {
   "cell_type": "code",
   "execution_count": 5,
   "id": "294d9f2d",
   "metadata": {},
   "outputs": [],
   "source": [
    "import numpy as np\n",
    "import sympy as sym\n",
    "import json\n",
    "import matplotlib.pyplot as plt\n",
    "from scipy import linalg\n",
    "from scipy.interpolate import interp1d\n",
    "from IPython.display import display, IFrame, HTML"
   ]
  },
  {
   "cell_type": "markdown",
   "id": "7091ba42",
   "metadata": {},
   "source": [
    "## 1.2 Define data loaders"
   ]
  },
  {
   "cell_type": "markdown",
   "id": "db664848",
   "metadata": {},
   "source": [
    "Here is a function to load data from hardware (and resample it at 100 Hz using linear interpolation)."
   ]
  },
  {
   "cell_type": "code",
   "execution_count": 6,
   "id": "a51e9f5d",
   "metadata": {},
   "outputs": [],
   "source": [
    "def load_hardware_data(filename, t_min_offset=0, t_max_offset=0):\n",
    "    # load raw data\n",
    "    with open(filename, 'r') as f:\n",
    "        data = json.load(f)\n",
    "\n",
    "    # convert lists to numpy arrays\n",
    "    for val in data.values():\n",
    "        for key in val.keys():\n",
    "            val[key] = np.array(val[key])\n",
    "\n",
    "    # create an array of times at which to subsample\n",
    "    t_min = -np.inf\n",
    "    t_max = np.inf\n",
    "    for key, val in data.items():\n",
    "        t_min = max(t_min, val['time'][0])\n",
    "        t_max = min(t_max, val['time'][-1])\n",
    "    t_min += t_min_offset * 1000\n",
    "    t_max -= t_max_offset * 1000\n",
    "    nt = int(1 + np.floor((t_max - t_min) / 10.))\n",
    "    t = np.arange(0, 10 * nt, 10) / 1000.\n",
    "    resampled_data = {'time': t}\n",
    "\n",
    "    # resample raw data with linear interpolation\n",
    "    for k, v in data.items():\n",
    "        f = interp1d((v['time'] - t_min) / 1000., v['data'])\n",
    "        resampled_data[k] = f(t)\n",
    "        \n",
    "    # return the resampled data\n",
    "    return resampled_data"
   ]
  },
  {
   "cell_type": "code",
   "execution_count": 11,
   "id": "4e5dc7b9",
   "metadata": {},
   "outputs": [
    {
     "ename": "KeyError",
     "evalue": "'ae483log.alpha_dot'",
     "output_type": "error",
     "traceback": [
      "\u001b[1;31m---------------------------------------------------------------------------\u001b[0m",
      "\u001b[1;31mKeyError\u001b[0m                                  Traceback (most recent call last)",
      "\u001b[1;32mc:\\Users\\rishi\\Desktop\\Projects\\DroneInvertedPendulum\\FlightTesting\\analysis.ipynb Cell 7\u001b[0m in \u001b[0;36m<cell line: 11>\u001b[1;34m()\u001b[0m\n\u001b[0;32m      <a href='vscode-notebook-cell:/c%3A/Users/rishi/Desktop/Projects/DroneInvertedPendulum/FlightTesting/analysis.ipynb#Y514sZmlsZQ%3D%3D?line=7'>8</a>\u001b[0m t \u001b[39m=\u001b[39m data[\u001b[39m'\u001b[39m\u001b[39mtime\u001b[39m\u001b[39m'\u001b[39m]\n\u001b[0;32m     <a href='vscode-notebook-cell:/c%3A/Users/rishi/Desktop/Projects/DroneInvertedPendulum/FlightTesting/analysis.ipynb#Y514sZmlsZQ%3D%3D?line=9'>10</a>\u001b[0m alpha \u001b[39m=\u001b[39m data[\u001b[39m'\u001b[39m\u001b[39mae483log.alpha\u001b[39m\u001b[39m'\u001b[39m]\n\u001b[1;32m---> <a href='vscode-notebook-cell:/c%3A/Users/rishi/Desktop/Projects/DroneInvertedPendulum/FlightTesting/analysis.ipynb#Y514sZmlsZQ%3D%3D?line=10'>11</a>\u001b[0m alpha_dot \u001b[39m=\u001b[39m data[\u001b[39m'\u001b[39;49m\u001b[39mae483log.alpha_dot\u001b[39;49m\u001b[39m'\u001b[39;49m]\n\u001b[0;32m     <a href='vscode-notebook-cell:/c%3A/Users/rishi/Desktop/Projects/DroneInvertedPendulum/FlightTesting/analysis.ipynb#Y514sZmlsZQ%3D%3D?line=12'>13</a>\u001b[0m fig, (angle, angle_dot) \u001b[39m=\u001b[39m plt\u001b[39m.\u001b[39msubplots(\u001b[39m1\u001b[39m, \u001b[39m1\u001b[39m, figsize\u001b[39m=\u001b[39m(\u001b[39m12\u001b[39m, \u001b[39m12\u001b[39m), sharex\u001b[39m=\u001b[39m\u001b[39mTrue\u001b[39;00m)\n\u001b[0;32m     <a href='vscode-notebook-cell:/c%3A/Users/rishi/Desktop/Projects/DroneInvertedPendulum/FlightTesting/analysis.ipynb#Y514sZmlsZQ%3D%3D?line=13'>14</a>\u001b[0m angle\u001b[39m.\u001b[39mplot(t, alpha, label\u001b[39m=\u001b[39m\u001b[39m'\u001b[39m\u001b[39malpha\u001b[39m\u001b[39m'\u001b[39m)\n",
      "\u001b[1;31mKeyError\u001b[0m: 'ae483log.alpha_dot'"
     ]
    }
   ],
   "source": [
    "data = load_hardware_data(\n",
    "    'FlightData/hardware_data_angle.json', # <-- replace with name of file with hardware data\n",
    "    t_min_offset=0.,      # <-- (optional) replace with how many seconds of data to ignore at start\n",
    "    t_max_offset=0,      # <-- (optional) replace with how many seconds of data to ignore at end\n",
    ")\n",
    "\n",
    "# time\n",
    "t = data['time']\n",
    "\n",
    "alpha = data['ae483log.alpha']\n",
    "alpha_dot = data['ae483log.alpha_dot']\n",
    "\n",
    "fig, (angle, angle_dot) = plt.subplots(1, 1, figsize=(12, 12), sharex=True)\n",
    "angle.plot(t, alpha, label='alpha')\n",
    "angle_dot.plot(t, alpha_dot, label='alpha_dot')\n",
    "\n",
    "angle.grid()\n",
    "angle_dot.grid()\n",
    "\n",
    "print(t[-1])"
   ]
  },
  {
   "cell_type": "code",
   "execution_count": null,
   "id": "dc55ea6c",
   "metadata": {},
   "outputs": [],
   "source": []
  },
  {
   "cell_type": "code",
   "execution_count": null,
   "id": "41486ae7",
   "metadata": {},
   "outputs": [],
   "source": []
  }
 ],
 "metadata": {
  "kernelspec": {
   "display_name": "Python 3.10.6 ('ae483')",
   "language": "python",
   "name": "python3"
  },
  "language_info": {
   "codemirror_mode": {
    "name": "ipython",
    "version": 3
   },
   "file_extension": ".py",
   "mimetype": "text/x-python",
   "name": "python",
   "nbconvert_exporter": "python",
   "pygments_lexer": "ipython3",
   "version": "3.10.6"
  },
  "vscode": {
   "interpreter": {
    "hash": "55f3d10349e66d919c047689eb145adb91bda62371fcae02ab7fdbb92b1ad011"
   }
  }
 },
 "nbformat": 4,
 "nbformat_minor": 5
}
