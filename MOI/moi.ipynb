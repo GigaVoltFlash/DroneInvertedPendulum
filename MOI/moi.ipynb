{
 "cells": [
  {
   "cell_type": "markdown",
   "id": "f4233d19",
   "metadata": {},
   "source": [
    "# 1. Set up the notebook"
   ]
  },
  {
   "cell_type": "markdown",
   "id": "38bcc561",
   "metadata": {},
   "source": [
    "Import modules."
   ]
  },
  {
   "cell_type": "code",
   "execution_count": 4,
   "id": "294d9f2d",
   "metadata": {},
   "outputs": [],
   "source": [
    "import json\n",
    "import numpy as np\n",
    "import matplotlib.pyplot as plt\n",
    "from scipy.interpolate import interp1d\n",
    "from scipy.signal import find_peaks\n",
    "from IPython.display import display, IFrame, HTML"
   ]
  },
  {
   "cell_type": "markdown",
   "id": "db664848",
   "metadata": {},
   "source": [
    "Define a function to load flight data from hardware experiments and resample it at 100 Hz using linear interpolation."
   ]
  },
  {
   "cell_type": "code",
   "execution_count": 5,
   "id": "7ec4dec8",
   "metadata": {},
   "outputs": [],
   "source": [
    "def load_hardware_data(filename, t_min_offset=0, t_max_offset=0):\n",
    "    # load raw data\n",
    "    with open(filename, 'r') as f:\n",
    "        data = json.load(f)\n",
    "\n",
    "    # convert lists to numpy arrays\n",
    "    for val in data.values():\n",
    "        for key in val.keys():\n",
    "            val[key] = np.array(val[key])\n",
    "\n",
    "    # create an array of times at which to subsample\n",
    "    t_min = -np.inf\n",
    "    t_max = np.inf\n",
    "    for key, val in data.items():\n",
    "        t_min = max(t_min, val['time'][0])\n",
    "        t_max = min(t_max, val['time'][-1])\n",
    "    t_min += t_min_offset * 1000\n",
    "    t_max -= t_max_offset * 1000\n",
    "    nt = int(1 + np.floor((t_max - t_min) / 10.))\n",
    "    t = np.arange(0, 10 * nt, 10) / 1000.\n",
    "    resampled_data = {'time': t}\n",
    "\n",
    "    # resample raw data with linear interpolation\n",
    "    for k, v in data.items():\n",
    "        f = interp1d((v['time'] - t_min) / 1000., v['data'])\n",
    "        resampled_data[k] = f(t)\n",
    "        \n",
    "    # return the resampled data\n",
    "    return resampled_data"
   ]
  },
  {
   "cell_type": "markdown",
   "id": "b848ed24",
   "metadata": {},
   "source": [
    "# 2. Define constants"
   ]
  },
  {
   "cell_type": "markdown",
   "id": "b4471de4",
   "metadata": {},
   "source": [
    "Define the acceleration of gravity in $\\text{kg}\\cdot\\text{m} \\;/\\; \\text{s}^2$:"
   ]
  },
  {
   "cell_type": "code",
   "execution_count": 6,
   "id": "34d4e541",
   "metadata": {},
   "outputs": [],
   "source": [
    "g = 9.81"
   ]
  },
  {
   "cell_type": "markdown",
   "id": "c604d6c6",
   "metadata": {},
   "source": [
    "Define the mass of the drone in $\\text{kg}$:"
   ]
  },
  {
   "cell_type": "code",
   "execution_count": 7,
   "id": "73d36ac6",
   "metadata": {},
   "outputs": [],
   "source": [
    "m = 0.0440"
   ]
  },
  {
   "cell_type": "markdown",
   "id": "821a96e8",
   "metadata": {},
   "source": [
    "# 3. Estimate the moment of inertia about the $x$-axis"
   ]
  },
  {
   "cell_type": "code",
   "execution_count": 16,
   "id": "62bf58a6",
   "metadata": {},
   "outputs": [],
   "source": [
    "r = 0.03"
   ]
  },
  {
   "cell_type": "code",
   "execution_count": 17,
   "id": "a836a794",
   "metadata": {},
   "outputs": [],
   "source": [
    "data = load_hardware_data(\n",
    "    'x_data.json',\n",
    "    t_min_offset=0.,\n",
    "    t_max_offset=0.\n",
    ")\n",
    "\n",
    "t = data['time']\n",
    "w_x = np.deg2rad(data['gyro.x'])\n",
    "w_y = np.deg2rad(data['gyro.y'])\n",
    "w_z = np.deg2rad(data['gyro.z'])\n",
    "\n",
    "# Find the index of each peak (increase \"prominence\" if you get bad results)\n",
    "peaks = find_peaks(w_x, prominence=0)\n",
    "i_peaks = peaks[0]\n",
    "\n",
    "# Find the time at each peak\n",
    "t_peaks = t[i_peaks]\n",
    "\n",
    "# Find w_x at each peak (for visualization)\n",
    "w_x_peaks = w_x[i_peaks]\n",
    "\n",
    "t_diff = t_peaks[1:] - t_peaks[:-1]\n",
    "t_diff = t_diff[10:]\n",
    "# Find the mean difference as an estimate of the oscillation period\n",
    "T = np.mean(t_diff)"
   ]
  },
  {
   "cell_type": "code",
   "execution_count": 18,
   "id": "6a304316",
   "metadata": {},
   "outputs": [
    {
     "name": "stdout",
     "output_type": "stream",
     "text": [
      "1.8260446760861986e-05\n"
     ]
    }
   ],
   "source": [
    "J_x = (m * g * r/((2 * np.pi / T) ** 2)) - m * r ** 2 # <-- FIXME\n",
    "print(J_x)"
   ]
  },
  {
   "cell_type": "markdown",
   "id": "69a6da0b",
   "metadata": {},
   "source": [
    "# 4. Estimate the moment of inertia about the $y$-axis"
   ]
  },
  {
   "cell_type": "code",
   "execution_count": 19,
   "id": "83108ce1",
   "metadata": {},
   "outputs": [],
   "source": [
    "r = 0.03"
   ]
  },
  {
   "cell_type": "code",
   "execution_count": 20,
   "id": "593be191",
   "metadata": {},
   "outputs": [],
   "source": [
    "data = load_hardware_data(\n",
    "    'y_data.json',\n",
    "    t_min_offset=0.,\n",
    "    t_max_offset=0.\n",
    ")\n",
    "t = data['time']\n",
    "w_x = np.deg2rad(data['gyro.x'])\n",
    "w_y = np.deg2rad(data['gyro.y'])\n",
    "w_z = np.deg2rad(data['gyro.z'])\n",
    "\n",
    "# Find the index of each peak (increase \"prominence\" if you get bad results)\n",
    "peaks = find_peaks(w_y, prominence=0)\n",
    "i_peaks = peaks[0]\n",
    "\n",
    "# Find the time at each peak\n",
    "t_peaks = t[i_peaks]\n",
    "\n",
    "t_diff = t_peaks[1:] - t_peaks[:-1]\n",
    "t_diff = t_diff[10:]\n",
    "# Find the mean difference as an estimate of the oscillation period\n",
    "T = np.mean(t_diff)"
   ]
  },
  {
   "cell_type": "code",
   "execution_count": 21,
   "id": "b86bfff3",
   "metadata": {},
   "outputs": [
    {
     "name": "stdout",
     "output_type": "stream",
     "text": [
      "7.457926030303888e-05\n"
     ]
    }
   ],
   "source": [
    "J_y = (m * g * r/((2 * np.pi / T) ** 2)) - m * r ** 2 # <-- FIXME\n",
    "print(J_y)"
   ]
  },
  {
   "cell_type": "markdown",
   "id": "bece17d7",
   "metadata": {},
   "source": [
    "# 5. Estimate the moment of inertia about the $z$-axis"
   ]
  },
  {
   "cell_type": "code",
   "execution_count": 22,
   "id": "d0510935",
   "metadata": {},
   "outputs": [],
   "source": [
    "r = 0.015"
   ]
  },
  {
   "cell_type": "code",
   "execution_count": 23,
   "id": "5b60a3ff",
   "metadata": {},
   "outputs": [],
   "source": [
    "data = load_hardware_data(\n",
    "    'z_data.json',\n",
    "    t_min_offset=0.,\n",
    "    t_max_offset=0.\n",
    ")\n",
    "t = data['time']\n",
    "w_x = np.deg2rad(data['gyro.x'])\n",
    "w_y = np.deg2rad(data['gyro.y'])\n",
    "w_z = np.deg2rad(data['gyro.z'])\n",
    "\n",
    "# Find the index of each peak (increase \"prominence\" if you get bad results)\n",
    "peaks = find_peaks(w_z, prominence=0.025)\n",
    "i_peaks = peaks[0]\n",
    "\n",
    "# Find the time at each peak\n",
    "t_peaks = t[i_peaks]\n",
    "\n",
    "t_diff = t_peaks[1:] - t_peaks[:-1]\n",
    "# Find the mean difference as an estimate of the oscillation period\n",
    "T = np.mean(t_diff)"
   ]
  },
  {
   "cell_type": "code",
   "execution_count": 24,
   "id": "407e7b35",
   "metadata": {},
   "outputs": [
    {
     "name": "stdout",
     "output_type": "stream",
     "text": [
      "4.5815682178722596e-05\n"
     ]
    }
   ],
   "source": [
    "J_z = (m * g * r/((2 * np.pi / T) ** 2)) - m * r ** 2 # <-- FIXME\n",
    "print(J_z)"
   ]
  },
  {
   "cell_type": "code",
   "execution_count": null,
   "id": "f24124ac",
   "metadata": {},
   "outputs": [],
   "source": []
  }
 ],
 "metadata": {
  "kernelspec": {
   "display_name": "Python 3.9.7 ('base')",
   "language": "python",
   "name": "python3"
  },
  "language_info": {
   "codemirror_mode": {
    "name": "ipython",
    "version": 3
   },
   "file_extension": ".py",
   "mimetype": "text/x-python",
   "name": "python",
   "nbconvert_exporter": "python",
   "pygments_lexer": "ipython3",
   "version": "3.9.15"
  },
  "vscode": {
   "interpreter": {
    "hash": "3bb79cb6b22367ae9bbad2c324eea5e89d26eef83759e395a5e26bb3ca128c4d"
   }
  }
 },
 "nbformat": 4,
 "nbformat_minor": 5
}
