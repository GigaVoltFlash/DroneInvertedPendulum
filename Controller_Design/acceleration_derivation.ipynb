{
 "cells": [
  {
   "cell_type": "code",
   "execution_count": 1,
   "metadata": {},
   "outputs": [],
   "source": [
    "import numpy as np\n",
    "import sympy as sym\n",
    "import matplotlib.pyplot as plt\n",
    "import scipy\n",
    "from sympy.physics.mechanics import *"
   ]
  },
  {
   "cell_type": "code",
   "execution_count": 14,
   "metadata": {},
   "outputs": [],
   "source": [
    "o_x,  o_z,  phi,  theta,  psi, v_x, v_y, v_z, w_x, w_y, w_z = dynamicsymbols(r'o_x o_z \\phi \\theta \\psi, v_x, v_y, v_z, w_x, w_y, w_z')\n",
    "o_xd,  o_zd,  phid,  thetad,  psid, v_xd, v_yd, v_zd, w_xd, w_yd, w_zd = dynamicsymbols(r'o_x o_z \\phi \\theta \\psi, v_x, v_y, v_z, w_x, w_y, w_z', 1)\n",
    "o_xdd,  o_zdd,  phidd,  thetadd,  psidd, v_xdd, v_ydd, v_zdd = dynamicsymbols(r'o_x o_z \\phi \\theta \\psi, v_x, v_y, v_z', 2)"
   ]
  },
  {
   "cell_type": "code",
   "execution_count": 35,
   "metadata": {},
   "outputs": [
    {
     "data": {
      "text/latex": [
       "$\\displaystyle \\left[\\begin{matrix}\\frac{g m \\sin{\\left(\\theta{\\left(t \\right)} \\right)} + m \\operatorname{v_{y}}{\\left(t \\right)} \\operatorname{w_{z}}{\\left(t \\right)} - m \\operatorname{v_{z}}{\\left(t \\right)} \\operatorname{w_{y}}{\\left(t \\right)}}{m}\\\\\\frac{- g m \\sin{\\left(\\phi{\\left(t \\right)} \\right)} \\cos{\\left(\\theta{\\left(t \\right)} \\right)} - m \\operatorname{v_{x}}{\\left(t \\right)} \\operatorname{w_{z}}{\\left(t \\right)} + m \\operatorname{v_{z}}{\\left(t \\right)} \\operatorname{w_{x}}{\\left(t \\right)}}{m}\\\\\\frac{f_{z} - g m \\cos{\\left(\\phi{\\left(t \\right)} \\right)} \\cos{\\left(\\theta{\\left(t \\right)} \\right)} + m \\operatorname{v_{x}}{\\left(t \\right)} \\operatorname{w_{y}}{\\left(t \\right)} - m \\operatorname{v_{y}}{\\left(t \\right)} \\operatorname{w_{x}}{\\left(t \\right)}}{m}\\end{matrix}\\right]$"
      ],
      "text/plain": [
       "Matrix([\n",
       "[                   (g*m*sin(\\theta(t)) + m*v_y(t)*w_z(t) - m*v_z(t)*w_y(t))/m],\n",
       "[     (-g*m*sin(\\phi(t))*cos(\\theta(t)) - m*v_x(t)*w_z(t) + m*v_z(t)*w_x(t))/m],\n",
       "[(f_z - g*m*cos(\\phi(t))*cos(\\theta(t)) + m*v_x(t)*w_y(t) - m*v_y(t)*w_x(t))/m]])"
      ]
     },
     "execution_count": 35,
     "metadata": {},
     "output_type": "execute_result"
    }
   ],
   "source": [
    "Rz = sym.Matrix([[sym.cos(psi), -sym.sin(psi), 0],\n",
    "                 [sym.sin(psi), sym.cos(psi), 0],\n",
    "                 [0, 0, 1]])\n",
    "\n",
    "Ry = sym.Matrix([[sym.cos(theta), 0, sym.sin(theta)],\n",
    "                 [0, 1, 0],\n",
    "                 [-sym.sin(theta), 0, sym.cos(theta)]])\n",
    "\n",
    "Rx = sym.Matrix([[1, 0, 0],\n",
    "                 [0, sym.cos(phi), -sym.sin(phi)],\n",
    "                 [0, sym.sin(phi), sym.cos(phi)]])\n",
    "\n",
    "R_1in0 = Rz * Ry * Rx\n",
    "v_01in1 = sym.Matrix([v_x, v_y, v_z])\n",
    "w_01in1 = sym.Matrix([w_x, w_y, w_z])\n",
    "Ninv = sym.Matrix.hstack((Ry * Rx).T * sym.Matrix([0, 0, 1]),\n",
    "                              (Rx).T * sym.Matrix([0, 1, 0]),\n",
    "                                       sym.Matrix([1, 0, 0]))\n",
    "\n",
    "N = sym.simplify(Ninv.inv())\n",
    "m, J_x, J_y, J_z, g, m_pen, l_pen = sym.symbols('m, J_x, J_y, J_z, g, m_pen, l_pen')\n",
    "# components of net rotor torque\n",
    "tau_x, tau_y, tau_z = sym.symbols('tau_x, tau_y, tau_z')\n",
    "\n",
    "# net rotor force\n",
    "f_z = sym.symbols('f_z')\n",
    "f_in1 = R_1in0.T * sym.Matrix([0, 0, -m * g]) + sym.Matrix([0, 0, f_z])\n"
   ]
  },
  {
   "cell_type": "code",
   "execution_count": 29,
   "metadata": {},
   "outputs": [],
   "source": [
    "o_x_ddot = sym.diff(R_1in0 * v_01in1)[0]\n",
    "o_y_ddot = sym.diff(R_1in0 * v_01in1)[1]\n",
    "o_z_ddot = sym.diff(R_1in0 * v_01in1)[2]"
   ]
  },
  {
   "cell_type": "code",
   "execution_count": 33,
   "metadata": {},
   "outputs": [
    {
     "data": {
      "text/latex": [
       "$\\displaystyle \\operatorname{w_{y}}{\\left(t \\right)} \\cos{\\left(\\phi{\\left(t \\right)} \\right)} - \\operatorname{w_{z}}{\\left(t \\right)} \\sin{\\left(\\phi{\\left(t \\right)} \\right)}$"
      ],
      "text/plain": [
       "w_y(t)*cos(\\phi(t)) - w_z(t)*sin(\\phi(t))"
      ]
     },
     "execution_count": 33,
     "metadata": {},
     "output_type": "execute_result"
    }
   ],
   "source": [
    "psi_dot = (N * w_01in1)[0]\n",
    "theta_dot = (N * w_01in1)[1]\n",
    "phi_dot = (N * w_01in1)[2]\n",
    "theta_dot"
   ]
  },
  {
   "cell_type": "code",
   "execution_count": 36,
   "metadata": {},
   "outputs": [],
   "source": [
    "v_x_dot = ((1 / m) * (f_in1 - w_01in1.cross(m * v_01in1)))[0]\n",
    "v_y_dot = ((1 / m) * (f_in1 - w_01in1.cross(m * v_01in1)))[1]\n",
    "v_z_dot = ((1 / m) * (f_in1 - w_01in1.cross(m * v_01in1)))[2]"
   ]
  },
  {
   "cell_type": "code",
   "execution_count": 42,
   "metadata": {},
   "outputs": [
    {
     "data": {
      "text/latex": [
       "$\\displaystyle \\frac{f_{z} \\left(\\sin{\\left(\\phi{\\left(t \\right)} \\right)} \\sin{\\left(\\psi{\\left(t \\right)} \\right)} + \\sin{\\left(\\theta{\\left(t \\right)} \\right)} \\cos{\\left(\\phi{\\left(t \\right)} \\right)} \\cos{\\left(\\psi{\\left(t \\right)} \\right)}\\right)}{m}$"
      ],
      "text/plain": [
       "f_z*(sin(\\phi(t))*sin(\\psi(t)) + sin(\\theta(t))*cos(\\phi(t))*cos(\\psi(t)))/m"
      ]
     },
     "execution_count": 42,
     "metadata": {},
     "output_type": "execute_result"
    }
   ],
   "source": [
    "o_x_ddot = sym.simplify(o_x_ddot.subs([(psid, psi_dot), (phid, phi_dot), (thetad, theta_dot), (v_xd, v_x_dot), (v_yd, v_y_dot), (v_zd, v_z_dot)]))\n",
    "o_x_ddot"
   ]
  },
  {
   "cell_type": "code",
   "execution_count": 44,
   "metadata": {},
   "outputs": [
    {
     "data": {
      "text/latex": [
       "$\\displaystyle \\frac{f_{z} \\cos{\\left(\\phi{\\left(t \\right)} \\right)} \\cos{\\left(\\theta{\\left(t \\right)} \\right)}}{m} - g$"
      ],
      "text/plain": [
       "f_z*cos(\\phi(t))*cos(\\theta(t))/m - g"
      ]
     },
     "execution_count": 44,
     "metadata": {},
     "output_type": "execute_result"
    }
   ],
   "source": [
    "o_z_ddot = sym.simplify(o_z_ddot.subs([(psid, psi_dot), (phid, phi_dot), (thetad, theta_dot), (v_xd, v_x_dot), (v_yd, v_y_dot), (v_zd, v_z_dot)]))\n",
    "o_z_ddot"
   ]
  }
 ],
 "metadata": {
  "kernelspec": {
   "display_name": "Python 3.10.6 ('ae483')",
   "language": "python",
   "name": "python3"
  },
  "language_info": {
   "codemirror_mode": {
    "name": "ipython",
    "version": 3
   },
   "file_extension": ".py",
   "mimetype": "text/x-python",
   "name": "python",
   "nbconvert_exporter": "python",
   "pygments_lexer": "ipython3",
   "version": "3.10.8"
  },
  "orig_nbformat": 4,
  "vscode": {
   "interpreter": {
    "hash": "8c40dc438cbaf29904496e251f9298e4e78e6a453aad7c4f4912b52bbfbdf3f4"
   }
  }
 },
 "nbformat": 4,
 "nbformat_minor": 2
}
