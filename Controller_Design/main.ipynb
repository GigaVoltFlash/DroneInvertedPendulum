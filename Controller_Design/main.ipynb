{
 "cells": [
  {
   "cell_type": "markdown",
   "metadata": {},
   "source": [
    "# Inverted Pendulum on a Drone\n",
    "\n",
    "This notebook is used to design a controller for the inverted pendulum on a Crazyflie system. The notebook goes over the derivation of the dynamics of a simplified system and plugs in these equations into the full dynamics of the drone. Using a linearized state-space version of the full system (now with 14 states that represent the drone and the pendulum), the controller for the drone is designed to balance the pendulum in its upright position."
   ]
  },
  {
   "cell_type": "code",
   "execution_count": 1,
   "metadata": {},
   "outputs": [],
   "source": [
    "import json\n",
    "import matplotlib.pyplot as plt\n",
    "import numpy as np\n",
    "from numpy import linalg\n",
    "import scipy\n",
    "from scipy import linalg\n",
    "from scipy.interpolate import interp1d\n",
    "from scipy.signal import find_peaks\n",
    "import sympy as sym\n",
    "from sympy.physics.mechanics import *\n",
    "\n",
    "from IPython.display import display, IFrame, HTML\n",
    "import ae483_drone"
   ]
  },
  {
   "attachments": {},
   "cell_type": "markdown",
   "metadata": {},
   "source": [
    "# 1. Measure Moments of Inertia\n",
    "\n",
    "This section calculates the moments of inertia of the drone with the pendulum in the fully upright position."
   ]
  },
  {
   "cell_type": "code",
   "execution_count": 2,
   "metadata": {},
   "outputs": [],
   "source": [
    "def load_hardware_data(filename, t_min_offset=0, t_max_offset=0):\n",
    "    # load raw data\n",
    "    with open(filename, 'r') as f:\n",
    "        data = json.load(f)\n",
    "\n",
    "    # convert lists to numpy arrays\n",
    "    for val in data.values():\n",
    "        for key in val.keys():\n",
    "            val[key] = np.array(val[key])\n",
    "\n",
    "    # create an array of times at which to subsample\n",
    "    t_min = -np.inf\n",
    "    t_max = np.inf\n",
    "    for key, val in data.items():\n",
    "        t_min = max(t_min, val['time'][0])\n",
    "        t_max = min(t_max, val['time'][-1])\n",
    "    t_min += t_min_offset * 1000\n",
    "    t_max -= t_max_offset * 1000\n",
    "    nt = int(1 + np.floor((t_max - t_min) / 10.))\n",
    "    t = np.arange(0, 10 * nt, 10) / 1000.\n",
    "    resampled_data = {'time': t}\n",
    "\n",
    "    # resample raw data with linear interpolation\n",
    "    for k, v in data.items():\n",
    "        f = interp1d((v['time'] - t_min) / 1000., v['data'])\n",
    "        resampled_data[k] = f(t)\n",
    "        \n",
    "    # return the resampled data\n",
    "    return resampled_data"
   ]
  },
  {
   "attachments": {},
   "cell_type": "markdown",
   "metadata": {},
   "source": [
    "### 1.1 Define constant values"
   ]
  },
  {
   "cell_type": "code",
   "execution_count": 3,
   "metadata": {},
   "outputs": [],
   "source": [
    "g = 9.81 # gravity (m/s)\n",
    "m = 0.044 # mass (kg)\n",
    "r = 0.03 # x- and y-axis moment arm\n",
    "r_z = 0.015 # z-axis moment arm"
   ]
  },
  {
   "attachments": {},
   "cell_type": "markdown",
   "metadata": {},
   "source": [
    "### 1.2 Perform x-axis moment of inertia calculation"
   ]
  },
  {
   "cell_type": "code",
   "execution_count": 4,
   "metadata": {},
   "outputs": [
    {
     "name": "stdout",
     "output_type": "stream",
     "text": [
      "1.8260446760861986e-05\n"
     ]
    }
   ],
   "source": [
    "data = load_hardware_data(\n",
    "    'x_data.json',\n",
    "    t_min_offset=0.,\n",
    "    t_max_offset=0.\n",
    ")\n",
    "\n",
    "t = data['time']\n",
    "w_x = np.deg2rad(data['gyro.x'])\n",
    "w_y = np.deg2rad(data['gyro.y'])\n",
    "w_z = np.deg2rad(data['gyro.z'])\n",
    "\n",
    "# Find the index of each peak (increase \"prominence\" if you get bad results)\n",
    "peaks = find_peaks(w_x, prominence=0)\n",
    "i_peaks = peaks[0]\n",
    "\n",
    "# Find the time at each peak\n",
    "t_peaks = t[i_peaks]\n",
    "\n",
    "# Find w_x at each peak (for visualization)\n",
    "w_x_peaks = w_x[i_peaks]\n",
    "\n",
    "t_diff = t_peaks[1:] - t_peaks[:-1]\n",
    "t_diff = t_diff[10:]\n",
    "# Find the mean difference as an estimate of the oscillation period\n",
    "T = np.mean(t_diff)\n",
    "\n",
    "J_x = (m * g * r/((2 * np.pi / T) ** 2)) - m * r ** 2 # <-- FIXME\n",
    "print(J_x)"
   ]
  },
  {
   "attachments": {},
   "cell_type": "markdown",
   "metadata": {},
   "source": [
    "### 1.3 Perform y-axis moment of inertia calculation"
   ]
  },
  {
   "cell_type": "code",
   "execution_count": 5,
   "metadata": {},
   "outputs": [
    {
     "name": "stdout",
     "output_type": "stream",
     "text": [
      "7.457926030303888e-05\n"
     ]
    }
   ],
   "source": [
    "data = load_hardware_data(\n",
    "    'y_data.json',\n",
    "    t_min_offset=0.,\n",
    "    t_max_offset=0.\n",
    ")\n",
    "t = data['time']\n",
    "w_x = np.deg2rad(data['gyro.x'])\n",
    "w_y = np.deg2rad(data['gyro.y'])\n",
    "w_z = np.deg2rad(data['gyro.z'])\n",
    "peaks = find_peaks(w_y, prominence=0)\n",
    "i_peaks = peaks[0]\n",
    "t_peaks = t[i_peaks]\n",
    "t_diff = t_peaks[1:] - t_peaks[:-1]\n",
    "t_diff = t_diff[10:]\n",
    "T = np.mean(t_diff)\n",
    "J_y = (m * g * r/((2 * np.pi / T) ** 2)) - m * r ** 2 # <-- FIXME\n",
    "print(J_y)"
   ]
  },
  {
   "attachments": {},
   "cell_type": "markdown",
   "metadata": {},
   "source": [
    "### 1.4 Perform z-axis moment of inertia calculation"
   ]
  },
  {
   "cell_type": "code",
   "execution_count": 6,
   "metadata": {},
   "outputs": [
    {
     "name": "stdout",
     "output_type": "stream",
     "text": [
      "4.5815682178722596e-05\n"
     ]
    }
   ],
   "source": [
    "data = load_hardware_data(\n",
    "    'z_data.json',\n",
    "    t_min_offset=0.,\n",
    "    t_max_offset=0.\n",
    ")\n",
    "t = data['time']\n",
    "w_x = np.deg2rad(data['gyro.x'])\n",
    "w_y = np.deg2rad(data['gyro.y'])\n",
    "w_z = np.deg2rad(data['gyro.z'])\n",
    "peaks = find_peaks(w_z, prominence=0.025)\n",
    "i_peaks = peaks[0]\n",
    "t_peaks = t[i_peaks]\n",
    "t_diff = t_peaks[1:] - t_peaks[:-1]\n",
    "T = np.mean(t_diff)\n",
    "J_z = (m * g * r_z/((2 * np.pi / T) ** 2)) - m * r_z ** 2 # <-- FIXME\n",
    "print(J_z)"
   ]
  },
  {
   "attachments": {},
   "cell_type": "markdown",
   "metadata": {},
   "source": [
    "# 2. Planar Problem\n",
    "\n",
    "The dynamical model for the planar system is now derived."
   ]
  },
  {
   "attachments": {},
   "cell_type": "markdown",
   "metadata": {},
   "source": [
    "## 2.1 Variable Setup\n",
    "\n",
    "The new information added here are the states of the pendulum, $\\alpha$ and $\\dot{\\alpha}$ which represent the angular position and angular velocity of the pendulum."
   ]
  },
  {
   "cell_type": "markdown",
   "metadata": {},
   "source": [
    "Define states"
   ]
  },
  {
   "cell_type": "code",
   "execution_count": 7,
   "metadata": {},
   "outputs": [],
   "source": [
    "# components of position (meters)\n",
    "o_x, o_y, o_z = sym.symbols('o_x, o_y, o_z')\n",
    "\n",
    "# yaw, pitch, and roll angles (radians)\n",
    "psi, theta, phi = sym.symbols('psi, theta, phi')\n",
    "\n",
    "# components of linear velocity (meters / second)\n",
    "v_x, v_y, v_z = sym.symbols('v_x, v_y, v_z')\n",
    "\n",
    "# components of angular velocity (radians / second)\n",
    "w_x, w_y, w_z = sym.symbols('w_x, w_y, w_z')\n",
    "\n",
    "# states of the pendulum\n",
    "alpha, alpha_dot = sym.symbols('alpha, alpha_dot')"
   ]
  },
  {
   "cell_type": "markdown",
   "metadata": {},
   "source": [
    "Define inputs"
   ]
  },
  {
   "cell_type": "code",
   "execution_count": 8,
   "metadata": {},
   "outputs": [],
   "source": [
    "# components of net rotor torque\n",
    "tau_x, tau_y, tau_z = sym.symbols('tau_x, tau_y, tau_z')\n",
    "\n",
    "# net rotor force\n",
    "f_z = sym.symbols('f_z')"
   ]
  },
  {
   "cell_type": "markdown",
   "metadata": {},
   "source": [
    "Define parameters.\n",
    "$m_{pen}$ is the mass of the pendulum and $l_{pen}$ is the distance of the center of mass of the pendulum from its base."
   ]
  },
  {
   "cell_type": "code",
   "execution_count": 9,
   "metadata": {},
   "outputs": [],
   "source": [
    "m, J_x, J_y, J_z, g, m_pen, l_pen = sym.symbols('m, J_x, J_y, J_z, g, m_pen, l_pen')"
   ]
  },
  {
   "cell_type": "markdown",
   "id": "fad29d40",
   "metadata": {},
   "source": [
    "Create linear and angular velocity vectors (in coordinates of the body frame)."
   ]
  },
  {
   "cell_type": "code",
   "execution_count": 10,
   "id": "b6a0ff50",
   "metadata": {
    "jupyter": {
     "outputs_hidden": true,
     "source_hidden": true
    }
   },
   "outputs": [],
   "source": [
    "v_01in1 = sym.Matrix([v_x, v_y, v_z])\n",
    "w_01in1 = sym.Matrix([w_x, w_y, w_z])"
   ]
  },
  {
   "cell_type": "markdown",
   "id": "4b9eeab1",
   "metadata": {},
   "source": [
    "Create moment of inertia matrix (in coordinates of the body frame)."
   ]
  },
  {
   "cell_type": "code",
   "execution_count": 11,
   "id": "f199de0b",
   "metadata": {
    "jupyter": {
     "outputs_hidden": true,
     "source_hidden": true
    }
   },
   "outputs": [],
   "source": [
    "J_in1 = sym.diag(J_x, J_y, J_z)"
   ]
  },
  {
   "attachments": {},
   "cell_type": "markdown",
   "metadata": {},
   "source": [
    "### 2.2 Deriving the Kinematics of the Pendulum\n",
    "\n",
    "Generalized Co-ordinates: $x$, $z$ (in the world frame), $\\theta$ (pitch) and $\\alpha$ (angle of the drone from the world $z_0$)\n",
    "\n",
    "This derivation deals with the planar problem that ignores the 3D effects of the roll, yaw and y-direction movement of the pendulum. The equations of motion from this are then added to the existing equations of motion.\n",
    "\n",
    "![pendulum_kin](Inverted_Pendulum_Kinematics.jpg)"
   ]
  },
  {
   "cell_type": "markdown",
   "metadata": {},
   "source": [
    "Dynamic copies of the symbolic variables are set up below (symbolic variables that are functions of time). The Lagrangian of this system are then calculated, and then Lagrangian equations are used to derive the equations of motion of the joint system."
   ]
  },
  {
   "cell_type": "code",
   "execution_count": 12,
   "metadata": {},
   "outputs": [
    {
     "data": {
      "text/latex": [
       "$\\displaystyle \\left[\\begin{matrix}- f_{z} \\sin{\\left(\\theta{\\left(t \\right)} \\right)} + 1.0 m \\frac{d^{2}}{d t^{2}} o_{x}{\\left(t \\right)} + m_{pen} \\left(- l_{pen} \\sin{\\left(\\alpha{\\left(t \\right)} \\right)} \\left(\\frac{d}{d t} \\alpha{\\left(t \\right)}\\right)^{2} + l_{pen} \\cos{\\left(\\alpha{\\left(t \\right)} \\right)} \\frac{d^{2}}{d t^{2}} \\alpha{\\left(t \\right)} + \\frac{d^{2}}{d t^{2}} o_{x}{\\left(t \\right)}\\right)\\\\- f_{z} \\cos{\\left(\\theta{\\left(t \\right)} \\right)} + g m + g m_{pen} + 1.0 m \\frac{d^{2}}{d t^{2}} o_{z}{\\left(t \\right)} - 1.0 m_{pen} \\left(l_{pen} \\sin{\\left(\\alpha{\\left(t \\right)} \\right)} \\frac{d^{2}}{d t^{2}} \\alpha{\\left(t \\right)} + l_{pen} \\cos{\\left(\\alpha{\\left(t \\right)} \\right)} \\left(\\frac{d}{d t} \\alpha{\\left(t \\right)}\\right)^{2} - \\frac{d^{2}}{d t^{2}} o_{z}{\\left(t \\right)}\\right)\\\\l_{pen} m_{pen} \\left(- g \\sin{\\left(\\alpha{\\left(t \\right)} \\right)} + l_{pen} \\frac{d^{2}}{d t^{2}} \\alpha{\\left(t \\right)} - \\sin{\\left(\\alpha{\\left(t \\right)} \\right)} \\frac{d^{2}}{d t^{2}} o_{z}{\\left(t \\right)} + \\cos{\\left(\\alpha{\\left(t \\right)} \\right)} \\frac{d^{2}}{d t^{2}} o_{x}{\\left(t \\right)}\\right)\\\\1.0 J_{y} \\frac{d^{2}}{d t^{2}} \\theta{\\left(t \\right)} - \\tau_{y}\\end{matrix}\\right]$"
      ],
      "text/plain": [
       "Matrix([\n",
       "[                   -f_z*sin(\\theta(t)) + 1.0*m*Derivative(o_x(t), (t, 2)) + m_pen*(-l_pen*sin(\\alpha(t))*Derivative(\\alpha(t), t)**2 + l_pen*cos(\\alpha(t))*Derivative(\\alpha(t), (t, 2)) + Derivative(o_x(t), (t, 2)))],\n",
       "[-f_z*cos(\\theta(t)) + g*m + g*m_pen + 1.0*m*Derivative(o_z(t), (t, 2)) - 1.0*m_pen*(l_pen*sin(\\alpha(t))*Derivative(\\alpha(t), (t, 2)) + l_pen*cos(\\alpha(t))*Derivative(\\alpha(t), t)**2 - Derivative(o_z(t), (t, 2)))],\n",
       "[                                                          l_pen*m_pen*(-g*sin(\\alpha(t)) + l_pen*Derivative(\\alpha(t), (t, 2)) - sin(\\alpha(t))*Derivative(o_z(t), (t, 2)) + cos(\\alpha(t))*Derivative(o_x(t), (t, 2)))],\n",
       "[                                                                                                                                                                         1.0*J_y*Derivative(\\theta(t), (t, 2)) - \\tau_y]])"
      ]
     },
     "execution_count": 12,
     "metadata": {},
     "output_type": "execute_result"
    }
   ],
   "source": [
    "dyn_o_x, dyn_o_z, dyn_alpha, dyn_theta = dynamicsymbols(r'o_x o_z \\alpha \\theta')\n",
    "dyn_o_xd, dyn_o_zd, dyn_alphad, dyn_thetad = dynamicsymbols(r'o_x o_z \\alpha \\theta', 1)\n",
    "dyn_o_xdd, dyn_o_zdd, dyn_alphadd, dyn_thetadd = dynamicsymbols(r'o_x o_z \\alpha \\theta', 2)\n",
    "L = 1/2*m*(dyn_o_xd**2 + dyn_o_zd**2) + 1/2*J_y*(dyn_thetad**2) + 1/2*m_pen*(dyn_o_xd**2 + dyn_o_zd**2 + l_pen**2 * dyn_alphad**2 + 2*l_pen*dyn_alphad*(dyn_o_xd*sym.cos(dyn_alpha) - dyn_o_zd*sym.sin(dyn_alpha))) - m*g*dyn_o_z - m_pen*g*(dyn_o_z + l_pen*sym.cos(dyn_alpha))\n",
    "dyn_f_z, dyn_tau_y = sym.symbols(r'f_z, \\tau_y')\n",
    "t = sym.Symbol('t')\n",
    "\n",
    "Equations = sym.Matrix([[sym.simplify(sym.diff(sym.diff(L, dyn_o_xd), t) - sym.diff(L, dyn_o_x) - dyn_f_z*sym.sin(dyn_theta))],\n",
    "             [sym.simplify(sym.diff(sym.diff(L, dyn_o_zd), t) - sym.diff(L, dyn_o_z) - dyn_f_z*sym.cos(dyn_theta))],\n",
    "             [sym.simplify(sym.diff(sym.diff(L, dyn_alphad), t) - sym.diff(L, dyn_alpha))],\n",
    "             [sym.simplify(sym.diff(sym.diff(L, dyn_thetad), t) - sym.diff(L, dyn_theta) - dyn_tau_y)]])\n",
    "\n",
    "Equations"
   ]
  },
  {
   "cell_type": "markdown",
   "metadata": {},
   "source": [
    "The equations of motion above are solved to find the expressions for $\\ddot{o}_x$, $\\ddot{o}_z$, $\\ddot{\\alpha}$, and $\\ddot{\\theta}$. The dynamic symbols are then substituted for the state and input variables set before."
   ]
  },
  {
   "cell_type": "code",
   "execution_count": 13,
   "metadata": {},
   "outputs": [],
   "source": [
    "# Solving for the second derivatives\n",
    "ox_ddot_with_alphaddot = sym.solve(Equations[0,0], dyn_o_xdd)[0]\n",
    "oz_ddot_with_alphaddot = sym.solve(Equations[1,0], dyn_o_zdd)[0]\n",
    "alpha_ddot_eqn = Equations[2].subs([(dyn_o_xdd, ox_ddot_with_alphaddot), (dyn_o_zdd, oz_ddot_with_alphaddot)])\n",
    "alpha_ddot_soln = sym.simplify(sym.solve(alpha_ddot_eqn, dyn_alphadd)[0])\n",
    "theta_ddot_soln = sym.solve(Equations[3,0], dyn_thetadd)[0]\n",
    "new_ox_ddot = sym.simplify(ox_ddot_with_alphaddot.subs(dyn_alphadd, alpha_ddot_soln))\n",
    "new_oz_ddot = sym.simplify(oz_ddot_with_alphaddot.subs(dyn_alphadd, alpha_ddot_soln))\n",
    "\n",
    "# Substituting the standard symbolic variables\n",
    "theta_ddot_soln = theta_ddot_soln.subs(dyn_tau_y, tau_y)\n",
    "new_ox_ddot = new_ox_ddot.subs([(dyn_f_z, f_z), (dyn_theta, theta), (dyn_alphad, alpha_dot)])\n",
    "new_ox_ddot = new_ox_ddot.subs(dyn_alpha, alpha)\n",
    "new_oz_ddot = new_oz_ddot.subs([(dyn_f_z, f_z), (dyn_theta, theta), (dyn_alphad, alpha_dot)])\n",
    "new_oz_ddot = new_oz_ddot.subs(dyn_alpha, alpha)\n",
    "alpha_ddot_soln = alpha_ddot_soln.subs([(dyn_alpha, alpha), (dyn_theta, theta), (dyn_f_z, f_z)])"
   ]
  },
  {
   "cell_type": "markdown",
   "metadata": {},
   "source": [
    "The planar problem is set up to be linearized with the 4 variables mentioned above and their time derivatives."
   ]
  },
  {
   "cell_type": "code",
   "execution_count": 14,
   "metadata": {},
   "outputs": [
    {
     "data": {
      "text/latex": [
       "$\\displaystyle \\left[\\begin{matrix}o_{x dot}\\\\\\frac{- f_{z} m_{pen} \\sin{\\left(\\alpha - \\theta \\right)} \\cos{\\left(\\alpha \\right)} + m \\left(\\alpha_{dot}^{2} l_{pen} m_{pen} \\sin{\\left(\\alpha \\right)} + f_{z} \\sin{\\left(\\theta \\right)}\\right)}{m \\left(m + m_{pen}\\right)}\\\\o_{z dot}\\\\\\frac{f_{z} m_{pen} \\sin{\\left(\\alpha \\right)} \\sin{\\left(\\alpha - \\theta \\right)} + m \\left(\\alpha_{dot}^{2} l_{pen} m_{pen} \\cos{\\left(\\alpha \\right)} + f_{z} \\cos{\\left(\\theta \\right)} - g m - g m_{pen}\\right)}{m \\left(m + m_{pen}\\right)}\\\\\\theta_{dot}\\\\\\frac{\\tau_{y}}{J_{y}}\\\\\\alpha_{dot}\\\\\\frac{f_{z} \\sin{\\left(\\alpha - \\theta \\right)}}{l_{pen} m}\\end{matrix}\\right]$"
      ],
      "text/plain": [
       "Matrix([\n",
       "[                                                                                                                             o_x_dot],\n",
       "[               (-f_z*m_pen*sin(alpha - theta)*cos(alpha) + m*(alpha_dot**2*l_pen*m_pen*sin(alpha) + f_z*sin(theta)))/(m*(m + m_pen))],\n",
       "[                                                                                                                             o_z_dot],\n",
       "[(f_z*m_pen*sin(alpha)*sin(alpha - theta) + m*(alpha_dot**2*l_pen*m_pen*cos(alpha) + f_z*cos(theta) - g*m - g*m_pen))/(m*(m + m_pen))],\n",
       "[                                                                                                                           theta_dot],\n",
       "[                                                                                                                           tau_y/J_y],\n",
       "[                                                                                                                           alpha_dot],\n",
       "[                                                                                                    f_z*sin(alpha - theta)/(l_pen*m)]])"
      ]
     },
     "execution_count": 14,
     "metadata": {},
     "output_type": "execute_result"
    }
   ],
   "source": [
    "o_x_dot, o_z_dot, theta_dot = sym.symbols(r'o_x_dot, o_z_dot, theta_dot')\n",
    "\n",
    "f_sym_planar = sym.Matrix.vstack(sym.Matrix([o_x_dot]),\n",
    "                          sym.Matrix([new_ox_ddot]),\n",
    "                          sym.Matrix([o_z_dot]),\n",
    "                          sym.Matrix([new_oz_ddot]),\n",
    "                          sym.Matrix([theta_dot]),\n",
    "                          sym.Matrix([theta_ddot_soln]),\n",
    "                          sym.Matrix([alpha_dot]),\n",
    "                          sym.Matrix([alpha_ddot_soln])\n",
    "                          )\n",
    "f_sym_planar"
   ]
  },
  {
   "cell_type": "code",
   "execution_count": 15,
   "metadata": {},
   "outputs": [],
   "source": [
    "s_planar = [o_x, o_x_dot, o_z, o_z_dot, theta, theta_dot, alpha, alpha_dot]\n",
    "i_planar = [tau_y, f_z]\n",
    "p_planar = [m, J_y, g, m_pen, l_pen]\n",
    "s_with_des_planar = [o_x, o_z]"
   ]
  },
  {
   "cell_type": "code",
   "execution_count": 16,
   "metadata": {},
   "outputs": [
    {
     "data": {
      "text/plain": [
       "<function _lambdifygenerated(o_x, o_x_dot, o_z, o_z_dot, theta, theta_dot, alpha, alpha_dot, tau_y, f_z, m, J_y, g, m_pen, l_pen)>"
      ]
     },
     "execution_count": 16,
     "metadata": {},
     "output_type": "execute_result"
    }
   ],
   "source": [
    "f_planar = sym.lambdify(s_planar + i_planar + p_planar, f_sym_planar)\n",
    "f_planar"
   ]
  },
  {
   "cell_type": "markdown",
   "metadata": {},
   "source": [
    "The values for the constants are given but only for the planar case so the full system derivation that follows can still use the symbolic variables."
   ]
  },
  {
   "cell_type": "code",
   "execution_count": 17,
   "metadata": {},
   "outputs": [],
   "source": [
    "# Mass\n",
    "m_planar = 0.044\n",
    "\n",
    "# Principle moments of inertia\n",
    "J_y_planar = 1.60e-05\n",
    "\n",
    "# Acceleration of gravity\n",
    "g_planar = 9.81\n",
    "\n",
    "# Pendulum parameters\n",
    "l_pen_planar = 150e-3 # maybe m\n",
    "m_pen_planar = 0.006"
   ]
  },
  {
   "cell_type": "markdown",
   "metadata": {},
   "source": [
    "Checking if the equillibrium point is valid"
   ]
  },
  {
   "cell_type": "code",
   "execution_count": 18,
   "metadata": {},
   "outputs": [],
   "source": [
    "p_planar_eq = [m_planar, J_y_planar, g_planar, m_pen_planar, l_pen_planar]\n",
    "s_planar_eq = [0., 0., 0., 0., 0., 0., 0., 0.]\n",
    "i_planar_eq = [0., g_planar*(m_planar + m_pen_planar)]"
   ]
  },
  {
   "cell_type": "code",
   "execution_count": 19,
   "metadata": {},
   "outputs": [
    {
     "name": "stdout",
     "output_type": "stream",
     "text": [
      "[[ 0.0000000e+00]\n",
      " [ 0.0000000e+00]\n",
      " [ 0.0000000e+00]\n",
      " [-6.9388939e-16]\n",
      " [ 0.0000000e+00]\n",
      " [ 0.0000000e+00]\n",
      " [ 0.0000000e+00]\n",
      " [ 0.0000000e+00]]\n"
     ]
    }
   ],
   "source": [
    "print(f_planar(*s_planar_eq, *i_planar_eq, *p_planar_eq))"
   ]
  },
  {
   "cell_type": "markdown",
   "metadata": {},
   "source": [
    "The system is then linearized into the state space model at this equilibrium point."
   ]
  },
  {
   "cell_type": "code",
   "execution_count": 20,
   "metadata": {},
   "outputs": [],
   "source": [
    "A_planar_sym = f_sym_planar.jacobian(s_planar)\n",
    "B_planar_sym = f_sym_planar.jacobian(i_planar)\n",
    "\n",
    "A_planar_num = sym.lambdify(s_planar + i_planar + p_planar, A_planar_sym)\n",
    "B_planar_num = sym.lambdify(s_planar + i_planar + p_planar, B_planar_sym)\n",
    "\n",
    "A_planar = A_planar_num(*s_planar_eq, *i_planar_eq, *p_planar_eq)\n",
    "B_planar = B_planar_num(*s_planar_eq, *i_planar_eq, *p_planar_eq)"
   ]
  },
  {
   "cell_type": "code",
   "execution_count": 21,
   "metadata": {},
   "outputs": [
    {
     "name": "stdout",
     "output_type": "stream",
     "text": [
      "A = [[ 0.00  1.00  0.00  0.00  0.00  0.00  0.00  0.00]\n",
      "     [ 0.00  0.00  0.00  0.00 11.15  0.00 -1.34  0.00]\n",
      "     [ 0.00  0.00  0.00  1.00  0.00  0.00  0.00  0.00]\n",
      "     [ 0.00  0.00  0.00  0.00 -0.00  0.00  0.00  0.00]\n",
      "     [ 0.00  0.00  0.00  0.00  0.00  1.00  0.00  0.00]\n",
      "     [ 0.00  0.00  0.00  0.00  0.00  0.00  0.00  0.00]\n",
      "     [ 0.00  0.00  0.00  0.00  0.00  0.00  0.00  1.00]\n",
      "     [ 0.00  0.00  0.00  0.00 -74.32  0.00 74.32  0.00]]\n"
     ]
    }
   ],
   "source": [
    "A_planar_str = np.array2string(A_planar,\n",
    "                        formatter={'float_kind': lambda x: f'{x:5.2f}'},\n",
    "                        prefix='    ',\n",
    "                        max_line_width=np.inf)\n",
    "\n",
    "print(f'A = {A_planar_str}')"
   ]
  },
  {
   "cell_type": "code",
   "execution_count": 22,
   "metadata": {},
   "outputs": [
    {
     "name": "stdout",
     "output_type": "stream",
     "text": [
      "B = [[      0.00       0.00]\n",
      "     [      0.00       0.00]\n",
      "     [      0.00       0.00]\n",
      "     [      0.00      20.00]\n",
      "     [      0.00       0.00]\n",
      "     [  62500.00       0.00]\n",
      "     [      0.00       0.00]\n",
      "     [      0.00       0.00]]\n"
     ]
    }
   ],
   "source": [
    "B_planar_str = np.array2string(B_planar,\n",
    "                        formatter={'float_kind': lambda x: f'{x:10.2f}'},\n",
    "                        prefix='    ',\n",
    "                        max_line_width=np.inf)\n",
    "print(f'B = {B_planar_str}')"
   ]
  },
  {
   "cell_type": "markdown",
   "metadata": {},
   "source": [
    "We can check if this planar problem is controllable or not by looking at the controllability matrix for the above state-space model."
   ]
  },
  {
   "cell_type": "code",
   "execution_count": 23,
   "metadata": {},
   "outputs": [
    {
     "data": {
      "text/plain": [
       "8"
      ]
     },
     "execution_count": 23,
     "metadata": {},
     "output_type": "execute_result"
    }
   ],
   "source": [
    "W_planar = np.block([[B_planar, A_planar @ B_planar, A_planar @ A_planar @ B_planar, np.linalg.matrix_power(A_planar, 3) @ B_planar, np.linalg.matrix_power(A_planar, 4) @ B_planar, np.linalg.matrix_power(A_planar, 5) @ B_planar, np.linalg.matrix_power(A_planar, 6) @ B_planar, np.linalg.matrix_power(A_planar, 7) @ B_planar]])\n",
    "\n",
    "np.linalg.matrix_rank(W_planar) # If 8, the system is controllable"
   ]
  },
  {
   "cell_type": "markdown",
   "metadata": {},
   "source": [
    "This shows that the planar problem and the system above is controllable. In the next section, these equations will be used in the full system state-space model to derive a controller."
   ]
  },
  {
   "attachments": {},
   "cell_type": "markdown",
   "id": "0b9e2120",
   "metadata": {},
   "source": [
    "# 3. Derive full-system state-space model"
   ]
  },
  {
   "attachments": {},
   "cell_type": "markdown",
   "id": "00763ccd",
   "metadata": {},
   "source": [
    "## 3.1 Define kinematics of orientation"
   ]
  },
  {
   "attachments": {},
   "cell_type": "markdown",
   "id": "63be69c1",
   "metadata": {},
   "source": [
    "### 3.1.1 Rotation matrix in terms of yaw, pitch, roll angles"
   ]
  },
  {
   "cell_type": "markdown",
   "id": "07a09405",
   "metadata": {},
   "source": [
    "Define individual rotation matrices."
   ]
  },
  {
   "cell_type": "code",
   "execution_count": 24,
   "id": "4e37b553",
   "metadata": {
    "jupyter": {
     "outputs_hidden": true,
     "source_hidden": true
    }
   },
   "outputs": [],
   "source": [
    "Rz = sym.Matrix([[sym.cos(psi), -sym.sin(psi), 0],\n",
    "                 [sym.sin(psi), sym.cos(psi), 0],\n",
    "                 [0, 0, 1]])\n",
    "\n",
    "Ry = sym.Matrix([[sym.cos(theta), 0, sym.sin(theta)],\n",
    "                 [0, 1, 0],\n",
    "                 [-sym.sin(theta), 0, sym.cos(theta)]])\n",
    "\n",
    "Rx = sym.Matrix([[1, 0, 0],\n",
    "                 [0, sym.cos(phi), -sym.sin(phi)],\n",
    "                 [0, sym.sin(phi), sym.cos(phi)]])"
   ]
  },
  {
   "cell_type": "markdown",
   "id": "59f23502",
   "metadata": {},
   "source": [
    "Apply sequential transformation to compute the rotation matrix that describes the orientation of the drone (i.e., of frame 1 in the coordinates of frame 0)."
   ]
  },
  {
   "cell_type": "code",
   "execution_count": 25,
   "id": "1a7fb65f",
   "metadata": {
    "jupyter": {
     "outputs_hidden": true,
     "source_hidden": true
    }
   },
   "outputs": [],
   "source": [
    "R_1in0 = Rz * Ry * Rx"
   ]
  },
  {
   "cell_type": "code",
   "execution_count": 26,
   "id": "dbd1ce15",
   "metadata": {
    "jupyter": {
     "outputs_hidden": true,
     "source_hidden": true
    }
   },
   "outputs": [
    {
     "data": {
      "text/latex": [
       "$\\displaystyle \\left[\\begin{matrix}\\cos{\\left(\\psi \\right)} \\cos{\\left(\\theta \\right)} & \\sin{\\left(\\phi \\right)} \\sin{\\left(\\theta \\right)} \\cos{\\left(\\psi \\right)} - \\sin{\\left(\\psi \\right)} \\cos{\\left(\\phi \\right)} & \\sin{\\left(\\phi \\right)} \\sin{\\left(\\psi \\right)} + \\sin{\\left(\\theta \\right)} \\cos{\\left(\\phi \\right)} \\cos{\\left(\\psi \\right)}\\\\\\sin{\\left(\\psi \\right)} \\cos{\\left(\\theta \\right)} & \\sin{\\left(\\phi \\right)} \\sin{\\left(\\psi \\right)} \\sin{\\left(\\theta \\right)} + \\cos{\\left(\\phi \\right)} \\cos{\\left(\\psi \\right)} & - \\sin{\\left(\\phi \\right)} \\cos{\\left(\\psi \\right)} + \\sin{\\left(\\psi \\right)} \\sin{\\left(\\theta \\right)} \\cos{\\left(\\phi \\right)}\\\\- \\sin{\\left(\\theta \\right)} & \\sin{\\left(\\phi \\right)} \\cos{\\left(\\theta \\right)} & \\cos{\\left(\\phi \\right)} \\cos{\\left(\\theta \\right)}\\end{matrix}\\right]$"
      ],
      "text/plain": [
       "Matrix([\n",
       "[cos(psi)*cos(theta), sin(phi)*sin(theta)*cos(psi) - sin(psi)*cos(phi),  sin(phi)*sin(psi) + sin(theta)*cos(phi)*cos(psi)],\n",
       "[sin(psi)*cos(theta), sin(phi)*sin(psi)*sin(theta) + cos(phi)*cos(psi), -sin(phi)*cos(psi) + sin(psi)*sin(theta)*cos(phi)],\n",
       "[        -sin(theta),                              sin(phi)*cos(theta),                               cos(phi)*cos(theta)]])"
      ]
     },
     "execution_count": 26,
     "metadata": {},
     "output_type": "execute_result"
    }
   ],
   "source": [
    "R_1in0"
   ]
  },
  {
   "attachments": {},
   "cell_type": "markdown",
   "id": "8bd1e691",
   "metadata": {},
   "source": [
    "### 3.1.2 Map from angular velocity to angular rates"
   ]
  },
  {
   "cell_type": "markdown",
   "id": "a338dc12",
   "metadata": {},
   "source": [
    "Recall that\n",
    "\n",
    "$$\\begin{bmatrix} \\dot{\\psi} \\\\ \\dot{\\theta} \\\\ \\dot{\\phi} \\end{bmatrix} = N w_{0, 1}^{1}$$\n",
    "\n",
    "for some matrix $N$. Here is how to compute that matrix for a ZYX (yaw, pitch, roll) Euler angle sequence.  First, we compute its inverse:"
   ]
  },
  {
   "cell_type": "code",
   "execution_count": 27,
   "id": "693d1972",
   "metadata": {
    "jupyter": {
     "outputs_hidden": true,
     "source_hidden": true
    }
   },
   "outputs": [],
   "source": [
    "Ninv = sym.Matrix.hstack((Ry * Rx).T * sym.Matrix([0, 0, 1]),\n",
    "                              (Rx).T * sym.Matrix([0, 1, 0]),\n",
    "                                       sym.Matrix([1, 0, 0]))"
   ]
  },
  {
   "cell_type": "markdown",
   "id": "771b48b7",
   "metadata": {},
   "source": [
    "Then, we compute $N$ by taking the inverse of $N^{-1}$:"
   ]
  },
  {
   "cell_type": "code",
   "execution_count": 28,
   "id": "52625946",
   "metadata": {
    "jupyter": {
     "outputs_hidden": true,
     "source_hidden": true
    }
   },
   "outputs": [],
   "source": [
    "N = sym.simplify(Ninv.inv())"
   ]
  },
  {
   "attachments": {},
   "cell_type": "markdown",
   "metadata": {},
   "source": [
    "## 3.2 Define equations of motion"
   ]
  },
  {
   "cell_type": "markdown",
   "metadata": {},
   "source": [
    "We once again consider the equations of motion of the full-system, and not just the planar problem."
   ]
  },
  {
   "cell_type": "markdown",
   "id": "68afb173",
   "metadata": {},
   "source": [
    "Forces."
   ]
  },
  {
   "cell_type": "code",
   "execution_count": 29,
   "id": "07718e4a",
   "metadata": {
    "jupyter": {
     "outputs_hidden": true,
     "source_hidden": true
    }
   },
   "outputs": [],
   "source": [
    "f_in1 = R_1in0.T * sym.Matrix([0, 0, -m * g]) + sym.Matrix([0, 0, f_z])"
   ]
  },
  {
   "cell_type": "markdown",
   "id": "c897dd8c",
   "metadata": {},
   "source": [
    "Torques."
   ]
  },
  {
   "cell_type": "code",
   "execution_count": 30,
   "id": "08aae2b2",
   "metadata": {
    "jupyter": {
     "outputs_hidden": true,
     "source_hidden": true
    }
   },
   "outputs": [],
   "source": [
    "tau_in1 = sym.Matrix([tau_x, tau_y, tau_z])"
   ]
  },
  {
   "cell_type": "code",
   "execution_count": 31,
   "id": "66ebefd3",
   "metadata": {
    "jupyter": {
     "outputs_hidden": true,
     "source_hidden": true
    }
   },
   "outputs": [
    {
     "data": {
      "text/latex": [
       "$\\displaystyle \\left[\\begin{matrix}g m \\sin{\\left(\\theta \\right)}\\\\- g m \\sin{\\left(\\phi \\right)} \\cos{\\left(\\theta \\right)}\\\\f_{z} - g m \\cos{\\left(\\phi \\right)} \\cos{\\left(\\theta \\right)}\\end{matrix}\\right]$"
      ],
      "text/plain": [
       "Matrix([\n",
       "[               g*m*sin(theta)],\n",
       "[     -g*m*sin(phi)*cos(theta)],\n",
       "[f_z - g*m*cos(phi)*cos(theta)]])"
      ]
     },
     "execution_count": 31,
     "metadata": {},
     "output_type": "execute_result"
    }
   ],
   "source": [
    "f_in1"
   ]
  },
  {
   "cell_type": "code",
   "execution_count": 32,
   "id": "e2a2ea82",
   "metadata": {
    "jupyter": {
     "outputs_hidden": true,
     "source_hidden": true
    }
   },
   "outputs": [
    {
     "data": {
      "text/latex": [
       "$\\displaystyle \\left[\\begin{matrix}\\tau_{x}\\\\\\tau_{y}\\\\\\tau_{z}\\end{matrix}\\right]$"
      ],
      "text/plain": [
       "Matrix([\n",
       "[tau_x],\n",
       "[tau_y],\n",
       "[tau_z]])"
      ]
     },
     "execution_count": 32,
     "metadata": {},
     "output_type": "execute_result"
    }
   ],
   "source": [
    "tau_in1"
   ]
  },
  {
   "cell_type": "markdown",
   "metadata": {},
   "source": [
    "The block below calculates the new system of forces in the body frame that are taken from the expressions for $\\ddot{o}_x$ and $\\ddot{o}_z$. There is potential for error here, and could be resulting in the lack of full controllability of the complete system. So, this wasn't used in the final equations of motion."
   ]
  },
  {
   "cell_type": "code",
   "execution_count": 33,
   "metadata": {},
   "outputs": [],
   "source": [
    "# new_f_in1 = R_1in0.T * sym.Matrix([(m)*new_ox_ddot, 0, (m)*new_oz_ddot])\n",
    "# sym.simplify(new_f_in1)"
   ]
  },
  {
   "cell_type": "markdown",
   "id": "baa3f625",
   "metadata": {},
   "source": [
    "Create equations of motion. Here, we include the dynamics of the pendulum in the new terms for $\\alpha$ and $\\dot{\\alpha}$"
   ]
  },
  {
   "cell_type": "code",
   "execution_count": 34,
   "id": "6077f8a0",
   "metadata": {
    "jupyter": {
     "outputs_hidden": true,
     "source_hidden": true
    }
   },
   "outputs": [],
   "source": [
    "f_sym = sym.Matrix.vstack(R_1in0 * v_01in1,\n",
    "                          N * w_01in1,\n",
    "                          (1 / m) * (f_in1 - w_01in1.cross(m * v_01in1)),\n",
    "                          J_in1.inv() * (tau_in1 - w_01in1.cross(J_in1 * w_01in1)),\n",
    "                          sym.Matrix([alpha_dot]),\n",
    "                          sym.Matrix([alpha_ddot_soln])\n",
    "                          )"
   ]
  },
  {
   "cell_type": "markdown",
   "id": "ab3d7500",
   "metadata": {},
   "source": [
    "Show equations of motion, which have the form\n",
    "\n",
    "$$\\dot{s} = f(s, i, p)$$\n",
    "\n",
    "for states\n",
    "\n",
    "$$\n",
    "s = \\begin{bmatrix} o_x \\\\ o_y \\\\ o_z \\\\ \\psi \\\\ \\theta \\\\ \\phi \\\\ v_x \\\\ v_y \\\\ v_z \\\\ w_x \\\\ w_y \\\\ w_z \\\\ \\alpha \\\\ \\dot{\\alpha} \\end{bmatrix},\n",
    "$$\n",
    "\n",
    "inputs\n",
    "$$\n",
    "i = \\begin{bmatrix} \\tau_x \\\\ \\tau_y \\\\ \\tau_z \\\\ f_z \\end{bmatrix},\n",
    "$$\n",
    "\n",
    "and parameters\n",
    "$$\n",
    "p = \\begin{bmatrix} m \\\\ J_x \\\\ J_y \\\\ J_z \\\\ g \\\\ m_{pen} \\\\ l_{pen} \\end{bmatrix}.\n",
    "$$"
   ]
  },
  {
   "cell_type": "code",
   "execution_count": 35,
   "id": "4b372e68",
   "metadata": {
    "jupyter": {
     "outputs_hidden": true,
     "source_hidden": true
    }
   },
   "outputs": [
    {
     "data": {
      "text/latex": [
       "$\\displaystyle \\left[\\begin{matrix}v_{x} \\cos{\\left(\\psi \\right)} \\cos{\\left(\\theta \\right)} + v_{y} \\left(\\sin{\\left(\\phi \\right)} \\sin{\\left(\\theta \\right)} \\cos{\\left(\\psi \\right)} - \\sin{\\left(\\psi \\right)} \\cos{\\left(\\phi \\right)}\\right) + v_{z} \\left(\\sin{\\left(\\phi \\right)} \\sin{\\left(\\psi \\right)} + \\sin{\\left(\\theta \\right)} \\cos{\\left(\\phi \\right)} \\cos{\\left(\\psi \\right)}\\right)\\\\v_{x} \\sin{\\left(\\psi \\right)} \\cos{\\left(\\theta \\right)} + v_{y} \\left(\\sin{\\left(\\phi \\right)} \\sin{\\left(\\psi \\right)} \\sin{\\left(\\theta \\right)} + \\cos{\\left(\\phi \\right)} \\cos{\\left(\\psi \\right)}\\right) + v_{z} \\left(- \\sin{\\left(\\phi \\right)} \\cos{\\left(\\psi \\right)} + \\sin{\\left(\\psi \\right)} \\sin{\\left(\\theta \\right)} \\cos{\\left(\\phi \\right)}\\right)\\\\- v_{x} \\sin{\\left(\\theta \\right)} + v_{y} \\sin{\\left(\\phi \\right)} \\cos{\\left(\\theta \\right)} + v_{z} \\cos{\\left(\\phi \\right)} \\cos{\\left(\\theta \\right)}\\\\\\frac{w_{y} \\sin{\\left(\\phi \\right)}}{\\cos{\\left(\\theta \\right)}} + \\frac{w_{z} \\cos{\\left(\\phi \\right)}}{\\cos{\\left(\\theta \\right)}}\\\\w_{y} \\cos{\\left(\\phi \\right)} - w_{z} \\sin{\\left(\\phi \\right)}\\\\w_{x} + w_{y} \\sin{\\left(\\phi \\right)} \\tan{\\left(\\theta \\right)} + w_{z} \\cos{\\left(\\phi \\right)} \\tan{\\left(\\theta \\right)}\\\\\\frac{g m \\sin{\\left(\\theta \\right)} + m v_{y} w_{z} - m v_{z} w_{y}}{m}\\\\\\frac{- g m \\sin{\\left(\\phi \\right)} \\cos{\\left(\\theta \\right)} - m v_{x} w_{z} + m v_{z} w_{x}}{m}\\\\\\frac{f_{z} - g m \\cos{\\left(\\phi \\right)} \\cos{\\left(\\theta \\right)} + m v_{x} w_{y} - m v_{y} w_{x}}{m}\\\\\\frac{J_{y} w_{y} w_{z} - J_{z} w_{y} w_{z} + \\tau_{x}}{J_{x}}\\\\\\frac{- J_{x} w_{x} w_{z} + J_{z} w_{x} w_{z} + \\tau_{y}}{J_{y}}\\\\\\frac{J_{x} w_{x} w_{y} - J_{y} w_{x} w_{y} + \\tau_{z}}{J_{z}}\\\\\\alpha_{dot}\\\\\\frac{f_{z} \\sin{\\left(\\alpha - \\theta \\right)}}{l_{pen} m}\\end{matrix}\\right]$"
      ],
      "text/plain": [
       "Matrix([\n",
       "[ v_x*cos(psi)*cos(theta) + v_y*(sin(phi)*sin(theta)*cos(psi) - sin(psi)*cos(phi)) + v_z*(sin(phi)*sin(psi) + sin(theta)*cos(phi)*cos(psi))],\n",
       "[v_x*sin(psi)*cos(theta) + v_y*(sin(phi)*sin(psi)*sin(theta) + cos(phi)*cos(psi)) + v_z*(-sin(phi)*cos(psi) + sin(psi)*sin(theta)*cos(phi))],\n",
       "[                                                                       -v_x*sin(theta) + v_y*sin(phi)*cos(theta) + v_z*cos(phi)*cos(theta)],\n",
       "[                                                                                         w_y*sin(phi)/cos(theta) + w_z*cos(phi)/cos(theta)],\n",
       "[                                                                                                               w_y*cos(phi) - w_z*sin(phi)],\n",
       "[                                                                                   w_x + w_y*sin(phi)*tan(theta) + w_z*cos(phi)*tan(theta)],\n",
       "[                                                                                                (g*m*sin(theta) + m*v_y*w_z - m*v_z*w_y)/m],\n",
       "[                                                                                      (-g*m*sin(phi)*cos(theta) - m*v_x*w_z + m*v_z*w_x)/m],\n",
       "[                                                                                 (f_z - g*m*cos(phi)*cos(theta) + m*v_x*w_y - m*v_y*w_x)/m],\n",
       "[                                                                                                   (J_y*w_y*w_z - J_z*w_y*w_z + tau_x)/J_x],\n",
       "[                                                                                                  (-J_x*w_x*w_z + J_z*w_x*w_z + tau_y)/J_y],\n",
       "[                                                                                                   (J_x*w_x*w_y - J_y*w_x*w_y + tau_z)/J_z],\n",
       "[                                                                                                                                 alpha_dot],\n",
       "[                                                                                                          f_z*sin(alpha - theta)/(l_pen*m)]])"
      ]
     },
     "execution_count": 35,
     "metadata": {},
     "output_type": "execute_result"
    }
   ],
   "source": [
    "f_sym"
   ]
  },
  {
   "attachments": {},
   "cell_type": "markdown",
   "id": "ee01cc07",
   "metadata": {},
   "source": [
    "## 3.3 Choose equilibrium point\n",
    "\n",
    "An equilibrium point of the nonlinear system is a choice of states $s_\\text{eq}$ and inputs $i_\\text{eq}$ - along with constant parameters $p_\\text{eq}$ - for which\n",
    "\n",
    "$$0 = f(s_\\text{eq}, i_\\text{eq}, p_\\text{eq}).$$"
   ]
  },
  {
   "cell_type": "markdown",
   "id": "2019b91b",
   "metadata": {},
   "source": [
    "Create a list of states, inputs, and parameters as symbolic variables."
   ]
  },
  {
   "cell_type": "code",
   "execution_count": 36,
   "id": "75830a11",
   "metadata": {
    "jupyter": {
     "outputs_hidden": true,
     "source_hidden": true
    }
   },
   "outputs": [],
   "source": [
    "s = [o_x, o_y, o_z, psi, theta, phi, v_x, v_y, v_z, w_x, w_y, w_z, alpha, alpha_dot]\n",
    "i = [tau_x, tau_y, tau_z, f_z]\n",
    "p = [m, J_x, J_y, J_z, g, m_pen, l_pen]"
   ]
  },
  {
   "cell_type": "markdown",
   "id": "d3da9d25",
   "metadata": {},
   "source": [
    "Create a list of states to track as symbolic variables. These are states whose desired values will be specified by a client."
   ]
  },
  {
   "cell_type": "code",
   "execution_count": 37,
   "id": "633e55f4",
   "metadata": {
    "jupyter": {
     "outputs_hidden": true,
     "source_hidden": true
    }
   },
   "outputs": [],
   "source": [
    "s_with_des = [o_x, o_y, o_z]"
   ]
  },
  {
   "cell_type": "markdown",
   "id": "cfa42f86",
   "metadata": {},
   "source": [
    "Create a function that evaluates $f(\\cdot)$ at particular values of $s$, $i$, and $p$."
   ]
  },
  {
   "cell_type": "code",
   "execution_count": 38,
   "id": "f73a1883",
   "metadata": {
    "jupyter": {
     "outputs_hidden": true,
     "source_hidden": true
    }
   },
   "outputs": [],
   "source": [
    "f = sym.lambdify(s + i + p, f_sym)"
   ]
  },
  {
   "cell_type": "code",
   "execution_count": 39,
   "metadata": {},
   "outputs": [
    {
     "data": {
      "text/plain": [
       "<function _lambdifygenerated(o_x, o_y, o_z, psi, theta, phi, v_x, v_y, v_z, w_x, w_y, w_z, alpha, alpha_dot, tau_x, tau_y, tau_z, f_z, m, J_x, J_y, J_z, g, m_pen, l_pen)>"
      ]
     },
     "execution_count": 39,
     "metadata": {},
     "output_type": "execute_result"
    }
   ],
   "source": [
    "f"
   ]
  },
  {
   "cell_type": "markdown",
   "id": "d2782d33",
   "metadata": {},
   "source": [
    "Define constants."
   ]
  },
  {
   "cell_type": "code",
   "execution_count": 40,
   "id": "f874a240",
   "metadata": {
    "jupyter": {
     "outputs_hidden": true,
     "source_hidden": true
    }
   },
   "outputs": [],
   "source": [
    "# Mass\n",
    "m = 0.044\n",
    "\n",
    "# Principle moments of inertia\n",
    "J_x = 1.57e-05\n",
    "J_y = 1.60e-05\n",
    "J_z = 2.05e-05\n",
    "\n",
    "# Acceleration of gravity\n",
    "g = 9.81\n",
    "\n",
    "# Pendulum parameters\n",
    "l_pen = 150e-3 # maybe m\n",
    "m_pen = 0.006"
   ]
  },
  {
   "cell_type": "markdown",
   "id": "99146c26",
   "metadata": {},
   "source": [
    "Create a list of parameter values in the **same order** as the symbolic list. These are the parameter estimates we found in our experiments. They are not choices. (We use the subscript `_eq` to be consistent with what follows, and could say \"parameter values *at equilibrium*,\" but don't be misled. These parameter values are *given* and are *constant* - again, they aren't choices.)"
   ]
  },
  {
   "cell_type": "code",
   "execution_count": 41,
   "id": "a19a1ea0",
   "metadata": {
    "jupyter": {
     "outputs_hidden": true,
     "source_hidden": true
    }
   },
   "outputs": [],
   "source": [
    "p_eq = [m, J_x, J_y, J_z, g, m_pen, l_pen]"
   ]
  },
  {
   "cell_type": "markdown",
   "id": "9522c1d6",
   "metadata": {},
   "source": [
    "Create a list of state and input values at equilibrium in the **same order** as the symbolic lists."
   ]
  },
  {
   "cell_type": "code",
   "execution_count": 42,
   "id": "7ec2fcdf",
   "metadata": {
    "jupyter": {
     "outputs_hidden": true,
     "source_hidden": true
    }
   },
   "outputs": [],
   "source": [
    "s_eq = [0., 0., 0., 0., 0., 0., 0., 0., 0., 0., 0., 0., 0., 0.]\n",
    "i_eq = [0., 0., 0., g*(m)] # Notice that the mass of the pendulum is now factored into the equilibrium point"
   ]
  },
  {
   "cell_type": "markdown",
   "id": "6934b546",
   "metadata": {},
   "source": [
    "Evaluate the equations of motion at the equilibrium point - if it actually *is* an equilibrium point, then the result should be an array of zeros:"
   ]
  },
  {
   "cell_type": "code",
   "execution_count": 43,
   "id": "ce88daaa",
   "metadata": {
    "jupyter": {
     "outputs_hidden": true,
     "source_hidden": true
    }
   },
   "outputs": [
    {
     "name": "stdout",
     "output_type": "stream",
     "text": [
      "[[0.]\n",
      " [0.]\n",
      " [0.]\n",
      " [0.]\n",
      " [0.]\n",
      " [0.]\n",
      " [0.]\n",
      " [0.]\n",
      " [0.]\n",
      " [0.]\n",
      " [0.]\n",
      " [0.]\n",
      " [0.]\n",
      " [0.]]\n"
     ]
    }
   ],
   "source": [
    "print(f(*s_eq, *i_eq, *p_eq))"
   ]
  },
  {
   "cell_type": "markdown",
   "id": "be5bce64",
   "metadata": {},
   "source": [
    "Note that this equilibrium point would remain an equilibrium point for any choice of `o_x`, `o_y`, and `o_z` - that is one thing that allows the controller to track desired values of these variables."
   ]
  },
  {
   "attachments": {},
   "cell_type": "markdown",
   "id": "e3543554",
   "metadata": {},
   "source": [
    "## 3.4 Compute A and B"
   ]
  },
  {
   "cell_type": "markdown",
   "id": "d8afe6f5",
   "metadata": {},
   "source": [
    "We want to find\n",
    "\n",
    "$$\n",
    "A = \\frac{\\partial f}{\\partial s}\\biggr\\vert_{(s, i, p) = (s_\\text{eq}, i_\\text{eq}, p_\\text{eq})}\n",
    "\\qquad\\text{and}\\qquad\n",
    "B = \\frac{\\partial f}{\\partial i}\\biggr\\vert_{(s, i, p) = (s_\\text{eq}, i_\\text{eq}, p_\\text{eq})}.\n",
    "$$\n",
    "\n",
    "First, we compute each Jacobian (i.e., each matrix of partial derivatives) in symbolic form."
   ]
  },
  {
   "cell_type": "code",
   "execution_count": 44,
   "id": "d4df938c",
   "metadata": {
    "jupyter": {
     "outputs_hidden": true,
     "source_hidden": true
    }
   },
   "outputs": [],
   "source": [
    "A_sym = f_sym.jacobian(s)\n",
    "B_sym = f_sym.jacobian(i)"
   ]
  },
  {
   "cell_type": "markdown",
   "id": "810c9f50",
   "metadata": {},
   "source": [
    "Then, we create functions that allow us to evaluate these Jacobians at particular values of $s$, $i$, and $p$."
   ]
  },
  {
   "cell_type": "code",
   "execution_count": 45,
   "id": "2aaa735a",
   "metadata": {
    "jupyter": {
     "outputs_hidden": true,
     "source_hidden": true
    }
   },
   "outputs": [],
   "source": [
    "A_num = sym.lambdify(s + i + p, A_sym)\n",
    "B_num = sym.lambdify(s + i + p, B_sym)"
   ]
  },
  {
   "cell_type": "markdown",
   "id": "f82bf177",
   "metadata": {},
   "source": [
    "Finally, we plug in our equilibrium point."
   ]
  },
  {
   "cell_type": "code",
   "execution_count": 46,
   "id": "6954a473",
   "metadata": {
    "jupyter": {
     "outputs_hidden": true,
     "source_hidden": true
    }
   },
   "outputs": [],
   "source": [
    "A = A_num(*s_eq, *i_eq, *p_eq)\n",
    "B = B_num(*s_eq, *i_eq, *p_eq)"
   ]
  },
  {
   "cell_type": "markdown",
   "id": "f6995b94",
   "metadata": {},
   "source": [
    "Show $A$ (formatted nicely)."
   ]
  },
  {
   "cell_type": "code",
   "execution_count": 47,
   "id": "1b3711cb",
   "metadata": {
    "jupyter": {
     "outputs_hidden": true,
     "source_hidden": true
    }
   },
   "outputs": [
    {
     "name": "stdout",
     "output_type": "stream",
     "text": [
      "A = [[ 0.00  0.00  0.00  0.00  0.00  0.00  1.00  0.00  0.00  0.00  0.00  0.00  0.00  0.00]\n",
      "     [ 0.00  0.00  0.00  0.00  0.00  0.00  0.00  1.00  0.00  0.00  0.00  0.00  0.00  0.00]\n",
      "     [ 0.00  0.00  0.00  0.00 -0.00  0.00 -0.00  0.00  1.00  0.00  0.00  0.00  0.00  0.00]\n",
      "     [ 0.00  0.00  0.00  0.00  0.00  0.00  0.00  0.00  0.00  0.00  0.00  1.00  0.00  0.00]\n",
      "     [ 0.00  0.00  0.00  0.00  0.00 -0.00  0.00  0.00  0.00  0.00  1.00 -0.00  0.00  0.00]\n",
      "     [ 0.00  0.00  0.00  0.00  0.00  0.00  0.00  0.00  0.00  1.00  0.00  0.00  0.00  0.00]\n",
      "     [ 0.00  0.00  0.00  0.00  9.81  0.00  0.00  0.00 -0.00  0.00 -0.00  0.00  0.00  0.00]\n",
      "     [ 0.00  0.00  0.00  0.00  0.00 -9.81 -0.00  0.00  0.00  0.00  0.00 -0.00  0.00  0.00]\n",
      "     [ 0.00  0.00  0.00  0.00  0.00  0.00  0.00 -0.00  0.00 -0.00  0.00  0.00  0.00  0.00]\n",
      "     [ 0.00  0.00  0.00  0.00  0.00  0.00  0.00  0.00  0.00  0.00  0.00  0.00  0.00  0.00]\n",
      "     [ 0.00  0.00  0.00  0.00  0.00  0.00  0.00  0.00  0.00  0.00  0.00  0.00  0.00  0.00]\n",
      "     [ 0.00  0.00  0.00  0.00  0.00  0.00  0.00  0.00  0.00  0.00  0.00  0.00  0.00  0.00]\n",
      "     [ 0.00  0.00  0.00  0.00  0.00  0.00  0.00  0.00  0.00  0.00  0.00  0.00  0.00  1.00]\n",
      "     [ 0.00  0.00  0.00  0.00 -65.40  0.00  0.00  0.00  0.00  0.00  0.00  0.00 65.40  0.00]]\n"
     ]
    }
   ],
   "source": [
    "A_str = np.array2string(A,\n",
    "                        formatter={'float_kind': lambda x: f'{x:5.2f}'},\n",
    "                        prefix='    ',\n",
    "                        max_line_width=np.inf)\n",
    "\n",
    "print(f'A = {A_str}')"
   ]
  },
  {
   "cell_type": "markdown",
   "id": "d04f7ffd",
   "metadata": {},
   "source": [
    "Show $B$ (formatted nicely)."
   ]
  },
  {
   "cell_type": "code",
   "execution_count": 48,
   "id": "931bbe9b",
   "metadata": {
    "jupyter": {
     "outputs_hidden": true,
     "source_hidden": true
    }
   },
   "outputs": [
    {
     "name": "stdout",
     "output_type": "stream",
     "text": [
      "B = [[      0.00       0.00       0.00       0.00]\n",
      "     [      0.00       0.00       0.00       0.00]\n",
      "     [      0.00       0.00       0.00       0.00]\n",
      "     [      0.00       0.00       0.00       0.00]\n",
      "     [      0.00       0.00       0.00       0.00]\n",
      "     [      0.00       0.00       0.00       0.00]\n",
      "     [      0.00       0.00       0.00       0.00]\n",
      "     [      0.00       0.00       0.00       0.00]\n",
      "     [      0.00       0.00       0.00      22.73]\n",
      "     [  63694.27       0.00       0.00       0.00]\n",
      "     [      0.00   62500.00       0.00       0.00]\n",
      "     [      0.00       0.00   48780.49       0.00]\n",
      "     [      0.00       0.00       0.00       0.00]\n",
      "     [      0.00       0.00       0.00       0.00]]\n"
     ]
    }
   ],
   "source": [
    "B_str = np.array2string(B,\n",
    "                        formatter={'float_kind': lambda x: f'{x:10.2f}'},\n",
    "                        prefix='    ',\n",
    "                        max_line_width=np.inf)\n",
    "B\n",
    "print(f'B = {B_str}')"
   ]
  },
  {
   "cell_type": "markdown",
   "id": "bb9c9fdf",
   "metadata": {},
   "source": [
    "The state-space system is described by\n",
    "\n",
    "$$ \\dot{x} = Ax + Bu $$\n",
    "\n",
    "where\n",
    "\n",
    "$$ x = s - s_\\text{eq} $$\n",
    "\n",
    "and\n",
    "\n",
    "$$ u = i - i_\\text{eq}. $$"
   ]
  },
  {
   "cell_type": "markdown",
   "id": "a36135fa",
   "metadata": {},
   "source": [
    "$A$ and $B$ would remain the same for any choice of `o_x`, `o_y`, and `o_z` - that is the other thing that allows the controller to track desired values of these variables."
   ]
  },
  {
   "cell_type": "markdown",
   "metadata": {},
   "source": [
    "Check controllability:"
   ]
  },
  {
   "cell_type": "code",
   "execution_count": 49,
   "metadata": {},
   "outputs": [
    {
     "data": {
      "text/plain": [
       "12"
      ]
     },
     "execution_count": 49,
     "metadata": {},
     "output_type": "execute_result"
    }
   ],
   "source": [
    "W = np.block([[B, A @ B, A @ A @ B, np.linalg.matrix_power(A, 3) @ B, np.linalg.matrix_power(A, 4) @ B, np.linalg.matrix_power(A, 5) @ B, np.linalg.matrix_power(A, 6) @ B, np.linalg.matrix_power(A, 7) @ B, np.linalg.matrix_power(A, 8) @ B, np.linalg.matrix_power(A, 9) @ B, np.linalg.matrix_power(A,10) @ B, np.linalg.matrix_power(A, 11) @ B, np.linalg.matrix_power(A, 12) @ B, np.linalg.matrix_power(A, 13) @ B]])\n",
    "\n",
    "np.linalg.matrix_rank(W) # If 14, the system is controllable\n"
   ]
  },
  {
   "cell_type": "markdown",
   "metadata": {},
   "source": [
    "From this it seems like the system is not fully controllable. The reason for this is probably the inaccuracy in new forces term derived from the planar problem and put into the full system. This is a point of further investigation."
   ]
  },
  {
   "attachments": {},
   "cell_type": "markdown",
   "id": "a2fb7647",
   "metadata": {},
   "source": [
    "# 4. Design method of power distribution\n"
   ]
  },
  {
   "cell_type": "markdown",
   "id": "97dfd9a8",
   "metadata": {},
   "source": [
    "Define constants."
   ]
  },
  {
   "cell_type": "code",
   "execution_count": 50,
   "id": "51bce0eb",
   "metadata": {
    "jupyter": {
     "outputs_hidden": true,
     "source_hidden": true
    }
   },
   "outputs": [],
   "source": [
    "k_F = 2.04e-06\n",
    "k_M = 6.33e-09\n",
    "l = .0325 "
   ]
  },
  {
   "cell_type": "markdown",
   "id": "28502701",
   "metadata": {},
   "source": [
    "Defines the matrix $P$ that maps motor power commands ($m_1$, $m_2$, $m_3$, $m_4$) to inputs ($\\tau_x$, $\\tau_y$, $\\tau_z$, $f_z$)."
   ]
  },
  {
   "cell_type": "code",
   "execution_count": 51,
   "id": "9d1a1e7b",
   "metadata": {
    "jupyter": {
     "outputs_hidden": true,
     "source_hidden": true
    }
   },
   "outputs": [],
   "source": [
    "P = np.array([[ -l * k_F, -l * k_F,  l * k_F,  l * k_F  ],\n",
    "              [ -l * k_F, l * k_F,   l * k_F,  -l * k_F ],\n",
    "              [ -k_M,     k_M,       -k_M,     k_M      ],\n",
    "              [ k_F,      k_F,       k_F,      k_F      ]])"
   ]
  },
  {
   "cell_type": "markdown",
   "id": "60fded0f",
   "metadata": {},
   "source": [
    "Computes the matrix $P^{-1}$ that maps inputs to motor power commands."
   ]
  },
  {
   "cell_type": "code",
   "execution_count": 52,
   "id": "0628e8c7",
   "metadata": {
    "jupyter": {
     "outputs_hidden": true,
     "source_hidden": true
    }
   },
   "outputs": [],
   "source": [
    "Pinv = linalg.inv(P)"
   ]
  },
  {
   "cell_type": "markdown",
   "id": "8da0cfb0",
   "metadata": {},
   "source": [
    "Print code that implements the method of power distribution in python (for simulation)."
   ]
  },
  {
   "cell_type": "code",
   "execution_count": 53,
   "id": "55036101",
   "metadata": {
    "jupyter": {
     "outputs_hidden": true,
     "source_hidden": true
    }
   },
   "outputs": [
    {
     "name": "stdout",
     "output_type": "stream",
     "text": [
      "m_1 = self.limitUint16( -3770739.1 * tau_x -3770739.1 * tau_y -39494470.8 * tau_z + 122549.0 * f_z )\n",
      "m_2 = self.limitUint16( -3770739.1 * tau_x + 3770739.1 * tau_y + 39494470.8 * tau_z + 122549.0 * f_z )\n",
      "m_3 = self.limitUint16( 3770739.1 * tau_x + 3770739.1 * tau_y -39494470.8 * tau_z + 122549.0 * f_z )\n",
      "m_4 = self.limitUint16( 3770739.1 * tau_x -3770739.1 * tau_y + 39494470.8 * tau_z + 122549.0 * f_z )\n"
     ]
    }
   ],
   "source": [
    "def export_power_distribution(Pinv,\n",
    "                              limiter='self.limitUint16',\n",
    "                              decimals=1,\n",
    "                              suffix='',\n",
    "                              line_ending=''):\n",
    "    \"\"\"\n",
    "    Pinv is a 4 x 4 matrix that maps inputs (tau_x, tau_y, tau_z, f_z)\n",
    "        to motor power commands (m_1, m_2, m_3, m_4)\n",
    "    limiter is the name of the function to apply that ensures each\n",
    "        motor power command is valid (i.e., an integer within bounds),\n",
    "        for example \"limitUint16\" when exporting to C\n",
    "    decimals is the number of decimals to include when printing\n",
    "        each value\n",
    "    suffix is the character (if any) to print after each number,\n",
    "        for example 'f' to indicate a \"float\" when exporting to C\n",
    "    line_ending is the character (if any) to print after each\n",
    "        line, for example ';' when exporting to C\n",
    "    \"\"\"\n",
    "    \n",
    "    i_name = ['tau_x', 'tau_y', 'tau_z', 'f_z']\n",
    "    m_name = ['m_1', 'm_2', 'm_3', 'm_4']\n",
    "    for row in range(len(m_name)):\n",
    "        input_string = ''\n",
    "        for col in range(len(i_name)):\n",
    "            k = Pinv[row, col]\n",
    "            if not np.isclose(k, 0.):\n",
    "                if (k > 0) and input_string:\n",
    "                    input_string += ' +'\n",
    "                n = i_name[col]\n",
    "                input_string += f' {k:.{decimals}f}{suffix} * {n}'\n",
    "        print(f'{m_name[row]} = {limiter}({input_string} ){line_ending}')\n",
    "\n",
    "\n",
    "\n",
    "export_power_distribution(Pinv)"
   ]
  },
  {
   "cell_type": "markdown",
   "id": "e2528f26",
   "metadata": {},
   "source": [
    "Print code that implements the method of power distribution in C (for hardware)."
   ]
  },
  {
   "cell_type": "code",
   "execution_count": 54,
   "id": "c59d74f2",
   "metadata": {
    "jupyter": {
     "outputs_hidden": true,
     "source_hidden": true
    }
   },
   "outputs": [
    {
     "name": "stdout",
     "output_type": "stream",
     "text": [
      "m_1 = limitUint16( -3770739.1f * tau_x -3770739.1f * tau_y -39494470.8f * tau_z + 122549.0f * f_z );\n",
      "m_2 = limitUint16( -3770739.1f * tau_x + 3770739.1f * tau_y + 39494470.8f * tau_z + 122549.0f * f_z );\n",
      "m_3 = limitUint16( 3770739.1f * tau_x + 3770739.1f * tau_y -39494470.8f * tau_z + 122549.0f * f_z );\n",
      "m_4 = limitUint16( 3770739.1f * tau_x -3770739.1f * tau_y + 39494470.8f * tau_z + 122549.0f * f_z );\n"
     ]
    }
   ],
   "source": [
    "export_power_distribution(\n",
    "    Pinv,\n",
    "    limiter='limitUint16',\n",
    "    suffix='f',\n",
    "    line_ending=';',\n",
    ")"
   ]
  },
  {
   "attachments": {},
   "cell_type": "markdown",
   "id": "e5b69d8d",
   "metadata": {},
   "source": [
    "# 5. Control design"
   ]
  },
  {
   "cell_type": "markdown",
   "id": "83014d38",
   "metadata": {},
   "source": [
    "This controller uses a linear state feedback of the form\n",
    "\n",
    "$$u = - K (x - x_\\text{des})$$\n",
    "\n",
    "where the gain matrix $K$ is chosen by solving an infinite-horizon LQR problem (e.g., with the helper function `lqr`) and where\n",
    "\n",
    "$$x_\\text{des} = \\begin{bmatrix} o_{x, \\text{des}} \\\\ o_{y, \\text{des}} \\\\ o_{z, \\text{des}} \\\\ 0 \\\\ 0 \\\\ 0 \\\\ 0 \\\\ 0 \\\\ 0 \\\\ 0 \\\\ 0 \\\\ 0 \\\\ 0 \\\\ 0\\end{bmatrix}.$$\n",
    "\n",
    "The LQR problem is defined by the choice of weights $Q$ and $R$. Both must be square matrices, $Q$ must be positive semidefinite, and $R$ must be positive definite. Both $Q$ and $R$ are almost always chosen to be diagonal. $Q$ penalizes non-zero states (i.e., non-zero values of $x$) and that $R$ penalizes non-zero inputs (i.e., non-zero values of $u$)."
   ]
  },
  {
   "cell_type": "code",
   "execution_count": 55,
   "id": "1e17d37f",
   "metadata": {},
   "outputs": [],
   "source": [
    "Q = np.diag([\n",
    "    0.01, # x\n",
    "    7., # y\n",
    "    5., # z\n",
    "    1., # psi (yaw)\n",
    "    20., # theta (pitch)\n",
    "    .01, # phi (roll)\n",
    "    0.02,\n",
    "    0.8,\n",
    "    1.,\n",
    "    1.,\n",
    "    0.01,\n",
    "    1.,\n",
    "    50., #alpha\n",
    "    2. #alpha_dot\n",
    "])\n",
    "\n",
    "R = np.diag([\n",
    "    1E6, #tau_x\n",
    "    1E9,#tau_y\n",
    "    1E6,\n",
    "    10,\n",
    "])\n"
   ]
  },
  {
   "cell_type": "markdown",
   "id": "da5e7a70",
   "metadata": {},
   "source": [
    "Find $K$ for the chosen $Q$ and $R$."
   ]
  },
  {
   "cell_type": "markdown",
   "id": "9f8a39a8",
   "metadata": {
    "jupyter": {
     "source_hidden": true
    }
   },
   "source": [
    "Here is a function that solves the linear quadratic regulator (LQR) problem - i.e., that finds the matrix $K$ for which\n",
    "\n",
    "$$u(t) = - K x(t)$$\n",
    "\n",
    "is the optimal solution to\n",
    "\n",
    "$$\n",
    "\\begin{align*}\n",
    "\\underset{u_{[t_{0}, \\infty)}}{\\text{minimize}} &\\qquad \\int_{t_{0}}^{\\infty}\\left( x(t)^{T}Qx(t)+u(t)^{T}Ru(t)\\right)dt \\\\\n",
    "\\text{subject to} &\\qquad \\dot{x}(t) = Ax(t)+Bu(t), \\quad x(t_{0})=x_{0}.\n",
    "\\end{align*}\n",
    "$$"
   ]
  },
  {
   "cell_type": "code",
   "execution_count": 56,
   "id": "7af3826a",
   "metadata": {
    "jupyter": {
     "source_hidden": true
    }
   },
   "outputs": [],
   "source": [
    "def lqr(A, B, Q, R):\n",
    "    P = linalg.solve_continuous_are(A, B, Q, R)\n",
    "    K = linalg.inv(R) @  B.T @ P\n",
    "    return K"
   ]
  },
  {
   "cell_type": "code",
   "execution_count": 57,
   "id": "da485a90",
   "metadata": {
    "collapsed": true,
    "jupyter": {
     "outputs_hidden": true
    }
   },
   "outputs": [
    {
     "data": {
      "text/plain": [
       "array([[ 7.59096652e-16, -2.64575131e-03,  1.68993916e-15,\n",
       "         1.74792010e-15, -1.18624433e-12,  6.66549006e-03,\n",
       "         4.10320444e-15, -2.09651082e-03,  2.51078080e-16,\n",
       "         1.09968013e-03, -1.10372390e-13, -3.69021094e-17,\n",
       "         1.27878458e-12,  1.58435686e-13],\n",
       "       [-3.16227766e-06,  5.40560615e-16, -5.33259260e-18,\n",
       "         2.14255115e-16,  4.03256873e-03, -8.10524253e-16,\n",
       "        -1.57031548e-05,  2.97402719e-16,  6.67247201e-18,\n",
       "        -1.08302907e-16,  3.59238360e-04,  1.20605237e-16,\n",
       "        -4.38403040e-03, -5.43244902e-04],\n",
       "       [-5.31957355e-16, -2.26619212e-16,  3.89283870e-16,\n",
       "         1.00000000e-03,  9.76588995e-13,  1.40879460e-15,\n",
       "        -2.71104056e-15, -1.31075130e-16,  4.34364989e-17,\n",
       "        -2.82616155e-17,  9.41309166e-14,  1.02029408e-03,\n",
       "        -1.04157582e-12, -1.28957809e-13],\n",
       "       [-1.58670312e-15, -1.49432541e-13,  7.07106781e-01,\n",
       "         1.31410786e-15,  2.71913706e-12,  5.89263369e-13,\n",
       "        -8.71932058e-15, -1.15493482e-13,  4.02772140e-01,\n",
       "         8.95892241e-15,  2.42635346e-13,  2.02374597e-15,\n",
       "        -2.89509892e-12, -3.58172807e-13]])"
      ]
     },
     "execution_count": 57,
     "metadata": {},
     "output_type": "execute_result"
    }
   ],
   "source": [
    "K = lqr(A, B, Q, R)\n",
    "\n",
    "K"
   ]
  },
  {
   "cell_type": "markdown",
   "id": "f01135e1",
   "metadata": {},
   "source": [
    "Show $K$ (formatted nicely)."
   ]
  },
  {
   "cell_type": "code",
   "execution_count": 58,
   "id": "6408582a",
   "metadata": {},
   "outputs": [
    {
     "name": "stdout",
     "output_type": "stream",
     "text": [
      "K = [[ 0.000 -0.003  0.000  0.000 -0.000  0.007  0.000 -0.002  0.000  0.001 -0.000 -0.000  0.000  0.000]\n",
      "     [-0.000  0.000 -0.000  0.000  0.004 -0.000 -0.000  0.000  0.000 -0.000  0.000  0.000 -0.004 -0.001]\n",
      "     [-0.000 -0.000  0.000  0.001  0.000  0.000 -0.000 -0.000  0.000 -0.000  0.000  0.001 -0.000 -0.000]\n",
      "     [-0.000 -0.000  0.707  0.000  0.000  0.000 -0.000 -0.000  0.403  0.000  0.000  0.000 -0.000 -0.000]]\n"
     ]
    }
   ],
   "source": [
    "K_str = np.array2string(K,\n",
    "                        formatter={'float_kind': lambda x: f'{x:6.3f}'},\n",
    "                        prefix='    ',\n",
    "                        max_line_width=np.inf)\n",
    "\n",
    "print(f'K = {K_str}')"
   ]
  },
  {
   "cell_type": "markdown",
   "id": "96e49b1f",
   "metadata": {},
   "source": [
    "Print code that implements the controller."
   ]
  },
  {
   "cell_type": "code",
   "execution_count": 59,
   "id": "cfd55d74",
   "metadata": {},
   "outputs": [
    {
     "name": "stdout",
     "output_type": "stream",
     "text": [
      "tau_x = 0.00264575 * (o_y - o_y_des) -0.00666549 * phi + 0.00209651 * v_y -0.00109968 * w_x\n",
      "tau_y = 0.00000316 * (o_x - o_x_des) -0.00403257 * theta + 0.00001570 * v_x -0.00035924 * w_y + 0.00438403 * alpha + 0.00054324 * alpha_dot\n",
      "tau_z = -0.00100000 * psi -0.00102029 * w_z\n",
      "f_z = -0.70710678 * (o_z - o_z_des) -0.40277214 * v_z + 0.43164000\n"
     ]
    }
   ],
   "source": [
    "def export_controller(K, s, i, s_with_des, i_eq,\n",
    "                      decimals=8,\n",
    "                      suffix='',\n",
    "                      line_ending=''):\n",
    "    \"\"\"\n",
    "    K is a gain matrix, of size m x n\n",
    "    s is a list of states as symbolic variables, of length n\n",
    "    i is a list of inputs as symbolic variables, of length m\n",
    "    s_with_des is a list of states that have desired values, as\n",
    "        symbolic variables - if there are no such states, then\n",
    "        this should be an empty list []\n",
    "    i_eq is a list of equilibrium values of inputs, of length m\n",
    "    decimals is the number of decimals to include when printing\n",
    "        each value\n",
    "    suffix is the character (if any) to print after each number,\n",
    "        for example 'f' to indicate a \"float\" when exporting to C\n",
    "    line_ending is the character (if any) to print after each\n",
    "        line, for example ';' when exporting to C\n",
    "    \"\"\"\n",
    "    \n",
    "    s_name = [scur.name for scur in s]\n",
    "    i_name = [icur.name for icur in i]\n",
    "    for row in range(len(i_name)):\n",
    "        input_string = ''\n",
    "        for col in range(len(s_name)):\n",
    "            k = K[row, col]\n",
    "            if not np.isclose(k, 0.):\n",
    "                if (k < 0) and input_string:\n",
    "                    input_string += ' +'\n",
    "                if s[col] in s_with_des:\n",
    "                    n = f'({s_name[col]} - {s_name[col]}_des)'\n",
    "                else:\n",
    "                    n = s_name[col]\n",
    "                input_string += f' {-k:.{decimals}f}{suffix} * {n}'\n",
    "        if not np.isclose(i_eq[row], 0.):\n",
    "            if (i_eq[row] > 0) and input_string:\n",
    "                input_string += ' +'\n",
    "            input_string += f' {i_eq[row]:.{decimals}f}{suffix}'\n",
    "        print(f'{i_name[row]} ={input_string}{line_ending}')\n",
    "\n",
    "\n",
    "# For python simulation\n",
    "export_controller(\n",
    "    K,               # the gain matrix\n",
    "    s,               # list of states as symbolic variables\n",
    "    i,               # list of inputs as symbolic variables\n",
    "    s_with_des,      # list of states that have desired values as symbolic variables\n",
    "    i_eq,            # list of equilibrium values of inputs\n",
    ")\n",
    "\n",
    "# For C\n",
    "# export_controller(\n",
    "#     K,               # the gain matrix\n",
    "#     s,               # list of states as symbolic variables\n",
    "#     i,               # list of inputs as symbolic variables\n",
    "#     s_with_des,      # list of states that have desired values as symbolic variables\n",
    "#     i_eq,            # list of equilibrium values of inputs\n",
    "#     suffix='f',      # character to print after each number (indicates a \"float\")\n",
    "#     line_ending=';'  # character to print after each line\n",
    "# )\n"
   ]
  },
  {
   "attachments": {},
   "cell_type": "markdown",
   "metadata": {},
   "source": [
    "# 6. Simulation\n",
    "\n",
    "The following section runs a simulation to test the controller. This simulator is based on the AE 483 Autonomous Systems Lab controller. The drone model is modified to include an inverted pendulum, and the script is modified to allow the measurement of a pendulum angle."
   ]
  },
  {
   "attachments": {},
   "cell_type": "markdown",
   "metadata": {},
   "source": [
    "## 6.1 Run Simulation"
   ]
  },
  {
   "attachments": {},
   "cell_type": "markdown",
   "metadata": {},
   "source": [
    "### 6.1.1 Create an instance of the simulation"
   ]
  },
  {
   "cell_type": "code",
   "execution_count": 60,
   "metadata": {},
   "outputs": [],
   "source": [
    "simulator = ae483_drone.Simulator(\n",
    "    display=True,\n",
    "    width=640,\n",
    "    height=480,\n",
    ")"
   ]
  },
  {
   "attachments": {},
   "cell_type": "markdown",
   "metadata": {},
   "source": [
    "### 6.1.2 Client enables smooth motion"
   ]
  },
  {
   "cell_type": "code",
   "execution_count": 61,
   "id": "ff588162",
   "metadata": {},
   "outputs": [],
   "source": [
    "class RobotClient:\n",
    "    def __init__(self):\n",
    "        pass\n",
    "    \n",
    "    def run(self, t):\n",
    "        # Get start time (hard-coded at zero)\n",
    "        start_time = 0.\n",
    "        \n",
    "        # Get current time\n",
    "        current_time = t\n",
    "        \n",
    "        # Define initial point (in the coordinates of the world frame)\n",
    "        p1 = np.array([0., 0., 0.3])\n",
    "        \n",
    "        # Define final point (in the coordinates of the world frame)\n",
    "        p2 = np.array([0.1, 0., 0.3])\n",
    "        \n",
    "        # Define speed in meters / second\n",
    "        speed = 0.25\n",
    "        \n",
    "        # Compute distance from p1 to p2\n",
    "        distance_from_p1_to_p2 = np.linalg.norm(p1-p2)\n",
    "        \n",
    "        # Compute time it takes to move from p1 to p2 at desired speed\n",
    "        time_from_p1_to_p2 = distance_from_p1_to_p2/speed\n",
    "        \n",
    "        # Compute what fraction of the distance from p1 to p2 should have\n",
    "        # been travelled by the current time\n",
    "        s = (current_time - start_time)/time_from_p1_to_p2\n",
    "        \n",
    "        # Compute where the drone should be at the current time, in the\n",
    "        # coordinates of the world frame\n",
    "        p = ((1-s) * p1) + (s*p2)\n",
    "        \n",
    "        # Check if the drone should have reached p2 already\n",
    "        if s >= 1:\n",
    "            p = p2\n",
    "        \n",
    "        # Get x, y, z coordinates of desired position\n",
    "        o_x = p[0]\n",
    "        o_y = p[1]\n",
    "        o_z = p[2]\n",
    "        psi = 0.\n",
    "    \n",
    "        return {\n",
    "            'o_x': o_x,\n",
    "            'o_y': o_y,\n",
    "            'o_z': o_z,\n",
    "            'psi': psi,\n",
    "        }"
   ]
  },
  {
   "attachments": {},
   "cell_type": "markdown",
   "metadata": {},
   "source": [
    "### 6.1.3 Create controller class (with force, torques, and motor commands)"
   ]
  },
  {
   "cell_type": "code",
   "execution_count": 62,
   "id": "ff588162",
   "metadata": {},
   "outputs": [],
   "source": [
    "class RobotController:\n",
    "    def __init__(self):\n",
    "        pass\n",
    "\n",
    "    def limitUint16(self, m):\n",
    "        \"\"\"\n",
    "        This function returns the closest integer to \"m\" in the\n",
    "        range [0, 65535]. It is called \"limitUint16\" because an\n",
    "        \"unsigned 16-bit integer\" is limited to this range.\n",
    "        \"\"\"\n",
    "        m = np.round(m, decimals=0)\n",
    "        if m < 0:\n",
    "            m = 0\n",
    "        elif m > 65535:\n",
    "            m = 65535\n",
    "        return m\n",
    "\n",
    "    def run(self, state, setpoint):\n",
    "        # Parse state\n",
    "        o_x = state['o_x']\n",
    "        o_y = state['o_y']\n",
    "        o_z = state['o_z']\n",
    "        psi = state['psi']\n",
    "        theta = state['theta']\n",
    "        phi = state['phi']\n",
    "        v_x = state['v_x']\n",
    "        v_y = state['v_y']\n",
    "        v_z = state['v_z']\n",
    "        w_x = state['w_x']\n",
    "        w_y = state['w_y']\n",
    "        w_z = state['w_z']\n",
    "        alpha = state['alpha']\n",
    "        alpha_dot = state['alpha_dot']\n",
    "        # Parse setpoint\n",
    "        o_x_des = setpoint['o_x']\n",
    "        o_y_des = setpoint['o_y']\n",
    "        o_z_des = setpoint['o_z']\n",
    "        \n",
    "        tau_x = 0.00264575 * (o_y - o_y_des) -0.00666549 * phi + 0.00209651 * v_y -0.00109968 * w_x\n",
    "        tau_y = 0.00000316 * (o_x - o_x_des) -0.00403257 * theta + 0.00001570 * v_x -0.00035924 * w_y + 0.00438403 * alpha + 0.00054324 * alpha_dot\n",
    "        tau_z = -0.00100000 * psi -0.00102029 * w_z\n",
    "        f_z = -0.70710678 * (o_z - o_z_des) -0.40277214 * v_z + 0.43164000\n",
    "        \n",
    "        m_1 = self.limitUint16( -3770739.1 * tau_x -3770739.1 * tau_y -39494470.8 * tau_z + 122549.0 * f_z )\n",
    "        m_2 = self.limitUint16( -3770739.1 * tau_x + 3770739.1 * tau_y + 39494470.8 * tau_z + 122549.0 * f_z )\n",
    "        m_3 = self.limitUint16( 3770739.1 * tau_x + 3770739.1 * tau_y -39494470.8 * tau_z + 122549.0 * f_z )\n",
    "        m_4 = self.limitUint16( 3770739.1 * tau_x -3770739.1 * tau_y + 39494470.8 * tau_z + 122549.0 * f_z )\n",
    "        \n",
    "        return m_1, m_2, m_3, m_4"
   ]
  },
  {
   "attachments": {},
   "cell_type": "markdown",
   "metadata": {},
   "source": [
    "### 6.1.4 Reset simulation by clearing drones"
   ]
  },
  {
   "cell_type": "code",
   "execution_count": 63,
   "id": "32cf78f4",
   "metadata": {},
   "outputs": [],
   "source": [
    "simulator.clear_drones()"
   ]
  },
  {
   "attachments": {},
   "cell_type": "markdown",
   "metadata": {},
   "source": [
    "### 6.1.5 Add drone to simulation"
   ]
  },
  {
   "cell_type": "code",
   "execution_count": 64,
   "id": "6e177797",
   "metadata": {},
   "outputs": [],
   "source": [
    "simulator.add_drone(\n",
    "    'my_drone',\n",
    "    RobotClient,\n",
    "    RobotController,\n",
    "    rgba=[1., 0., 1., 1.],\n",
    "    m=0.039,  \n",
    "    J_x=1e-5, \n",
    "    J_y=1e-5, \n",
    "    J_z=2e-5, \n",
    "    g=9.81,\n",
    "    l=0.035,   \n",
    "    k_F=2e-6,  \n",
    "    k_M=1e-8, \n",
    ")"
   ]
  },
  {
   "attachments": {},
   "cell_type": "markdown",
   "metadata": {},
   "source": [
    "### 6.1.6 Set initial drone state"
   ]
  },
  {
   "cell_type": "code",
   "execution_count": 65,
   "id": "d1e4ad5e",
   "metadata": {},
   "outputs": [],
   "source": [
    "simulator.set_state(\n",
    "    'my_drone',\n",
    "    {\n",
    "        'o_x': 0.,\n",
    "        'o_y': 0.,\n",
    "        'o_z': 0.3,\n",
    "        'psi': 0.,\n",
    "        'theta': 0.,\n",
    "        'phi': 0.,\n",
    "        'v_x': 0.,\n",
    "        'v_y': 0.,\n",
    "        'v_z': 0.,\n",
    "        'w_x': 0.,\n",
    "        'w_y': 0.,\n",
    "        'w_z': 0.,\n",
    "        'alpha': -0.05\n",
    "    },\n",
    ")"
   ]
  },
  {
   "attachments": {},
   "cell_type": "markdown",
   "metadata": {},
   "source": [
    "### 6.1.7 Set simulation camera view"
   ]
  },
  {
   "cell_type": "code",
   "execution_count": 66,
   "id": "30671698",
   "metadata": {},
   "outputs": [],
   "source": [
    "simulator.set_camera_target('my_drone')\n",
    "simulator.set_camera_yaw(90.0)"
   ]
  },
  {
   "attachments": {},
   "cell_type": "markdown",
   "metadata": {},
   "source": [
    "### 6.1.8 Run simulation"
   ]
  },
  {
   "cell_type": "code",
   "execution_count": 67,
   "id": "f8526f69",
   "metadata": {},
   "outputs": [
    {
     "name": "stdout",
     "output_type": "stream",
     "text": [
      "Completed 700 time steps in 12.2210 seconds (57.2784 time steps per second)\n"
     ]
    }
   ],
   "source": [
    "simulator.run(\n",
    "    max_time=7.0,\n",
    "    data_filename='pendulum_simulation_test.json',\n",
    "    video_filename=None,\n",
    ")"
   ]
  },
  {
   "attachments": {},
   "cell_type": "markdown",
   "metadata": {},
   "source": [
    "## 6.2 Plot results from simulation"
   ]
  },
  {
   "attachments": {},
   "cell_type": "markdown",
   "metadata": {},
   "source": [
    "### 6.2.1 Define function to load data from simulation"
   ]
  },
  {
   "cell_type": "code",
   "execution_count": 68,
   "metadata": {},
   "outputs": [],
   "source": [
    "def load_simulation_data(filename, dronename):\n",
    "    # load data for all drones\n",
    "    with open(filename, 'r') as f:\n",
    "        data = json.load(f)\n",
    "    \n",
    "    # get data for one drone only\n",
    "    data = data[dronename]\n",
    "    \n",
    "    # convert lists to numpy arrays\n",
    "    for key in data.keys():\n",
    "        if isinstance(data[key], dict):\n",
    "            for subkey in data[key].keys():\n",
    "                data[key][subkey] = np.array(data[key][subkey])\n",
    "        else:\n",
    "            data[key] = np.array(data[key])\n",
    "    \n",
    "    # return the data\n",
    "    return data"
   ]
  },
  {
   "attachments": {},
   "cell_type": "markdown",
   "metadata": {},
   "source": [
    "### 6.2.2 Load and process simulation JSON data"
   ]
  },
  {
   "cell_type": "code",
   "execution_count": 69,
   "metadata": {},
   "outputs": [],
   "source": [
    "data = load_simulation_data(\n",
    "    'pendulum_simulation_test.json', \n",
    "    'my_drone',              \n",
    ")\n",
    "\n",
    "# time\n",
    "t = data['t']\n",
    "\n",
    "# position\n",
    "o_x = data['state']['o_x']\n",
    "o_y = data['state']['o_y']\n",
    "o_z = data['state']['o_z']\n",
    "\n",
    "# desired position\n",
    "o_x_des = data['setpoint']['o_x']\n",
    "o_y_des = data['setpoint']['o_y']\n",
    "o_z_des = data['setpoint']['o_z']\n",
    "\n",
    "# orientation\n",
    "psi = data['state']['psi']\n",
    "theta = data['state']['theta']\n",
    "phi = data['state']['phi']\n",
    "\n",
    "# pendulum data\n",
    "alpha = data['state']['alpha']\n",
    "alpha_dot = data['state']['alpha_dot']\n",
    "\n",
    "# motor power commands\n",
    "m_1 = data['power']['m_1']\n",
    "m_2 = data['power']['m_2']\n",
    "m_3 = data['power']['m_3']\n",
    "m_4 = data['power']['m_4']\n",
    "\n",
    "# Compute error in position (this is a function of time).\n",
    "\n",
    "o_x_err = o_x - o_x_des\n",
    "o_y_err = o_y - o_y_des\n",
    "o_z_err = o_z - o_z_des"
   ]
  },
  {
   "attachments": {},
   "cell_type": "markdown",
   "metadata": {},
   "source": [
    "### 6.2.3 Plot simulation results from loaded data"
   ]
  },
  {
   "cell_type": "code",
   "execution_count": 70,
   "metadata": {},
   "outputs": [
    {
     "data": {
      "text/plain": [
       "Text(0.5, 0, 'time (s)')"
      ]
     },
     "execution_count": 70,
     "metadata": {},
     "output_type": "execute_result"
    },
    {
     "data": {
      "image/png": "[encoded data removed]",
      "text/plain": [
       "<Figure size 1200x1200 with 5 Axes>"
      ]
     },
     "metadata": {},
     "output_type": "display_data"
    }
   ],
   "source": [
    "# Plot position error, orientation, pendulum pose and motor power commands\n",
    "\n",
    "fig, (ax_pos, ax_ori, ax_pow, ax_pen, ax_dot_pen) = plt.subplots(5, 1, figsize=(12, 12), sharex=True)\n",
    "ax_pos.plot(t, o_x_err, label='x position error')\n",
    "ax_pos.plot(t, o_y_err, label='y position error')\n",
    "ax_pos.plot(t, o_z_err, label='z position error')\n",
    "ax_pos.legend()\n",
    "ax_pos.grid()\n",
    "ax_ori.plot(t, psi, label='psi')\n",
    "ax_ori.plot(t, theta, label='theta')\n",
    "ax_ori.plot(t, phi, label='phi')\n",
    "ax_ori.legend()\n",
    "ax_ori.grid()\n",
    "ax_pow.plot(t, m_1, label='m_1')\n",
    "ax_pow.plot(t, m_2, label='m_2')\n",
    "ax_pow.plot(t, m_3, label='m_3')\n",
    "ax_pow.plot(t, m_4, label='m_4')\n",
    "ax_pow.legend()\n",
    "ax_pow.grid()\n",
    "ax_pen.plot(t, alpha, label='alpha')\n",
    "ax_pen.legend()\n",
    "ax_pen.grid()\n",
    "ax_dot_pen.plot(t, alpha_dot, label='alpha_dot')\n",
    "ax_dot_pen.legend()\n",
    "ax_dot_pen.grid()\n",
    "ax_pow.set_xlabel('time (s)')"
   ]
  },
  {
   "attachments": {},
   "cell_type": "markdown",
   "metadata": {},
   "source": [
    "# 7. Real-World Analysis"
   ]
  },
  {
   "attachments": {},
   "cell_type": "markdown",
   "metadata": {},
   "source": [
    "### 7.1 Define function to load data from hardware"
   ]
  },
  {
   "cell_type": "code",
   "execution_count": 71,
   "id": "a51e9f5d",
   "metadata": {},
   "outputs": [],
   "source": [
    "def load_hardware_data(filename, t_min_offset=0, t_max_offset=0):\n",
    "    # load raw data\n",
    "    with open(filename, 'r') as f:\n",
    "        data = json.load(f)\n",
    "\n",
    "    # convert lists to numpy arrays\n",
    "    for val in data.values():\n",
    "        for key in val.keys():\n",
    "            val[key] = np.array(val[key])\n",
    "\n",
    "    # create an array of times at which to subsample\n",
    "    t_min = -np.inf\n",
    "    t_max = np.inf\n",
    "    for key, val in data.items():\n",
    "        t_min = max(t_min, val['time'][0])\n",
    "        t_max = min(t_max, val['time'][-1])\n",
    "    t_min += t_min_offset * 1000\n",
    "    t_max -= t_max_offset * 1000\n",
    "    nt = int(1 + np.floor((t_max - t_min) / 10.))\n",
    "    t = np.arange(0, 10 * nt, 10) / 1000.\n",
    "    resampled_data = {'time': t}\n",
    "\n",
    "    # resample raw data with linear interpolation\n",
    "    for k, v in data.items():\n",
    "        f = interp1d((v['time'] - t_min) / 1000., v['data'])\n",
    "        resampled_data[k] = f(t)\n",
    "        \n",
    "    # return the resampled data\n",
    "    return resampled_data"
   ]
  },
  {
   "attachments": {},
   "cell_type": "markdown",
   "metadata": {},
   "source": [
    "### 7.2 Load and plot hardware data\n",
    "\n",
    "This section reproduces the real-world test plots from the report in sequence."
   ]
  },
  {
   "cell_type": "code",
   "execution_count": 72,
   "id": "4e5dc7b9",
   "metadata": {},
   "outputs": [
    {
     "data": {
      "image/png": "[encoded data removed]",
      "text/plain": [
       "<Figure size 1200x1200 with 3 Axes>"
      ]
     },
     "metadata": {},
     "output_type": "display_data"
    },
    {
     "data": {
      "image/png": "[encoded data removed]",
      "text/plain": [
       "<Figure size 1200x1200 with 3 Axes>"
      ]
     },
     "metadata": {},
     "output_type": "display_data"
    },
    {
     "data": {
      "image/png": "[encoded data removed]",
      "text/plain": [
       "<Figure size 1200x1200 with 3 Axes>"
      ]
     },
     "metadata": {},
     "output_type": "display_data"
    }
   ],
   "source": [
    "json_list = ['FlightData/Flight_1.json', 'FlightData/Flight_2.json', 'FlightData/Flight_4.json']\n",
    "\n",
    "for json_path in json_list:\n",
    "    data = load_hardware_data(\n",
    "        json_path, # <-- replace with name of file with hardware data\n",
    "        t_min_offset=3.5,      # <-- (optional) replace with how many seconds of data to ignore at start\n",
    "        t_max_offset=20.75,      # <-- (optional) replace with how many seconds of data to ignore at end\n",
    "    )\n",
    "\n",
    "    t = data['time']\n",
    "    alpha = data['ae483log.alpha']\n",
    "    ox = data['ae483log.o_x']\n",
    "    oz = data['ae483log.o_z']\n",
    "\n",
    "    fig, (angle, x_pos, z_pos) = plt.subplots(3, 1, figsize=(12, 12), sharex=True)\n",
    "    angle.plot(t, np.degrees(alpha))\n",
    "    angle.grid()\n",
    "    angle.set_ylabel('Alpha (deg)')\n",
    "    x_pos.plot(t, ox)\n",
    "    x_pos.grid()\n",
    "    x_pos.set_ylabel('X Position (m)')\n",
    "    z_pos.plot(t, oz)\n",
    "    z_pos.grid()\n",
    "    z_pos.set_xlabel(\"Time (s)\")\n",
    "    z_pos.set_ylabel(\"Z Position (m)\")"
   ]
  },
  {
   "attachments": {},
   "cell_type": "markdown",
   "metadata": {},
   "source": [
    "### 7.3 Define function to show Media Space videos"
   ]
  },
  {
   "cell_type": "code",
   "execution_count": 73,
   "metadata": {},
   "outputs": [],
   "source": [
    "def mediaspace(url, width=640, height=397):\n",
    "    video_id = url.rsplit('/', 1)[-1]\n",
    "    src = f'https://mediaspace.illinois.edu/embed/secure/iframe/entryId/{video_id}?st=0'\n",
    "    display(IFrame(src, width=width, height=height))"
   ]
  },
  {
   "attachments": {},
   "cell_type": "markdown",
   "metadata": {},
   "source": [
    "### 7.4 Show videos\n",
    "\n",
    "The videos below showcase some of the milestone tests that showcase important behaviors of the controller's the team tested. Videos 1 and 4 just use the direct feedback of $\\alpha$ into $\\tau_y$, whereas videos 2 and 3 use the LQR controller derived in this notebook. "
   ]
  },
  {
   "cell_type": "code",
   "execution_count": 74,
   "metadata": {},
   "outputs": [
    {
     "data": {
      "text/html": [
       "\n",
       "        <iframe\n",
       "            width=\"640\"\n",
       "            height=\"397\"\n",
       "            src=\"https://mediaspace.illinois.edu/embed/secure/iframe/entryId/1_gjr2ykpm?st=0\"\n",
       "            frameborder=\"0\"\n",
       "            allowfullscreen\n",
       "            \n",
       "        ></iframe>\n",
       "        "
      ],
      "text/plain": [
       "<IPython.lib.display.IFrame at 0x1d71062dab0>"
      ]
     },
     "metadata": {},
     "output_type": "display_data"
    },
    {
     "data": {
      "text/html": [
       "\n",
       "        <iframe\n",
       "            width=\"640\"\n",
       "            height=\"397\"\n",
       "            src=\"https://mediaspace.illinois.edu/embed/secure/iframe/entryId/1_86zin1mc?st=0\"\n",
       "            frameborder=\"0\"\n",
       "            allowfullscreen\n",
       "            \n",
       "        ></iframe>\n",
       "        "
      ],
      "text/plain": [
       "<IPython.lib.display.IFrame at 0x1d71062dab0>"
      ]
     },
     "metadata": {},
     "output_type": "display_data"
    },
    {
     "data": {
      "text/html": [
       "\n",
       "        <iframe\n",
       "            width=\"640\"\n",
       "            height=\"397\"\n",
       "            src=\"https://mediaspace.illinois.edu/embed/secure/iframe/entryId/1_qrr8klzf?st=0\"\n",
       "            frameborder=\"0\"\n",
       "            allowfullscreen\n",
       "            \n",
       "        ></iframe>\n",
       "        "
      ],
      "text/plain": [
       "<IPython.lib.display.IFrame at 0x1d71062dab0>"
      ]
     },
     "metadata": {},
     "output_type": "display_data"
    },
    {
     "data": {
      "text/html": [
       "\n",
       "        <iframe\n",
       "            width=\"640\"\n",
       "            height=\"397\"\n",
       "            src=\"https://mediaspace.illinois.edu/embed/secure/iframe/entryId/1_tvrlf9de?st=0\"\n",
       "            frameborder=\"0\"\n",
       "            allowfullscreen\n",
       "            \n",
       "        ></iframe>\n",
       "        "
      ],
      "text/plain": [
       "<IPython.lib.display.IFrame at 0x1d71062dab0>"
      ]
     },
     "metadata": {},
     "output_type": "display_data"
    }
   ],
   "source": [
    "video_list = ['https://mediaspace.illinois.edu/media/t/1_gjr2ykpm', 'https://mediaspace.illinois.edu/media/t/1_86zin1mc',\n",
    "              'https://mediaspace.illinois.edu/media/t/1_qrr8klzf', 'https://mediaspace.illinois.edu/media/t/1_tvrlf9de']\n",
    "for video in video_list:\n",
    "    mediaspace(video)\n"
   ]
  }
 ],
 "metadata": {
  "kernelspec": {
   "display_name": "Python 3.10.8 ('ae483')",
   "language": "python",
   "name": "python3"
  },
  "language_info": {
   "codemirror_mode": {
    "name": "ipython",
    "version": 3
   },
   "file_extension": ".py",
   "mimetype": "text/x-python",
   "name": "python",
   "nbconvert_exporter": "python",
   "pygments_lexer": "ipython3",
   "version": "3.10.8"
  },
  "orig_nbformat": 4,
  "vscode": {
   "interpreter": {
    "hash": "8c40dc438cbaf29904496e251f9298e4e78e6a453aad7c4f4912b52bbfbdf3f4"
   }
  }
 },
 "nbformat": 4,
 "nbformat_minor": 2
}
