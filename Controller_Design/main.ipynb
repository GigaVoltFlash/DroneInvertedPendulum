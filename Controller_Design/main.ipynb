{
 "cells": [
  {
   "cell_type": "markdown",
   "metadata": {},
   "source": [
    "# Inverted Pendulum on a Drone\n",
    "\n",
    "This notebook is used to design a controller for the inverted pendulum on a Crazyflie system. The notebook goes over the derivation of the dynamics of a simplified system and plugs in these equations into the full dynamics of the drone. Using a linearized state-space version of the full system (now with 14 states that represent the drone and the pendulum), the controller for the drone is designed to balance the pendulum in its upright position."
   ]
  },
  {
   "cell_type": "code",
   "execution_count": 1,
   "metadata": {},
   "outputs": [],
   "source": [
    "import json\n",
    "import matplotlib.pyplot as plt\n",
    "import numpy as np\n",
    "from numpy import linalg\n",
    "import scipy\n",
    "from scipy import linalg\n",
    "from scipy.interpolate import interp1d\n",
    "from scipy.signal import find_peaks\n",
    "import sympy as sym\n",
    "from sympy.physics.mechanics import *"
   ]
  },
  {
   "attachments": {},
   "cell_type": "markdown",
   "metadata": {},
   "source": [
    "# 1. Measure Moments of Inertia\n",
    "\n",
    "This section calculates the moments of inertia of the drone with the pendulum in the fully upright position."
   ]
  },
  {
   "cell_type": "code",
   "execution_count": 2,
   "metadata": {},
   "outputs": [],
   "source": [
    "def load_hardware_data(filename, t_min_offset=0, t_max_offset=0):\n",
    "    # load raw data\n",
    "    with open(filename, 'r') as f:\n",
    "        data = json.load(f)\n",
    "\n",
    "    # convert lists to numpy arrays\n",
    "    for val in data.values():\n",
    "        for key in val.keys():\n",
    "            val[key] = np.array(val[key])\n",
    "\n",
    "    # create an array of times at which to subsample\n",
    "    t_min = -np.inf\n",
    "    t_max = np.inf\n",
    "    for key, val in data.items():\n",
    "        t_min = max(t_min, val['time'][0])\n",
    "        t_max = min(t_max, val['time'][-1])\n",
    "    t_min += t_min_offset * 1000\n",
    "    t_max -= t_max_offset * 1000\n",
    "    nt = int(1 + np.floor((t_max - t_min) / 10.))\n",
    "    t = np.arange(0, 10 * nt, 10) / 1000.\n",
    "    resampled_data = {'time': t}\n",
    "\n",
    "    # resample raw data with linear interpolation\n",
    "    for k, v in data.items():\n",
    "        f = interp1d((v['time'] - t_min) / 1000., v['data'])\n",
    "        resampled_data[k] = f(t)\n",
    "        \n",
    "    # return the resampled data\n",
    "    return resampled_data"
   ]
  },
  {
   "attachments": {},
   "cell_type": "markdown",
   "metadata": {},
   "source": [
    "### 1.1 Define constant values"
   ]
  },
  {
   "cell_type": "code",
   "execution_count": 3,
   "metadata": {},
   "outputs": [],
   "source": [
    "g = 9.81 # gravity (m/s)\n",
    "m = 0.044 # mass (kg)\n",
    "r = 0.03 # x- and y-axis moment arm\n",
    "r_z = 0.015 # z-axis moment arm"
   ]
  },
  {
   "attachments": {},
   "cell_type": "markdown",
   "metadata": {},
   "source": [
    "### 1.2 Perform x-axis moment of inertia calculation"
   ]
  },
  {
   "cell_type": "code",
   "execution_count": 4,
   "metadata": {},
   "outputs": [
    {
     "name": "stdout",
     "output_type": "stream",
     "text": [
      "1.8260446760861986e-05\n"
     ]
    }
   ],
   "source": [
    "data = load_hardware_data(\n",
    "    'x_data.json',\n",
    "    t_min_offset=0.,\n",
    "    t_max_offset=0.\n",
    ")\n",
    "\n",
    "t = data['time']\n",
    "w_x = np.deg2rad(data['gyro.x'])\n",
    "w_y = np.deg2rad(data['gyro.y'])\n",
    "w_z = np.deg2rad(data['gyro.z'])\n",
    "\n",
    "# Find the index of each peak (increase \"prominence\" if you get bad results)\n",
    "peaks = find_peaks(w_x, prominence=0)\n",
    "i_peaks = peaks[0]\n",
    "\n",
    "# Find the time at each peak\n",
    "t_peaks = t[i_peaks]\n",
    "\n",
    "# Find w_x at each peak (for visualization)\n",
    "w_x_peaks = w_x[i_peaks]\n",
    "\n",
    "t_diff = t_peaks[1:] - t_peaks[:-1]\n",
    "t_diff = t_diff[10:]\n",
    "# Find the mean difference as an estimate of the oscillation period\n",
    "T = np.mean(t_diff)\n",
    "\n",
    "J_x = (m * g * r/((2 * np.pi / T) ** 2)) - m * r ** 2 # <-- FIXME\n",
    "print(J_x)"
   ]
  },
  {
   "attachments": {},
   "cell_type": "markdown",
   "metadata": {},
   "source": [
    "### 1.3 Perform y-axis moment of inertia calculation"
   ]
  },
  {
   "cell_type": "code",
   "execution_count": 5,
   "metadata": {},
   "outputs": [
    {
     "name": "stdout",
     "output_type": "stream",
     "text": [
      "7.457926030303888e-05\n"
     ]
    }
   ],
   "source": [
    "data = load_hardware_data(\n",
    "    'y_data.json',\n",
    "    t_min_offset=0.,\n",
    "    t_max_offset=0.\n",
    ")\n",
    "t = data['time']\n",
    "w_x = np.deg2rad(data['gyro.x'])\n",
    "w_y = np.deg2rad(data['gyro.y'])\n",
    "w_z = np.deg2rad(data['gyro.z'])\n",
    "peaks = find_peaks(w_y, prominence=0)\n",
    "i_peaks = peaks[0]\n",
    "t_peaks = t[i_peaks]\n",
    "t_diff = t_peaks[1:] - t_peaks[:-1]\n",
    "t_diff = t_diff[10:]\n",
    "T = np.mean(t_diff)\n",
    "J_y = (m * g * r/((2 * np.pi / T) ** 2)) - m * r ** 2 # <-- FIXME\n",
    "print(J_y)"
   ]
  },
  {
   "attachments": {},
   "cell_type": "markdown",
   "metadata": {},
   "source": [
    "### 1.4 Perform z-axis moment of inertia calculation"
   ]
  },
  {
   "cell_type": "code",
   "execution_count": 6,
   "metadata": {},
   "outputs": [
    {
     "name": "stdout",
     "output_type": "stream",
     "text": [
      "4.5815682178722596e-05\n"
     ]
    }
   ],
   "source": [
    "data = load_hardware_data(\n",
    "    'z_data.json',\n",
    "    t_min_offset=0.,\n",
    "    t_max_offset=0.\n",
    ")\n",
    "t = data['time']\n",
    "w_x = np.deg2rad(data['gyro.x'])\n",
    "w_y = np.deg2rad(data['gyro.y'])\n",
    "w_z = np.deg2rad(data['gyro.z'])\n",
    "peaks = find_peaks(w_z, prominence=0.025)\n",
    "i_peaks = peaks[0]\n",
    "t_peaks = t[i_peaks]\n",
    "t_diff = t_peaks[1:] - t_peaks[:-1]\n",
    "T = np.mean(t_diff)\n",
    "J_z = (m * g * r_z/((2 * np.pi / T) ** 2)) - m * r_z ** 2 # <-- FIXME\n",
    "print(J_z)"
   ]
  },
  {
   "attachments": {},
   "cell_type": "markdown",
   "metadata": {},
   "source": [
    "# 2. Planar Problem\n",
    "\n",
    "The dynamical model for the planar system is now derived."
   ]
  },
  {
   "attachments": {},
   "cell_type": "markdown",
   "metadata": {},
   "source": [
    "## 2.1 Variable Setup\n",
    "\n",
    "The new information added here are the states of the pendulum, $\\alpha$ and $\\dot{\\alpha}$ which represent the angular position and angular velocity of the pendulum."
   ]
  },
  {
   "cell_type": "markdown",
   "metadata": {},
   "source": [
    "Define states"
   ]
  },
  {
   "cell_type": "code",
   "execution_count": 7,
   "metadata": {},
   "outputs": [],
   "source": [
    "# components of position (meters)\n",
    "o_x, o_y, o_z = sym.symbols('o_x, o_y, o_z')\n",
    "\n",
    "# yaw, pitch, and roll angles (radians)\n",
    "psi, theta, phi = sym.symbols('psi, theta, phi')\n",
    "\n",
    "# components of linear velocity (meters / second)\n",
    "v_x, v_y, v_z = sym.symbols('v_x, v_y, v_z')\n",
    "\n",
    "# components of angular velocity (radians / second)\n",
    "w_x, w_y, w_z = sym.symbols('w_x, w_y, w_z')\n",
    "\n",
    "# states of the pendulum\n",
    "alpha, alpha_dot = sym.symbols('alpha, alpha_dot')"
   ]
  },
  {
   "cell_type": "markdown",
   "metadata": {},
   "source": [
    "Define inputs"
   ]
  },
  {
   "cell_type": "code",
   "execution_count": 8,
   "metadata": {},
   "outputs": [],
   "source": [
    "# components of net rotor torque\n",
    "tau_x, tau_y, tau_z = sym.symbols('tau_x, tau_y, tau_z')\n",
    "\n",
    "# net rotor force\n",
    "f_z = sym.symbols('f_z')"
   ]
  },
  {
   "cell_type": "markdown",
   "metadata": {},
   "source": [
    "Define parameters.\n",
    "$m_{pen}$ is the mass of the pendulum and $l_{pen}$ is the distance of the center of mass of the pendulum from its base."
   ]
  },
  {
   "cell_type": "code",
   "execution_count": 9,
   "metadata": {},
   "outputs": [],
   "source": [
    "m, J_x, J_y, J_z, g, m_pen, l_pen = sym.symbols('m, J_x, J_y, J_z, g, m_pen, l_pen')"
   ]
  },
  {
   "cell_type": "markdown",
   "id": "fad29d40",
   "metadata": {},
   "source": [
    "Create linear and angular velocity vectors (in coordinates of the body frame)."
   ]
  },
  {
   "cell_type": "code",
   "execution_count": 10,
   "id": "b6a0ff50",
   "metadata": {
    "jupyter": {
     "outputs_hidden": true,
     "source_hidden": true
    }
   },
   "outputs": [],
   "source": [
    "v_01in1 = sym.Matrix([v_x, v_y, v_z])\n",
    "w_01in1 = sym.Matrix([w_x, w_y, w_z])"
   ]
  },
  {
   "cell_type": "markdown",
   "id": "4b9eeab1",
   "metadata": {},
   "source": [
    "Create moment of inertia matrix (in coordinates of the body frame)."
   ]
  },
  {
   "cell_type": "code",
   "execution_count": 11,
   "id": "f199de0b",
   "metadata": {
    "jupyter": {
     "outputs_hidden": true,
     "source_hidden": true
    }
   },
   "outputs": [],
   "source": [
    "J_in1 = sym.diag(J_x, J_y, J_z)"
   ]
  },
  {
   "attachments": {},
   "cell_type": "markdown",
   "metadata": {},
   "source": [
    "### 2.2 Deriving the Kinematics of the Pendulum\n",
    "\n",
    "Generalized Co-ordinates: $x$, $z$ (in the world frame), $\\theta$ (pitch) and $\\alpha$ (angle of the drone from the world $z_0$)\n",
    "\n",
    "This derivation deals with the planar problem that ignores the 3D effects of the roll, yaw and y-direction movement of the pendulum. The equations of motion from this are then added to the existing equations of motion.\n",
    "\n",
    "![pendulum_kin](Inverted_Pendulum_Kinematics.jpg)"
   ]
  },
  {
   "cell_type": "markdown",
   "metadata": {},
   "source": [
    "Dynamic copies of the symbolic variables are set up below (symbolic variables that are functions of time). The Lagrangian of this system are then calculated, and then Lagrangian equations are used to derive the equations of motion of the joint system."
   ]
  },
  {
   "cell_type": "code",
   "execution_count": 12,
   "metadata": {},
   "outputs": [
    {
     "data": {
      "text/latex": [
       "$\\displaystyle \\left[\\begin{matrix}- f_{z} \\sin{\\left(\\theta{\\left(t \\right)} \\right)} + 1.0 m \\frac{d^{2}}{d t^{2}} o_{x}{\\left(t \\right)} + m_{pen} \\left(- l_{pen} \\sin{\\left(\\alpha{\\left(t \\right)} \\right)} \\left(\\frac{d}{d t} \\alpha{\\left(t \\right)}\\right)^{2} + l_{pen} \\cos{\\left(\\alpha{\\left(t \\right)} \\right)} \\frac{d^{2}}{d t^{2}} \\alpha{\\left(t \\right)} + \\frac{d^{2}}{d t^{2}} o_{x}{\\left(t \\right)}\\right)\\\\- f_{z} \\cos{\\left(\\theta{\\left(t \\right)} \\right)} + g m + g m_{pen} + 1.0 m \\frac{d^{2}}{d t^{2}} o_{z}{\\left(t \\right)} - 1.0 m_{pen} \\left(l_{pen} \\sin{\\left(\\alpha{\\left(t \\right)} \\right)} \\frac{d^{2}}{d t^{2}} \\alpha{\\left(t \\right)} + l_{pen} \\cos{\\left(\\alpha{\\left(t \\right)} \\right)} \\left(\\frac{d}{d t} \\alpha{\\left(t \\right)}\\right)^{2} - \\frac{d^{2}}{d t^{2}} o_{z}{\\left(t \\right)}\\right)\\\\l_{pen} m_{pen} \\left(- g \\sin{\\left(\\alpha{\\left(t \\right)} \\right)} + l_{pen} \\frac{d^{2}}{d t^{2}} \\alpha{\\left(t \\right)} - \\sin{\\left(\\alpha{\\left(t \\right)} \\right)} \\frac{d^{2}}{d t^{2}} o_{z}{\\left(t \\right)} + \\cos{\\left(\\alpha{\\left(t \\right)} \\right)} \\frac{d^{2}}{d t^{2}} o_{x}{\\left(t \\right)}\\right)\\\\1.0 J_{y} \\frac{d^{2}}{d t^{2}} \\theta{\\left(t \\right)} - \\tau_{y}\\end{matrix}\\right]$"
      ],
      "text/plain": [
       "Matrix([\n",
       "[                   -f_z*sin(\\theta(t)) + 1.0*m*Derivative(o_x(t), (t, 2)) + m_pen*(-l_pen*sin(\\alpha(t))*Derivative(\\alpha(t), t)**2 + l_pen*cos(\\alpha(t))*Derivative(\\alpha(t), (t, 2)) + Derivative(o_x(t), (t, 2)))],\n",
       "[-f_z*cos(\\theta(t)) + g*m + g*m_pen + 1.0*m*Derivative(o_z(t), (t, 2)) - 1.0*m_pen*(l_pen*sin(\\alpha(t))*Derivative(\\alpha(t), (t, 2)) + l_pen*cos(\\alpha(t))*Derivative(\\alpha(t), t)**2 - Derivative(o_z(t), (t, 2)))],\n",
       "[                                                          l_pen*m_pen*(-g*sin(\\alpha(t)) + l_pen*Derivative(\\alpha(t), (t, 2)) - sin(\\alpha(t))*Derivative(o_z(t), (t, 2)) + cos(\\alpha(t))*Derivative(o_x(t), (t, 2)))],\n",
       "[                                                                                                                                                                         1.0*J_y*Derivative(\\theta(t), (t, 2)) - \\tau_y]])"
      ]
     },
     "execution_count": 12,
     "metadata": {},
     "output_type": "execute_result"
    }
   ],
   "source": [
    "dyn_o_x, dyn_o_z, dyn_alpha, dyn_theta = dynamicsymbols(r'o_x o_z \\alpha \\theta')\n",
    "dyn_o_xd, dyn_o_zd, dyn_alphad, dyn_thetad = dynamicsymbols(r'o_x o_z \\alpha \\theta', 1)\n",
    "dyn_o_xdd, dyn_o_zdd, dyn_alphadd, dyn_thetadd = dynamicsymbols(r'o_x o_z \\alpha \\theta', 2)\n",
    "L = 1/2*m*(dyn_o_xd**2 + dyn_o_zd**2) + 1/2*J_y*(dyn_thetad**2) + 1/2*m_pen*(dyn_o_xd**2 + dyn_o_zd**2 + l_pen**2 * dyn_alphad**2 + 2*l_pen*dyn_alphad*(dyn_o_xd*sym.cos(dyn_alpha) - dyn_o_zd*sym.sin(dyn_alpha))) - m*g*dyn_o_z - m_pen*g*(dyn_o_z + l_pen*sym.cos(dyn_alpha))\n",
    "dyn_f_z, dyn_tau_y = sym.symbols(r'f_z, \\tau_y')\n",
    "t = sym.Symbol('t')\n",
    "\n",
    "Equations = sym.Matrix([[sym.simplify(sym.diff(sym.diff(L, dyn_o_xd), t) - sym.diff(L, dyn_o_x) - dyn_f_z*sym.sin(dyn_theta))],\n",
    "             [sym.simplify(sym.diff(sym.diff(L, dyn_o_zd), t) - sym.diff(L, dyn_o_z) - dyn_f_z*sym.cos(dyn_theta))],\n",
    "             [sym.simplify(sym.diff(sym.diff(L, dyn_alphad), t) - sym.diff(L, dyn_alpha))],\n",
    "             [sym.simplify(sym.diff(sym.diff(L, dyn_thetad), t) - sym.diff(L, dyn_theta) - dyn_tau_y)]])\n",
    "\n",
    "Equations"
   ]
  },
  {
   "cell_type": "markdown",
   "metadata": {},
   "source": [
    "The equations of motion above are solved to find the expressions for $\\ddot{o}_x$, $\\ddot{o}_z$, $\\ddot{\\alpha}$, and $\\ddot{\\theta}$. The dynamic symbols are then substituted for the state and input variables set before."
   ]
  },
  {
   "cell_type": "code",
   "execution_count": 13,
   "metadata": {},
   "outputs": [],
   "source": [
    "# Solving for the second derivatives\n",
    "ox_ddot_with_alphaddot = sym.solve(Equations[0,0], dyn_o_xdd)[0]\n",
    "oz_ddot_with_alphaddot = sym.solve(Equations[1,0], dyn_o_zdd)[0]\n",
    "alpha_ddot_eqn = Equations[2].subs([(dyn_o_xdd, ox_ddot_with_alphaddot), (dyn_o_zdd, oz_ddot_with_alphaddot)])\n",
    "alpha_ddot_soln = sym.simplify(sym.solve(alpha_ddot_eqn, dyn_alphadd)[0])\n",
    "theta_ddot_soln = sym.solve(Equations[3,0], dyn_thetadd)[0]\n",
    "new_ox_ddot = sym.simplify(ox_ddot_with_alphaddot.subs(dyn_alphadd, alpha_ddot_soln))\n",
    "new_oz_ddot = sym.simplify(oz_ddot_with_alphaddot.subs(dyn_alphadd, alpha_ddot_soln))\n",
    "\n",
    "# Substituting the standard symbolic variables\n",
    "theta_ddot_soln = theta_ddot_soln.subs(dyn_tau_y, tau_y)\n",
    "new_ox_ddot = new_ox_ddot.subs([(dyn_f_z, f_z), (dyn_theta, theta), (dyn_alphad, alpha_dot)])\n",
    "new_ox_ddot = new_ox_ddot.subs(dyn_alpha, alpha)\n",
    "new_oz_ddot = new_oz_ddot.subs([(dyn_f_z, f_z), (dyn_theta, theta), (dyn_alphad, alpha_dot)])\n",
    "new_oz_ddot = new_oz_ddot.subs(dyn_alpha, alpha)\n",
    "alpha_ddot_soln = alpha_ddot_soln.subs([(dyn_alpha, alpha), (dyn_theta, theta), (dyn_f_z, f_z)])"
   ]
  },
  {
   "cell_type": "markdown",
   "metadata": {},
   "source": [
    "The planar problem is set up to be linearized with the 4 variables mentioned above and their time derivatives."
   ]
  },
  {
   "cell_type": "code",
   "execution_count": 14,
   "metadata": {},
   "outputs": [
    {
     "data": {
      "text/latex": [
       "$\\displaystyle \\left[\\begin{matrix}o_{x dot}\\\\\\frac{- f_{z} m_{pen} \\sin{\\left(\\alpha - \\theta \\right)} \\cos{\\left(\\alpha \\right)} + m \\left(\\alpha_{dot}^{2} l_{pen} m_{pen} \\sin{\\left(\\alpha \\right)} + f_{z} \\sin{\\left(\\theta \\right)}\\right)}{m \\left(m + m_{pen}\\right)}\\\\o_{z dot}\\\\\\frac{f_{z} m_{pen} \\sin{\\left(\\alpha \\right)} \\sin{\\left(\\alpha - \\theta \\right)} + m \\left(\\alpha_{dot}^{2} l_{pen} m_{pen} \\cos{\\left(\\alpha \\right)} + f_{z} \\cos{\\left(\\theta \\right)} - g m - g m_{pen}\\right)}{m \\left(m + m_{pen}\\right)}\\\\\\theta_{dot}\\\\\\frac{\\tau_{y}}{J_{y}}\\\\\\alpha_{dot}\\\\\\frac{f_{z} \\sin{\\left(\\alpha - \\theta \\right)}}{l_{pen} m}\\end{matrix}\\right]$"
      ],
      "text/plain": [
       "Matrix([\n",
       "[                                                                                                                             o_x_dot],\n",
       "[               (-f_z*m_pen*sin(alpha - theta)*cos(alpha) + m*(alpha_dot**2*l_pen*m_pen*sin(alpha) + f_z*sin(theta)))/(m*(m + m_pen))],\n",
       "[                                                                                                                             o_z_dot],\n",
       "[(f_z*m_pen*sin(alpha)*sin(alpha - theta) + m*(alpha_dot**2*l_pen*m_pen*cos(alpha) + f_z*cos(theta) - g*m - g*m_pen))/(m*(m + m_pen))],\n",
       "[                                                                                                                           theta_dot],\n",
       "[                                                                                                                           tau_y/J_y],\n",
       "[                                                                                                                           alpha_dot],\n",
       "[                                                                                                    f_z*sin(alpha - theta)/(l_pen*m)]])"
      ]
     },
     "execution_count": 14,
     "metadata": {},
     "output_type": "execute_result"
    }
   ],
   "source": [
    "o_x_dot, o_z_dot, theta_dot = sym.symbols(r'o_x_dot, o_z_dot, theta_dot')\n",
    "\n",
    "f_sym_planar = sym.Matrix.vstack(sym.Matrix([o_x_dot]),\n",
    "                          sym.Matrix([new_ox_ddot]),\n",
    "                          sym.Matrix([o_z_dot]),\n",
    "                          sym.Matrix([new_oz_ddot]),\n",
    "                          sym.Matrix([theta_dot]),\n",
    "                          sym.Matrix([theta_ddot_soln]),\n",
    "                          sym.Matrix([alpha_dot]),\n",
    "                          sym.Matrix([alpha_ddot_soln])\n",
    "                          )\n",
    "f_sym_planar"
   ]
  },
  {
   "cell_type": "code",
   "execution_count": 15,
   "metadata": {},
   "outputs": [],
   "source": [
    "s_planar = [o_x, o_x_dot, o_z, o_z_dot, theta, theta_dot, alpha, alpha_dot]\n",
    "i_planar = [tau_y, f_z]\n",
    "p_planar = [m, J_y, g, m_pen, l_pen]\n",
    "s_with_des_planar = [o_x, o_z]"
   ]
  },
  {
   "cell_type": "code",
   "execution_count": 16,
   "metadata": {},
   "outputs": [
    {
     "data": {
      "text/plain": [
       "<function _lambdifygenerated(o_x, o_x_dot, o_z, o_z_dot, theta, theta_dot, alpha, alpha_dot, tau_y, f_z, m, J_y, g, m_pen, l_pen)>"
      ]
     },
     "execution_count": 16,
     "metadata": {},
     "output_type": "execute_result"
    }
   ],
   "source": [
    "f_planar = sym.lambdify(s_planar + i_planar + p_planar, f_sym_planar)\n",
    "f_planar"
   ]
  },
  {
   "cell_type": "markdown",
   "metadata": {},
   "source": [
    "The values for the constants are given but only for the planar case so the full system derivation that follows can still use the symbolic variables."
   ]
  },
  {
   "cell_type": "code",
   "execution_count": 17,
   "metadata": {},
   "outputs": [],
   "source": [
    "# Mass\n",
    "m_planar = 0.044\n",
    "\n",
    "# Principle moments of inertia\n",
    "J_y_planar = 1.60e-05\n",
    "\n",
    "# Acceleration of gravity\n",
    "g_planar = 9.81\n",
    "\n",
    "# Pendulum parameters\n",
    "l_pen_planar = 150e-3 # maybe m\n",
    "m_pen_planar = 0.006"
   ]
  },
  {
   "cell_type": "markdown",
   "metadata": {},
   "source": [
    "Checking if the equillibrium point is valid"
   ]
  },
  {
   "cell_type": "code",
   "execution_count": 18,
   "metadata": {},
   "outputs": [],
   "source": [
    "p_planar_eq = [m_planar, J_y_planar, g_planar, m_pen_planar, l_pen_planar]\n",
    "s_planar_eq = [0., 0., 0., 0., 0., 0., 0., 0.]\n",
    "i_planar_eq = [0., g_planar*(m_planar + m_pen_planar)]"
   ]
  },
  {
   "cell_type": "code",
   "execution_count": 19,
   "metadata": {},
   "outputs": [
    {
     "name": "stdout",
     "output_type": "stream",
     "text": [
      "[[ 0.0000000e+00]\n",
      " [ 0.0000000e+00]\n",
      " [ 0.0000000e+00]\n",
      " [-6.9388939e-16]\n",
      " [ 0.0000000e+00]\n",
      " [ 0.0000000e+00]\n",
      " [ 0.0000000e+00]\n",
      " [ 0.0000000e+00]]\n"
     ]
    }
   ],
   "source": [
    "print(f_planar(*s_planar_eq, *i_planar_eq, *p_planar_eq))"
   ]
  },
  {
   "cell_type": "markdown",
   "metadata": {},
   "source": [
    "The system is then linearized into the state space model at this equilibrium point."
   ]
  },
  {
   "cell_type": "code",
   "execution_count": 20,
   "metadata": {},
   "outputs": [],
   "source": [
    "A_planar_sym = f_sym_planar.jacobian(s_planar)\n",
    "B_planar_sym = f_sym_planar.jacobian(i_planar)\n",
    "\n",
    "A_planar_num = sym.lambdify(s_planar + i_planar + p_planar, A_planar_sym)\n",
    "B_planar_num = sym.lambdify(s_planar + i_planar + p_planar, B_planar_sym)\n",
    "\n",
    "A_planar = A_planar_num(*s_planar_eq, *i_planar_eq, *p_planar_eq)\n",
    "B_planar = B_planar_num(*s_planar_eq, *i_planar_eq, *p_planar_eq)"
   ]
  },
  {
   "cell_type": "code",
   "execution_count": 21,
   "metadata": {},
   "outputs": [
    {
     "name": "stdout",
     "output_type": "stream",
     "text": [
      "A = [[ 0.00  1.00  0.00  0.00  0.00  0.00  0.00  0.00]\n",
      "     [ 0.00  0.00  0.00  0.00 11.15  0.00 -1.34  0.00]\n",
      "     [ 0.00  0.00  0.00  1.00  0.00  0.00  0.00  0.00]\n",
      "     [ 0.00  0.00  0.00  0.00 -0.00  0.00  0.00  0.00]\n",
      "     [ 0.00  0.00  0.00  0.00  0.00  1.00  0.00  0.00]\n",
      "     [ 0.00  0.00  0.00  0.00  0.00  0.00  0.00  0.00]\n",
      "     [ 0.00  0.00  0.00  0.00  0.00  0.00  0.00  1.00]\n",
      "     [ 0.00  0.00  0.00  0.00 -74.32  0.00 74.32  0.00]]\n"
     ]
    }
   ],
   "source": [
    "A_planar_str = np.array2string(A_planar,\n",
    "                        formatter={'float_kind': lambda x: f'{x:5.2f}'},\n",
    "                        prefix='    ',\n",
    "                        max_line_width=np.inf)\n",
    "\n",
    "print(f'A = {A_planar_str}')"
   ]
  },
  {
   "cell_type": "code",
   "execution_count": 22,
   "metadata": {},
   "outputs": [
    {
     "name": "stdout",
     "output_type": "stream",
     "text": [
      "B = [[      0.00       0.00]\n",
      "     [      0.00       0.00]\n",
      "     [      0.00       0.00]\n",
      "     [      0.00      20.00]\n",
      "     [      0.00       0.00]\n",
      "     [  62500.00       0.00]\n",
      "     [      0.00       0.00]\n",
      "     [      0.00       0.00]]\n"
     ]
    }
   ],
   "source": [
    "B_planar_str = np.array2string(B_planar,\n",
    "                        formatter={'float_kind': lambda x: f'{x:10.2f}'},\n",
    "                        prefix='    ',\n",
    "                        max_line_width=np.inf)\n",
    "print(f'B = {B_planar_str}')"
   ]
  },
  {
   "cell_type": "markdown",
   "metadata": {},
   "source": [
    "We can check if this planar problem is controllable or not by looking at the controllability matrix for the above state-space model."
   ]
  },
  {
   "cell_type": "code",
   "execution_count": 23,
   "metadata": {},
   "outputs": [
    {
     "data": {
      "text/plain": [
       "8"
      ]
     },
     "execution_count": 23,
     "metadata": {},
     "output_type": "execute_result"
    }
   ],
   "source": [
    "W_planar = np.block([[B_planar, A_planar @ B_planar, A_planar @ A_planar @ B_planar, np.linalg.matrix_power(A_planar, 3) @ B_planar, np.linalg.matrix_power(A_planar, 4) @ B_planar, np.linalg.matrix_power(A_planar, 5) @ B_planar, np.linalg.matrix_power(A_planar, 6) @ B_planar, np.linalg.matrix_power(A_planar, 7) @ B_planar]])\n",
    "\n",
    "np.linalg.matrix_rank(W_planar) # If 8, the system is controllable"
   ]
  },
  {
   "cell_type": "markdown",
   "metadata": {},
   "source": [
    "This shows that the planar problem and the system above is controllable. In the next section, these equations will be used in the full system state-space model to derive a controller."
   ]
  },
  {
   "attachments": {},
   "cell_type": "markdown",
   "id": "0b9e2120",
   "metadata": {},
   "source": [
    "# 3. Derive full-system state-space model"
   ]
  },
  {
   "attachments": {},
   "cell_type": "markdown",
   "id": "00763ccd",
   "metadata": {},
   "source": [
    "## 3.1 Define kinematics of orientation"
   ]
  },
  {
   "attachments": {},
   "cell_type": "markdown",
   "id": "63be69c1",
   "metadata": {},
   "source": [
    "### 3.1.1 Rotation matrix in terms of yaw, pitch, roll angles"
   ]
  },
  {
   "cell_type": "markdown",
   "id": "07a09405",
   "metadata": {},
   "source": [
    "Define individual rotation matrices."
   ]
  },
  {
   "cell_type": "code",
   "execution_count": 24,
   "id": "4e37b553",
   "metadata": {
    "jupyter": {
     "outputs_hidden": true,
     "source_hidden": true
    }
   },
   "outputs": [],
   "source": [
    "Rz = sym.Matrix([[sym.cos(psi), -sym.sin(psi), 0],\n",
    "                 [sym.sin(psi), sym.cos(psi), 0],\n",
    "                 [0, 0, 1]])\n",
    "\n",
    "Ry = sym.Matrix([[sym.cos(theta), 0, sym.sin(theta)],\n",
    "                 [0, 1, 0],\n",
    "                 [-sym.sin(theta), 0, sym.cos(theta)]])\n",
    "\n",
    "Rx = sym.Matrix([[1, 0, 0],\n",
    "                 [0, sym.cos(phi), -sym.sin(phi)],\n",
    "                 [0, sym.sin(phi), sym.cos(phi)]])"
   ]
  },
  {
   "cell_type": "markdown",
   "id": "59f23502",
   "metadata": {},
   "source": [
    "Apply sequential transformation to compute the rotation matrix that describes the orientation of the drone (i.e., of frame 1 in the coordinates of frame 0)."
   ]
  },
  {
   "cell_type": "code",
   "execution_count": 25,
   "id": "1a7fb65f",
   "metadata": {
    "jupyter": {
     "outputs_hidden": true,
     "source_hidden": true
    }
   },
   "outputs": [],
   "source": [
    "R_1in0 = Rz * Ry * Rx"
   ]
  },
  {
   "cell_type": "code",
   "execution_count": 26,
   "id": "dbd1ce15",
   "metadata": {
    "jupyter": {
     "outputs_hidden": true,
     "source_hidden": true
    }
   },
   "outputs": [
    {
     "data": {
      "text/latex": [
       "$\\displaystyle \\left[\\begin{matrix}\\cos{\\left(\\psi \\right)} \\cos{\\left(\\theta \\right)} & \\sin{\\left(\\phi \\right)} \\sin{\\left(\\theta \\right)} \\cos{\\left(\\psi \\right)} - \\sin{\\left(\\psi \\right)} \\cos{\\left(\\phi \\right)} & \\sin{\\left(\\phi \\right)} \\sin{\\left(\\psi \\right)} + \\sin{\\left(\\theta \\right)} \\cos{\\left(\\phi \\right)} \\cos{\\left(\\psi \\right)}\\\\\\sin{\\left(\\psi \\right)} \\cos{\\left(\\theta \\right)} & \\sin{\\left(\\phi \\right)} \\sin{\\left(\\psi \\right)} \\sin{\\left(\\theta \\right)} + \\cos{\\left(\\phi \\right)} \\cos{\\left(\\psi \\right)} & - \\sin{\\left(\\phi \\right)} \\cos{\\left(\\psi \\right)} + \\sin{\\left(\\psi \\right)} \\sin{\\left(\\theta \\right)} \\cos{\\left(\\phi \\right)}\\\\- \\sin{\\left(\\theta \\right)} & \\sin{\\left(\\phi \\right)} \\cos{\\left(\\theta \\right)} & \\cos{\\left(\\phi \\right)} \\cos{\\left(\\theta \\right)}\\end{matrix}\\right]$"
      ],
      "text/plain": [
       "Matrix([\n",
       "[cos(psi)*cos(theta), sin(phi)*sin(theta)*cos(psi) - sin(psi)*cos(phi),  sin(phi)*sin(psi) + sin(theta)*cos(phi)*cos(psi)],\n",
       "[sin(psi)*cos(theta), sin(phi)*sin(psi)*sin(theta) + cos(phi)*cos(psi), -sin(phi)*cos(psi) + sin(psi)*sin(theta)*cos(phi)],\n",
       "[        -sin(theta),                              sin(phi)*cos(theta),                               cos(phi)*cos(theta)]])"
      ]
     },
     "execution_count": 26,
     "metadata": {},
     "output_type": "execute_result"
    }
   ],
   "source": [
    "R_1in0"
   ]
  },
  {
   "attachments": {},
   "cell_type": "markdown",
   "id": "8bd1e691",
   "metadata": {},
   "source": [
    "### 3.1.2 Map from angular velocity to angular rates"
   ]
  },
  {
   "cell_type": "markdown",
   "id": "a338dc12",
   "metadata": {},
   "source": [
    "Recall that\n",
    "\n",
    "$$\\begin{bmatrix} \\dot{\\psi} \\\\ \\dot{\\theta} \\\\ \\dot{\\phi} \\end{bmatrix} = N w_{0, 1}^{1}$$\n",
    "\n",
    "for some matrix $N$. Here is how to compute that matrix for a ZYX (yaw, pitch, roll) Euler angle sequence.  First, we compute its inverse:"
   ]
  },
  {
   "cell_type": "code",
   "execution_count": 27,
   "id": "693d1972",
   "metadata": {
    "jupyter": {
     "outputs_hidden": true,
     "source_hidden": true
    }
   },
   "outputs": [],
   "source": [
    "Ninv = sym.Matrix.hstack((Ry * Rx).T * sym.Matrix([0, 0, 1]),\n",
    "                              (Rx).T * sym.Matrix([0, 1, 0]),\n",
    "                                       sym.Matrix([1, 0, 0]))"
   ]
  },
  {
   "cell_type": "markdown",
   "id": "771b48b7",
   "metadata": {},
   "source": [
    "Then, we compute $N$ by taking the inverse of $N^{-1}$:"
   ]
  },
  {
   "cell_type": "code",
   "execution_count": 28,
   "id": "52625946",
   "metadata": {
    "jupyter": {
     "outputs_hidden": true,
     "source_hidden": true
    }
   },
   "outputs": [],
   "source": [
    "N = sym.simplify(Ninv.inv())"
   ]
  },
  {
   "attachments": {},
   "cell_type": "markdown",
   "metadata": {},
   "source": [
    "## 3.2 Define equations of motion"
   ]
  },
  {
   "cell_type": "markdown",
   "metadata": {},
   "source": [
    "We once again consider the equations of motion of the full-system, and not just the planar problem."
   ]
  },
  {
   "cell_type": "markdown",
   "id": "68afb173",
   "metadata": {},
   "source": [
    "Forces."
   ]
  },
  {
   "cell_type": "code",
   "execution_count": 29,
   "id": "07718e4a",
   "metadata": {
    "jupyter": {
     "outputs_hidden": true,
     "source_hidden": true
    }
   },
   "outputs": [],
   "source": [
    "f_in1 = R_1in0.T * sym.Matrix([0, 0, -m * g]) + sym.Matrix([0, 0, f_z])"
   ]
  },
  {
   "cell_type": "markdown",
   "id": "c897dd8c",
   "metadata": {},
   "source": [
    "Torques."
   ]
  },
  {
   "cell_type": "code",
   "execution_count": 30,
   "id": "08aae2b2",
   "metadata": {
    "jupyter": {
     "outputs_hidden": true,
     "source_hidden": true
    }
   },
   "outputs": [],
   "source": [
    "tau_in1 = sym.Matrix([tau_x, tau_y, tau_z])"
   ]
  },
  {
   "cell_type": "code",
   "execution_count": 31,
   "id": "66ebefd3",
   "metadata": {
    "jupyter": {
     "outputs_hidden": true,
     "source_hidden": true
    }
   },
   "outputs": [
    {
     "data": {
      "text/latex": [
       "$\\displaystyle \\left[\\begin{matrix}g m \\sin{\\left(\\theta \\right)}\\\\- g m \\sin{\\left(\\phi \\right)} \\cos{\\left(\\theta \\right)}\\\\f_{z} - g m \\cos{\\left(\\phi \\right)} \\cos{\\left(\\theta \\right)}\\end{matrix}\\right]$"
      ],
      "text/plain": [
       "Matrix([\n",
       "[               g*m*sin(theta)],\n",
       "[     -g*m*sin(phi)*cos(theta)],\n",
       "[f_z - g*m*cos(phi)*cos(theta)]])"
      ]
     },
     "execution_count": 31,
     "metadata": {},
     "output_type": "execute_result"
    }
   ],
   "source": [
    "f_in1"
   ]
  },
  {
   "cell_type": "code",
   "execution_count": 32,
   "id": "e2a2ea82",
   "metadata": {
    "jupyter": {
     "outputs_hidden": true,
     "source_hidden": true
    }
   },
   "outputs": [
    {
     "data": {
      "text/latex": [
       "$\\displaystyle \\left[\\begin{matrix}\\tau_{x}\\\\\\tau_{y}\\\\\\tau_{z}\\end{matrix}\\right]$"
      ],
      "text/plain": [
       "Matrix([\n",
       "[tau_x],\n",
       "[tau_y],\n",
       "[tau_z]])"
      ]
     },
     "execution_count": 32,
     "metadata": {},
     "output_type": "execute_result"
    }
   ],
   "source": [
    "tau_in1"
   ]
  },
  {
   "cell_type": "markdown",
   "metadata": {},
   "source": [
    "The block below calculates the new system of forces in the body frame that are taken from the expressions for $\\ddot{o}_x$ and $\\ddot{o}_z$. There is potential for error here, and could be resulting in the lack of full controllability of the complete system. So, this wasn't used in the final equations of motion."
   ]
  },
  {
   "cell_type": "code",
   "execution_count": 33,
   "metadata": {},
   "outputs": [],
   "source": [
    "# new_f_in1 = R_1in0.T * sym.Matrix([(m)*new_ox_ddot, 0, (m)*new_oz_ddot])\n",
    "# sym.simplify(new_f_in1)"
   ]
  },
  {
   "cell_type": "markdown",
   "id": "baa3f625",
   "metadata": {},
   "source": [
    "Create equations of motion. Here, we include the dynamics of the pendulum in the new terms for $\\alpha$ and $\\dot{\\alpha}$"
   ]
  },
  {
   "cell_type": "code",
   "execution_count": 34,
   "id": "6077f8a0",
   "metadata": {
    "jupyter": {
     "outputs_hidden": true,
     "source_hidden": true
    }
   },
   "outputs": [],
   "source": [
    "f_sym = sym.Matrix.vstack(R_1in0 * v_01in1,\n",
    "                          N * w_01in1,\n",
    "                          (1 / m) * (f_in1 - w_01in1.cross(m * v_01in1)),\n",
    "                          J_in1.inv() * (tau_in1 - w_01in1.cross(J_in1 * w_01in1)),\n",
    "                          sym.Matrix([alpha_dot]),\n",
    "                          sym.Matrix([alpha_ddot_soln])\n",
    "                          )"
   ]
  },
  {
   "cell_type": "markdown",
   "id": "ab3d7500",
   "metadata": {},
   "source": [
    "Show equations of motion, which have the form\n",
    "\n",
    "$$\\dot{s} = f(s, i, p)$$\n",
    "\n",
    "for states\n",
    "\n",
    "$$\n",
    "s = \\begin{bmatrix} o_x \\\\ o_y \\\\ o_z \\\\ \\psi \\\\ \\theta \\\\ \\phi \\\\ v_x \\\\ v_y \\\\ v_z \\\\ w_x \\\\ w_y \\\\ w_z \\\\ \\alpha \\\\ \\dot{\\alpha} \\end{bmatrix},\n",
    "$$\n",
    "\n",
    "inputs\n",
    "$$\n",
    "i = \\begin{bmatrix} \\tau_x \\\\ \\tau_y \\\\ \\tau_z \\\\ f_z \\end{bmatrix},\n",
    "$$\n",
    "\n",
    "and parameters\n",
    "$$\n",
    "p = \\begin{bmatrix} m \\\\ J_x \\\\ J_y \\\\ J_z \\\\ g \\\\ m_{pen} \\\\ l_{pen} \\end{bmatrix}.\n",
    "$$"
   ]
  },
  {
   "cell_type": "code",
   "execution_count": 35,
   "id": "4b372e68",
   "metadata": {
    "jupyter": {
     "outputs_hidden": true,
     "source_hidden": true
    }
   },
   "outputs": [
    {
     "data": {
      "text/latex": [
       "$\\displaystyle \\left[\\begin{matrix}v_{x} \\cos{\\left(\\psi \\right)} \\cos{\\left(\\theta \\right)} + v_{y} \\left(\\sin{\\left(\\phi \\right)} \\sin{\\left(\\theta \\right)} \\cos{\\left(\\psi \\right)} - \\sin{\\left(\\psi \\right)} \\cos{\\left(\\phi \\right)}\\right) + v_{z} \\left(\\sin{\\left(\\phi \\right)} \\sin{\\left(\\psi \\right)} + \\sin{\\left(\\theta \\right)} \\cos{\\left(\\phi \\right)} \\cos{\\left(\\psi \\right)}\\right)\\\\v_{x} \\sin{\\left(\\psi \\right)} \\cos{\\left(\\theta \\right)} + v_{y} \\left(\\sin{\\left(\\phi \\right)} \\sin{\\left(\\psi \\right)} \\sin{\\left(\\theta \\right)} + \\cos{\\left(\\phi \\right)} \\cos{\\left(\\psi \\right)}\\right) + v_{z} \\left(- \\sin{\\left(\\phi \\right)} \\cos{\\left(\\psi \\right)} + \\sin{\\left(\\psi \\right)} \\sin{\\left(\\theta \\right)} \\cos{\\left(\\phi \\right)}\\right)\\\\- v_{x} \\sin{\\left(\\theta \\right)} + v_{y} \\sin{\\left(\\phi \\right)} \\cos{\\left(\\theta \\right)} + v_{z} \\cos{\\left(\\phi \\right)} \\cos{\\left(\\theta \\right)}\\\\\\frac{w_{y} \\sin{\\left(\\phi \\right)}}{\\cos{\\left(\\theta \\right)}} + \\frac{w_{z} \\cos{\\left(\\phi \\right)}}{\\cos{\\left(\\theta \\right)}}\\\\w_{y} \\cos{\\left(\\phi \\right)} - w_{z} \\sin{\\left(\\phi \\right)}\\\\w_{x} + w_{y} \\sin{\\left(\\phi \\right)} \\tan{\\left(\\theta \\right)} + w_{z} \\cos{\\left(\\phi \\right)} \\tan{\\left(\\theta \\right)}\\\\\\frac{g m \\sin{\\left(\\theta \\right)} + m v_{y} w_{z} - m v_{z} w_{y}}{m}\\\\\\frac{- g m \\sin{\\left(\\phi \\right)} \\cos{\\left(\\theta \\right)} - m v_{x} w_{z} + m v_{z} w_{x}}{m}\\\\\\frac{f_{z} - g m \\cos{\\left(\\phi \\right)} \\cos{\\left(\\theta \\right)} + m v_{x} w_{y} - m v_{y} w_{x}}{m}\\\\\\frac{J_{y} w_{y} w_{z} - J_{z} w_{y} w_{z} + \\tau_{x}}{J_{x}}\\\\\\frac{- J_{x} w_{x} w_{z} + J_{z} w_{x} w_{z} + \\tau_{y}}{J_{y}}\\\\\\frac{J_{x} w_{x} w_{y} - J_{y} w_{x} w_{y} + \\tau_{z}}{J_{z}}\\\\\\alpha_{dot}\\\\\\frac{f_{z} \\sin{\\left(\\alpha - \\theta \\right)}}{l_{pen} m}\\end{matrix}\\right]$"
      ],
      "text/plain": [
       "Matrix([\n",
       "[ v_x*cos(psi)*cos(theta) + v_y*(sin(phi)*sin(theta)*cos(psi) - sin(psi)*cos(phi)) + v_z*(sin(phi)*sin(psi) + sin(theta)*cos(phi)*cos(psi))],\n",
       "[v_x*sin(psi)*cos(theta) + v_y*(sin(phi)*sin(psi)*sin(theta) + cos(phi)*cos(psi)) + v_z*(-sin(phi)*cos(psi) + sin(psi)*sin(theta)*cos(phi))],\n",
       "[                                                                       -v_x*sin(theta) + v_y*sin(phi)*cos(theta) + v_z*cos(phi)*cos(theta)],\n",
       "[                                                                                         w_y*sin(phi)/cos(theta) + w_z*cos(phi)/cos(theta)],\n",
       "[                                                                                                               w_y*cos(phi) - w_z*sin(phi)],\n",
       "[                                                                                   w_x + w_y*sin(phi)*tan(theta) + w_z*cos(phi)*tan(theta)],\n",
       "[                                                                                                (g*m*sin(theta) + m*v_y*w_z - m*v_z*w_y)/m],\n",
       "[                                                                                      (-g*m*sin(phi)*cos(theta) - m*v_x*w_z + m*v_z*w_x)/m],\n",
       "[                                                                                 (f_z - g*m*cos(phi)*cos(theta) + m*v_x*w_y - m*v_y*w_x)/m],\n",
       "[                                                                                                   (J_y*w_y*w_z - J_z*w_y*w_z + tau_x)/J_x],\n",
       "[                                                                                                  (-J_x*w_x*w_z + J_z*w_x*w_z + tau_y)/J_y],\n",
       "[                                                                                                   (J_x*w_x*w_y - J_y*w_x*w_y + tau_z)/J_z],\n",
       "[                                                                                                                                 alpha_dot],\n",
       "[                                                                                                          f_z*sin(alpha - theta)/(l_pen*m)]])"
      ]
     },
     "execution_count": 35,
     "metadata": {},
     "output_type": "execute_result"
    }
   ],
   "source": [
    "f_sym"
   ]
  },
  {
   "attachments": {},
   "cell_type": "markdown",
   "id": "ee01cc07",
   "metadata": {},
   "source": [
    "## 3.3 Choose equilibrium point\n",
    "\n",
    "An equilibrium point of the nonlinear system is a choice of states $s_\\text{eq}$ and inputs $i_\\text{eq}$ - along with constant parameters $p_\\text{eq}$ - for which\n",
    "\n",
    "$$0 = f(s_\\text{eq}, i_\\text{eq}, p_\\text{eq}).$$"
   ]
  },
  {
   "cell_type": "markdown",
   "id": "2019b91b",
   "metadata": {},
   "source": [
    "Create a list of states, inputs, and parameters as symbolic variables."
   ]
  },
  {
   "cell_type": "code",
   "execution_count": 36,
   "id": "75830a11",
   "metadata": {
    "jupyter": {
     "outputs_hidden": true,
     "source_hidden": true
    }
   },
   "outputs": [],
   "source": [
    "s = [o_x, o_y, o_z, psi, theta, phi, v_x, v_y, v_z, w_x, w_y, w_z, alpha, alpha_dot]\n",
    "i = [tau_x, tau_y, tau_z, f_z]\n",
    "p = [m, J_x, J_y, J_z, g, m_pen, l_pen]"
   ]
  },
  {
   "cell_type": "markdown",
   "id": "d3da9d25",
   "metadata": {},
   "source": [
    "Create a list of states to track as symbolic variables. These are states whose desired values will be specified by a client."
   ]
  },
  {
   "cell_type": "code",
   "execution_count": 37,
   "id": "633e55f4",
   "metadata": {
    "jupyter": {
     "outputs_hidden": true,
     "source_hidden": true
    }
   },
   "outputs": [],
   "source": [
    "s_with_des = [o_x, o_y, o_z]"
   ]
  },
  {
   "cell_type": "markdown",
   "id": "cfa42f86",
   "metadata": {},
   "source": [
    "Create a function that evaluates $f(\\cdot)$ at particular values of $s$, $i$, and $p$."
   ]
  },
  {
   "cell_type": "code",
   "execution_count": 38,
   "id": "f73a1883",
   "metadata": {
    "jupyter": {
     "outputs_hidden": true,
     "source_hidden": true
    }
   },
   "outputs": [],
   "source": [
    "f = sym.lambdify(s + i + p, f_sym)"
   ]
  },
  {
   "cell_type": "code",
   "execution_count": 39,
   "metadata": {},
   "outputs": [
    {
     "data": {
      "text/plain": [
       "<function _lambdifygenerated(o_x, o_y, o_z, psi, theta, phi, v_x, v_y, v_z, w_x, w_y, w_z, alpha, alpha_dot, tau_x, tau_y, tau_z, f_z, m, J_x, J_y, J_z, g, m_pen, l_pen)>"
      ]
     },
     "execution_count": 39,
     "metadata": {},
     "output_type": "execute_result"
    }
   ],
   "source": [
    "f"
   ]
  },
  {
   "cell_type": "markdown",
   "id": "d2782d33",
   "metadata": {},
   "source": [
    "Define constants."
   ]
  },
  {
   "cell_type": "code",
   "execution_count": 40,
   "id": "f874a240",
   "metadata": {
    "jupyter": {
     "outputs_hidden": true,
     "source_hidden": true
    }
   },
   "outputs": [],
   "source": [
    "# Mass\n",
    "m = 0.044\n",
    "\n",
    "# Principle moments of inertia\n",
    "J_x = 1.57e-05\n",
    "J_y = 1.60e-05\n",
    "J_z = 2.05e-05\n",
    "\n",
    "# Acceleration of gravity\n",
    "g = 9.81\n",
    "\n",
    "# Pendulum parameters\n",
    "l_pen = 150e-3 # maybe m\n",
    "m_pen = 0.006"
   ]
  },
  {
   "cell_type": "markdown",
   "id": "99146c26",
   "metadata": {},
   "source": [
    "Create a list of parameter values in the **same order** as the symbolic list. These are the parameter estimates we found in our experiments. They are not choices. (We use the subscript `_eq` to be consistent with what follows, and could say \"parameter values *at equilibrium*,\" but don't be misled. These parameter values are *given* and are *constant* - again, they aren't choices.)"
   ]
  },
  {
   "cell_type": "code",
   "execution_count": 41,
   "id": "a19a1ea0",
   "metadata": {
    "jupyter": {
     "outputs_hidden": true,
     "source_hidden": true
    }
   },
   "outputs": [],
   "source": [
    "p_eq = [m, J_x, J_y, J_z, g, m_pen, l_pen]"
   ]
  },
  {
   "cell_type": "markdown",
   "id": "9522c1d6",
   "metadata": {},
   "source": [
    "Create a list of state and input values at equilibrium in the **same order** as the symbolic lists."
   ]
  },
  {
   "cell_type": "code",
   "execution_count": 42,
   "id": "7ec2fcdf",
   "metadata": {
    "jupyter": {
     "outputs_hidden": true,
     "source_hidden": true
    }
   },
   "outputs": [],
   "source": [
    "s_eq = [0., 0., 0., 0., 0., 0., 0., 0., 0., 0., 0., 0., 0., 0.]\n",
    "i_eq = [0., 0., 0., g*(m)] # Notice that the mass of the pendulum is now factored into the equilibrium point"
   ]
  },
  {
   "cell_type": "markdown",
   "id": "6934b546",
   "metadata": {},
   "source": [
    "Evaluate the equations of motion at the equilibrium point - if it actually *is* an equilibrium point, then the result should be an array of zeros:"
   ]
  },
  {
   "cell_type": "code",
   "execution_count": 43,
   "id": "ce88daaa",
   "metadata": {
    "jupyter": {
     "outputs_hidden": true,
     "source_hidden": true
    }
   },
   "outputs": [
    {
     "name": "stdout",
     "output_type": "stream",
     "text": [
      "[[0.]\n",
      " [0.]\n",
      " [0.]\n",
      " [0.]\n",
      " [0.]\n",
      " [0.]\n",
      " [0.]\n",
      " [0.]\n",
      " [0.]\n",
      " [0.]\n",
      " [0.]\n",
      " [0.]\n",
      " [0.]\n",
      " [0.]]\n"
     ]
    }
   ],
   "source": [
    "print(f(*s_eq, *i_eq, *p_eq))"
   ]
  },
  {
   "cell_type": "markdown",
   "id": "be5bce64",
   "metadata": {},
   "source": [
    "Note that this equilibrium point would remain an equilibrium point for any choice of `o_x`, `o_y`, and `o_z` - that is one thing that allows the controller to track desired values of these variables."
   ]
  },
  {
   "attachments": {},
   "cell_type": "markdown",
   "id": "e3543554",
   "metadata": {},
   "source": [
    "## 3.4 Compute A and B"
   ]
  },
  {
   "cell_type": "markdown",
   "id": "d8afe6f5",
   "metadata": {},
   "source": [
    "We want to find\n",
    "\n",
    "$$\n",
    "A = \\frac{\\partial f}{\\partial s}\\biggr\\vert_{(s, i, p) = (s_\\text{eq}, i_\\text{eq}, p_\\text{eq})}\n",
    "\\qquad\\text{and}\\qquad\n",
    "B = \\frac{\\partial f}{\\partial i}\\biggr\\vert_{(s, i, p) = (s_\\text{eq}, i_\\text{eq}, p_\\text{eq})}.\n",
    "$$\n",
    "\n",
    "First, we compute each Jacobian (i.e., each matrix of partial derivatives) in symbolic form."
   ]
  },
  {
   "cell_type": "code",
   "execution_count": 44,
   "id": "d4df938c",
   "metadata": {
    "jupyter": {
     "outputs_hidden": true,
     "source_hidden": true
    }
   },
   "outputs": [],
   "source": [
    "A_sym = f_sym.jacobian(s)\n",
    "B_sym = f_sym.jacobian(i)"
   ]
  },
  {
   "cell_type": "markdown",
   "id": "810c9f50",
   "metadata": {},
   "source": [
    "Then, we create functions that allow us to evaluate these Jacobians at particular values of $s$, $i$, and $p$."
   ]
  },
  {
   "cell_type": "code",
   "execution_count": 45,
   "id": "2aaa735a",
   "metadata": {
    "jupyter": {
     "outputs_hidden": true,
     "source_hidden": true
    }
   },
   "outputs": [],
   "source": [
    "A_num = sym.lambdify(s + i + p, A_sym)\n",
    "B_num = sym.lambdify(s + i + p, B_sym)"
   ]
  },
  {
   "cell_type": "markdown",
   "id": "f82bf177",
   "metadata": {},
   "source": [
    "Finally, we plug in our equilibrium point."
   ]
  },
  {
   "cell_type": "code",
   "execution_count": 46,
   "id": "6954a473",
   "metadata": {
    "jupyter": {
     "outputs_hidden": true,
     "source_hidden": true
    }
   },
   "outputs": [],
   "source": [
    "A = A_num(*s_eq, *i_eq, *p_eq)\n",
    "B = B_num(*s_eq, *i_eq, *p_eq)"
   ]
  },
  {
   "cell_type": "markdown",
   "id": "f6995b94",
   "metadata": {},
   "source": [
    "Show $A$ (formatted nicely)."
   ]
  },
  {
   "cell_type": "code",
   "execution_count": 47,
   "id": "1b3711cb",
   "metadata": {
    "jupyter": {
     "outputs_hidden": true,
     "source_hidden": true
    }
   },
   "outputs": [
    {
     "name": "stdout",
     "output_type": "stream",
     "text": [
      "A = [[ 0.00  0.00  0.00  0.00  0.00  0.00  1.00  0.00  0.00  0.00  0.00  0.00  0.00  0.00]\n",
      "     [ 0.00  0.00  0.00  0.00  0.00  0.00  0.00  1.00  0.00  0.00  0.00  0.00  0.00  0.00]\n",
      "     [ 0.00  0.00  0.00  0.00 -0.00  0.00 -0.00  0.00  1.00  0.00  0.00  0.00  0.00  0.00]\n",
      "     [ 0.00  0.00  0.00  0.00  0.00  0.00  0.00  0.00  0.00  0.00  0.00  1.00  0.00  0.00]\n",
      "     [ 0.00  0.00  0.00  0.00  0.00 -0.00  0.00  0.00  0.00  0.00  1.00 -0.00  0.00  0.00]\n",
      "     [ 0.00  0.00  0.00  0.00  0.00  0.00  0.00  0.00  0.00  1.00  0.00  0.00  0.00  0.00]\n",
      "     [ 0.00  0.00  0.00  0.00  9.81  0.00  0.00  0.00 -0.00  0.00 -0.00  0.00  0.00  0.00]\n",
      "     [ 0.00  0.00  0.00  0.00  0.00 -9.81 -0.00  0.00  0.00  0.00  0.00 -0.00  0.00  0.00]\n",
      "     [ 0.00  0.00  0.00  0.00  0.00  0.00  0.00 -0.00  0.00 -0.00  0.00  0.00  0.00  0.00]\n",
      "     [ 0.00  0.00  0.00  0.00  0.00  0.00  0.00  0.00  0.00  0.00  0.00  0.00  0.00  0.00]\n",
      "     [ 0.00  0.00  0.00  0.00  0.00  0.00  0.00  0.00  0.00  0.00  0.00  0.00  0.00  0.00]\n",
      "     [ 0.00  0.00  0.00  0.00  0.00  0.00  0.00  0.00  0.00  0.00  0.00  0.00  0.00  0.00]\n",
      "     [ 0.00  0.00  0.00  0.00  0.00  0.00  0.00  0.00  0.00  0.00  0.00  0.00  0.00  1.00]\n",
      "     [ 0.00  0.00  0.00  0.00 -65.40  0.00  0.00  0.00  0.00  0.00  0.00  0.00 65.40  0.00]]\n"
     ]
    }
   ],
   "source": [
    "A_str = np.array2string(A,\n",
    "                        formatter={'float_kind': lambda x: f'{x:5.2f}'},\n",
    "                        prefix='    ',\n",
    "                        max_line_width=np.inf)\n",
    "\n",
    "print(f'A = {A_str}')"
   ]
  },
  {
   "cell_type": "markdown",
   "id": "d04f7ffd",
   "metadata": {},
   "source": [
    "Show $B$ (formatted nicely)."
   ]
  },
  {
   "cell_type": "code",
   "execution_count": 48,
   "id": "931bbe9b",
   "metadata": {
    "jupyter": {
     "outputs_hidden": true,
     "source_hidden": true
    }
   },
   "outputs": [
    {
     "name": "stdout",
     "output_type": "stream",
     "text": [
      "B = [[      0.00       0.00       0.00       0.00]\n",
      "     [      0.00       0.00       0.00       0.00]\n",
      "     [      0.00       0.00       0.00       0.00]\n",
      "     [      0.00       0.00       0.00       0.00]\n",
      "     [      0.00       0.00       0.00       0.00]\n",
      "     [      0.00       0.00       0.00       0.00]\n",
      "     [      0.00       0.00       0.00       0.00]\n",
      "     [      0.00       0.00       0.00       0.00]\n",
      "     [      0.00       0.00       0.00      22.73]\n",
      "     [  63694.27       0.00       0.00       0.00]\n",
      "     [      0.00   62500.00       0.00       0.00]\n",
      "     [      0.00       0.00   48780.49       0.00]\n",
      "     [      0.00       0.00       0.00       0.00]\n",
      "     [      0.00       0.00       0.00       0.00]]\n"
     ]
    }
   ],
   "source": [
    "B_str = np.array2string(B,\n",
    "                        formatter={'float_kind': lambda x: f'{x:10.2f}'},\n",
    "                        prefix='    ',\n",
    "                        max_line_width=np.inf)\n",
    "B\n",
    "print(f'B = {B_str}')"
   ]
  },
  {
   "cell_type": "markdown",
   "id": "bb9c9fdf",
   "metadata": {},
   "source": [
    "The state-space system is described by\n",
    "\n",
    "$$ \\dot{x} = Ax + Bu $$\n",
    "\n",
    "where\n",
    "\n",
    "$$ x = s - s_\\text{eq} $$\n",
    "\n",
    "and\n",
    "\n",
    "$$ u = i - i_\\text{eq}. $$"
   ]
  },
  {
   "cell_type": "markdown",
   "id": "a36135fa",
   "metadata": {},
   "source": [
    "$A$ and $B$ would remain the same for any choice of `o_x`, `o_y`, and `o_z` - that is the other thing that allows the controller to track desired values of these variables."
   ]
  },
  {
   "cell_type": "markdown",
   "metadata": {},
   "source": [
    "Check controllability:"
   ]
  },
  {
   "cell_type": "code",
   "execution_count": 49,
   "metadata": {},
   "outputs": [
    {
     "data": {
      "text/plain": [
       "12"
      ]
     },
     "execution_count": 49,
     "metadata": {},
     "output_type": "execute_result"
    }
   ],
   "source": [
    "W = np.block([[B, A @ B, A @ A @ B, np.linalg.matrix_power(A, 3) @ B, np.linalg.matrix_power(A, 4) @ B, np.linalg.matrix_power(A, 5) @ B, np.linalg.matrix_power(A, 6) @ B, np.linalg.matrix_power(A, 7) @ B, np.linalg.matrix_power(A, 8) @ B, np.linalg.matrix_power(A, 9) @ B, np.linalg.matrix_power(A,10) @ B, np.linalg.matrix_power(A, 11) @ B, np.linalg.matrix_power(A, 12) @ B, np.linalg.matrix_power(A, 13) @ B]])\n",
    "\n",
    "np.linalg.matrix_rank(W) # If 14, the system is controllable\n"
   ]
  },
  {
   "cell_type": "markdown",
   "metadata": {},
   "source": [
    "From this it seems like the system is not fully controllable. The reason for this is probably the inaccuracy in new forces term derived from the planar problem and put into the full system. This is a point of further investigation."
   ]
  },
  {
   "attachments": {},
   "cell_type": "markdown",
   "id": "a2fb7647",
   "metadata": {},
   "source": [
    "# 4. Design method of power distribution\n"
   ]
  },
  {
   "cell_type": "markdown",
   "id": "97dfd9a8",
   "metadata": {},
   "source": [
    "Define constants."
   ]
  },
  {
   "cell_type": "code",
   "execution_count": 50,
   "id": "51bce0eb",
   "metadata": {
    "jupyter": {
     "outputs_hidden": true,
     "source_hidden": true
    }
   },
   "outputs": [],
   "source": [
    "k_F = 2.04e-06\n",
    "k_M = 6.33e-09\n",
    "l = .0325 "
   ]
  },
  {
   "cell_type": "markdown",
   "id": "28502701",
   "metadata": {},
   "source": [
    "Defines the matrix $P$ that maps motor power commands ($m_1$, $m_2$, $m_3$, $m_4$) to inputs ($\\tau_x$, $\\tau_y$, $\\tau_z$, $f_z$)."
   ]
  },
  {
   "cell_type": "code",
   "execution_count": 51,
   "id": "9d1a1e7b",
   "metadata": {
    "jupyter": {
     "outputs_hidden": true,
     "source_hidden": true
    }
   },
   "outputs": [],
   "source": [
    "P = np.array([[ -l * k_F, -l * k_F,  l * k_F,  l * k_F  ],\n",
    "              [ -l * k_F, l * k_F,   l * k_F,  -l * k_F ],\n",
    "              [ -k_M,     k_M,       -k_M,     k_M      ],\n",
    "              [ k_F,      k_F,       k_F,      k_F      ]])"
   ]
  },
  {
   "cell_type": "markdown",
   "id": "60fded0f",
   "metadata": {},
   "source": [
    "Computes the matrix $P^{-1}$ that maps inputs to motor power commands."
   ]
  },
  {
   "cell_type": "code",
   "execution_count": 52,
   "id": "0628e8c7",
   "metadata": {
    "jupyter": {
     "outputs_hidden": true,
     "source_hidden": true
    }
   },
   "outputs": [],
   "source": [
    "Pinv = linalg.inv(P)"
   ]
  },
  {
   "cell_type": "markdown",
   "id": "8da0cfb0",
   "metadata": {},
   "source": [
    "Print code that implements the method of power distribution in python (for simulation)."
   ]
  },
  {
   "cell_type": "code",
   "execution_count": 53,
   "id": "55036101",
   "metadata": {
    "jupyter": {
     "outputs_hidden": true,
     "source_hidden": true
    }
   },
   "outputs": [
    {
     "name": "stdout",
     "output_type": "stream",
     "text": [
      "m_1 = self.limitUint16( -3770739.1 * tau_x -3770739.1 * tau_y -39494470.8 * tau_z + 122549.0 * f_z )\n",
      "m_2 = self.limitUint16( -3770739.1 * tau_x + 3770739.1 * tau_y + 39494470.8 * tau_z + 122549.0 * f_z )\n",
      "m_3 = self.limitUint16( 3770739.1 * tau_x + 3770739.1 * tau_y -39494470.8 * tau_z + 122549.0 * f_z )\n",
      "m_4 = self.limitUint16( 3770739.1 * tau_x -3770739.1 * tau_y + 39494470.8 * tau_z + 122549.0 * f_z )\n"
     ]
    }
   ],
   "source": [
    "def export_power_distribution(Pinv,\n",
    "                              limiter='self.limitUint16',\n",
    "                              decimals=1,\n",
    "                              suffix='',\n",
    "                              line_ending=''):\n",
    "    \"\"\"\n",
    "    Pinv is a 4 x 4 matrix that maps inputs (tau_x, tau_y, tau_z, f_z)\n",
    "        to motor power commands (m_1, m_2, m_3, m_4)\n",
    "    limiter is the name of the function to apply that ensures each\n",
    "        motor power command is valid (i.e., an integer within bounds),\n",
    "        for example \"limitUint16\" when exporting to C\n",
    "    decimals is the number of decimals to include when printing\n",
    "        each value\n",
    "    suffix is the character (if any) to print after each number,\n",
    "        for example 'f' to indicate a \"float\" when exporting to C\n",
    "    line_ending is the character (if any) to print after each\n",
    "        line, for example ';' when exporting to C\n",
    "    \"\"\"\n",
    "    \n",
    "    i_name = ['tau_x', 'tau_y', 'tau_z', 'f_z']\n",
    "    m_name = ['m_1', 'm_2', 'm_3', 'm_4']\n",
    "    for row in range(len(m_name)):\n",
    "        input_string = ''\n",
    "        for col in range(len(i_name)):\n",
    "            k = Pinv[row, col]\n",
    "            if not np.isclose(k, 0.):\n",
    "                if (k > 0) and input_string:\n",
    "                    input_string += ' +'\n",
    "                n = i_name[col]\n",
    "                input_string += f' {k:.{decimals}f}{suffix} * {n}'\n",
    "        print(f'{m_name[row]} = {limiter}({input_string} ){line_ending}')\n",
    "\n",
    "export_power_distribution(Pinv)"
   ]
  },
  {
   "cell_type": "markdown",
   "id": "e2528f26",
   "metadata": {},
   "source": [
    "Print code that implements the method of power distribution in C (for hardware)."
   ]
  },
  {
   "cell_type": "code",
   "execution_count": 54,
   "id": "c59d74f2",
   "metadata": {
    "jupyter": {
     "outputs_hidden": true,
     "source_hidden": true
    }
   },
   "outputs": [
    {
     "name": "stdout",
     "output_type": "stream",
     "text": [
      "m_1 = limitUint16( -3770739.1f * tau_x -3770739.1f * tau_y -39494470.8f * tau_z + 122549.0f * f_z );\n",
      "m_2 = limitUint16( -3770739.1f * tau_x + 3770739.1f * tau_y + 39494470.8f * tau_z + 122549.0f * f_z );\n",
      "m_3 = limitUint16( 3770739.1f * tau_x + 3770739.1f * tau_y -39494470.8f * tau_z + 122549.0f * f_z );\n",
      "m_4 = limitUint16( 3770739.1f * tau_x -3770739.1f * tau_y + 39494470.8f * tau_z + 122549.0f * f_z );\n"
     ]
    }
   ],
   "source": [
    "export_power_distribution(\n",
    "    Pinv,\n",
    "    limiter='limitUint16',\n",
    "    suffix='f',\n",
    "    line_ending=';',\n",
    ")"
   ]
  },
  {
   "attachments": {},
   "cell_type": "markdown",
   "id": "e5b69d8d",
   "metadata": {},
   "source": [
    "# 5. Control design"
   ]
  },
  {
   "cell_type": "markdown",
   "id": "83014d38",
   "metadata": {},
   "source": [
    "This controller uses a linear state feedback of the form\n",
    "\n",
    "$$u = - K (x - x_\\text{des})$$\n",
    "\n",
    "where the gain matrix $K$ is chosen by solving an infinite-horizon LQR problem (e.g., with the helper function `lqr`) and where\n",
    "\n",
    "$$x_\\text{des} = \\begin{bmatrix} o_{x, \\text{des}} \\\\ o_{y, \\text{des}} \\\\ o_{z, \\text{des}} \\\\ 0 \\\\ 0 \\\\ 0 \\\\ 0 \\\\ 0 \\\\ 0 \\\\ 0 \\\\ 0 \\\\ 0 \\\\ 0 \\\\ 0\\end{bmatrix}.$$\n",
    "\n",
    "The LQR problem is defined by the choice of weights $Q$ and $R$. Both must be square matrices, $Q$ must be positive semidefinite, and $R$ must be positive definite. Both $Q$ and $R$ are almost always chosen to be diagonal. $Q$ penalizes non-zero states (i.e., non-zero values of $x$) and that $R$ penalizes non-zero inputs (i.e., non-zero values of $u$)."
   ]
  },
  {
   "cell_type": "code",
   "execution_count": 55,
   "id": "1e17d37f",
   "metadata": {},
   "outputs": [],
   "source": [
    "Q = np.diag([\n",
    "    0.01, # x\n",
    "    7., # y\n",
    "    5., # z\n",
    "    1., # psi (yaw)\n",
    "    20., # theta (pitch)\n",
    "    1., # phi (roll)\n",
    "    0.02,\n",
    "    0.8,\n",
    "    1.,\n",
    "    1.,\n",
    "    5.,\n",
    "    1.,\n",
    "    50., #alpha\n",
    "    2. #alpha_dot\n",
    "])\n",
    "\n",
    "R = np.diag([\n",
    "    1E6, #tau_x\n",
    "    1E9,#tau_y\n",
    "    1E6,\n",
    "    10,\n",
    "])\n"
   ]
  },
  {
   "cell_type": "markdown",
   "id": "da5e7a70",
   "metadata": {},
   "source": [
    "Find $K$ for the chosen $Q$ and $R$."
   ]
  },
  {
   "cell_type": "markdown",
   "id": "9f8a39a8",
   "metadata": {
    "jupyter": {
     "source_hidden": true
    }
   },
   "source": [
    "Here is a function that solves the linear quadratic regulator (LQR) problem - i.e., that finds the matrix $K$ for which\n",
    "\n",
    "$$u(t) = - K x(t)$$\n",
    "\n",
    "is the optimal solution to\n",
    "\n",
    "$$\n",
    "\\begin{align*}\n",
    "\\underset{u_{[t_{0}, \\infty)}}{\\text{minimize}} &\\qquad \\int_{t_{0}}^{\\infty}\\left( x(t)^{T}Qx(t)+u(t)^{T}Ru(t)\\right)dt \\\\\n",
    "\\text{subject to} &\\qquad \\dot{x}(t) = Ax(t)+Bu(t), \\quad x(t_{0})=x_{0}.\n",
    "\\end{align*}\n",
    "$$"
   ]
  },
  {
   "cell_type": "code",
   "execution_count": 56,
   "id": "7af3826a",
   "metadata": {
    "jupyter": {
     "source_hidden": true
    }
   },
   "outputs": [],
   "source": [
    "def lqr(A, B, Q, R):\n",
    "    P = linalg.solve_continuous_are(A, B, Q, R)\n",
    "    K = linalg.inv(R) @  B.T @ P\n",
    "    return K"
   ]
  },
  {
   "cell_type": "code",
   "execution_count": 57,
   "id": "da485a90",
   "metadata": {
    "collapsed": true,
    "jupyter": {
     "outputs_hidden": true
    }
   },
   "outputs": [
    {
     "data": {
      "text/plain": [
       "array([[-3.20753232e-16, -2.64575131e-03,  3.37553385e-17,\n",
       "         3.69444578e-18,  1.14161548e-13,  6.76378589e-03,\n",
       "        -1.25419826e-15, -2.10911789e-03,  4.05271347e-18,\n",
       "         1.10108259e-03,  7.71119464e-15,  9.69456979e-18,\n",
       "        -1.34400365e-13, -1.67772845e-14],\n",
       "       [-3.16227766e-06, -1.96495656e-16, -1.31492361e-18,\n",
       "         4.76678879e-19,  4.42957188e-03,  1.44771298e-16,\n",
       "        -1.59559672e-05, -7.38601544e-17,  3.70910637e-19,\n",
       "         7.56660974e-18,  3.83074797e-04, -4.42084576e-18,\n",
       "        -4.79344825e-03, -5.93774355e-04],\n",
       "       [ 2.44507074e-17, -8.02126478e-17,  4.23575032e-16,\n",
       "         1.00000000e-03, -4.38338895e-14,  2.08528001e-16,\n",
       "         1.45984694e-16, -6.48984808e-17,  4.89645887e-17,\n",
       "         7.42462174e-18, -3.45041620e-15,  1.02029408e-03,\n",
       "         4.76328894e-14,  5.90074749e-15],\n",
       "       [ 6.93120179e-17, -9.26381055e-15,  7.07106781e-01,\n",
       "         1.35358949e-14,  1.93937727e-13,  8.89340597e-15,\n",
       "         2.41919275e-16, -3.39828128e-15,  4.02772140e-01,\n",
       "         1.44608185e-16,  1.34876595e-14,  2.28130470e-15,\n",
       "        -2.12219624e-13, -2.64834309e-14]])"
      ]
     },
     "execution_count": 57,
     "metadata": {},
     "output_type": "execute_result"
    }
   ],
   "source": [
    "K = lqr(A, B, Q, R)\n",
    "\n",
    "K"
   ]
  },
  {
   "cell_type": "markdown",
   "id": "f01135e1",
   "metadata": {},
   "source": [
    "Show $K$ (formatted nicely)."
   ]
  },
  {
   "cell_type": "code",
   "execution_count": 58,
   "id": "6408582a",
   "metadata": {},
   "outputs": [
    {
     "name": "stdout",
     "output_type": "stream",
     "text": [
      "K = [[-0.000 -0.003  0.000  0.000  0.000  0.007 -0.000 -0.002  0.000  0.001  0.000  0.000 -0.000 -0.000]\n",
      "     [-0.000 -0.000 -0.000  0.000  0.004  0.000 -0.000 -0.000  0.000  0.000  0.000 -0.000 -0.005 -0.001]\n",
      "     [ 0.000 -0.000  0.000  0.001 -0.000  0.000  0.000 -0.000  0.000  0.000 -0.000  0.001  0.000  0.000]\n",
      "     [ 0.000 -0.000  0.707  0.000  0.000  0.000  0.000 -0.000  0.403  0.000  0.000  0.000 -0.000 -0.000]]\n"
     ]
    }
   ],
   "source": [
    "K_str = np.array2string(K,\n",
    "                        formatter={'float_kind': lambda x: f'{x:6.3f}'},\n",
    "                        prefix='    ',\n",
    "                        max_line_width=np.inf)\n",
    "\n",
    "print(f'K = {K_str}')"
   ]
  },
  {
   "cell_type": "markdown",
   "id": "96e49b1f",
   "metadata": {},
   "source": [
    "Print code that implements the controller."
   ]
  },
  {
   "cell_type": "code",
   "execution_count": 59,
   "id": "cfd55d74",
   "metadata": {},
   "outputs": [
    {
     "name": "stdout",
     "output_type": "stream",
     "text": [
      "tau_x = 0.00264575 * (o_y - o_y_des) -0.00676379 * phi + 0.00210912 * v_y -0.00110108 * w_x\n",
      "tau_y = 0.00000316 * (o_x - o_x_des) -0.00442957 * theta + 0.00001596 * v_x -0.00038307 * w_y + 0.00479345 * alpha + 0.00059377 * alpha_dot\n",
      "tau_z = -0.00100000 * psi -0.00102029 * w_z\n",
      "f_z = -0.70710678 * (o_z - o_z_des) -0.40277214 * v_z + 0.43164000\n"
     ]
    }
   ],
   "source": [
    "def export_controller(K, s, i, s_with_des, i_eq,\n",
    "                      decimals=8,\n",
    "                      suffix='',\n",
    "                      line_ending=''):\n",
    "    \"\"\"\n",
    "    K is a gain matrix, of size m x n\n",
    "    s is a list of states as symbolic variables, of length n\n",
    "    i is a list of inputs as symbolic variables, of length m\n",
    "    s_with_des is a list of states that have desired values, as\n",
    "        symbolic variables - if there are no such states, then\n",
    "        this should be an empty list []\n",
    "    i_eq is a list of equilibrium values of inputs, of length m\n",
    "    decimals is the number of decimals to include when printing\n",
    "        each value\n",
    "    suffix is the character (if any) to print after each number,\n",
    "        for example 'f' to indicate a \"float\" when exporting to C\n",
    "    line_ending is the character (if any) to print after each\n",
    "        line, for example ';' when exporting to C\n",
    "    \"\"\"\n",
    "    \n",
    "    s_name = [scur.name for scur in s]\n",
    "    i_name = [icur.name for icur in i]\n",
    "    for row in range(len(i_name)):\n",
    "        input_string = ''\n",
    "        for col in range(len(s_name)):\n",
    "            k = K[row, col]\n",
    "            if not np.isclose(k, 0.):\n",
    "                if (k < 0) and input_string:\n",
    "                    input_string += ' +'\n",
    "                if s[col] in s_with_des:\n",
    "                    n = f'({s_name[col]} - {s_name[col]}_des)'\n",
    "                else:\n",
    "                    n = s_name[col]\n",
    "                input_string += f' {-k:.{decimals}f}{suffix} * {n}'\n",
    "        if not np.isclose(i_eq[row], 0.):\n",
    "            if (i_eq[row] > 0) and input_string:\n",
    "                input_string += ' +'\n",
    "            input_string += f' {i_eq[row]:.{decimals}f}{suffix}'\n",
    "        print(f'{i_name[row]} ={input_string}{line_ending}')\n",
    "\n",
    "\n",
    "# For python simulation\n",
    "export_controller(\n",
    "    K,               # the gain matrix\n",
    "    s,               # list of states as symbolic variables\n",
    "    i,               # list of inputs as symbolic variables\n",
    "    s_with_des,      # list of states that have desired values as symbolic variables\n",
    "    i_eq,            # list of equilibrium values of inputs\n",
    ")\n",
    "\n",
    "# For C\n",
    "# export_controller(\n",
    "#     K,               # the gain matrix\n",
    "#     s,               # list of states as symbolic variables\n",
    "#     i,               # list of inputs as symbolic variables\n",
    "#     s_with_des,      # list of states that have desired values as symbolic variables\n",
    "#     i_eq,            # list of equilibrium values of inputs\n",
    "#     suffix='f',      # character to print after each number (indicates a \"float\")\n",
    "#     line_ending=';'  # character to print after each line\n",
    "# )\n"
   ]
  },
  {
   "attachments": {},
   "cell_type": "markdown",
   "metadata": {},
   "source": [
    "# 6. Simulation\n",
    "\n",
    "The following section runs a simulation to test the controller. This simulator is based on the AE 483 Autonomous Systems Lab controller. The drone model is modified to include an inverted pendulum, and the script is modified to allow the measurement of a pendulum angle."
   ]
  },
  {
   "cell_type": "code",
   "execution_count": 60,
   "metadata": {},
   "outputs": [],
   "source": [
    "from IPython.display import display, IFrame, HTML\n",
    "import ae483_drone"
   ]
  },
  {
   "attachments": {},
   "cell_type": "markdown",
   "metadata": {},
   "source": [
    "## 6.1 Run Simulation"
   ]
  },
  {
   "attachments": {},
   "cell_type": "markdown",
   "metadata": {},
   "source": [
    "### 6.1.1 Create an instance of the simulation"
   ]
  },
  {
   "cell_type": "code",
   "execution_count": 61,
   "metadata": {},
   "outputs": [],
   "source": [
    "simulator = ae483_drone.Simulator(\n",
    "    display=True,\n",
    "    width=640,\n",
    "    height=480,\n",
    ")"
   ]
  },
  {
   "attachments": {},
   "cell_type": "markdown",
   "metadata": {},
   "source": [
    "### 6.1.2 Client enables smooth motion"
   ]
  },
  {
   "cell_type": "code",
   "execution_count": 62,
   "id": "ff588162",
   "metadata": {},
   "outputs": [],
   "source": [
    "class RobotClient:\n",
    "    def __init__(self):\n",
    "        pass\n",
    "    \n",
    "    def run(self, t):\n",
    "        # Get start time (hard-coded at zero)\n",
    "        start_time = 0.\n",
    "        \n",
    "        # Get current time\n",
    "        current_time = t\n",
    "        \n",
    "        # Define initial point (in the coordinates of the world frame)\n",
    "        p1 = np.array([0., 0., 0.3])\n",
    "        \n",
    "        # Define final point (in the coordinates of the world frame)\n",
    "        p2 = np.array([0.01, 0., 0.3])\n",
    "        \n",
    "        # Define speed in meters / second\n",
    "        speed = 0.25\n",
    "        \n",
    "        # Compute distance from p1 to p2\n",
    "        distance_from_p1_to_p2 = np.linalg.norm(p1-p2)\n",
    "        \n",
    "        # Compute time it takes to move from p1 to p2 at desired speed\n",
    "        time_from_p1_to_p2 = distance_from_p1_to_p2/speed\n",
    "        \n",
    "        # Compute what fraction of the distance from p1 to p2 should have\n",
    "        # been travelled by the current time\n",
    "        s = (current_time - start_time)/time_from_p1_to_p2\n",
    "        \n",
    "        # Compute where the drone should be at the current time, in the\n",
    "        # coordinates of the world frame\n",
    "        p = ((1-s) * p1) + (s*p2)\n",
    "        \n",
    "        # Check if the drone should have reached p2 already\n",
    "        if s >= 1:\n",
    "            p = p2\n",
    "        \n",
    "        # Get x, y, z coordinates of desired position\n",
    "        o_x = p[0]\n",
    "        o_y = p[1]\n",
    "        o_z = p[2]\n",
    "        psi = 0.\n",
    "    \n",
    "        return {\n",
    "            'o_x': o_x,\n",
    "            'o_y': o_y,\n",
    "            'o_z': o_z,\n",
    "            'psi': psi,\n",
    "        }"
   ]
  },
  {
   "attachments": {},
   "cell_type": "markdown",
   "metadata": {},
   "source": [
    "### 6.1.3 Create controller class (with force, torques, and motor commands)"
   ]
  },
  {
   "cell_type": "code",
   "execution_count": 63,
   "id": "ff588162",
   "metadata": {},
   "outputs": [],
   "source": [
    "class RobotController:\n",
    "    def __init__(self):\n",
    "        pass\n",
    "\n",
    "    def limitUint16(self, m):\n",
    "        \"\"\"\n",
    "        This function returns the closest integer to \"m\" in the\n",
    "        range [0, 65535]. It is called \"limitUint16\" because an\n",
    "        \"unsigned 16-bit integer\" is limited to this range.\n",
    "        \"\"\"\n",
    "        m = np.round(m, decimals=0)\n",
    "        if m < 0:\n",
    "            m = 0\n",
    "        elif m > 65535:\n",
    "            m = 65535\n",
    "        return m\n",
    "\n",
    "    def run(self, state, setpoint):\n",
    "        # Parse state\n",
    "        o_x = state['o_x']\n",
    "        o_y = state['o_y']\n",
    "        o_z = state['o_z']\n",
    "        psi = state['psi']\n",
    "        theta = state['theta']\n",
    "        phi = state['phi']\n",
    "        v_x = state['v_x']\n",
    "        v_y = state['v_y']\n",
    "        v_z = state['v_z']\n",
    "        w_x = state['w_x']\n",
    "        w_y = state['w_y']\n",
    "        w_z = state['w_z']\n",
    "        alpha = state['alpha']\n",
    "        alpha_dot = state['alpha_dot']\n",
    "        # Parse setpoint\n",
    "        # o_x_des = setpoint['o_x']\n",
    "        # o_y_des = setpoint['o_y']\n",
    "        # o_z_des = setpoint['o_z']\n",
    "        o_x_des = 0\n",
    "        o_y_des = 0\n",
    "        o_z_des = 0.3\n",
    "        print(theta)\n",
    "        \n",
    "        tau_x = 0.00264575 * (o_y - o_y_des) -0.00666549 * phi + 0.00209651 * v_y -0.00109968 * w_x\n",
    "        tau_y = 0.00000316 * (o_x - o_x_des) -0.00403257 * theta + 0.00001570 * v_x -0.00035924 * w_y + 0.00438403 * (alpha + theta) + 0.00054324 * alpha_dot\n",
    "        tau_z = -0.00100000 * psi -0.00102029 * w_z\n",
    "        f_z = -0.70710678 * (o_z - o_z_des) -0.40277214 * v_z + 0.43164000\n",
    "        \n",
    "        # tau_x = 0.00264575 * (o_y - o_y_des) -0.00676379 * phi + 0.00210912 * v_y -0.00110108 * w_x\n",
    "        # tau_y = 0.00000316 * (o_x - o_x_des) -0.00442957 * theta + 0.00001596 * v_x -0.00038307 * w_y + 0.00479345 * alpha + 0.00059377 * alpha_dot\n",
    "        # tau_z = -0.00100000 * psi -0.00102029 * w_z\n",
    "        # f_z = -0.70710678 * (o_z - o_z_des) -0.40277214 * v_z + 0.43164000\n",
    "        \n",
    "        m_1 = self.limitUint16( -3770739.1 * tau_x -3770739.1 * tau_y -39494470.8 * tau_z + 122549.0 * f_z )\n",
    "        m_2 = self.limitUint16( -3770739.1 * tau_x + 3770739.1 * tau_y + 39494470.8 * tau_z + 122549.0 * f_z )\n",
    "        m_3 = self.limitUint16( 3770739.1 * tau_x + 3770739.1 * tau_y -39494470.8 * tau_z + 122549.0 * f_z )\n",
    "        m_4 = self.limitUint16( 3770739.1 * tau_x -3770739.1 * tau_y + 39494470.8 * tau_z + 122549.0 * f_z )\n",
    "        \n",
    "        return m_1, m_2, m_3, m_4"
   ]
  },
  {
   "attachments": {},
   "cell_type": "markdown",
   "metadata": {},
   "source": [
    "### 6.1.4 Reset simulation by clearing drones"
   ]
  },
  {
   "cell_type": "code",
   "execution_count": 64,
   "id": "32cf78f4",
   "metadata": {},
   "outputs": [],
   "source": [
    "simulator.clear_drones()"
   ]
  },
  {
   "attachments": {},
   "cell_type": "markdown",
   "metadata": {},
   "source": [
    "### 6.1.5 Add drone to simulation"
   ]
  },
  {
   "cell_type": "code",
   "execution_count": 65,
   "id": "6e177797",
   "metadata": {},
   "outputs": [],
   "source": [
    "simulator.add_drone(\n",
    "    'my_drone',\n",
    "    RobotClient,\n",
    "    RobotController,\n",
    "    rgba=[1., 0., 1., 1.],\n",
    "    m=0.039,  \n",
    "    J_x=1e-5, \n",
    "    J_y=1e-5, \n",
    "    J_z=2e-5, \n",
    "    g=9.81,\n",
    "    l=0.035,   \n",
    "    k_F=2e-6,  \n",
    "    k_M=1e-8, \n",
    ")"
   ]
  },
  {
   "attachments": {},
   "cell_type": "markdown",
   "metadata": {},
   "source": [
    "### 6.1.6 Set initial drone state"
   ]
  },
  {
   "cell_type": "code",
   "execution_count": 66,
   "id": "d1e4ad5e",
   "metadata": {},
   "outputs": [],
   "source": [
    "simulator.set_state(\n",
    "    'my_drone',\n",
    "    {\n",
    "        'o_x': 0.,\n",
    "        'o_y': 0.,\n",
    "        'o_z': 0.3,\n",
    "        'psi': 0.0,\n",
    "        'theta': 0.05,\n",
    "        'phi': 0.,\n",
    "        'v_x': 0.,\n",
    "        'v_y': 0.,\n",
    "        'v_z': 0.,\n",
    "        'w_x': 0.,\n",
    "        'w_y': 0.,\n",
    "        'w_z': 0.,\n",
    "        'alpha': -0.2\n",
    "    },\n",
    ")"
   ]
  },
  {
   "attachments": {},
   "cell_type": "markdown",
   "metadata": {},
   "source": [
    "### 6.1.7 Set simulation camera view"
   ]
  },
  {
   "cell_type": "code",
   "execution_count": 67,
   "id": "30671698",
   "metadata": {},
   "outputs": [],
   "source": [
    "simulator.set_camera_target('my_drone')\n",
    "simulator.set_camera_yaw(90.0)\n",
    "simulator.camera_sideview()"
   ]
  },
  {
   "attachments": {},
   "cell_type": "markdown",
   "metadata": {},
   "source": [
    "### 6.1.8 Run simulation"
   ]
  },
  {
   "cell_type": "code",
   "execution_count": 68,
   "id": "f8526f69",
   "metadata": {},
   "outputs": [
    {
     "name": "stdout",
     "output_type": "stream",
     "text": [
      "0.04999999999999999\n",
      "0.04999999999999999\n",
      "0.04999999999999999\n",
      "0.04999999999999999\n",
      "0.05000000000000001\n",
      "0.05000000000000004\n",
      "0.050000000000000065\n",
      "0.05000000000000009\n",
      "0.05000000000000012\n",
      "0.05000000000000015\n",
      "0.050000000000000176\n",
      "0.050000000000000204\n",
      "0.05000000000000023\n",
      "0.05000000000000028\n",
      "0.050000000000000336\n",
      "0.05000000000000039\n",
      "0.05000000000000045\n",
      "0.0500000000000005\n",
      "0.05000000000000056\n",
      "0.05000000000000061\n",
      "0.05000000000000067\n",
      "0.050000000000000724\n",
      "0.0500000000000008\n",
      "0.050000000000000884\n",
      "0.05000000000000097\n",
      "0.05000000000000105\n",
      "0.050000000000001134\n",
      "0.05000000000000122\n",
      "0.0500000000000013\n",
      "0.050000000000001384\n",
      "0.05000000000000147\n",
      "0.05000000000000155\n",
      "0.05000000000000163\n",
      "0.05000000000000172\n",
      "0.0500000000000018\n",
      "0.05000000000000188\n",
      "0.050000000000001966\n",
      "0.05000000000000205\n",
      "0.05000000000000213\n",
      "0.050000000000002216\n",
      "0.0500000000000023\n",
      "0.05000000000000238\n",
      "0.050000000000002466\n",
      "0.05000000000000255\n",
      "0.05000000000000263\n",
      "0.050000000000002716\n",
      "0.0500000000000028\n",
      "0.05000000000000288\n",
      "0.05000000000000299\n",
      "0.050000000000003104\n",
      "0.050000000000003215\n",
      "0.050000000000003327\n",
      "0.050000000000003444\n",
      "0.050000000000003555\n",
      "0.05000000000000366\n",
      "0.05000000000000377\n",
      "0.05000000000000388\n",
      "0.050000000000003965\n",
      "0.05000000000000405\n",
      "0.05000000000000413\n",
      "0.050000000000004215\n",
      "0.0500000000000043\n",
      "0.05000000000000438\n",
      "0.050000000000004464\n",
      "0.05000000000000455\n",
      "0.05000000000000463\n",
      "0.050000000000004714\n",
      "0.0500000000000048\n",
      "0.05000000000000488\n",
      "0.050000000000004964\n",
      "0.05000000000000505\n",
      "0.05000000000000513\n",
      "0.050000000000005214\n",
      "0.0500000000000053\n",
      "0.05000000000000538\n",
      "0.050000000000005464\n",
      "0.05000000000000555\n",
      "0.05000000000000563\n",
      "0.050000000000005713\n",
      "0.0500000000000058\n",
      "0.05000000000000588\n",
      "0.05000000000000596\n",
      "0.05000000000000605\n",
      "0.05000000000000613\n",
      "0.05000000000000621\n",
      "0.050000000000006296\n",
      "0.05000000000000638\n",
      "0.05000000000000646\n",
      "0.050000000000006546\n",
      "0.05000000000000663\n",
      "0.05000000000000671\n",
      "0.050000000000006796\n",
      "0.05000000000000688\n",
      "0.05000000000000696\n",
      "0.05000000000000702\n",
      "0.050000000000007074\n",
      "0.05000000000000713\n",
      "0.050000000000007185\n",
      "0.05000000000000724\n",
      "0.050000000000007296\n",
      "0.05000000000000735\n",
      "0.05000000000000741\n",
      "0.05000000000000746\n",
      "0.05000000000000752\n",
      "0.05000000000000757\n",
      "0.05000000000000763\n",
      "0.050000000000007684\n",
      "0.05000000000000774\n",
      "0.050000000000007795\n",
      "0.05000000000000785\n",
      "0.050000000000007906\n",
      "0.05000000000000796\n",
      "0.05000000000000802\n",
      "0.05000000000000807\n",
      "0.05000000000000813\n",
      "0.050000000000008184\n",
      "0.05000000000000824\n",
      "0.050000000000008295\n",
      "0.05000000000000835\n",
      "0.050000000000008406\n",
      "0.05000000000000846\n",
      "0.05000000000000852\n",
      "0.05000000000000857\n",
      "0.05000000000000863\n",
      "0.05000000000000868\n",
      "0.05000000000000874\n",
      "0.050000000000008794\n",
      "0.05000000000000885\n",
      "0.050000000000008905\n",
      "0.05000000000000897\n",
      "0.05000000000000902\n",
      "0.05000000000000908\n",
      "0.050000000000009134\n",
      "0.05000000000000919\n",
      "0.050000000000009245\n",
      "0.0500000000000093\n",
      "0.050000000000009356\n",
      "0.05000000000000941\n",
      "0.05000000000000947\n",
      "0.05000000000000952\n",
      "0.05000000000000958\n",
      "0.050000000000009634\n",
      "0.05000000000000969\n",
      "0.050000000000009745\n",
      "0.0500000000000098\n",
      "0.050000000000009856\n",
      "0.05000000000000991\n",
      "0.05000000000000997\n",
      "0.05000000000001002\n",
      "0.05000000000001008\n",
      "0.050000000000010134\n",
      "0.05000000000001019\n",
      "0.050000000000010245\n",
      "0.0500000000000103\n",
      "0.050000000000010356\n",
      "0.0500000000000104\n",
      "0.05000000000001045\n",
      "0.05000000000001051\n",
      "0.050000000000010564\n",
      "0.05000000000001062\n",
      "0.050000000000010675\n",
      "0.05000000000001073\n",
      "0.050000000000010786\n",
      "0.05000000000001084\n",
      "0.0500000000000109\n",
      "0.05000000000001095\n",
      "0.05000000000001101\n",
      "0.05000000000001107\n",
      "0.050000000000011126\n",
      "0.05000000000001118\n",
      "0.05000000000001124\n",
      "0.05000000000001129\n",
      "0.05000000000001135\n",
      "0.0500000000000114\n",
      "0.05000000000001146\n",
      "0.050000000000011514\n",
      "0.05000000000001157\n",
      "0.050000000000011625\n",
      "0.05000000000001168\n",
      "0.050000000000011736\n",
      "0.05000000000001179\n",
      "0.05000000000001185\n",
      "0.0500000000000119\n",
      "0.05000000000001196\n",
      "0.050000000000012014\n",
      "0.05000000000001207\n",
      "0.050000000000012125\n",
      "0.05000000000001218\n",
      "0.050000000000012236\n",
      "0.05000000000001229\n",
      "0.05000000000001235\n",
      "0.0500000000000124\n",
      "0.05000000000001246\n",
      "0.050000000000012514\n",
      "0.05000000000001257\n",
      "0.050000000000012625\n",
      "0.05000000000001268\n",
      "0.050000000000012736\n",
      "0.05000000000001279\n",
      "0.05000000000001285\n",
      "0.0500000000000129\n",
      "0.05000000000001296\n",
      "0.05000000000001301\n",
      "0.05000000000001307\n",
      "0.050000000000013124\n",
      "0.05000000000001318\n",
      "0.050000000000013235\n",
      "0.05000000000001329\n",
      "0.050000000000013346\n",
      "0.0500000000000134\n",
      "0.05000000000001346\n",
      "0.05000000000001351\n",
      "0.05000000000001357\n",
      "0.050000000000013624\n",
      "0.05000000000001368\n",
      "0.050000000000013735\n",
      "0.05000000000001379\n",
      "0.050000000000013846\n",
      "0.0500000000000139\n",
      "0.05000000000001396\n",
      "0.05000000000001401\n",
      "0.05000000000001407\n",
      "0.05000000000001412\n",
      "0.05000000000001418\n",
      "0.050000000000014234\n",
      "0.05000000000001429\n",
      "0.050000000000014345\n",
      "0.0500000000000144\n",
      "0.050000000000014456\n",
      "0.05000000000001452\n",
      "0.050000000000014574\n",
      "0.05000000000001463\n",
      "0.050000000000014685\n",
      "0.05000000000001474\n",
      "0.050000000000014796\n",
      "0.05000000000001485\n",
      "0.05000000000001491\n",
      "0.05000000000001496\n",
      "0.05000000000001502\n",
      "0.050000000000015074\n",
      "0.05000000000001513\n",
      "0.050000000000015185\n",
      "0.05000000000001524\n",
      "0.050000000000015296\n",
      "0.05000000000001535\n",
      "0.05000000000001541\n",
      "0.05000000000001546\n",
      "0.05000000000001552\n",
      "0.050000000000015574\n",
      "0.05000000000001563\n",
      "0.050000000000015685\n",
      "0.05000000000001574\n",
      "0.050000000000015796\n",
      "0.05000000000001585\n",
      "0.05000000000001591\n",
      "0.05000000000001596\n",
      "0.05000000000001602\n",
      "0.05000000000001607\n",
      "0.05000000000001613\n",
      "0.050000000000016184\n",
      "0.05000000000001624\n",
      "0.050000000000016295\n",
      "0.05000000000001635\n",
      "0.050000000000016406\n",
      "0.05000000000001646\n",
      "0.05000000000001652\n",
      "0.05000000000001657\n",
      "0.05000000000001663\n",
      "0.050000000000016684\n",
      "0.05000000000001674\n",
      "0.050000000000016795\n",
      "0.05000000000001685\n",
      "0.050000000000016906\n",
      "0.05000000000001696\n",
      "0.05000000000001702\n",
      "0.05000000000001706\n",
      "0.050000000000017114\n",
      "0.05000000000001717\n",
      "0.050000000000017225\n",
      "0.05000000000001728\n",
      "0.050000000000017336\n",
      "0.05000000000001739\n",
      "0.05000000000001745\n",
      "0.0500000000000175\n",
      "0.05000000000001756\n",
      "0.050000000000017614\n",
      "0.05000000000001767\n",
      "0.050000000000017725\n",
      "0.05000000000001778\n",
      "0.050000000000017836\n",
      "0.05000000000001789\n",
      "0.05000000000001795\n",
      "0.050000000000018\n",
      "0.05000000000001806\n",
      "0.05000000000001811\n",
      "0.05000000000001817\n",
      "0.050000000000018224\n",
      "0.05000000000001828\n",
      "0.050000000000018335\n",
      "0.05000000000001839\n",
      "0.050000000000018446\n",
      "0.0500000000000185\n",
      "0.05000000000001856\n",
      "0.05000000000001861\n",
      "0.05000000000001867\n",
      "0.050000000000018724\n",
      "0.05000000000001878\n",
      "0.050000000000018835\n",
      "0.05000000000001889\n",
      "0.050000000000018946\n",
      "0.050000000000019\n",
      "0.05000000000001906\n",
      "0.05000000000001911\n",
      "0.05000000000001917\n",
      "0.050000000000019224\n",
      "0.05000000000001928\n",
      "0.050000000000019335\n",
      "0.05000000000001939\n",
      "0.050000000000019446\n",
      "0.0500000000000195\n",
      "0.05000000000001956\n",
      "0.05000000000001961\n",
      "0.05000000000001967\n",
      "0.05000000000001972\n",
      "0.05000000000001978\n",
      "0.050000000000019834\n",
      "0.05000000000001989\n",
      "0.05000000000001995\n",
      "0.05000000000002001\n",
      "0.05000000000002007\n",
      "0.050000000000020126\n",
      "0.05000000000002018\n",
      "0.05000000000002024\n",
      "0.05000000000002029\n",
      "0.05000000000002035\n",
      "0.050000000000020396\n",
      "0.05000000000002045\n",
      "0.05000000000002051\n",
      "0.05000000000002056\n",
      "0.05000000000002062\n",
      "0.050000000000020674\n",
      "0.05000000000002073\n",
      "0.050000000000020785\n",
      "0.05000000000002084\n",
      "0.050000000000020896\n",
      "0.05000000000002095\n",
      "0.05000000000002101\n",
      "0.05000000000002106\n",
      "0.05000000000002112\n",
      "0.05000000000002117\n",
      "0.05000000000002123\n",
      "0.050000000000021284\n",
      "0.05000000000002134\n",
      "0.050000000000021395\n",
      "0.05000000000002145\n",
      "0.050000000000021506\n",
      "0.05000000000002156\n",
      "0.05000000000002162\n",
      "0.05000000000002167\n",
      "0.05000000000002173\n",
      "0.050000000000021784\n",
      "0.05000000000002184\n",
      "0.050000000000021895\n",
      "0.05000000000002195\n",
      "0.050000000000022006\n",
      "0.05000000000002206\n",
      "0.05000000000002212\n",
      "0.05000000000002217\n",
      "0.05000000000002223\n",
      "0.050000000000022284\n",
      "0.05000000000002234\n",
      "0.050000000000022395\n",
      "0.05000000000002245\n",
      "0.050000000000022506\n",
      "0.05000000000002256\n",
      "0.05000000000002262\n",
      "0.05000000000002267\n",
      "0.05000000000002273\n",
      "0.05000000000002278\n",
      "0.05000000000002284\n",
      "0.050000000000022894\n",
      "0.05000000000002295\n",
      "0.050000000000023005\n",
      "0.05000000000002306\n",
      "0.050000000000023116\n",
      "0.05000000000002317\n",
      "0.05000000000002323\n",
      "0.05000000000002328\n",
      "0.05000000000002334\n",
      "0.050000000000023394\n",
      "0.05000000000002345\n",
      "0.050000000000023505\n",
      "0.05000000000002356\n",
      "0.050000000000023616\n",
      "0.05000000000002367\n",
      "0.05000000000002373\n",
      "0.05000000000002378\n",
      "0.05000000000002384\n",
      "0.05000000000002389\n",
      "0.05000000000002395\n",
      "0.050000000000024004\n",
      "0.05000000000002406\n",
      "0.050000000000024115\n",
      "0.05000000000002417\n",
      "0.050000000000024226\n",
      "0.05000000000002428\n",
      "0.05000000000002434\n",
      "0.05000000000002439\n",
      "0.05000000000002445\n",
      "0.050000000000024504\n",
      "0.05000000000002456\n",
      "0.050000000000024615\n",
      "0.05000000000002467\n",
      "0.050000000000024726\n",
      "0.05000000000002478\n",
      "0.05000000000002484\n",
      "0.05000000000002489\n",
      "0.05000000000002495\n",
      "0.050000000000025004\n",
      "0.05000000000002506\n",
      "0.050000000000025115\n",
      "0.05000000000002517\n",
      "0.050000000000025226\n",
      "0.05000000000002528\n",
      "0.05000000000002534\n",
      "0.05000000000002539\n",
      "0.05000000000002545\n",
      "0.0500000000000255\n",
      "0.05000000000002556\n",
      "0.05000000000002562\n",
      "0.05000000000002568\n",
      "0.05000000000002573\n",
      "0.05000000000002579\n",
      "0.05000000000002584\n",
      "0.0500000000000259\n",
      "0.05000000000002595\n",
      "0.050000000000026\n",
      "0.05000000000002606\n",
      "0.050000000000026114\n",
      "0.05000000000002617\n",
      "0.050000000000026225\n",
      "0.05000000000002628\n",
      "0.050000000000026336\n",
      "0.05000000000002639\n",
      "0.05000000000002645\n",
      "0.0500000000000265\n",
      "0.05000000000002656\n",
      "0.05000000000002661\n",
      "0.05000000000002667\n",
      "0.050000000000026724\n",
      "0.05000000000002678\n",
      "0.050000000000026835\n",
      "0.05000000000002689\n",
      "0.050000000000026947\n",
      "0.050000000000027\n",
      "0.05000000000002706\n",
      "0.05000000000002711\n",
      "0.05000000000002717\n",
      "0.050000000000027224\n",
      "0.05000000000002728\n",
      "0.050000000000027335\n",
      "0.05000000000002739\n",
      "0.050000000000027446\n",
      "0.0500000000000275\n",
      "0.05000000000002756\n",
      "0.05000000000002761\n",
      "0.05000000000002767\n",
      "0.050000000000027724\n",
      "0.05000000000002778\n",
      "0.050000000000027835\n",
      "0.05000000000002789\n",
      "0.050000000000027946\n",
      "0.050000000000028\n",
      "0.05000000000002806\n",
      "0.05000000000002811\n",
      "0.05000000000002816\n",
      "0.050000000000028216\n",
      "0.05000000000002827\n",
      "0.05000000000002833\n",
      "0.05000000000002838\n",
      "0.05000000000002844\n",
      "0.050000000000028494\n",
      "0.05000000000002855\n",
      "0.050000000000028605\n",
      "0.05000000000002866\n",
      "0.050000000000028716\n",
      "0.05000000000002877\n",
      "0.05000000000002883\n",
      "0.05000000000002888\n",
      "0.05000000000002894\n",
      "0.050000000000028993\n",
      "0.05000000000002905\n",
      "0.050000000000029104\n",
      "0.05000000000002916\n",
      "0.050000000000029216\n",
      "0.05000000000002928\n",
      "0.050000000000029333\n",
      "0.05000000000002939\n",
      "0.050000000000029445\n",
      "0.0500000000000295\n",
      "0.050000000000029556\n",
      "0.05000000000002961\n",
      "0.05000000000002967\n",
      "0.05000000000002972\n",
      "0.05000000000002978\n",
      "0.05000000000002983\n",
      "0.05000000000002989\n",
      "0.050000000000029944\n",
      "0.05000000000003\n",
      "0.050000000000030055\n",
      "0.05000000000003011\n",
      "0.050000000000030166\n",
      "0.05000000000003022\n",
      "0.05000000000003028\n",
      "0.05000000000003033\n",
      "0.05000000000003039\n",
      "0.050000000000030444\n",
      "0.0500000000000305\n",
      "0.050000000000030555\n",
      "0.05000000000003061\n",
      "0.050000000000030666\n",
      "0.05000000000003072\n",
      "0.05000000000003078\n",
      "0.05000000000003083\n",
      "0.05000000000003089\n",
      "0.05000000000003094\n",
      "0.050000000000031\n",
      "0.050000000000031054\n",
      "0.05000000000003111\n",
      "0.05000000000003117\n",
      "0.05000000000003123\n",
      "0.05000000000003128\n",
      "0.05000000000003134\n",
      "0.050000000000031394\n",
      "0.05000000000003145\n",
      "0.050000000000031505\n",
      "0.05000000000003156\n",
      "0.050000000000031616\n",
      "0.05000000000003167\n",
      "0.05000000000003173\n",
      "0.05000000000003178\n",
      "0.05000000000003184\n",
      "0.050000000000031894\n",
      "0.05000000000003195\n",
      "0.050000000000032005\n",
      "0.05000000000003206\n",
      "0.050000000000032116\n",
      "0.05000000000003217\n",
      "0.05000000000003223\n",
      "0.05000000000003228\n",
      "0.05000000000003234\n",
      "0.050000000000032394\n",
      "0.05000000000003245\n",
      "0.050000000000032505\n",
      "0.05000000000003256\n",
      "0.050000000000032616\n",
      "0.05000000000003267\n",
      "0.05000000000003273\n",
      "0.05000000000003278\n",
      "0.05000000000003284\n",
      "0.05000000000003289\n",
      "0.05000000000003295\n",
      "0.050000000000033004\n",
      "0.05000000000003306\n",
      "0.050000000000033115\n",
      "0.05000000000003317\n",
      "0.050000000000033226\n",
      "0.05000000000003328\n",
      "0.05000000000003334\n",
      "0.05000000000003339\n",
      "0.05000000000003345\n",
      "0.050000000000033504\n",
      "0.05000000000003356\n",
      "0.050000000000033615\n",
      "0.05000000000003367\n",
      "0.050000000000033726\n",
      "0.05000000000003378\n",
      "0.05000000000003384\n",
      "0.05000000000003389\n",
      "0.05000000000003395\n",
      "0.050000000000034\n",
      "0.05000000000003406\n",
      "0.050000000000034114\n",
      "0.05000000000003417\n",
      "0.050000000000034225\n",
      "0.05000000000003428\n",
      "0.050000000000034336\n",
      "0.05000000000003439\n",
      "0.05000000000003445\n",
      "0.0500000000000345\n",
      "0.05000000000003456\n",
      "0.050000000000034614\n",
      "0.05000000000003467\n",
      "0.050000000000034725\n",
      "0.05000000000003478\n",
      "0.05000000000003482\n",
      "0.05000000000003488\n",
      "0.05000000000003493\n",
      "0.05000000000003499\n",
      "0.050000000000035044\n",
      "0.0500000000000351\n",
      "0.050000000000035155\n",
      "0.05000000000003521\n",
      "0.050000000000035266\n",
      "0.05000000000003532\n",
      "0.05000000000003538\n",
      "0.05000000000003543\n",
      "0.05000000000003549\n",
      "0.050000000000035544\n",
      "0.0500000000000356\n",
      "0.050000000000035655\n",
      "0.05000000000003571\n",
      "0.050000000000035766\n",
      "0.05000000000003582\n",
      "0.05000000000003588\n",
      "0.05000000000003593\n",
      "0.05000000000003599\n",
      "0.05000000000003604\n",
      "0.0500000000000361\n",
      "0.050000000000036154\n",
      "0.05000000000003621\n",
      "0.050000000000036265\n",
      "0.05000000000003632\n",
      "0.050000000000036376\n",
      "0.05000000000003643\n",
      "0.05000000000003649\n",
      "0.05000000000003654\n",
      "0.0500000000000366\n",
      "0.050000000000036654\n",
      "0.050000000000036716\n",
      "0.05000000000003677\n",
      "0.05000000000003683\n",
      "0.05000000000003688\n",
      "0.05000000000003694\n",
      "0.050000000000036994\n",
      "0.05000000000003705\n",
      "0.050000000000037105\n",
      "0.05000000000003716\n",
      "0.050000000000037216\n",
      "0.05000000000003727\n",
      "0.05000000000003733\n",
      "0.05000000000003738\n",
      "0.05000000000003744\n",
      "0.050000000000037494\n",
      "0.05000000000003755\n",
      "0.050000000000037605\n",
      "0.05000000000003766\n",
      "0.050000000000037716\n",
      "0.05000000000003777\n",
      "0.05000000000003783\n",
      "0.05000000000003788\n",
      "0.05000000000003794\n",
      "0.05000000000003799\n",
      "0.05000000000003805\n",
      "0.050000000000038104\n",
      "0.05000000000003815\n",
      "0.05000000000003821\n",
      "0.050000000000038264\n",
      "0.05000000000003832\n",
      "0.050000000000038375\n",
      "0.05000000000003843\n",
      "0.050000000000038486\n",
      "0.05000000000003854\n",
      "0.0500000000000386\n",
      "0.05000000000003865\n",
      "0.05000000000003871\n",
      "0.05000000000003876\n",
      "0.05000000000003882\n",
      "0.050000000000038874\n",
      "0.05000000000003893\n",
      "0.050000000000038985\n",
      "0.05000000000003904\n",
      "0.050000000000039097\n",
      "0.05000000000003915\n",
      "0.0500000000000392\n",
      "0.050000000000039256\n",
      "0.05000000000003931\n",
      "0.05000000000003937\n",
      "0.05000000000003942\n",
      "0.05000000000003948\n",
      "0.050000000000039534\n",
      "0.05000000000003959\n",
      "0.050000000000039645\n",
      "0.0500000000000397\n",
      "0.050000000000039756\n",
      "0.05000000000003981\n",
      "0.05000000000003987\n",
      "0.05000000000003992\n",
      "0.05000000000003998\n",
      "0.05000000000004003\n",
      "0.05000000000004009\n",
      "0.050000000000040144\n",
      "0.0500000000000402\n",
      "0.050000000000040255\n",
      "0.05000000000004031\n",
      "0.050000000000040366\n",
      "0.05000000000004042\n",
      "0.05000000000004048\n",
      "0.05000000000004053\n",
      "0.050000000000040574\n",
      "0.0500000000000406\n",
      "0.05000000000004063\n",
      "0.05000000000004066\n",
      "0.050000000000040686\n",
      "0.05000000000004071\n",
      "0.05000000000004074\n",
      "0.05000000000004077\n",
      "0.0500000000000408\n",
      "0.050000000000040824\n",
      "0.05000000000004085\n",
      "0.05000000000004088\n",
      "0.05000000000004091\n",
      "0.050000000000040935\n",
      "0.05000000000004096\n",
      "0.05000000000004099\n",
      "0.05000000000004102\n",
      "0.050000000000041046\n",
      "0.050000000000041074\n",
      "0.0500000000000411\n",
      "0.05000000000004113\n",
      "0.05000000000004116\n",
      "0.050000000000041185\n",
      "0.05000000000004121\n",
      "0.05000000000004124\n",
      "0.05000000000004127\n",
      "0.050000000000041296\n",
      "0.050000000000041324\n",
      "0.05000000000004135\n",
      "0.05000000000004138\n",
      "0.05000000000004141\n",
      "0.050000000000041435\n",
      "0.05000000000004146\n",
      "0.05000000000004149\n",
      "0.05000000000004152\n",
      "0.050000000000041546\n",
      "0.050000000000041574\n",
      "0.0500000000000416\n",
      "0.05000000000004163\n",
      "0.05000000000004166\n",
      "0.050000000000041685\n",
      "0.05000000000004171\n",
      "0.05000000000004174\n",
      "0.05000000000004177\n",
      "0.050000000000041796\n",
      "0.050000000000041823\n",
      "0.05000000000004185\n",
      "0.05000000000004188\n",
      "0.05000000000004191\n",
      "0.050000000000041935\n",
      "0.05000000000004196\n",
      "0.05000000000004199\n",
      "0.05000000000004202\n",
      "0.050000000000042046\n",
      "0.05000000000004207\n",
      "0.0500000000000421\n",
      "0.05000000000004213\n",
      "0.05000000000004216\n",
      "0.050000000000042184\n",
      "0.05000000000004221\n",
      "0.05000000000004224\n",
      "0.050000000000042275\n",
      "0.0500000000000423\n",
      "0.05000000000004233\n",
      "0.05000000000004236\n",
      "0.050000000000042386\n",
      "0.05000000000004241\n",
      "0.05000000000004244\n",
      "0.05000000000004247\n",
      "0.0500000000000425\n",
      "0.050000000000042524\n",
      "0.05000000000004255\n",
      "0.05000000000004258\n",
      "0.05000000000004261\n",
      "0.050000000000042635\n",
      "0.05000000000004266\n",
      "0.05000000000004269\n",
      "0.05000000000004272\n",
      "0.050000000000042746\n",
      "0.050000000000042774\n",
      "0.0500000000000428\n",
      "0.05000000000004283\n",
      "0.05000000000004286\n",
      "0.050000000000042885\n",
      "0.05000000000004291\n",
      "0.05000000000004294\n",
      "0.05000000000004297\n",
      "0.050000000000042996\n",
      "0.050000000000043024\n",
      "0.05000000000004305\n",
      "0.05000000000004308\n",
      "0.05000000000004311\n",
      "0.050000000000043135\n",
      "0.05000000000004316\n",
      "0.05000000000004319\n",
      "0.05000000000004322\n",
      "0.050000000000043246\n",
      "0.050000000000043274\n",
      "0.0500000000000433\n",
      "0.05000000000004333\n",
      "0.05000000000004336\n",
      "0.050000000000043385\n",
      "0.05000000000004341\n",
      "0.05000000000004344\n",
      "0.05000000000004347\n",
      "0.050000000000043496\n",
      "0.050000000000043524\n",
      "0.05000000000004355\n",
      "0.05000000000004358\n",
      "0.05000000000004361\n",
      "0.050000000000043635\n",
      "0.050000000000043655\n",
      "0.05000000000004368\n",
      "0.050000000000043704\n",
      "0.05000000000004373\n",
      "0.05000000000004376\n",
      "0.05000000000004379\n",
      "0.050000000000043815\n",
      "0.05000000000004384\n",
      "0.05000000000004387\n",
      "0.0500000000000439\n",
      "0.050000000000043926\n",
      "0.050000000000043954\n",
      "0.05000000000004398\n",
      "0.05000000000004401\n",
      "0.05000000000004404\n",
      "0.050000000000044065\n",
      "0.05000000000004409\n",
      "0.05000000000004412\n",
      "0.05000000000004415\n",
      "0.050000000000044176\n",
      "0.050000000000044204\n",
      "0.05000000000004423\n",
      "0.05000000000004426\n",
      "0.05000000000004429\n",
      "0.050000000000044315\n",
      "0.05000000000004434\n",
      "0.05000000000004437\n",
      "0.0500000000000444\n",
      "0.050000000000044426\n",
      "0.05000000000004445\n",
      "0.05000000000004448\n",
      "0.05000000000004451\n",
      "0.05000000000004454\n",
      "0.050000000000044564\n",
      "0.05000000000004459\n",
      "0.05000000000004462\n",
      "0.05000000000004465\n",
      "0.050000000000044675\n",
      "0.0500000000000447\n",
      "0.05000000000004473\n",
      "0.05000000000004476\n",
      "0.050000000000044786\n",
      "0.050000000000044814\n",
      "0.05000000000004484\n",
      "0.05000000000004487\n",
      "0.0500000000000449\n",
      "0.050000000000044925\n",
      "0.05000000000004495\n",
      "0.05000000000004498\n",
      "0.05000000000004501\n",
      "0.050000000000045036\n",
      "0.050000000000045064\n",
      "0.05000000000004509\n",
      "0.05000000000004512\n",
      "0.05000000000004515\n",
      "0.050000000000045175\n",
      "0.0500000000000452\n",
      "0.05000000000004523\n",
      "0.05000000000004526\n",
      "0.050000000000045286\n",
      "0.050000000000045314\n",
      "0.05000000000004534\n",
      "0.05000000000004537\n",
      "0.0500000000000454\n",
      "0.050000000000045425\n",
      "0.05000000000004545\n",
      "0.05000000000004548\n",
      "0.05000000000004551\n",
      "0.050000000000045536\n",
      "0.050000000000045564\n",
      "0.05000000000004559\n",
      "0.05000000000004562\n",
      "0.05000000000004565\n",
      "0.050000000000045675\n",
      "0.0500000000000457\n",
      "0.05000000000004573\n",
      "0.05000000000004576\n",
      "0.050000000000045786\n",
      "0.05000000000004581\n",
      "0.05000000000004584\n",
      "0.05000000000004587\n",
      "0.0500000000000459\n",
      "0.050000000000045924\n",
      "0.05000000000004595\n",
      "0.05000000000004598\n",
      "0.05000000000004601\n",
      "0.050000000000046035\n",
      "0.05000000000004606\n",
      "0.05000000000004609\n",
      "0.05000000000004612\n",
      "0.050000000000046146\n",
      "0.050000000000046174\n",
      "0.0500000000000462\n",
      "0.05000000000004623\n",
      "0.05000000000004626\n",
      "0.050000000000046285\n",
      "0.05000000000004631\n",
      "0.05000000000004634\n",
      "0.05000000000004637\n",
      "0.050000000000046396\n",
      "0.050000000000046424\n",
      "0.05000000000004645\n",
      "0.05000000000004648\n",
      "0.05000000000004651\n",
      "0.050000000000046535\n",
      "0.05000000000004656\n",
      "0.05000000000004659\n",
      "0.05000000000004662\n",
      "0.050000000000046646\n",
      "0.050000000000046674\n",
      "0.0500000000000467\n",
      "0.05000000000004673\n",
      "0.05000000000004676\n",
      "0.050000000000046785\n",
      "0.05000000000004681\n",
      "0.05000000000004684\n",
      "0.05000000000004687\n",
      "0.050000000000046896\n",
      "0.050000000000046924\n",
      "0.05000000000004695\n",
      "0.05000000000004698\n",
      "0.05000000000004701\n",
      "0.05000000000004705\n",
      "0.050000000000047076\n",
      "0.050000000000047104\n",
      "0.05000000000004713\n",
      "0.05000000000004716\n",
      "0.05000000000004719\n",
      "0.050000000000047215\n",
      "0.05000000000004724\n",
      "0.05000000000004727\n",
      "0.0500000000000473\n",
      "0.050000000000047326\n",
      "0.050000000000047354\n",
      "0.05000000000004738\n",
      "0.05000000000004741\n",
      "0.05000000000004744\n",
      "0.050000000000047465\n",
      "0.05000000000004749\n",
      "0.05000000000004752\n",
      "0.05000000000004755\n",
      "0.050000000000047576\n",
      "0.050000000000047604\n",
      "0.05000000000004763\n",
      "0.05000000000004766\n",
      "0.05000000000004769\n",
      "0.050000000000047715\n",
      "0.05000000000004774\n",
      "0.05000000000004777\n",
      "0.050000000000047805\n",
      "0.05000000000004783\n",
      "0.05000000000004786\n",
      "0.05000000000004789\n",
      "0.050000000000047916\n",
      "0.050000000000047944\n",
      "0.05000000000004797\n",
      "0.050000000000048\n",
      "0.05000000000004803\n",
      "0.050000000000048055\n",
      "0.05000000000004808\n",
      "0.050000000000048096\n",
      "0.050000000000048124\n",
      "0.05000000000004815\n",
      "0.05000000000004818\n",
      "0.05000000000004821\n",
      "0.050000000000048235\n",
      "0.05000000000004826\n",
      "0.05000000000004829\n",
      "0.05000000000004832\n",
      "0.050000000000048346\n",
      "0.050000000000048374\n",
      "0.0500000000000484\n",
      "0.05000000000004843\n",
      "0.05000000000004846\n",
      "0.050000000000048485\n",
      "0.05000000000004851\n",
      "0.05000000000004854\n",
      "0.05000000000004857\n",
      "0.050000000000048596\n",
      "0.050000000000048624\n",
      "0.05000000000004865\n",
      "0.05000000000004868\n",
      "0.05000000000004871\n",
      "0.050000000000048735\n",
      "0.05000000000004876\n",
      "0.05000000000004879\n",
      "0.05000000000004882\n",
      "0.050000000000048846\n",
      "0.05000000000004887\n",
      "0.0500000000000489\n",
      "0.05000000000004893\n",
      "0.05000000000004896\n",
      "0.050000000000048984\n",
      "0.05000000000004901\n",
      "0.05000000000004904\n",
      "0.05000000000004907\n",
      "0.050000000000049095\n",
      "0.05000000000004912\n",
      "0.05000000000004915\n",
      "0.05000000000004918\n",
      "0.050000000000049206\n",
      "0.050000000000049234\n",
      "0.05000000000004926\n",
      "0.05000000000004929\n",
      "0.05000000000004932\n",
      "0.050000000000049345\n",
      "0.05000000000004937\n",
      "0.0500000000000494\n",
      "0.05000000000004943\n",
      "0.050000000000049456\n",
      "0.050000000000049484\n",
      "0.05000000000004951\n",
      "0.05000000000004954\n",
      "0.05000000000004957\n",
      "0.050000000000049595\n",
      "0.05000000000004962\n",
      "0.05000000000004965\n",
      "0.05000000000004968\n",
      "0.050000000000049706\n",
      "0.050000000000049734\n",
      "0.05000000000004976\n",
      "0.05000000000004979\n",
      "0.05000000000004982\n",
      "0.050000000000049845\n",
      "0.05000000000004987\n",
      "0.0500000000000499\n",
      "0.05000000000004993\n",
      "0.050000000000049956\n",
      "0.050000000000049984\n",
      "0.05000000000005001\n",
      "0.05000000000005004\n",
      "0.05000000000005007\n",
      "0.050000000000050095\n",
      "0.05000000000005012\n",
      "0.05000000000005015\n",
      "0.05000000000005018\n",
      "0.050000000000050206\n",
      "0.05000000000005023\n",
      "0.05000000000005026\n",
      "0.05000000000005029\n",
      "0.05000000000005032\n",
      "0.050000000000050344\n",
      "0.05000000000005037\n",
      "0.0500000000000504\n",
      "0.05000000000005043\n",
      "0.050000000000050455\n",
      "0.05000000000005048\n",
      "0.05000000000005051\n",
      "0.05000000000005054\n",
      "0.050000000000050566\n",
      "0.050000000000050594\n",
      "0.05000000000005062\n",
      "0.05000000000005065\n",
      "0.05000000000005068\n",
      "0.050000000000050705\n",
      "0.05000000000005073\n",
      "0.05000000000005076\n",
      "0.05000000000005079\n",
      "0.050000000000050816\n",
      "0.050000000000050844\n",
      "0.05000000000005087\n",
      "0.0500000000000509\n",
      "0.05000000000005093\n",
      "0.050000000000050955\n",
      "0.05000000000005098\n",
      "0.05000000000005101\n",
      "0.05000000000005104\n",
      "0.050000000000051066\n",
      "0.050000000000051094\n",
      "0.05000000000005112\n",
      "0.05000000000005115\n",
      "0.05000000000005118\n",
      "0.050000000000051205\n",
      "0.05000000000005123\n",
      "0.05000000000005126\n",
      "0.05000000000005129\n",
      "0.050000000000051316\n",
      "0.050000000000051344\n",
      "0.05000000000005137\n",
      "0.0500000000000514\n",
      "0.05000000000005143\n",
      "0.050000000000051455\n",
      "0.05000000000005148\n",
      "0.05000000000005151\n",
      "0.05000000000005154\n",
      "0.050000000000051566\n",
      "0.05000000000005159\n",
      "0.05000000000005162\n",
      "0.05000000000005165\n",
      "0.05000000000005168\n",
      "0.050000000000051704\n",
      "0.05000000000005173\n",
      "0.05000000000005176\n",
      "0.05000000000005179\n",
      "0.050000000000051815\n",
      "0.05000000000005184\n",
      "0.05000000000005187\n",
      "0.0500000000000519\n",
      "0.050000000000051927\n",
      "0.050000000000051954\n",
      "0.05000000000005198\n",
      "0.05000000000005201\n",
      "0.05000000000005204\n",
      "0.050000000000052065\n",
      "0.05000000000005209\n",
      "0.05000000000005212\n",
      "0.05000000000005215\n",
      "0.050000000000052176\n",
      "0.050000000000052204\n",
      "0.05000000000005223\n",
      "0.05000000000005226\n",
      "0.05000000000005229\n",
      "0.050000000000052315\n",
      "0.05000000000005234\n",
      "0.05000000000005237\n",
      "0.0500000000000524\n",
      "0.050000000000052426\n",
      "0.050000000000052454\n",
      "0.05000000000005248\n",
      "0.05000000000005251\n",
      "0.05000000000005254\n",
      "0.050000000000052565\n",
      "0.05000000000005258\n",
      "0.050000000000052607\n",
      "0.050000000000052634\n",
      "0.05000000000005266\n",
      "0.05000000000005269\n",
      "0.05000000000005272\n",
      "0.050000000000052745\n",
      "0.05000000000005277\n",
      "0.0500000000000528\n",
      "0.05000000000005283\n",
      "0.050000000000052856\n",
      "0.050000000000052884\n",
      "0.05000000000005291\n",
      "0.05000000000005294\n",
      "0.05000000000005297\n",
      "0.050000000000052995\n",
      "0.05000000000005302\n",
      "0.05000000000005305\n",
      "0.05000000000005308\n",
      "0.050000000000053106\n",
      "0.050000000000053134\n",
      "0.05000000000005316\n",
      "0.05000000000005319\n",
      "0.05000000000005322\n",
      "0.050000000000053245\n",
      "0.05000000000005327\n",
      "0.0500000000000533\n",
      "0.05000000000005333\n",
      "0.05000000000005336\n",
      "0.05000000000005339\n",
      "0.05000000000005342\n",
      "0.050000000000053446\n",
      "0.050000000000053474\n",
      "0.0500000000000535\n",
      "0.05000000000005353\n",
      "0.05000000000005356\n",
      "0.050000000000053585\n",
      "0.05000000000005361\n",
      "0.05000000000005364\n",
      "0.05000000000005367\n",
      "0.050000000000053696\n",
      "0.050000000000053724\n",
      "0.05000000000005375\n",
      "0.05000000000005378\n",
      "0.05000000000005381\n",
      "0.050000000000053835\n",
      "0.05000000000005386\n",
      "0.05000000000005389\n",
      "0.05000000000005392\n",
      "0.050000000000053946\n",
      "0.050000000000053973\n",
      "0.050000000000054\n",
      "0.05000000000005403\n",
      "0.05000000000005406\n",
      "0.050000000000054085\n",
      "0.05000000000005411\n",
      "0.05000000000005414\n",
      "0.05000000000005417\n",
      "0.050000000000054196\n",
      "0.05000000000005422\n",
      "0.05000000000005425\n",
      "0.05000000000005428\n",
      "0.05000000000005431\n",
      "0.050000000000054334\n",
      "0.05000000000005436\n",
      "0.05000000000005439\n",
      "0.05000000000005442\n",
      "0.050000000000054445\n",
      "0.05000000000005447\n",
      "0.0500000000000545\n",
      "0.05000000000005453\n",
      "0.050000000000054556\n",
      "0.050000000000054584\n",
      "0.05000000000005461\n",
      "0.05000000000005464\n",
      "0.05000000000005467\n",
      "0.050000000000054695\n",
      "0.05000000000005472\n",
      "0.05000000000005475\n",
      "0.05000000000005478\n",
      "0.050000000000054806\n",
      "0.050000000000054834\n",
      "0.05000000000005486\n",
      "0.05000000000005489\n",
      "0.05000000000005492\n",
      "0.050000000000054945\n",
      "0.05000000000005497\n",
      "0.050000000000055\n",
      "0.05000000000005503\n",
      "0.050000000000055056\n",
      "0.050000000000055084\n",
      "0.05000000000005511\n",
      "0.05000000000005514\n",
      "0.05000000000005517\n",
      "0.050000000000055195\n",
      "0.05000000000005522\n",
      "0.05000000000005525\n",
      "0.05000000000005528\n",
      "0.050000000000055306\n",
      "0.050000000000055334\n",
      "0.05000000000005536\n",
      "0.05000000000005539\n",
      "0.05000000000005542\n",
      "0.050000000000055445\n",
      "0.05000000000005547\n",
      "0.0500000000000555\n",
      "0.05000000000005553\n",
      "0.050000000000055556\n",
      "0.05000000000005558\n",
      "0.05000000000005561\n",
      "0.05000000000005564\n",
      "0.05000000000005567\n",
      "0.050000000000055694\n",
      "0.05000000000005572\n",
      "0.05000000000005575\n",
      "0.05000000000005578\n",
      "0.050000000000055805\n",
      "0.05000000000005583\n",
      "0.05000000000005586\n",
      "0.05000000000005589\n",
      "0.05000000000005591\n",
      "0.05000000000005594\n",
      "0.050000000000055965\n",
      "0.05000000000005599\n",
      "0.05000000000005602\n",
      "0.05000000000005605\n",
      "0.050000000000056076\n",
      "0.050000000000056104\n",
      "0.05000000000005613\n",
      "0.05000000000005616\n",
      "0.05000000000005619\n",
      "0.050000000000056215\n",
      "0.05000000000005624\n",
      "0.05000000000005627\n",
      "0.0500000000000563\n",
      "0.050000000000056326\n",
      "0.050000000000056354\n",
      "0.05000000000005638\n",
      "0.05000000000005641\n",
      "0.05000000000005644\n",
      "0.050000000000056465\n",
      "0.05000000000005649\n",
      "0.05000000000005652\n",
      "0.05000000000005655\n",
      "0.050000000000056576\n",
      "0.0500000000000566\n",
      "0.05000000000005663\n",
      "0.05000000000005666\n",
      "0.05000000000005669\n",
      "0.050000000000056714\n",
      "0.05000000000005674\n",
      "0.05000000000005677\n",
      "0.0500000000000568\n",
      "0.050000000000056825\n",
      "0.05000000000005685\n",
      "0.05000000000005688\n",
      "0.05000000000005691\n",
      "0.050000000000056936\n",
      "0.050000000000056964\n",
      "0.05000000000005699\n",
      "0.05000000000005702\n",
      "0.05000000000005705\n",
      "0.050000000000057075\n",
      "0.0500000000000571\n",
      "0.05000000000005713\n",
      "0.05000000000005716\n",
      "0.050000000000057186\n",
      "0.050000000000057214\n",
      "0.05000000000005724\n",
      "0.05000000000005727\n",
      "0.0500000000000573\n",
      "0.050000000000057325\n",
      "0.05000000000005735\n",
      "0.05000000000005738\n",
      "0.05000000000005741\n",
      "0.050000000000057436\n",
      "0.050000000000057464\n",
      "0.05000000000005749\n",
      "0.05000000000005752\n",
      "0.05000000000005755\n",
      "0.050000000000057575\n",
      "0.0500000000000576\n",
      "0.05000000000005763\n",
      "0.05000000000005766\n",
      "0.050000000000057686\n",
      "0.050000000000057714\n",
      "0.05000000000005774\n",
      "0.05000000000005777\n",
      "0.0500000000000578\n",
      "0.050000000000057825\n",
      "0.05000000000005785\n",
      "0.05000000000005788\n",
      "0.05000000000005791\n",
      "0.050000000000057936\n",
      "0.05000000000005796\n",
      "0.05000000000005799\n",
      "0.05000000000005802\n",
      "0.05000000000005805\n",
      "0.050000000000058074\n",
      "0.0500000000000581\n",
      "0.05000000000005813\n",
      "0.05000000000005816\n",
      "0.050000000000058185\n",
      "0.05000000000005821\n",
      "0.05000000000005824\n",
      "0.05000000000005827\n",
      "0.050000000000058296\n",
      "0.050000000000058324\n",
      "0.05000000000005835\n",
      "0.05000000000005838\n",
      "0.05000000000005841\n",
      "0.050000000000058435\n",
      "0.05000000000005846\n",
      "0.05000000000005849\n",
      "0.05000000000005852\n",
      "0.050000000000058546\n",
      "0.050000000000058574\n",
      "0.0500000000000586\n",
      "0.05000000000005863\n",
      "0.05000000000005866\n",
      "0.050000000000058685\n",
      "0.05000000000005871\n",
      "0.05000000000005874\n",
      "0.05000000000005877\n",
      "0.050000000000058796\n",
      "0.050000000000058824\n",
      "0.05000000000005885\n",
      "0.05000000000005888\n",
      "0.050000000000058914\n",
      "0.05000000000005894\n",
      "0.05000000000005897\n",
      "0.050000000000059\n",
      "0.050000000000059025\n",
      "0.05000000000005905\n",
      "0.05000000000005908\n",
      "0.05000000000005911\n",
      "0.050000000000059136\n",
      "0.050000000000059164\n",
      "0.05000000000005919\n",
      "0.05000000000005922\n",
      "0.05000000000005925\n",
      "0.050000000000059275\n",
      "0.0500000000000593\n",
      "0.05000000000005933\n",
      "0.05000000000005936\n",
      "0.050000000000059386\n",
      "0.050000000000059414\n",
      "0.05000000000005944\n",
      "0.05000000000005947\n",
      "0.0500000000000595\n",
      "0.050000000000059525\n",
      "0.05000000000005955\n",
      "0.05000000000005958\n",
      "0.05000000000005961\n",
      "0.050000000000059636\n",
      "0.05000000000005966\n",
      "0.05000000000005969\n",
      "0.05000000000005972\n",
      "0.05000000000005975\n",
      "0.050000000000059774\n",
      "0.0500000000000598\n",
      "0.05000000000005983\n",
      "0.05000000000005986\n",
      "0.050000000000059885\n",
      "0.05000000000005991\n",
      "0.05000000000005994\n",
      "0.05000000000005997\n",
      "0.05000000000006\n",
      "0.05000000000006003\n",
      "0.05000000000006006\n",
      "0.05000000000006009\n",
      "0.050000000000060114\n",
      "0.05000000000006014\n",
      "0.05000000000006017\n",
      "0.0500000000000602\n",
      "0.050000000000060225\n",
      "0.05000000000006025\n",
      "0.05000000000006028\n",
      "0.05000000000006031\n",
      "0.050000000000060336\n",
      "0.050000000000060364\n",
      "0.05000000000006039\n",
      "0.05000000000006042\n",
      "0.05000000000006045\n",
      "0.050000000000060475\n",
      "0.0500000000000605\n",
      "0.05000000000006053\n",
      "0.05000000000006056\n",
      "0.050000000000060586\n",
      "0.050000000000060614\n",
      "0.05000000000006064\n",
      "0.05000000000006067\n",
      "0.0500000000000607\n",
      "0.050000000000060725\n",
      "0.05000000000006075\n",
      "0.05000000000006078\n",
      "0.05000000000006081\n",
      "0.050000000000060836\n",
      "0.050000000000060864\n",
      "0.05000000000006089\n",
      "0.05000000000006092\n",
      "0.05000000000006095\n",
      "0.050000000000060975\n",
      "0.050000000000061\n",
      "0.05000000000006103\n",
      "0.05000000000006106\n",
      "0.050000000000061086\n",
      "0.050000000000061114\n",
      "0.05000000000006114\n",
      "0.05000000000006117\n",
      "0.0500000000000612\n",
      "0.050000000000061225\n",
      "0.05000000000006125\n",
      "0.05000000000006128\n",
      "0.05000000000006131\n",
      "0.050000000000061336\n",
      "0.05000000000006136\n",
      "0.05000000000006139\n",
      "0.05000000000006142\n",
      "0.05000000000006145\n",
      "0.05000000000006147\n",
      "0.050000000000061495\n",
      "0.05000000000006152\n",
      "0.05000000000006155\n",
      "0.05000000000006158\n",
      "0.050000000000061606\n",
      "0.050000000000061634\n",
      "0.05000000000006166\n",
      "0.05000000000006169\n",
      "0.05000000000006172\n",
      "0.050000000000061745\n",
      "0.05000000000006177\n",
      "0.0500000000000618\n",
      "0.05000000000006183\n",
      "0.050000000000061856\n",
      "0.050000000000061884\n",
      "0.05000000000006191\n",
      "0.05000000000006194\n",
      "0.05000000000006197\n",
      "0.050000000000061995\n",
      "0.05000000000006202\n",
      "0.05000000000006205\n",
      "0.05000000000006208\n",
      "0.050000000000062106\n",
      "0.050000000000062134\n",
      "0.05000000000006216\n",
      "0.05000000000006219\n",
      "0.05000000000006222\n",
      "0.050000000000062245\n",
      "0.05000000000006227\n",
      "0.0500000000000623\n",
      "0.05000000000006233\n",
      "0.050000000000062356\n",
      "0.05000000000006238\n",
      "0.05000000000006241\n",
      "0.05000000000006244\n",
      "0.05000000000006247\n",
      "0.050000000000062494\n",
      "0.05000000000006252\n",
      "0.05000000000006255\n",
      "0.05000000000006258\n",
      "0.050000000000062605\n",
      "0.05000000000006263\n",
      "0.05000000000006266\n",
      "0.05000000000006269\n",
      "0.050000000000062716\n",
      "0.050000000000062744\n",
      "0.05000000000006277\n",
      "0.0500000000000628\n",
      "0.05000000000006283\n",
      "0.050000000000062855\n",
      "0.05000000000006288\n",
      "0.05000000000006291\n",
      "0.05000000000006294\n",
      "0.050000000000062966\n",
      "0.050000000000062994\n",
      "0.05000000000006302\n",
      "0.05000000000006305\n",
      "0.05000000000006308\n",
      "0.050000000000063105\n",
      "0.05000000000006313\n",
      "0.05000000000006316\n",
      "0.05000000000006319\n",
      "0.050000000000063216\n",
      "0.050000000000063244\n",
      "0.05000000000006327\n",
      "0.0500000000000633\n",
      "0.05000000000006333\n",
      "0.050000000000063355\n",
      "0.05000000000006338\n",
      "0.05000000000006341\n",
      "0.05000000000006344\n",
      "0.050000000000063466\n",
      "0.050000000000063494\n",
      "0.05000000000006352\n",
      "0.05000000000006355\n",
      "0.05000000000006358\n",
      "0.050000000000063605\n",
      "0.05000000000006363\n",
      "0.05000000000006366\n",
      "0.05000000000006369\n",
      "0.05000000000006371\n",
      "0.050000000000063737\n",
      "0.050000000000063764\n",
      "0.05000000000006379\n",
      "0.05000000000006382\n",
      "0.05000000000006385\n",
      "0.050000000000063875\n",
      "0.0500000000000639\n",
      "0.05000000000006393\n",
      "0.05000000000006396\n",
      "0.050000000000063986\n",
      "0.050000000000064014\n",
      "0.05000000000006404\n",
      "0.05000000000006407\n",
      "0.0500000000000641\n",
      "0.050000000000064125\n",
      "0.05000000000006415\n",
      "0.05000000000006418\n",
      "0.05000000000006421\n",
      "0.050000000000064236\n",
      "0.050000000000064264\n",
      "0.05000000000006429\n",
      "0.05000000000006432\n",
      "0.05000000000006435\n",
      "0.050000000000064375\n",
      "0.0500000000000644\n",
      "0.05000000000006443\n",
      "0.050000000000064465\n",
      "0.05000000000006449\n",
      "0.05000000000006452\n",
      "0.05000000000006455\n",
      "0.050000000000064576\n",
      "0.050000000000064604\n",
      "0.05000000000006463\n",
      "0.05000000000006466\n",
      "0.05000000000006469\n",
      "0.050000000000064715\n",
      "0.05000000000006474\n",
      "0.05000000000006477\n",
      "0.0500000000000648\n",
      "0.050000000000064826\n",
      "0.050000000000064854\n",
      "0.05000000000006488\n",
      "0.05000000000006491\n",
      "0.05000000000006494\n",
      "0.050000000000064965\n",
      "0.05000000000006499\n",
      "0.05000000000006502\n",
      "0.05000000000006505\n",
      "0.050000000000065076\n",
      "0.050000000000065103\n",
      "0.05000000000006513\n",
      "0.05000000000006516\n",
      "0.05000000000006519\n",
      "0.050000000000065215\n",
      "0.05000000000006524\n",
      "0.05000000000006527\n",
      "0.0500000000000653\n",
      "0.050000000000065326\n",
      "0.05000000000006535\n",
      "0.05000000000006538\n",
      "0.05000000000006541\n",
      "0.05000000000006544\n",
      "0.050000000000065464\n",
      "0.05000000000006549\n",
      "0.05000000000006552\n",
      "0.05000000000006555\n",
      "0.050000000000065575\n",
      "0.0500000000000656\n",
      "0.05000000000006563\n",
      "0.05000000000006566\n",
      "0.050000000000065686\n",
      "0.050000000000065714\n",
      "0.05000000000006574\n",
      "0.05000000000006577\n",
      "0.0500000000000658\n",
      "0.050000000000065825\n",
      "0.05000000000006585\n",
      "0.05000000000006588\n",
      "0.05000000000006591\n",
      "0.050000000000065936\n",
      "0.050000000000065964\n",
      "0.05000000000006599\n",
      "0.05000000000006602\n",
      "0.05000000000006605\n",
      "0.050000000000066075\n",
      "0.0500000000000661\n",
      "0.05000000000006613\n",
      "0.05000000000006616\n",
      "0.050000000000066186\n",
      "0.050000000000066214\n",
      "0.05000000000006624\n",
      "0.05000000000006627\n",
      "0.0500000000000663\n",
      "0.050000000000066325\n",
      "0.05000000000006635\n",
      "0.05000000000006638\n",
      "0.05000000000006641\n",
      "0.050000000000066436\n",
      "0.050000000000066464\n",
      "0.05000000000006649\n",
      "0.05000000000006652\n",
      "0.05000000000006655\n",
      "0.050000000000066575\n",
      "0.0500000000000666\n",
      "0.05000000000006663\n",
      "0.05000000000006666\n",
      "0.050000000000066686\n",
      "0.05000000000006671\n",
      "0.05000000000006674\n",
      "0.05000000000006677\n",
      "0.0500000000000668\n",
      "0.050000000000066824\n",
      "0.05000000000006685\n",
      "0.05000000000006688\n",
      "0.05000000000006691\n",
      "0.050000000000066935\n",
      "0.05000000000006696\n",
      "0.05000000000006699\n",
      "0.05000000000006702\n",
      "0.050000000000067046\n",
      "0.050000000000067074\n",
      "0.0500000000000671\n",
      "0.05000000000006713\n",
      "0.05000000000006716\n",
      "0.050000000000067185\n",
      "0.05000000000006721\n",
      "0.05000000000006724\n",
      "0.05000000000006727\n",
      "0.050000000000067296\n",
      "0.050000000000067324\n",
      "0.05000000000006735\n",
      "0.05000000000006738\n",
      "0.05000000000006741\n",
      "0.050000000000067435\n",
      "0.05000000000006746\n",
      "0.05000000000006749\n",
      "0.05000000000006752\n",
      "0.050000000000067546\n",
      "0.050000000000067574\n",
      "0.0500000000000676\n",
      "0.05000000000006763\n",
      "0.05000000000006766\n",
      "0.050000000000067685\n",
      "0.05000000000006771\n",
      "0.05000000000006774\n",
      "0.05000000000006777\n",
      "0.050000000000067796\n",
      "0.050000000000067824\n",
      "0.05000000000006785\n",
      "0.05000000000006788\n",
      "0.05000000000006791\n",
      "0.050000000000067935\n",
      "0.05000000000006796\n",
      "0.05000000000006799\n",
      "0.05000000000006802\n",
      "0.050000000000068046\n",
      "0.05000000000006807\n",
      "0.0500000000000681\n",
      "0.05000000000006813\n",
      "0.05000000000006816\n",
      "0.050000000000068184\n",
      "0.05000000000006821\n",
      "0.05000000000006824\n",
      "0.05000000000006827\n",
      "0.050000000000068295\n",
      "0.05000000000006832\n",
      "0.05000000000006835\n",
      "0.05000000000006838\n",
      "0.050000000000068406\n",
      "0.050000000000068434\n",
      "0.05000000000006846\n",
      "0.05000000000006849\n",
      "0.05000000000006852\n",
      "0.050000000000068545\n",
      "0.05000000000006857\n",
      "0.0500000000000686\n",
      "0.05000000000006863\n",
      "0.050000000000068656\n",
      "0.050000000000068684\n",
      "0.05000000000006871\n",
      "0.05000000000006874\n",
      "0.05000000000006877\n",
      "0.050000000000068795\n",
      "0.05000000000006882\n",
      "0.05000000000006885\n",
      "0.05000000000006888\n",
      "0.05000000000006891\n",
      "0.05000000000006894\n",
      "0.05000000000006897\n",
      "0.050000000000068996\n",
      "0.050000000000069024\n",
      "0.05000000000006905\n",
      "0.05000000000006908\n",
      "0.05000000000006911\n",
      "0.050000000000069135\n",
      "0.05000000000006916\n",
      "0.05000000000006919\n",
      "0.05000000000006922\n",
      "0.050000000000069246\n",
      "0.050000000000069274\n",
      "0.0500000000000693\n",
      "0.05000000000006933\n",
      "0.05000000000006936\n",
      "0.050000000000069385\n",
      "0.05000000000006941\n",
      "0.05000000000006944\n",
      "0.05000000000006947\n",
      "0.050000000000069496\n",
      "0.050000000000069524\n",
      "0.05000000000006955\n",
      "0.05000000000006958\n",
      "0.05000000000006961\n",
      "0.050000000000069635\n",
      "0.05000000000006966\n",
      "0.05000000000006969\n",
      "0.05000000000006972\n",
      "0.050000000000069746\n",
      "0.05000000000006977\n",
      "0.0500000000000698\n",
      "0.05000000000006983\n",
      "0.05000000000006986\n",
      "0.050000000000069884\n",
      "0.05000000000006991\n",
      "0.05000000000006994\n",
      "0.05000000000006997\n",
      "0.050000000000069995\n",
      "0.05000000000007003\n",
      "0.05000000000007006\n",
      "0.050000000000070086\n",
      "0.05000000000007011\n",
      "0.05000000000007014\n",
      "0.05000000000007017\n",
      "0.0500000000000702\n",
      "0.050000000000070224\n",
      "0.05000000000007025\n",
      "0.05000000000007028\n",
      "0.05000000000007031\n",
      "0.050000000000070335\n",
      "0.05000000000007036\n",
      "0.05000000000007038\n",
      "0.050000000000070405\n",
      "0.05000000000007043\n",
      "0.05000000000007046\n",
      "0.05000000000007049\n",
      "0.050000000000070516\n",
      "0.050000000000070544\n",
      "0.05000000000007057\n",
      "0.0500000000000706\n",
      "0.05000000000007063\n",
      "0.050000000000070655\n",
      "0.05000000000007068\n",
      "0.05000000000007071\n",
      "0.05000000000007074\n",
      "0.050000000000070766\n",
      "0.05000000000007079\n",
      "0.05000000000007082\n",
      "0.05000000000007085\n",
      "0.05000000000007088\n",
      "0.050000000000070904\n",
      "0.05000000000007093\n",
      "0.05000000000007096\n",
      "0.05000000000007099\n",
      "0.050000000000071015\n",
      "0.05000000000007104\n",
      "0.05000000000007107\n",
      "0.0500000000000711\n",
      "0.050000000000071126\n",
      "0.050000000000071154\n",
      "0.05000000000007118\n",
      "0.05000000000007121\n",
      "0.05000000000007124\n",
      "0.050000000000071265\n",
      "0.05000000000007129\n",
      "0.05000000000007132\n",
      "0.05000000000007135\n",
      "0.050000000000071376\n",
      "0.050000000000071404\n",
      "0.05000000000007143\n",
      "0.05000000000007146\n",
      "0.05000000000007149\n",
      "0.050000000000071515\n",
      "0.05000000000007154\n",
      "0.05000000000007157\n",
      "0.0500000000000716\n",
      "0.050000000000071626\n",
      "0.050000000000071654\n",
      "0.05000000000007168\n",
      "0.05000000000007171\n",
      "0.05000000000007174\n",
      "0.050000000000071765\n",
      "0.05000000000007179\n",
      "0.05000000000007182\n",
      "0.05000000000007185\n",
      "0.050000000000071876\n",
      "0.050000000000071904\n",
      "0.05000000000007193\n",
      "0.05000000000007196\n",
      "0.05000000000007199\n",
      "0.050000000000072015\n",
      "0.05000000000007204\n",
      "0.05000000000007207\n",
      "0.0500000000000721\n",
      "0.050000000000072126\n",
      "0.05000000000007215\n",
      "0.05000000000007218\n",
      "0.05000000000007221\n",
      "0.05000000000007224\n",
      "0.050000000000072264\n",
      "0.05000000000007229\n",
      "0.05000000000007232\n",
      "0.05000000000007235\n",
      "0.050000000000072375\n",
      "0.0500000000000724\n",
      "0.05000000000007243\n",
      "0.05000000000007246\n",
      "0.050000000000072486\n",
      "0.050000000000072514\n",
      "0.05000000000007254\n",
      "0.05000000000007257\n",
      "0.0500000000000726\n",
      "0.050000000000072625\n",
      "0.05000000000007265\n",
      "0.05000000000007268\n",
      "0.05000000000007271\n",
      "0.050000000000072736\n",
      "0.050000000000072764\n",
      "0.05000000000007279\n",
      "0.05000000000007282\n",
      "0.05000000000007285\n",
      "0.050000000000072875\n",
      "0.0500000000000729\n",
      "0.05000000000007293\n",
      "0.05000000000007296\n",
      "0.050000000000072986\n",
      "0.050000000000073014\n",
      "0.05000000000007304\n",
      "0.05000000000007307\n",
      "0.0500000000000731\n",
      "0.050000000000073125\n",
      "0.05000000000007315\n",
      "0.05000000000007318\n",
      "0.05000000000007321\n",
      "0.050000000000073236\n",
      "0.050000000000073264\n",
      "0.05000000000007329\n",
      "0.05000000000007332\n",
      "0.05000000000007335\n",
      "0.050000000000073375\n",
      "0.0500000000000734\n",
      "0.05000000000007343\n",
      "0.05000000000007346\n",
      "0.050000000000073486\n",
      "0.05000000000007351\n",
      "0.05000000000007354\n",
      "0.05000000000007357\n",
      "0.0500000000000736\n",
      "0.050000000000073624\n",
      "0.05000000000007365\n",
      "0.05000000000007368\n",
      "0.0500000000000737\n",
      "0.05000000000007373\n",
      "0.050000000000073756\n",
      "0.050000000000073784\n",
      "0.05000000000007381\n",
      "0.05000000000007384\n",
      "0.05000000000007387\n",
      "0.050000000000073895\n",
      "0.05000000000007392\n",
      "0.05000000000007395\n",
      "0.05000000000007398\n",
      "0.050000000000074006\n",
      "0.050000000000074034\n",
      "0.05000000000007406\n",
      "0.05000000000007409\n",
      "0.05000000000007412\n",
      "0.050000000000074145\n",
      "0.05000000000007417\n",
      "0.0500000000000742\n",
      "0.05000000000007423\n",
      "0.050000000000074256\n",
      "0.050000000000074284\n",
      "0.05000000000007431\n",
      "0.05000000000007434\n",
      "0.05000000000007437\n",
      "0.050000000000074395\n",
      "0.05000000000007442\n",
      "0.05000000000007445\n",
      "0.05000000000007448\n",
      "0.050000000000074506\n",
      "0.05000000000007453\n",
      "0.05000000000007456\n",
      "0.05000000000007459\n",
      "0.05000000000007462\n",
      "0.050000000000074644\n",
      "0.05000000000007467\n",
      "0.0500000000000747\n",
      "0.05000000000007473\n",
      "0.050000000000074755\n",
      "0.05000000000007478\n",
      "0.05000000000007481\n",
      "0.05000000000007484\n",
      "0.050000000000074867\n",
      "0.050000000000074894\n",
      "0.05000000000007492\n",
      "0.05000000000007495\n",
      "0.05000000000007498\n",
      "0.050000000000075005\n",
      "0.05000000000007503\n",
      "0.05000000000007506\n",
      "0.05000000000007509\n",
      "0.050000000000075116\n",
      "0.050000000000075144\n",
      "0.05000000000007517\n",
      "0.0500000000000752\n",
      "0.05000000000007523\n",
      "0.050000000000075255\n",
      "0.05000000000007528\n",
      "0.05000000000007531\n",
      "0.05000000000007534\n",
      "0.050000000000075366\n",
      "0.050000000000075394\n",
      "0.05000000000007542\n",
      "0.05000000000007545\n",
      "0.05000000000007548\n",
      "0.050000000000075505\n",
      "0.05000000000007553\n",
      "0.05000000000007557\n",
      "0.050000000000075595\n",
      "0.05000000000007562\n",
      "0.05000000000007565\n",
      "0.05000000000007568\n",
      "0.050000000000075706\n",
      "0.050000000000075734\n",
      "0.05000000000007576\n",
      "0.05000000000007579\n",
      "0.05000000000007582\n",
      "0.050000000000075845\n",
      "0.05000000000007587\n",
      "0.0500000000000759\n",
      "0.05000000000007593\n",
      "0.050000000000075956\n",
      "0.050000000000075984\n",
      "0.05000000000007601\n",
      "0.05000000000007604\n",
      "0.05000000000007607\n",
      "0.050000000000076095\n",
      "0.05000000000007612\n",
      "0.05000000000007615\n",
      "0.05000000000007618\n",
      "0.050000000000076206\n",
      "0.05000000000007623\n",
      "0.05000000000007626\n",
      "0.05000000000007629\n",
      "0.05000000000007632\n",
      "0.050000000000076344\n",
      "0.05000000000007637\n",
      "0.0500000000000764\n",
      "0.05000000000007643\n",
      "0.050000000000076456\n",
      "0.05000000000007648\n",
      "0.05000000000007651\n",
      "0.05000000000007654\n",
      "0.05000000000007657\n",
      "0.050000000000076594\n",
      "0.05000000000007662\n",
      "0.05000000000007665\n",
      "Completed 2000 time steps in 34.2087 seconds (58.4647 time steps per second)\n"
     ]
    }
   ],
   "source": [
    "simulator.run(\n",
    "    max_time=20.0,\n",
    "    data_filename='pendulum_simulation_test.json',\n",
    "    video_filename=None,\n",
    ")"
   ]
  },
  {
   "attachments": {},
   "cell_type": "markdown",
   "metadata": {},
   "source": [
    "## 6.2 Plot results from simulation"
   ]
  },
  {
   "attachments": {},
   "cell_type": "markdown",
   "metadata": {},
   "source": [
    "### 6.2.1 Define function to load data from simulation"
   ]
  },
  {
   "cell_type": "code",
   "execution_count": 69,
   "metadata": {},
   "outputs": [],
   "source": [
    "def load_simulation_data(filename, dronename):\n",
    "    # load data for all drones\n",
    "    with open(filename, 'r') as f:\n",
    "        data = json.load(f)\n",
    "    \n",
    "    # get data for one drone only\n",
    "    data = data[dronename]\n",
    "    \n",
    "    # convert lists to numpy arrays\n",
    "    for key in data.keys():\n",
    "        if isinstance(data[key], dict):\n",
    "            for subkey in data[key].keys():\n",
    "                data[key][subkey] = np.array(data[key][subkey])\n",
    "        else:\n",
    "            data[key] = np.array(data[key])\n",
    "    \n",
    "    # return the data\n",
    "    return data"
   ]
  },
  {
   "attachments": {},
   "cell_type": "markdown",
   "metadata": {},
   "source": [
    "### 6.2.2 Load and process simulation JSON data"
   ]
  },
  {
   "cell_type": "code",
   "execution_count": 70,
   "metadata": {},
   "outputs": [],
   "source": [
    "data = load_simulation_data(\n",
    "    'pendulum_simulation_test.json', \n",
    "    'my_drone',              \n",
    ")\n",
    "\n",
    "# time\n",
    "t = data['t']\n",
    "\n",
    "# position\n",
    "o_x = data['state']['o_x']\n",
    "o_y = data['state']['o_y']\n",
    "o_z = data['state']['o_z']\n",
    "\n",
    "# desired position\n",
    "o_x_des = data['setpoint']['o_x']\n",
    "o_y_des = data['setpoint']['o_y']\n",
    "o_z_des = data['setpoint']['o_z']\n",
    "\n",
    "# orientation\n",
    "psi = data['state']['psi']\n",
    "theta = data['state']['theta']\n",
    "phi = data['state']['phi']\n",
    "\n",
    "# pendulum data\n",
    "alpha = data['state']['alpha']\n",
    "alpha_dot = data['state']['alpha_dot']\n",
    "\n",
    "# motor power commands\n",
    "m_1 = data['power']['m_1']\n",
    "m_2 = data['power']['m_2']\n",
    "m_3 = data['power']['m_3']\n",
    "m_4 = data['power']['m_4']\n",
    "\n",
    "# Compute error in position (this is a function of time).\n",
    "\n",
    "o_x_err = o_x - o_x_des\n",
    "o_y_err = o_y - o_y_des\n",
    "o_z_err = o_z - o_z_des"
   ]
  },
  {
   "attachments": {},
   "cell_type": "markdown",
   "metadata": {},
   "source": [
    "### 6.2.3 Plot simulation results from loaded data"
   ]
  },
  {
   "cell_type": "code",
   "execution_count": 71,
   "metadata": {},
   "outputs": [
    {
     "data": {
      "text/plain": [
       "Text(0.5, 0, 'time (s)')"
      ]
     },
     "execution_count": 71,
     "metadata": {},
     "output_type": "execute_result"
    },
    {
     "data": {
      "image/png": "[encoded data removed]",
      "text/plain": [
       "<Figure size 1200x1200 with 5 Axes>"
      ]
     },
     "metadata": {},
     "output_type": "display_data"
    }
   ],
   "source": [
    "# Plot position error, orientation, pendulum pose and motor power commands\n",
    "\n",
    "fig, (ax_pos, ax_ori, ax_pow, ax_pen, ax_dot_pen) = plt.subplots(5, 1, figsize=(12, 12), sharex=True)\n",
    "ax_pos.plot(t, o_x_err, label='x position error')\n",
    "ax_pos.plot(t, o_y_err, label='y position error')\n",
    "ax_pos.plot(t, o_z_err, label='z position error')\n",
    "ax_pos.legend()\n",
    "ax_pos.grid()\n",
    "ax_ori.plot(t, psi, label='psi')\n",
    "ax_ori.plot(t, theta, label='theta')\n",
    "ax_ori.plot(t, phi, label='phi')\n",
    "ax_ori.legend()\n",
    "ax_ori.grid()\n",
    "ax_pow.plot(t, m_1, label='m_1')\n",
    "ax_pow.plot(t, m_2, label='m_2')\n",
    "ax_pow.plot(t, m_3, label='m_3')\n",
    "ax_pow.plot(t, m_4, label='m_4')\n",
    "ax_pow.legend()\n",
    "ax_pow.grid()\n",
    "ax_pen.plot(t, alpha, label='alpha')\n",
    "ax_pen.legend()\n",
    "ax_pen.grid()\n",
    "ax_dot_pen.plot(t, alpha_dot, label='alpha_dot')\n",
    "ax_dot_pen.legend()\n",
    "ax_dot_pen.grid()\n",
    "ax_pow.set_xlabel('time (s)')"
   ]
  },
  {
   "attachments": {},
   "cell_type": "markdown",
   "metadata": {},
   "source": [
    "# 7. Real-World Analysis"
   ]
  },
  {
   "attachments": {},
   "cell_type": "markdown",
   "metadata": {},
   "source": [
    "### 7.1 Define function to load data from hardware"
   ]
  },
  {
   "cell_type": "code",
   "execution_count": 72,
   "id": "a51e9f5d",
   "metadata": {},
   "outputs": [],
   "source": [
    "def load_hardware_data(filename, t_min_offset=0, t_max_offset=0):\n",
    "    # load raw data\n",
    "    with open(filename, 'r') as f:\n",
    "        data = json.load(f)\n",
    "\n",
    "    # convert lists to numpy arrays\n",
    "    for val in data.values():\n",
    "        for key in val.keys():\n",
    "            val[key] = np.array(val[key])\n",
    "\n",
    "    # create an array of times at which to subsample\n",
    "    t_min = -np.inf\n",
    "    t_max = np.inf\n",
    "    for key, val in data.items():\n",
    "        t_min = max(t_min, val['time'][0])\n",
    "        t_max = min(t_max, val['time'][-1])\n",
    "    t_min += t_min_offset * 1000\n",
    "    t_max -= t_max_offset * 1000\n",
    "    nt = int(1 + np.floor((t_max - t_min) / 10.))\n",
    "    t = np.arange(0, 10 * nt, 10) / 1000.\n",
    "    resampled_data = {'time': t}\n",
    "\n",
    "    # resample raw data with linear interpolation\n",
    "    for k, v in data.items():\n",
    "        f = interp1d((v['time'] - t_min) / 1000., v['data'])\n",
    "        resampled_data[k] = f(t)\n",
    "        \n",
    "    # return the resampled data\n",
    "    return resampled_data"
   ]
  },
  {
   "attachments": {},
   "cell_type": "markdown",
   "metadata": {},
   "source": [
    "### 7.2 Load and plot hardware data\n",
    "\n",
    "This section reproduces the real-world test plots from the report in sequence."
   ]
  },
  {
   "cell_type": "code",
   "execution_count": 73,
   "id": "4e5dc7b9",
   "metadata": {},
   "outputs": [
    {
     "data": {
      "image/png": "[encoded data removed]",
      "text/plain": [
       "<Figure size 1200x1200 with 3 Axes>"
      ]
     },
     "metadata": {},
     "output_type": "display_data"
    },
    {
     "data": {
      "image/png": "[encoded data removed]",
      "text/plain": [
       "<Figure size 1200x1200 with 3 Axes>"
      ]
     },
     "metadata": {},
     "output_type": "display_data"
    },
    {
     "data": {
      "image/png": "[encoded data removed]",
      "text/plain": [
       "<Figure size 1200x1200 with 3 Axes>"
      ]
     },
     "metadata": {},
     "output_type": "display_data"
    }
   ],
   "source": [
    "json_list = ['FlightData/Flight_1.json', 'FlightData/Flight_2.json', 'FlightData/Flight_4.json']\n",
    "\n",
    "for json_path in json_list:\n",
    "    data = load_hardware_data(\n",
    "        json_path, # <-- replace with name of file with hardware data\n",
    "        t_min_offset=3.5,      # <-- (optional) replace with how many seconds of data to ignore at start\n",
    "        t_max_offset=20.75,      # <-- (optional) replace with how many seconds of data to ignore at end\n",
    "    )\n",
    "\n",
    "    t = data['time']\n",
    "    alpha = data['ae483log.alpha']\n",
    "    ox = data['ae483log.o_x']\n",
    "    oz = data['ae483log.o_z']\n",
    "\n",
    "    fig, (angle, x_pos, z_pos) = plt.subplots(3, 1, figsize=(12, 12), sharex=True)\n",
    "    angle.plot(t, np.degrees(alpha))\n",
    "    angle.grid()\n",
    "    angle.set_ylabel('Alpha (deg)')\n",
    "    x_pos.plot(t, ox)\n",
    "    x_pos.grid()\n",
    "    x_pos.set_ylabel('X Position (m)')\n",
    "    z_pos.plot(t, oz)\n",
    "    z_pos.grid()\n",
    "    z_pos.set_xlabel(\"Time (s)\")\n",
    "    z_pos.set_ylabel(\"Z Position (m)\")"
   ]
  },
  {
   "attachments": {},
   "cell_type": "markdown",
   "metadata": {},
   "source": [
    "### 7.3 Define function to show Media Space videos"
   ]
  },
  {
   "cell_type": "code",
   "execution_count": 74,
   "metadata": {},
   "outputs": [],
   "source": [
    "def mediaspace(url, width=640, height=397):\n",
    "    video_id = url.rsplit('/', 1)[-1]\n",
    "    src = f'https://mediaspace.illinois.edu/embed/secure/iframe/entryId/{video_id}?st=0'\n",
    "    display(IFrame(src, width=width, height=height))"
   ]
  },
  {
   "attachments": {},
   "cell_type": "markdown",
   "metadata": {},
   "source": [
    "### 7.4 Show videos\n",
    "\n",
    "The videos below showcase some of the milestone tests that showcase important behaviors of the controller's the team tested. Videos 1 and 4 just use the direct feedback of $\\alpha$ into $\\tau_y$, whereas videos 2 and 3 use the LQR controller derived in this notebook. "
   ]
  },
  {
   "cell_type": "code",
   "execution_count": 75,
   "metadata": {},
   "outputs": [
    {
     "data": {
      "text/html": [
       "\n",
       "        <iframe\n",
       "            width=\"640\"\n",
       "            height=\"397\"\n",
       "            src=\"https://mediaspace.illinois.edu/embed/secure/iframe/entryId/1_gjr2ykpm?st=0\"\n",
       "            frameborder=\"0\"\n",
       "            allowfullscreen\n",
       "            \n",
       "        ></iframe>\n",
       "        "
      ],
      "text/plain": [
       "<IPython.lib.display.IFrame at 0x19cfff17fa0>"
      ]
     },
     "metadata": {},
     "output_type": "display_data"
    },
    {
     "data": {
      "text/html": [
       "\n",
       "        <iframe\n",
       "            width=\"640\"\n",
       "            height=\"397\"\n",
       "            src=\"https://mediaspace.illinois.edu/embed/secure/iframe/entryId/1_86zin1mc?st=0\"\n",
       "            frameborder=\"0\"\n",
       "            allowfullscreen\n",
       "            \n",
       "        ></iframe>\n",
       "        "
      ],
      "text/plain": [
       "<IPython.lib.display.IFrame at 0x19cfff17fa0>"
      ]
     },
     "metadata": {},
     "output_type": "display_data"
    },
    {
     "data": {
      "text/html": [
       "\n",
       "        <iframe\n",
       "            width=\"640\"\n",
       "            height=\"397\"\n",
       "            src=\"https://mediaspace.illinois.edu/embed/secure/iframe/entryId/1_qrr8klzf?st=0\"\n",
       "            frameborder=\"0\"\n",
       "            allowfullscreen\n",
       "            \n",
       "        ></iframe>\n",
       "        "
      ],
      "text/plain": [
       "<IPython.lib.display.IFrame at 0x19cfff17fa0>"
      ]
     },
     "metadata": {},
     "output_type": "display_data"
    },
    {
     "data": {
      "text/html": [
       "\n",
       "        <iframe\n",
       "            width=\"640\"\n",
       "            height=\"397\"\n",
       "            src=\"https://mediaspace.illinois.edu/embed/secure/iframe/entryId/1_tvrlf9de?st=0\"\n",
       "            frameborder=\"0\"\n",
       "            allowfullscreen\n",
       "            \n",
       "        ></iframe>\n",
       "        "
      ],
      "text/plain": [
       "<IPython.lib.display.IFrame at 0x19cfff17fa0>"
      ]
     },
     "metadata": {},
     "output_type": "display_data"
    }
   ],
   "source": [
    "video_list = ['https://mediaspace.illinois.edu/media/t/1_gjr2ykpm', 'https://mediaspace.illinois.edu/media/t/1_86zin1mc',\n",
    "              'https://mediaspace.illinois.edu/media/t/1_qrr8klzf', 'https://mediaspace.illinois.edu/media/t/1_tvrlf9de']\n",
    "for video in video_list:\n",
    "    mediaspace(video)\n"
   ]
  }
 ],
 "metadata": {
  "kernelspec": {
   "display_name": "Python 3.10.8 ('ae483')",
   "language": "python",
   "name": "python3"
  },
  "language_info": {
   "codemirror_mode": {
    "name": "ipython",
    "version": 3
   },
   "file_extension": ".py",
   "mimetype": "text/x-python",
   "name": "python",
   "nbconvert_exporter": "python",
   "pygments_lexer": "ipython3",
   "version": "3.10.8"
  },
  "orig_nbformat": 4,
  "vscode": {
   "interpreter": {
    "hash": "8c40dc438cbaf29904496e251f9298e4e78e6a453aad7c4f4912b52bbfbdf3f4"
   }
  }
 },
 "nbformat": 4,
 "nbformat_minor": 2
}
