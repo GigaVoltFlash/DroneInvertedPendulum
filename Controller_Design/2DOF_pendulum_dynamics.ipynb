{
 "cells": [
  {
   "cell_type": "markdown",
   "metadata": {},
   "source": [
    "# Lagrangian of 2Dof Pendulum   "
   ]
  },
  {
   "cell_type": "code",
   "execution_count": 16,
   "metadata": {},
   "outputs": [],
   "source": [
    "import json\n",
    "import matplotlib.pyplot as plt\n",
    "import numpy as np\n",
    "from numpy import linalg\n",
    "import scipy\n",
    "from scipy import linalg\n",
    "from scipy.interpolate import interp1d\n",
    "from scipy.signal import find_peaks\n",
    "import sympy as sym\n",
    "from sympy.physics.mechanics import *"
   ]
  },
  {
   "cell_type": "code",
   "execution_count": 17,
   "metadata": {},
   "outputs": [],
   "source": [
    "m, J_x, J_y, J_z, g, m_pen, l_pen = sym.symbols('m, J_x, J_y, J_z, g, m_pen, l_pen')"
   ]
  },
  {
   "cell_type": "code",
   "execution_count": 18,
   "metadata": {},
   "outputs": [],
   "source": [
    "o_x, o_y, o_z, r, s = dynamicsymbols(r'o_x o_z o_z r s')\n",
    "o_xd, o_yd, o_zd, rd, sd = dynamicsymbols(r'o_x o_z o_z r s', 1)\n",
    "o_xdd, o_ydd, o_zdd, rdd, sdd = dynamicsymbols(r'o_x o_z o_z r s', 2)\n",
    "t = sym.Symbol('t')"
   ]
  },
  {
   "cell_type": "code",
   "execution_count": 19,
   "metadata": {},
   "outputs": [],
   "source": [
    "L = 1/2 * m_pen * ((o_xd + rd)**2 + (o_yd + sd)**2 + (o_zd - (r*rd + s*sd)/sym.sqrt(l_pen**2 - r**2 - s**2))**2) - g * m_pen * (o_z + sym.sqrt(l_pen**2 - r**2 - s**2))"
   ]
  },
  {
   "cell_type": "code",
   "execution_count": 20,
   "metadata": {},
   "outputs": [
    {
     "data": {
      "text/latex": [
       "$\\displaystyle - g m_{pen} \\left(\\sqrt{l_{pen}^{2} - r^{2}{\\left(t \\right)} - s^{2}{\\left(t \\right)}} + o_{z}{\\left(t \\right)}\\right) + 0.5 m_{pen} \\left(\\left(- \\frac{r{\\left(t \\right)} \\frac{d}{d t} r{\\left(t \\right)} + s{\\left(t \\right)} \\frac{d}{d t} s{\\left(t \\right)}}{\\sqrt{l_{pen}^{2} - r^{2}{\\left(t \\right)} - s^{2}{\\left(t \\right)}}} + \\frac{d}{d t} o_{z}{\\left(t \\right)}\\right)^{2} + \\left(\\frac{d}{d t} o_{x}{\\left(t \\right)} + \\frac{d}{d t} r{\\left(t \\right)}\\right)^{2} + \\left(\\frac{d}{d t} o_{z}{\\left(t \\right)} + \\frac{d}{d t} s{\\left(t \\right)}\\right)^{2}\\right)$"
      ],
      "text/plain": [
       "-g*m_pen*(sqrt(l_pen**2 - r(t)**2 - s(t)**2) + o_z(t)) + 0.5*m_pen*((-(r(t)*Derivative(r(t), t) + s(t)*Derivative(s(t), t))/sqrt(l_pen**2 - r(t)**2 - s(t)**2) + Derivative(o_z(t), t))**2 + (Derivative(o_x(t), t) + Derivative(r(t), t))**2 + (Derivative(o_z(t), t) + Derivative(s(t), t))**2)"
      ]
     },
     "execution_count": 20,
     "metadata": {},
     "output_type": "execute_result"
    }
   ],
   "source": [
    "L"
   ]
  },
  {
   "cell_type": "code",
   "execution_count": 21,
   "metadata": {},
   "outputs": [],
   "source": [
    "Equations = sym.Matrix([sym.diff(sym.diff(L, rd), t) - sym.diff(L, r), sym.diff(sym.diff(L, sd), t) - sym.diff(L, s)])"
   ]
  },
  {
   "cell_type": "code",
   "execution_count": 22,
   "metadata": {},
   "outputs": [
    {
     "data": {
      "text/latex": [
       "$\\displaystyle \\left[\\begin{matrix}\\frac{m_{pen} \\left(- g \\left(l_{pen}^{2} - r^{2}{\\left(t \\right)} - s^{2}{\\left(t \\right)}\\right)^{8} r{\\left(t \\right)} - 1.0 \\left(\\left(r{\\left(t \\right)} \\frac{d}{d t} r{\\left(t \\right)} + s{\\left(t \\right)} \\frac{d}{d t} s{\\left(t \\right)}\\right) r{\\left(t \\right)} + \\left(l_{pen}^{2} - r^{2}{\\left(t \\right)} - s^{2}{\\left(t \\right)}\\right) \\frac{d}{d t} r{\\left(t \\right)}\\right) \\left(l_{pen}^{2} - r^{2}{\\left(t \\right)} - s^{2}{\\left(t \\right)}\\right)^{\\frac{13}{2}} \\left(- \\sqrt{l_{pen}^{2} - r^{2}{\\left(t \\right)} - s^{2}{\\left(t \\right)}} \\frac{d}{d t} o_{z}{\\left(t \\right)} + r{\\left(t \\right)} \\frac{d}{d t} r{\\left(t \\right)} + s{\\left(t \\right)} \\frac{d}{d t} s{\\left(t \\right)}\\right) + 1.0 \\left(l_{pen}^{2} - r^{2}{\\left(t \\right)} - s^{2}{\\left(t \\right)}\\right)^{3} \\left(\\left(r{\\left(t \\right)} \\frac{d}{d t} r{\\left(t \\right)} + s{\\left(t \\right)} \\frac{d}{d t} s{\\left(t \\right)}\\right) \\left(l_{pen}^{2} - r^{2}{\\left(t \\right)} - s^{2}{\\left(t \\right)}\\right)^{\\frac{7}{2}} \\left(- \\sqrt{l_{pen}^{2} - r^{2}{\\left(t \\right)} - s^{2}{\\left(t \\right)}} \\frac{d}{d t} o_{z}{\\left(t \\right)} + r{\\left(t \\right)} \\frac{d}{d t} r{\\left(t \\right)} + s{\\left(t \\right)} \\frac{d}{d t} s{\\left(t \\right)}\\right) r{\\left(t \\right)} + \\left(\\frac{d^{2}}{d t^{2}} o_{x}{\\left(t \\right)} + \\frac{d^{2}}{d t^{2}} r{\\left(t \\right)}\\right) \\left(l_{pen}^{2} - r^{2}{\\left(t \\right)} - s^{2}{\\left(t \\right)}\\right)^{\\frac{11}{2}} + \\left(l_{pen}^{2} - r^{2}{\\left(t \\right)} - s^{2}{\\left(t \\right)}\\right)^{\\frac{9}{2}} \\left(- \\sqrt{l_{pen}^{2} - r^{2}{\\left(t \\right)} - s^{2}{\\left(t \\right)}} \\frac{d}{d t} o_{z}{\\left(t \\right)} + r{\\left(t \\right)} \\frac{d}{d t} r{\\left(t \\right)} + s{\\left(t \\right)} \\frac{d}{d t} s{\\left(t \\right)}\\right) \\frac{d}{d t} r{\\left(t \\right)} + \\left(l_{pen}^{2} - r^{2}{\\left(t \\right)} - s^{2}{\\left(t \\right)}\\right)^{3} \\left(\\left(r{\\left(t \\right)} \\frac{d}{d t} r{\\left(t \\right)} + s{\\left(t \\right)} \\frac{d}{d t} s{\\left(t \\right)}\\right)^{2} \\sqrt{l_{pen}^{2} - r^{2}{\\left(t \\right)} - s^{2}{\\left(t \\right)}} + \\left(l_{pen}^{2} - r^{2}{\\left(t \\right)} - s^{2}{\\left(t \\right)}\\right)^{\\frac{3}{2}} \\left(r{\\left(t \\right)} \\frac{d^{2}}{d t^{2}} r{\\left(t \\right)} + s{\\left(t \\right)} \\frac{d^{2}}{d t^{2}} s{\\left(t \\right)} + \\left(\\frac{d}{d t} r{\\left(t \\right)}\\right)^{2} + \\left(\\frac{d}{d t} s{\\left(t \\right)}\\right)^{2}\\right) - \\left(l_{pen}^{2} - r^{2}{\\left(t \\right)} - s^{2}{\\left(t \\right)}\\right)^{2} \\frac{d^{2}}{d t^{2}} o_{z}{\\left(t \\right)}\\right) r{\\left(t \\right)}\\right)\\right)}{\\left(l_{pen}^{2} - r^{2}{\\left(t \\right)} - s^{2}{\\left(t \\right)}\\right)^{\\frac{17}{2}}}\\\\\\frac{m_{pen} \\left(- g \\left(l_{pen}^{2} - r^{2}{\\left(t \\right)} - s^{2}{\\left(t \\right)}\\right)^{8} s{\\left(t \\right)} - 1.0 \\left(\\left(r{\\left(t \\right)} \\frac{d}{d t} r{\\left(t \\right)} + s{\\left(t \\right)} \\frac{d}{d t} s{\\left(t \\right)}\\right) s{\\left(t \\right)} + \\left(l_{pen}^{2} - r^{2}{\\left(t \\right)} - s^{2}{\\left(t \\right)}\\right) \\frac{d}{d t} s{\\left(t \\right)}\\right) \\left(l_{pen}^{2} - r^{2}{\\left(t \\right)} - s^{2}{\\left(t \\right)}\\right)^{\\frac{13}{2}} \\left(- \\sqrt{l_{pen}^{2} - r^{2}{\\left(t \\right)} - s^{2}{\\left(t \\right)}} \\frac{d}{d t} o_{z}{\\left(t \\right)} + r{\\left(t \\right)} \\frac{d}{d t} r{\\left(t \\right)} + s{\\left(t \\right)} \\frac{d}{d t} s{\\left(t \\right)}\\right) + 1.0 \\left(l_{pen}^{2} - r^{2}{\\left(t \\right)} - s^{2}{\\left(t \\right)}\\right)^{3} \\left(\\left(r{\\left(t \\right)} \\frac{d}{d t} r{\\left(t \\right)} + s{\\left(t \\right)} \\frac{d}{d t} s{\\left(t \\right)}\\right) \\left(l_{pen}^{2} - r^{2}{\\left(t \\right)} - s^{2}{\\left(t \\right)}\\right)^{\\frac{7}{2}} \\left(- \\sqrt{l_{pen}^{2} - r^{2}{\\left(t \\right)} - s^{2}{\\left(t \\right)}} \\frac{d}{d t} o_{z}{\\left(t \\right)} + r{\\left(t \\right)} \\frac{d}{d t} r{\\left(t \\right)} + s{\\left(t \\right)} \\frac{d}{d t} s{\\left(t \\right)}\\right) s{\\left(t \\right)} + \\left(\\frac{d^{2}}{d t^{2}} o_{z}{\\left(t \\right)} + \\frac{d^{2}}{d t^{2}} s{\\left(t \\right)}\\right) \\left(l_{pen}^{2} - r^{2}{\\left(t \\right)} - s^{2}{\\left(t \\right)}\\right)^{\\frac{11}{2}} + \\left(l_{pen}^{2} - r^{2}{\\left(t \\right)} - s^{2}{\\left(t \\right)}\\right)^{\\frac{9}{2}} \\left(- \\sqrt{l_{pen}^{2} - r^{2}{\\left(t \\right)} - s^{2}{\\left(t \\right)}} \\frac{d}{d t} o_{z}{\\left(t \\right)} + r{\\left(t \\right)} \\frac{d}{d t} r{\\left(t \\right)} + s{\\left(t \\right)} \\frac{d}{d t} s{\\left(t \\right)}\\right) \\frac{d}{d t} s{\\left(t \\right)} + \\left(l_{pen}^{2} - r^{2}{\\left(t \\right)} - s^{2}{\\left(t \\right)}\\right)^{3} \\left(\\left(r{\\left(t \\right)} \\frac{d}{d t} r{\\left(t \\right)} + s{\\left(t \\right)} \\frac{d}{d t} s{\\left(t \\right)}\\right)^{2} \\sqrt{l_{pen}^{2} - r^{2}{\\left(t \\right)} - s^{2}{\\left(t \\right)}} + \\left(l_{pen}^{2} - r^{2}{\\left(t \\right)} - s^{2}{\\left(t \\right)}\\right)^{\\frac{3}{2}} \\left(r{\\left(t \\right)} \\frac{d^{2}}{d t^{2}} r{\\left(t \\right)} + s{\\left(t \\right)} \\frac{d^{2}}{d t^{2}} s{\\left(t \\right)} + \\left(\\frac{d}{d t} r{\\left(t \\right)}\\right)^{2} + \\left(\\frac{d}{d t} s{\\left(t \\right)}\\right)^{2}\\right) - \\left(l_{pen}^{2} - r^{2}{\\left(t \\right)} - s^{2}{\\left(t \\right)}\\right)^{2} \\frac{d^{2}}{d t^{2}} o_{z}{\\left(t \\right)}\\right) s{\\left(t \\right)}\\right)\\right)}{\\left(l_{pen}^{2} - r^{2}{\\left(t \\right)} - s^{2}{\\left(t \\right)}\\right)^{\\frac{17}{2}}}\\end{matrix}\\right]$"
      ],
      "text/plain": [
       "Matrix([\n",
       "[m_pen*(-g*(l_pen**2 - r(t)**2 - s(t)**2)**8*r(t) - 1.0*((r(t)*Derivative(r(t), t) + s(t)*Derivative(s(t), t))*r(t) + (l_pen**2 - r(t)**2 - s(t)**2)*Derivative(r(t), t))*(l_pen**2 - r(t)**2 - s(t)**2)**(13/2)*(-sqrt(l_pen**2 - r(t)**2 - s(t)**2)*Derivative(o_z(t), t) + r(t)*Derivative(r(t), t) + s(t)*Derivative(s(t), t)) + 1.0*(l_pen**2 - r(t)**2 - s(t)**2)**3*((r(t)*Derivative(r(t), t) + s(t)*Derivative(s(t), t))*(l_pen**2 - r(t)**2 - s(t)**2)**(7/2)*(-sqrt(l_pen**2 - r(t)**2 - s(t)**2)*Derivative(o_z(t), t) + r(t)*Derivative(r(t), t) + s(t)*Derivative(s(t), t))*r(t) + (Derivative(o_x(t), (t, 2)) + Derivative(r(t), (t, 2)))*(l_pen**2 - r(t)**2 - s(t)**2)**(11/2) + (l_pen**2 - r(t)**2 - s(t)**2)**(9/2)*(-sqrt(l_pen**2 - r(t)**2 - s(t)**2)*Derivative(o_z(t), t) + r(t)*Derivative(r(t), t) + s(t)*Derivative(s(t), t))*Derivative(r(t), t) + (l_pen**2 - r(t)**2 - s(t)**2)**3*((r(t)*Derivative(r(t), t) + s(t)*Derivative(s(t), t))**2*sqrt(l_pen**2 - r(t)**2 - s(t)**2) + (l_pen**2 - r(t)**2 - s(t)**2)**(3/2)*(r(t)*Derivative(r(t), (t, 2)) + s(t)*Derivative(s(t), (t, 2)) + Derivative(r(t), t)**2 + Derivative(s(t), t)**2) - (l_pen**2 - r(t)**2 - s(t)**2)**2*Derivative(o_z(t), (t, 2)))*r(t)))/(l_pen**2 - r(t)**2 - s(t)**2)**(17/2)],\n",
       "[m_pen*(-g*(l_pen**2 - r(t)**2 - s(t)**2)**8*s(t) - 1.0*((r(t)*Derivative(r(t), t) + s(t)*Derivative(s(t), t))*s(t) + (l_pen**2 - r(t)**2 - s(t)**2)*Derivative(s(t), t))*(l_pen**2 - r(t)**2 - s(t)**2)**(13/2)*(-sqrt(l_pen**2 - r(t)**2 - s(t)**2)*Derivative(o_z(t), t) + r(t)*Derivative(r(t), t) + s(t)*Derivative(s(t), t)) + 1.0*(l_pen**2 - r(t)**2 - s(t)**2)**3*((r(t)*Derivative(r(t), t) + s(t)*Derivative(s(t), t))*(l_pen**2 - r(t)**2 - s(t)**2)**(7/2)*(-sqrt(l_pen**2 - r(t)**2 - s(t)**2)*Derivative(o_z(t), t) + r(t)*Derivative(r(t), t) + s(t)*Derivative(s(t), t))*s(t) + (Derivative(o_z(t), (t, 2)) + Derivative(s(t), (t, 2)))*(l_pen**2 - r(t)**2 - s(t)**2)**(11/2) + (l_pen**2 - r(t)**2 - s(t)**2)**(9/2)*(-sqrt(l_pen**2 - r(t)**2 - s(t)**2)*Derivative(o_z(t), t) + r(t)*Derivative(r(t), t) + s(t)*Derivative(s(t), t))*Derivative(s(t), t) + (l_pen**2 - r(t)**2 - s(t)**2)**3*((r(t)*Derivative(r(t), t) + s(t)*Derivative(s(t), t))**2*sqrt(l_pen**2 - r(t)**2 - s(t)**2) + (l_pen**2 - r(t)**2 - s(t)**2)**(3/2)*(r(t)*Derivative(r(t), (t, 2)) + s(t)*Derivative(s(t), (t, 2)) + Derivative(r(t), t)**2 + Derivative(s(t), t)**2) - (l_pen**2 - r(t)**2 - s(t)**2)**2*Derivative(o_z(t), (t, 2)))*s(t)))/(l_pen**2 - r(t)**2 - s(t)**2)**(17/2)]])"
      ]
     },
     "execution_count": 22,
     "metadata": {},
     "output_type": "execute_result"
    }
   ],
   "source": [
    "sym.simplify(Equations)"
   ]
  },
  {
   "cell_type": "code",
   "execution_count": 23,
   "metadata": {},
   "outputs": [],
   "source": [
    "ox, oy, oz, ox_dot, oy_dot, oz_dot, ox_ddot, oy_ddot, oz_ddot, r_real, s_real, rdot, sdot = sym.symbols(r'o_x o_y o_z  ox_dot oy_dot oz_dot ox_ddot oy_ddot oz_ddot r s r_dot s_dot')\n",
    "rddot_soln = sym.solve(Equations[0], rdd)[0]\n",
    "sddot_soln = sym.solve(Equations[1], sdd)[0]\n",
    "rddot_soln_v2 = rddot_soln.subs(sdd, sddot_soln)\n",
    "sddot_soln_v2 = sddot_soln.subs(rdd, rddot_soln)\n",
    "rddot_soln_temp = rddot_soln_v2.subs([(o_xdd, ox_ddot), (o_ydd, oy_ddot), (o_zdd, oz_ddot), (rd, rdot), (sd, sdot)])\n",
    "sddot_soln_temp = sddot_soln_v2.subs([(o_xdd, ox_ddot), (o_ydd, oy_ddot), (o_zdd, oz_ddot), (rd, rdot), (sd, sdot)])\n",
    "rddot_soln_v3 = sym.simplify(rddot_soln_temp.subs([(r, r_real), (s, s_real)]))\n",
    "sddot_soln_v3 = sym.simplify(sddot_soln_temp.subs([(r, r_real), (s, s_real)]))\n"
   ]
  },
  {
   "cell_type": "code",
   "execution_count": 24,
   "metadata": {},
   "outputs": [
    {
     "data": {
      "text/latex": [
       "$\\displaystyle \\frac{r s \\left(- g s \\left(- l_{pen}^{2} + r^{2} + s^{2}\\right)^{8} - oy_{\\dot{d}} s \\left(- l_{pen}^{2} + r^{2} + s^{2}\\right)^{8} + oy_{\\dot{d}} \\left(l_{pen}^{2} - r^{2} - s^{2}\\right)^{\\frac{17}{2}} + r_{dot}^{2} s \\left(l_{pen}^{2} - r^{2} - s^{2}\\right)^{\\frac{15}{2}} + s s_{dot}^{2} \\left(l_{pen}^{2} - r^{2} - s^{2}\\right)^{\\frac{15}{2}} + s \\left(r r_{dot} + s s_{dot}\\right)^{2} \\left(l_{pen}^{2} - r^{2} - s^{2}\\right)^{\\frac{13}{2}}\\right) - \\left(l_{pen}^{2} - r^{2}\\right) \\left(- g r \\left(- l_{pen}^{2} + r^{2} + s^{2}\\right)^{8} + ox_{\\dot{d}} \\left(l_{pen}^{2} - r^{2} - s^{2}\\right)^{\\frac{17}{2}} - oy_{\\dot{d}} r \\left(- l_{pen}^{2} + r^{2} + s^{2}\\right)^{8} + r r_{dot}^{2} \\left(l_{pen}^{2} - r^{2} - s^{2}\\right)^{\\frac{15}{2}} + r s_{dot}^{2} \\left(l_{pen}^{2} - r^{2} - s^{2}\\right)^{\\frac{15}{2}} + r \\left(r r_{dot} + s s_{dot}\\right)^{2} \\left(l_{pen}^{2} - r^{2} - s^{2}\\right)^{\\frac{13}{2}}\\right)}{\\left(l_{pen}^{2} - r^{2}\\right) \\left(l_{pen}^{2} - s^{2}\\right) \\left(l_{pen}^{2} - r^{2} - s^{2}\\right)^{\\frac{15}{2}}}$"
      ],
      "text/plain": [
       "(r*s*(-g*s*(-l_pen**2 + r**2 + s**2)**8 - oy_ddot*s*(-l_pen**2 + r**2 + s**2)**8 + oy_ddot*(l_pen**2 - r**2 - s**2)**(17/2) + r_dot**2*s*(l_pen**2 - r**2 - s**2)**(15/2) + s*s_dot**2*(l_pen**2 - r**2 - s**2)**(15/2) + s*(r*r_dot + s*s_dot)**2*(l_pen**2 - r**2 - s**2)**(13/2)) - (l_pen**2 - r**2)*(-g*r*(-l_pen**2 + r**2 + s**2)**8 + ox_ddot*(l_pen**2 - r**2 - s**2)**(17/2) - oy_ddot*r*(-l_pen**2 + r**2 + s**2)**8 + r*r_dot**2*(l_pen**2 - r**2 - s**2)**(15/2) + r*s_dot**2*(l_pen**2 - r**2 - s**2)**(15/2) + r*(r*r_dot + s*s_dot)**2*(l_pen**2 - r**2 - s**2)**(13/2)))/((l_pen**2 - r**2)*(l_pen**2 - s**2)*(l_pen**2 - r**2 - s**2)**(15/2))"
      ]
     },
     "execution_count": 24,
     "metadata": {},
     "output_type": "execute_result"
    }
   ],
   "source": [
    "rddot_soln_v3"
   ]
  },
  {
   "cell_type": "code",
   "execution_count": 25,
   "metadata": {},
   "outputs": [
    {
     "data": {
      "text/latex": [
       "$\\displaystyle \\frac{r s \\left(- g r \\left(- l_{pen}^{2} + r^{2} + s^{2}\\right)^{8} + ox_{\\dot{d}} \\left(l_{pen}^{2} - r^{2} - s^{2}\\right)^{\\frac{17}{2}} - oy_{\\dot{d}} r \\left(- l_{pen}^{2} + r^{2} + s^{2}\\right)^{8} + r r_{dot}^{2} \\left(l_{pen}^{2} - r^{2} - s^{2}\\right)^{\\frac{15}{2}} + r s_{dot}^{2} \\left(l_{pen}^{2} - r^{2} - s^{2}\\right)^{\\frac{15}{2}} + r \\left(r r_{dot} + s s_{dot}\\right)^{2} \\left(l_{pen}^{2} - r^{2} - s^{2}\\right)^{\\frac{13}{2}}\\right) - \\left(l_{pen}^{2} - s^{2}\\right) \\left(- g s \\left(- l_{pen}^{2} + r^{2} + s^{2}\\right)^{8} - oy_{\\dot{d}} s \\left(- l_{pen}^{2} + r^{2} + s^{2}\\right)^{8} + oy_{\\dot{d}} \\left(l_{pen}^{2} - r^{2} - s^{2}\\right)^{\\frac{17}{2}} + r_{dot}^{2} s \\left(l_{pen}^{2} - r^{2} - s^{2}\\right)^{\\frac{15}{2}} + s s_{dot}^{2} \\left(l_{pen}^{2} - r^{2} - s^{2}\\right)^{\\frac{15}{2}} + s \\left(r r_{dot} + s s_{dot}\\right)^{2} \\left(l_{pen}^{2} - r^{2} - s^{2}\\right)^{\\frac{13}{2}}\\right)}{\\left(l_{pen}^{2} - r^{2}\\right) \\left(l_{pen}^{2} - s^{2}\\right) \\left(l_{pen}^{2} - r^{2} - s^{2}\\right)^{\\frac{15}{2}}}$"
      ],
      "text/plain": [
       "(r*s*(-g*r*(-l_pen**2 + r**2 + s**2)**8 + ox_ddot*(l_pen**2 - r**2 - s**2)**(17/2) - oy_ddot*r*(-l_pen**2 + r**2 + s**2)**8 + r*r_dot**2*(l_pen**2 - r**2 - s**2)**(15/2) + r*s_dot**2*(l_pen**2 - r**2 - s**2)**(15/2) + r*(r*r_dot + s*s_dot)**2*(l_pen**2 - r**2 - s**2)**(13/2)) - (l_pen**2 - s**2)*(-g*s*(-l_pen**2 + r**2 + s**2)**8 - oy_ddot*s*(-l_pen**2 + r**2 + s**2)**8 + oy_ddot*(l_pen**2 - r**2 - s**2)**(17/2) + r_dot**2*s*(l_pen**2 - r**2 - s**2)**(15/2) + s*s_dot**2*(l_pen**2 - r**2 - s**2)**(15/2) + s*(r*r_dot + s*s_dot)**2*(l_pen**2 - r**2 - s**2)**(13/2)))/((l_pen**2 - r**2)*(l_pen**2 - s**2)*(l_pen**2 - r**2 - s**2)**(15/2))"
      ]
     },
     "execution_count": 25,
     "metadata": {},
     "output_type": "execute_result"
    }
   ],
   "source": [
    "sddot_soln_v3"
   ]
  },
  {
   "cell_type": "code",
   "execution_count": null,
   "metadata": {},
   "outputs": [],
   "source": []
  }
 ],
 "metadata": {
  "kernelspec": {
   "display_name": "Python 3.10.4 64-bit",
   "language": "python",
   "name": "python3"
  },
  "language_info": {
   "codemirror_mode": {
    "name": "ipython",
    "version": 3
   },
   "file_extension": ".py",
   "mimetype": "text/x-python",
   "name": "python",
   "nbconvert_exporter": "python",
   "pygments_lexer": "ipython3",
   "version": "3.10.4"
  },
  "orig_nbformat": 4,
  "vscode": {
   "interpreter": {
    "hash": "26de051ba29f2982a8de78e945f0abaf191376122a1563185a90213a26c5da77"
   }
  }
 },
 "nbformat": 4,
 "nbformat_minor": 2
}
