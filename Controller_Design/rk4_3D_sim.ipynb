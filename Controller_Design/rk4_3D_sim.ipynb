{
 "cells": [
  {
   "cell_type": "code",
   "execution_count": 1,
   "metadata": {},
   "outputs": [],
   "source": [
    "import numpy as np\n",
    "import matplotlib.pyplot as plt\n",
    "import sympy as sym\n",
    "from scipy import linalg"
   ]
  },
  {
   "cell_type": "markdown",
   "metadata": {},
   "source": [
    "### Constants"
   ]
  },
  {
   "cell_type": "code",
   "execution_count": 38,
   "metadata": {},
   "outputs": [],
   "source": [
    "# Mass\n",
    "m = 0.044\n",
    "\n",
    "# Principle moments of inertia\n",
    "J_y = 1.60e-05\n",
    "J_x = 1.60e-05\n",
    "J_z = 1.60e-05\n",
    "J_in1 = sym.diag(J_x, J_y, J_z)\n",
    "\n",
    "\n",
    "# Acceleration of gravity\n",
    "g = 9.81\n",
    "\n",
    "# # Pendulum parameters\n",
    "l_pen = 500e-3 # maybe m\n",
    "m_pen = 0.006"
   ]
  },
  {
   "cell_type": "code",
   "execution_count": 39,
   "metadata": {},
   "outputs": [],
   "source": [
    "def Rotate(alpha, beta, gamma):\n",
    "    Rz = sym.Matrix([[sym.cos(alpha), -sym.sin(alpha), 0],\n",
    "                 [sym.sin(alpha), sym.cos(alpha), 0],\n",
    "                 [0, 0, 1]])\n",
    "\n",
    "    Ry = sym.Matrix([[sym.cos(beta), 0, sym.sin(beta)],\n",
    "                 [0, 1, 0],\n",
    "                 [-sym.sin(beta), 0, sym.cos(beta)]])\n",
    "\n",
    "    Rx = sym.Matrix([[1, 0, 0],\n",
    "                 [0, sym.cos(gamma), -sym.sin(gamma)],\n",
    "                 [0, sym.sin(gamma), sym.cos(gamma)]])\n",
    "\n",
    "    R_VtoO = Rz * Ry * Rx\n",
    "\n",
    "    return R_VtoO\n",
    "\n",
    "def N_func(alpha, beta, gamma):\n",
    "    Ninv = sym.Matrix([[sym.cos(beta)*sym.cos(gamma), -sym.sin(gamma), 0],\n",
    "                       [sym.cos(beta)*sym.sin(gamma), sym.cos(gamma), 0],\n",
    "                       [-sym.sin(beta), 0, 1]])\n",
    "\n",
    "    # N = sym.simplify(Ninv.inv())\n",
    "    N = Ninv.inv()\n",
    "    return N"
   ]
  },
  {
   "cell_type": "markdown",
   "metadata": {},
   "source": [
    "### State Derivative\n",
    "\n",
    "Calculates the derivative of the state."
   ]
  },
  {
   "cell_type": "code",
   "execution_count": 40,
   "metadata": {},
   "outputs": [],
   "source": [
    "def propogate_state(state, inputs):\n",
    "    # state: [o_x, o_x_dot, o_y, o_y_dot, o_z, o_z_dot, alpha, beta, gamma, wx, wy, wz, r, s, rdot, sdot]\n",
    "    # inputs: [tau_x, tau_y, tau_z, f_z]\n",
    "    Rotation_matrix = Rotate(state[6], state[7], state[8])\n",
    "    N = N_func(state[6], state[7], state[8])\n",
    "    second_derivatives = Rotation_matrix * sym.Matrix([0, 0, inputs[3]])/m + sym.Matrix([0, 0, -g])\n",
    "    angle_derivatives = N * sym.Matrix([state[9], state[10], state[11]]) # [gamma_dot, beta_dot, alpha_dot]\n",
    "    tau_in1 = sym.Matrix([inputs[0], inputs[1], inputs[2]])\n",
    "    w_01in1 = sym.Matrix([state[9], state[10], state[11]])\n",
    "    w_derivatives = J_in1.inv() * (tau_in1 - w_01in1.cross(J_in1 * w_01in1))\n",
    "    zeta = np.sqrt(l_pen**2 - state[12]**2 - state[13]**2)\n",
    "    state_dot = np.zeros(16)\n",
    "    state_dot[0] = state[1]\n",
    "    state_dot[1] = second_derivatives[0]\n",
    "    state_dot[2] = state[3]\n",
    "    state_dot[3] = second_derivatives[1]\n",
    "    state_dot[4] = state[5]\n",
    "    state_dot[5] = second_derivatives[2]\n",
    "    state_dot[6] = angle_derivatives[2]\n",
    "    state_dot[7] = angle_derivatives[1]\n",
    "    state_dot[8] = angle_derivatives[0]\n",
    "    state_dot[9] = w_derivatives[0]\n",
    "    state_dot[10] = w_derivatives[1]\n",
    "    state_dot[11] = w_derivatives[2]\n",
    "    state_dot[12] = state[14]\n",
    "    state_dot[13] = state[15]\n",
    "    r = state[12]\n",
    "    rdot = state[14]\n",
    "    s = state[13]\n",
    "    sdot = state[15]\n",
    "    state_dot[14] = r*(g*zeta**3 - l_pen**2 * (rdot**2 + sdot**2) + (s*rdot + r*sdot)**2)/(l_pen**2 * zeta**2)\n",
    "    state_dot[15] = s*(g*zeta**3 - l_pen**2 * (rdot**2 + sdot**2) + (s*rdot + r*sdot)**2)/(l_pen**2 * zeta**2)\n",
    "\n",
    "    return state_dot"
   ]
  },
  {
   "cell_type": "markdown",
   "metadata": {},
   "source": [
    "### RK4 propogator\n",
    "\n",
    "To get the next state"
   ]
  },
  {
   "cell_type": "code",
   "execution_count": 41,
   "metadata": {},
   "outputs": [],
   "source": [
    "def rk4(state, inputs, delta_t):\n",
    "    y1 = propogate_state(state, inputs)\n",
    "    y2 = propogate_state(state + 1/2*delta_t*y1, inputs)\n",
    "    y3 = propogate_state(state + 1/2*delta_t*y2, inputs)\n",
    "    y4 = propogate_state(state + delta_t*y3, inputs)\n",
    "\n",
    "    return state + 1/6 * delta_t *(y1 + 2*y2 + 2*y3 + y4)\n"
   ]
  },
  {
   "cell_type": "markdown",
   "metadata": {},
   "source": [
    "### Controller\n",
    "\n",
    "To calculate the inputs based on the current state. The K values are from the `planar_problem_state_space.ipynb` notebook."
   ]
  },
  {
   "cell_type": "code",
   "execution_count": 42,
   "metadata": {},
   "outputs": [],
   "source": [
    "def controller(state, state_des):\n",
    "    K = np.array([[ 2.29068471e-16,  8.61099641e-17, -1.00000000e-03,\n",
    "        -1.46692707e-03, -6.36702352e-17, -3.27759827e-17,\n",
    "         6.12447355e-17,  1.40711930e-16,  5.64994698e-03,\n",
    "         1.08508448e-03,  2.29866193e-18, -1.00623396e-17, 0., 0., 0., 0.],\n",
    "       [ 1.00000000e-03,  1.46721568e-03, -2.93169827e-18,\n",
    "        -5.02334439e-18,  1.70125278e-19,  8.06174118e-19,\n",
    "        -1.17249228e-18,  5.65410069e-03,  2.27241353e-17,\n",
    "         2.25556202e-18,  1.08670659e-03, -6.71701600e-21, 0., 0., 0., 0.],\n",
    "       [ 8.43653003e-19, -4.48211560e-17,  9.25125544e-17,\n",
    "         8.91467135e-17, -2.28041744e-17, -1.56931322e-17,\n",
    "         1.00000000e-03, -4.14902786e-18, -2.98298408e-16,\n",
    "        -7.70627958e-18, -5.24254907e-21,  1.02029408e-03, 0., 0., 0., 0.],\n",
    "       [ 4.48687243e-17,  1.90416935e-15,  1.74110535e-14,\n",
    "         2.70758679e-14,  3.16227766e-01,  3.57530479e-01,\n",
    "        -3.47289645e-14,  2.11235997e-15, -1.22078655e-13,\n",
    "        -1.16950666e-15,  2.93154225e-17, -7.31157298e-16, 0., 0., 0., 0.]])\n",
    "    u = -K @ (state - state_des)\n",
    "    u[3] += (m)*g # Adding the equilibrium f_z value\n",
    "    return u"
   ]
  },
  {
   "cell_type": "markdown",
   "metadata": {},
   "source": [
    "Run the sim"
   ]
  },
  {
   "cell_type": "code",
   "execution_count": 43,
   "metadata": {},
   "outputs": [],
   "source": [
    "def sim(times,inputs_data, state_data, state_des, delta_t):\n",
    "    for i, time in enumerate(times):\n",
    "\n",
    "        if i == 0:\n",
    "            continue\n",
    "\n",
    "        else:\n",
    "            inputs_data[i-1] = controller(state_data[i-1], state_des)\n",
    "            state_data[i] = rk4(state_data[i-1], inputs_data[i-1], delta_t)"
   ]
  },
  {
   "cell_type": "code",
   "execution_count": 44,
   "metadata": {},
   "outputs": [
    {
     "name": "stderr",
     "output_type": "stream",
     "text": [
      "C:\\Users\\anshukc2\\AppData\\Local\\Temp\\ipykernel_13404\\4127483737.py:11: RuntimeWarning: invalid value encountered in sqrt\n",
      "  zeta = np.sqrt(l_pen**2 - state[12]**2 - state[13]**2)\n"
     ]
    }
   ],
   "source": [
    "# state: [o_x, o_x_dot, o_y, o_y_dot, o_z, o_z_dot, alpha, beta, gamma, wx, wy, wz]\n",
    "\n",
    "# Set up sim\n",
    "delta_t = 0.01\n",
    "total_t = 10\n",
    "times = np.arange(0, total_t + delta_t/2, delta_t)\n",
    "inputs_data = np.zeros((len(times), 4))\n",
    "state_data = np.zeros((len(times), 16))\n",
    "\n",
    "# Desired States\n",
    "state_des = np.array([0., 0., 0.0, 0., 3., 0., 0., 0., 0., 0., 0., 0., 0., 0., 0., 0.])\n",
    "# Initial condition\n",
    "state_data[0] = np.array([0.4, 0., 0.0, 0., 1.5, 0., 0., 0.0, 0., 0.1, 0.0, 0.0, 0., 0.3, 0., 0.])\n",
    "\n",
    "# Run sim\n",
    "sim(times, inputs_data, state_data, state_des, delta_t)"
   ]
  },
  {
   "cell_type": "markdown",
   "metadata": {},
   "source": [
    "### Plotting and animation"
   ]
  },
  {
   "cell_type": "code",
   "execution_count": 45,
   "metadata": {},
   "outputs": [
    {
     "data": {
      "text/plain": [
       "Text(0.5, 0, 'time (s)')"
      ]
     },
     "execution_count": 45,
     "metadata": {},
     "output_type": "execute_result"
    },
    {
     "data": {
      "image/png": "[encoded data removed]",
      "text/plain": [
       "<Figure size 1200x1200 with 7 Axes>"
      ]
     },
     "metadata": {},
     "output_type": "display_data"
    }
   ],
   "source": [
    "fig, (ax_o_x, ax_o_z, ax_alpha, ax_beta, ax_gamma, ax_r_offset, ax_s_offset) = plt.subplots(7, 1, figsize=(12, 12), sharex=True)\n",
    "\n",
    "# state: [o_x, o_x_dot, o_y, o_y_dot, o_z, o_z_dot, alpha, beta, gamma, wx, wy, wz]\n",
    "\n",
    "ax_o_x.plot(times, state_data[:,0])\n",
    "ax_o_x.set_ylabel('x position')\n",
    "ax_o_z.plot(times, state_data[:,4])\n",
    "ax_o_z.set_ylabel('z position')\n",
    "ax_alpha.plot(times, state_data[:,6])\n",
    "ax_alpha.set_ylabel('yaw')\n",
    "ax_beta.plot(times, state_data[:,7])\n",
    "ax_beta.set_ylabel('pitch')\n",
    "ax_gamma.plot(times, state_data[:,8])\n",
    "ax_gamma.set_ylabel('roll')\n",
    "ax_r_offset.plot(times, state_data[:,12])\n",
    "ax_r_offset.set_ylabel('R')\n",
    "ax_s_offset.plot(times, state_data[:,13])\n",
    "ax_s_offset.set_ylabel('s')\n",
    "ax_o_x.grid()\n",
    "ax_o_z.grid()\n",
    "ax_alpha.grid()\n",
    "ax_beta.grid()\n",
    "ax_gamma.grid()\n",
    "ax_gamma.set_xlabel('time (s)')\n"
   ]
  },
  {
   "cell_type": "code",
   "execution_count": 36,
   "metadata": {},
   "outputs": [
    {
     "name": "stdout",
     "output_type": "stream",
     "text": [
      "[0. 0. 0. ... 0. 0. 0.]\n"
     ]
    }
   ],
   "source": [
    "print(state_data[:,15])"
   ]
  },
  {
   "cell_type": "code",
   "execution_count": null,
   "metadata": {},
   "outputs": [],
   "source": [
    "fig, (ax_tau_y, ax_f_z) = plt.subplots(2, 1, figsize=(12, 12), sharex=True)\n",
    "\n",
    "ax_tau_y.plot(times[:-1], inputs_data[:-1,0])\n",
    "ax_f_z.plot(times[:-1], inputs_data[:-1,1])\n",
    "ax_tau_y.set_ylabel('Pitch Torque')\n",
    "ax_f_z.set_ylabel('Thrust')\n",
    "ax_tau_y.grid()\n",
    "ax_f_z.grid()\n",
    "ax_alpha.set_xlabel('time (s)')"
   ]
  },
  {
   "cell_type": "code",
   "execution_count": null,
   "metadata": {},
   "outputs": [],
   "source": [
    "# Write State Data and Timestamps to a csv for Animation\n",
    "\n",
    "import os\n",
    "\n",
    "record = []\n",
    "for point in range(len(times)):\n",
    "    cur_point = []\n",
    "    cur_point.append(str(times[point]))\n",
    "    cur_point.append(str(state_data[point, 0])) #x-pos\n",
    "    cur_point.append(str(state_data[point, 2])) #z-pos\n",
    "    cur_point.append(str(state_data[point, 4])) #theta\n",
    "    cur_point.append(str(state_data[point,6]))  #alpha\n",
    "    record.append(cur_point)\n",
    "print(state_data[13, 6])\n",
    "output_file = 'sim.csv'\n",
    "with open(output_file, 'w') as f:\n",
    "    f.write(\"time,x,z,theta,alpha\\n\")\n",
    "    for point in record:\n",
    "        f.write(f\"{','.join(point)}\\n\")"
   ]
  },
  {
   "cell_type": "markdown",
   "metadata": {},
   "source": [
    "### Controller Design\n"
   ]
  },
  {
   "cell_type": "code",
   "execution_count": null,
   "metadata": {},
   "outputs": [],
   "source": [
    "o_x, o_y, o_z, alpha, beta, gamma, wx, wy, wz, ox_dot, oy_dot, oz_dot= sym.symbols(r'o_x o_y o_z \\alpha \\beta \\gamma w_x w_y w_z ox_{dot} oy_{dot} oz_{dot}')\n",
    "tau_x, tau_y, tau_z, f_z = sym.symbols('tau_x, tau_y, tau_z, f_z')\n",
    "m, Jx, Jy, Jz = sym.symbols('m J_x J_y J_z')\n",
    "J_in1 = sym.diag(Jx, Jy, Jz)\n",
    "tau_in1 = sym.Matrix([tau_x, tau_y, tau_z])\n",
    "w_01in1 = sym.Matrix([wx, wy, wz])\n",
    "# state: [o_x, o_x_dot, o_y, o_y_dot, o_z, o_z_dot, alpha, beta, gamma, wx, wy, wz]\n",
    "# inputs: [tau_x, tau_y, tau_z, f_z]\n",
    "Rotation_matrix = Rotate(alpha, beta, gamma)\n",
    "N = N_func(alpha, beta, gamma)\n",
    "second_derivatives = Rotation_matrix * sym.Matrix([0, 0, f_z])/m + sym.Matrix([0, 0, -g])\n",
    "angle_derivatives = N * sym.Matrix([wx, wy, wz]) # [gamma_dot, beta_dot, alpha_dot]\n",
    "w_derivatives = J_in1.inv() * (tau_in1 - w_01in1.cross(J_in1 * w_01in1))\n",
    "f_sym = sym.zeros(12,1)\n",
    "f_sym[0] = ox_dot\n",
    "f_sym[1] = second_derivatives[0]\n",
    "f_sym[2] = oy_dot\n",
    "f_sym[3] = second_derivatives[1]\n",
    "f_sym[4] = oz_dot\n",
    "f_sym[5] = second_derivatives[2]\n",
    "f_sym[6] = angle_derivatives[2]\n",
    "f_sym[7] = angle_derivatives[1]\n",
    "f_sym[8] = angle_derivatives[0]\n",
    "f_sym[9] = w_derivatives[0]\n",
    "f_sym[10] = w_derivatives[1]\n",
    "f_sym[11] = w_derivatives[2]"
   ]
  },
  {
   "cell_type": "code",
   "execution_count": null,
   "metadata": {},
   "outputs": [],
   "source": [
    "s = [o_x, ox_dot, o_y, oy_dot, o_z, oz_dot, alpha, beta, gamma, wx, wy, wz]\n",
    "i = [tau_x, tau_y, tau_z, f_z]\n",
    "p = [m, Jx, Jy, Jz]"
   ]
  },
  {
   "cell_type": "code",
   "execution_count": null,
   "metadata": {},
   "outputs": [],
   "source": [
    "f = sym.lambdify(s + i + p, f_sym)"
   ]
  },
  {
   "cell_type": "code",
   "execution_count": null,
   "metadata": {},
   "outputs": [],
   "source": [
    "# Mass\n",
    "m = 0.044\n",
    "\n",
    "# Principle moments of inertia\n",
    "J_x = 1.57e-05\n",
    "J_y = 1.60e-05\n",
    "J_z = 2.05e-05\n",
    "\n",
    "# Acceleration of gravity\n",
    "g = 9.81\n",
    "\n",
    "p_eq = [m, J_x, J_y, J_z]"
   ]
  },
  {
   "cell_type": "code",
   "execution_count": null,
   "metadata": {},
   "outputs": [],
   "source": [
    "s_eq = [0., 0., 0., 0., 0., 0., 0., 0., 0., 0., 0., 0.]\n",
    "i_eq = [0., 0., 0., g*(m)]"
   ]
  },
  {
   "cell_type": "code",
   "execution_count": null,
   "metadata": {},
   "outputs": [],
   "source": [
    "print(f(*s_eq, *i_eq, *p_eq))"
   ]
  },
  {
   "cell_type": "code",
   "execution_count": null,
   "metadata": {},
   "outputs": [],
   "source": [
    "A_sym = f_sym.jacobian(s)\n",
    "B_sym = f_sym.jacobian(i)\n",
    "\n",
    "A_num = sym.lambdify(s + i + p, A_sym)\n",
    "B_num = sym.lambdify(s + i + p, B_sym)\n",
    "\n",
    "A = A_num(*s_eq, *i_eq, *p_eq)\n",
    "B = B_num(*s_eq, *i_eq, *p_eq)"
   ]
  },
  {
   "cell_type": "code",
   "execution_count": null,
   "metadata": {},
   "outputs": [],
   "source": [
    "A_str = np.array2string(A,\n",
    "                        formatter={'float_kind': lambda x: f'{x:5.2f}'},\n",
    "                        prefix='    ',\n",
    "                        max_line_width=np.inf)\n",
    "\n",
    "print(f'A = {A_str}')"
   ]
  },
  {
   "cell_type": "code",
   "execution_count": null,
   "metadata": {},
   "outputs": [],
   "source": [
    "B_str = np.array2string(B,\n",
    "                        formatter={'float_kind': lambda x: f'{x:10.2f}'},\n",
    "                        prefix='    ',\n",
    "                        max_line_width=np.inf)\n",
    "B\n",
    "print(f'B = {B_str}')"
   ]
  },
  {
   "cell_type": "code",
   "execution_count": null,
   "metadata": {},
   "outputs": [],
   "source": [
    "Q = np.diag([\n",
    "    1., \n",
    "    1., \n",
    "    1., \n",
    "    1., \n",
    "    1., \n",
    "    1., \n",
    "    1.,\n",
    "    1.,\n",
    "    1.,\n",
    "    1.,\n",
    "    1.,\n",
    "    1.,\n",
    "])\n",
    "\n",
    "R = np.diag([\n",
    "    1E6, #tau_x\n",
    "    1E6,#tau_y\n",
    "    1E6,\n",
    "    10,\n",
    "])\n",
    "\n",
    "def lqr(A, B, Q, R):\n",
    "    P = linalg.solve_continuous_are(A, B, Q, R)\n",
    "    K = linalg.inv(R) @  B.T @ P\n",
    "    return K\n"
   ]
  },
  {
   "cell_type": "code",
   "execution_count": null,
   "metadata": {},
   "outputs": [],
   "source": [
    "K = lqr(A, B, Q, R)\n",
    "\n",
    "K"
   ]
  },
  {
   "cell_type": "code",
   "execution_count": null,
   "metadata": {},
   "outputs": [],
   "source": []
  }
 ],
 "metadata": {
  "kernelspec": {
   "display_name": "Python 3.10.4 64-bit",
   "language": "python",
   "name": "python3"
  },
  "language_info": {
   "codemirror_mode": {
    "name": "ipython",
    "version": 3
   },
   "file_extension": ".py",
   "mimetype": "text/x-python",
   "name": "python",
   "nbconvert_exporter": "python",
   "pygments_lexer": "ipython3",
   "version": "3.10.4"
  },
  "orig_nbformat": 4,
  "vscode": {
   "interpreter": {
    "hash": "26de051ba29f2982a8de78e945f0abaf191376122a1563185a90213a26c5da77"
   }
  }
 },
 "nbformat": 4,
 "nbformat_minor": 2
}
