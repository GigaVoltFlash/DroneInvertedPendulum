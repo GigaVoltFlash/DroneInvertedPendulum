{
 "cells": [
  {
   "cell_type": "code",
   "execution_count": 3,
   "metadata": {},
   "outputs": [],
   "source": [
    "import numpy as np\n",
    "import matplotlib.pyplot as plt\n",
    "import sympy as sym\n",
    "from scipy import linalg"
   ]
  },
  {
   "cell_type": "markdown",
   "metadata": {},
   "source": [
    "### Constants"
   ]
  },
  {
   "cell_type": "code",
   "execution_count": 4,
   "metadata": {},
   "outputs": [],
   "source": [
    "# Mass\n",
    "m = 0.030\n",
    "\n",
    "# Principle moments of inertia\n",
    "J_y = 1.60e-05\n",
    "J_x = 1.60e-05\n",
    "J_z = 1.60e-05\n",
    "J_in1 = sym.diag(J_x, J_y, J_z)\n",
    "\n",
    "\n",
    "# Acceleration of gravity\n",
    "g = 9.81\n",
    "\n",
    "# # Pendulum parameters\n",
    "l_pen = 620e-3 # maybe m\n",
    "m_pen = 0.006"
   ]
  },
  {
   "cell_type": "code",
   "execution_count": 5,
   "metadata": {},
   "outputs": [],
   "source": [
    "def Rotate(alpha, beta, gamma):\n",
    "    Rz = sym.Matrix([[sym.cos(alpha), -sym.sin(alpha), 0],\n",
    "                 [sym.sin(alpha), sym.cos(alpha), 0],\n",
    "                 [0, 0, 1]])\n",
    "\n",
    "    Ry = sym.Matrix([[sym.cos(beta), 0, sym.sin(beta)],\n",
    "                 [0, 1, 0],\n",
    "                 [-sym.sin(beta), 0, sym.cos(beta)]])\n",
    "\n",
    "    Rx = sym.Matrix([[1, 0, 0],\n",
    "                 [0, sym.cos(gamma), -sym.sin(gamma)],\n",
    "                 [0, sym.sin(gamma), sym.cos(gamma)]])\n",
    "\n",
    "    R_VtoO = Rz * Ry * Rx\n",
    "\n",
    "    return R_VtoO\n",
    "\n",
    "def N_func(alpha, beta, gamma):\n",
    "    Ninv = sym.Matrix([[sym.cos(beta)*sym.cos(gamma), -sym.sin(gamma), 0],\n",
    "                       [sym.cos(beta)*sym.sin(gamma), sym.cos(gamma), 0],\n",
    "                       [-sym.sin(beta), 0, 1]])\n",
    "\n",
    "    # N = sym.simplify(Ninv.inv())\n",
    "    N = Ninv.inv()\n",
    "    return N"
   ]
  },
  {
   "cell_type": "markdown",
   "metadata": {},
   "source": [
    "### State Derivative\n",
    "\n",
    "Calculates the derivative of the state."
   ]
  },
  {
   "cell_type": "code",
   "execution_count": 32,
   "metadata": {},
   "outputs": [],
   "source": [
    "def propogate_state(state, inputs):\n",
    "    # state: [o_x, o_x_dot, o_y, o_y_dot, o_z, o_z_dot, alpha, beta, gamma, wx, wy, wz, r, s, rdot, sdot]\n",
    "    # state: [o_x, vx, o_y, vy, o_z, vz, alpha, beta, gamma, wx, wy, wz, r, s, rdot, sdot]\n",
    "    \n",
    "    # inputs: [tau_x, tau_y, tau_z, f_z]\n",
    "    Rotation_matrix = Rotate(state[6], state[7], state[8])\n",
    "    N = N_func(state[6], state[7], state[8])\n",
    "    second_derivatives = Rotation_matrix * sym.Matrix([0, 0, inputs[3]])/m + sym.Matrix([0, 0, -g])\n",
    "    angle_derivatives = N * sym.Matrix([state[9], state[10], state[11]]) # [gamma_dot, beta_dot, alpha_dot]\n",
    "    tau_in1 = sym.Matrix([inputs[0], inputs[1], inputs[2]])\n",
    "    w_01in1 = sym.Matrix([state[9], state[10], state[11]])\n",
    "    w_derivatives = J_in1.inv() * (tau_in1 - w_01in1.cross(J_in1 * w_01in1))\n",
    "    zeta = np.sqrt(l_pen**2 - state[12]**2 - state[13]**2)\n",
    "    state_dot = np.zeros(16)\n",
    "\n",
    "    # vx, vy, vz (state) --> oxdot, oydot, ozdot (calculate)\n",
    "\n",
    "    # oxddot, oyddot, ozddot (second derivatives) --> vxdot, vydot, vzdot (calcul)\n",
    "    # state_dot[0] = o_x_dot\n",
    "    # state_dot[1] = vx_dot\n",
    "\n",
    "    # state_dot[2] = state[3]\n",
    "    state_dot[3] = second_derivatives[1]\n",
    "    # state_dot[4] = state[5]\n",
    "    state_dot[5] = second_derivatives[2]\n",
    "    state_dot[6] = angle_derivatives[2]\n",
    "    state_dot[7] = angle_derivatives[1]\n",
    "    state_dot[8] = angle_derivatives[0]\n",
    "    state_dot[9] = w_derivatives[0]\n",
    "    state_dot[10] = w_derivatives[1]\n",
    "    state_dot[11] = w_derivatives[2]\n",
    "\n",
    "    state_dot[12] = state[14]\n",
    "    state_dot[13] = state[15]\n",
    "    r = state[12]\n",
    "    rd = state[14]\n",
    "    s = state[13]\n",
    "    sd = state[15]\n",
    "    xdd = state_dot[1] # UPDATE make sure these are ox_ddot\n",
    "    ydd = state_dot[3] # UPDATE make sure these are oy_ddot\n",
    "    state_dot[15] = (g*l_pen**2*s*zeta - g*r**2*s*zeta - g*s**3*zeta - l_pen**4*ydd + l_pen**2*xdd*r*s + l_pen**2*ydd*r**2 + 2*l_pen**2*ydd*s**2 + l_pen**2*ydd*s*zeta - l_pen**2*rd**2*s - l_pen**2*s*sd**2 - xdd*r**3*s - xdd*r*s**3 - ydd*r**2*s**2 - ydd*r**2*s*zeta - ydd*s**4 - ydd*s**3*zeta + r**2*s*sd**2 - 2*r*rd*s**2*sd + rd**2*s**3)/((r**2 - l_pen**2)*(s**2 - l_pen**2))\n",
    "    state_dot[14] = (g*l_pen**2*r*zeta - g*s**2*r*zeta - g*r**3*zeta - l_pen**4*xdd + l_pen**2*ydd*r*s + l_pen**2*xdd*s**2 + 2*l_pen**2*xdd*r**2 + l_pen**2*ydd*r*zeta - l_pen**2*rd**2*r - l_pen**2*r*sd**2 - ydd*r**3*s - ydd*r*s**3 - xdd*r**2*s**2 - ydd*s**2*r*zeta - xdd*r**4 - ydd*r**3*zeta + s**2*r*rd**2 - 2*s*sd*r**2*rd + sd**2*r**3)/((r**2 - l_pen**2)*(s**2 - l_pen**2))\n",
    "\n",
    "    return state_dot"
   ]
  },
  {
   "cell_type": "markdown",
   "metadata": {},
   "source": [
    "### RK4 propogator\n",
    "\n",
    "To get the next state"
   ]
  },
  {
   "cell_type": "code",
   "execution_count": 33,
   "metadata": {},
   "outputs": [],
   "source": [
    "def rk4(state, inputs, delta_t):\n",
    "    y1 = propogate_state(state, inputs)\n",
    "    y2 = propogate_state(state + 1/2*delta_t*y1, inputs)\n",
    "    y3 = propogate_state(state + 1/2*delta_t*y2, inputs)\n",
    "    y4 = propogate_state(state + delta_t*y3, inputs)\n",
    "\n",
    "    return state + 1/6 * delta_t *(y1 + 2*y2 + 2*y3 + y4)\n"
   ]
  },
  {
   "cell_type": "markdown",
   "metadata": {},
   "source": [
    "### Controller\n",
    "\n",
    "To calculate the inputs based on the current state. The K values are from the `planar_problem_state_space.ipynb` notebook."
   ]
  },
  {
   "cell_type": "code",
   "execution_count": 34,
   "metadata": {},
   "outputs": [],
   "source": [
    "def controller(state, state_des):\n",
    "    K = np.array([[ 2.18419435e-16,  8.74671160e-17,  1.00000000e-03,\n",
    "         1.92508965e-03,  1.20561973e-18,  1.61593807e-20,\n",
    "         1.07795970e-18, -6.38280912e-16,  1.59841804e-02,\n",
    "         1.22552163e-03, -5.11312374e-18, -3.09730372e-17,\n",
    "         2.09229000e-15,  5.85139281e-02,  4.81448986e-16,\n",
    "         1.32460826e-02],\n",
    "       [-1.00000000e-03, -1.92537771e-03,  5.81745492e-16,\n",
    "         9.57183086e-16, -1.55007872e-17,  7.66072114e-19,\n",
    "         1.04613054e-19,  1.60148062e-02,  1.88059521e-15,\n",
    "        -5.01725267e-18,  1.22982674e-03, -1.85181738e-17,\n",
    "        -5.85860608e-02,  1.37286717e-14, -1.32623234e-02,\n",
    "         3.06164624e-15],\n",
    "       [ 2.27613203e-16,  3.64073935e-16, -6.49175411e-17,\n",
    "        -1.71070511e-16,  3.05544168e-18,  2.09861760e-19,\n",
    "         1.00000000e-03, -1.24313289e-15, -6.75150463e-16,\n",
    "        -2.37208138e-17, -1.44532088e-17,  1.02029408e-03,\n",
    "         6.42265463e-15, -3.32065048e-15,  1.46285551e-15,\n",
    "        -7.42558338e-16],\n",
    "       [ 1.28926626e-14,  6.49266205e-15,  2.16918558e-16,\n",
    "         1.81032956e-16,  3.16227766e-01,  3.57530479e-01,\n",
    "         2.68186831e-17,  4.55083197e-15,  2.57757833e-16,\n",
    "         5.76596083e-19,  2.78571678e-17,  9.77765016e-18,\n",
    "         3.65509034e-14,  1.45029099e-15,  8.23027598e-15,\n",
    "         2.61016589e-16]])\n",
    "    u = -K @ (state - state_des)\n",
    "    u[3] += (m)*g # Adding the equilibrium f_z value\n",
    "    return u"
   ]
  },
  {
   "cell_type": "markdown",
   "metadata": {},
   "source": [
    "Run the sim"
   ]
  },
  {
   "cell_type": "code",
   "execution_count": 35,
   "metadata": {},
   "outputs": [],
   "source": [
    "def sim(times,inputs_data, state_data, state_des, delta_t):\n",
    "    for i, time in enumerate(times):\n",
    "\n",
    "        if i == 0:\n",
    "            continue\n",
    "\n",
    "        else:\n",
    "            inputs_data[i-1] = controller(state_data[i-1], state_des)\n",
    "            state_data[i] = rk4(state_data[i-1], inputs_data[i-1], delta_t)"
   ]
  },
  {
   "cell_type": "code",
   "execution_count": 36,
   "metadata": {},
   "outputs": [],
   "source": [
    "# state: [o_x, o_x_dot, o_y, o_y_dot, o_z, o_z_dot, alpha, beta, gamma, wx, wy, wz]\n",
    "\n",
    "# Set up sim\n",
    "delta_t = 0.01\n",
    "total_t = 10\n",
    "times = np.arange(0, total_t + delta_t/2, delta_t)\n",
    "inputs_data = np.zeros((len(times), 4))\n",
    "state_data = np.zeros((len(times), 16))\n",
    "\n",
    "# Desired States\n",
    "state_des = np.array([0., 0., 0.0, 0., 3., 0., 0., 0., 0., 0., 0., 0., 0., 0., 0., 0.])\n",
    "# Initial condition\n",
    "state_data[0] = np.array([0., 0., 0.0, 0., 3., 0., 0., 0., 0., 0., 0., 0., 0.15, 0.15, -0.03, 0.02])\n",
    "\n",
    "# Run sim\n",
    "sim(times, inputs_data, state_data, state_des, delta_t)"
   ]
  },
  {
   "cell_type": "code",
   "execution_count": 37,
   "metadata": {},
   "outputs": [],
   "source": [
    "# Convert inputs data to motor commands\n",
    "k_F = 2.04e-06\n",
    "k_M = 6.33e-09\n",
    "l = .0325 \n",
    "\n",
    "P = np.array([[ -l * k_F, -l * k_F,  l * k_F,  l * k_F  ],\n",
    "              [ -l * k_F, l * k_F,   l * k_F,  -l * k_F ],\n",
    "              [ -k_M,     k_M,       -k_M,     k_M      ],\n",
    "              [ k_F,      k_F,       k_F,      k_F      ]])\n",
    "\n",
    "Pinv = linalg.inv(P)\n",
    "\n",
    "motor_commands = np.zeros((len(times), 4))\n",
    "for i in range(len(times)):\n",
    "    motor_commands[i] = Pinv @ inputs_data[i]\n"
   ]
  },
  {
   "cell_type": "markdown",
   "metadata": {},
   "source": [
    "### Plotting and animation"
   ]
  },
  {
   "cell_type": "code",
   "execution_count": 38,
   "metadata": {},
   "outputs": [
    {
     "data": {
      "text/plain": [
       "Text(0.5, 0, 'time (s)')"
      ]
     },
     "execution_count": 38,
     "metadata": {},
     "output_type": "execute_result"
    },
    {
     "data": {
      "image/png": "[encoded data removed]",
      "text/plain": [
       "<Figure size 864x864 with 8 Axes>"
      ]
     },
     "metadata": {
      "needs_background": "light"
     },
     "output_type": "display_data"
    }
   ],
   "source": [
    "fig, (ax_o_x, ax_o_y, ax_o_z, ax_alpha, ax_beta, ax_gamma, ax_r_offset, ax_s_offset) = plt.subplots(8, 1, figsize=(12, 12), sharex=True)\n",
    "\n",
    "# state: [o_x, o_x_dot, o_y, o_y_dot, o_z, o_z_dot, alpha, beta, gamma, wx, wy, wz]\n",
    "\n",
    "ax_o_x.plot(times, state_data[:,0])\n",
    "ax_o_x.set_ylabel('x position')\n",
    "ax_o_y.plot(times, state_data[:,2])\n",
    "ax_o_y.set_ylabel('y position')\n",
    "ax_o_z.plot(times, state_data[:,4])\n",
    "ax_o_z.set_ylabel('z position')\n",
    "ax_alpha.plot(times, state_data[:,6])\n",
    "ax_alpha.set_ylabel('yaw')\n",
    "ax_beta.plot(times, state_data[:,7])\n",
    "ax_beta.set_ylabel('pitch')\n",
    "ax_gamma.plot(times, state_data[:,8])\n",
    "ax_gamma.set_ylabel('roll')\n",
    "ax_r_offset.plot(times, state_data[:,12])\n",
    "ax_r_offset.set_ylabel('R')\n",
    "ax_s_offset.plot(times, state_data[:,13])\n",
    "ax_s_offset.set_ylabel('s')\n",
    "ax_o_x.grid()\n",
    "ax_o_y.grid()\n",
    "ax_o_z.grid()\n",
    "ax_alpha.grid()\n",
    "ax_beta.grid()\n",
    "ax_gamma.grid()\n",
    "ax_r_offset.grid()\n",
    "ax_s_offset.grid()\n",
    "ax_s_offset.set_xlabel('time (s)')\n"
   ]
  },
  {
   "cell_type": "code",
   "execution_count": 39,
   "metadata": {},
   "outputs": [
    {
     "data": {
      "text/plain": [
       "Text(0.5, 0, 'Time')"
      ]
     },
     "execution_count": 39,
     "metadata": {},
     "output_type": "execute_result"
    },
    {
     "data": {
      "image/png": "[encoded data removed]",
      "text/plain": [
       "<Figure size 432x288 with 1 Axes>"
      ]
     },
     "metadata": {
      "needs_background": "light"
     },
     "output_type": "display_data"
    }
   ],
   "source": [
    "plt.plot(times[:-1], motor_commands[:-1,0], label=\"motor 1\")\n",
    "plt.plot(times[:-1], motor_commands[:-1,1], label=\"motor 2\")\n",
    "plt.plot(times[:-1], motor_commands[:-1,2], label=\"motor 3\")\n",
    "plt.plot(times[:-1], motor_commands[:-1,3], label=\"motor 4\")\n",
    "plt.legend()\n",
    "plt.ylim((20000, 65000))\n",
    "plt.ylabel(\"Motor command\")\n",
    "plt.xlabel(\"Time\")"
   ]
  },
  {
   "cell_type": "code",
   "execution_count": 40,
   "metadata": {},
   "outputs": [],
   "source": [
    "# Write State Data and Timestamps to a csv for Animation\n",
    "\n",
    "import os\n",
    "# state: [o_x, o_x_dot, o_y, o_y_dot, o_z, o_z_dot, alpha, beta, gamma, wx, wy, wz]\n",
    "\n",
    "record = []\n",
    "for point in range(len(times)):\n",
    "    cur_point = []\n",
    "    cur_point.append(str(times[point]))\n",
    "    cur_point.append(str(state_data[point,0])) #x-pos\n",
    "    cur_point.append(str(state_data[point, 2])) #y-pos\n",
    "    cur_point.append(str(state_data[point, 4])) #z-pos\n",
    "    cur_point.append(str(state_data[point, 6])) #yaw\n",
    "    cur_point.append(str(state_data[point, 7])) #pitch\n",
    "    cur_point.append(str(state_data[point, 8])) #roll\n",
    "    cur_point.append(str(state_data[point, 12])) #r\n",
    "    cur_point.append(str(state_data[point, 13])) #s\n",
    "    record.append(cur_point)\n",
    "\n",
    "output_file = '3d-sim.csv'\n",
    "with open(output_file, 'w') as f:\n",
    "    f.write(\"time,x,y,z,yaw,pitch,roll,r,s\\n\")\n",
    "    for point in record:\n",
    "        f.write(f\"{','.join(point)}\\n\")"
   ]
  },
  {
   "cell_type": "markdown",
   "metadata": {},
   "source": [
    "### Controller Design\n"
   ]
  },
  {
   "cell_type": "code",
   "execution_count": 11,
   "metadata": {},
   "outputs": [
    {
     "data": {
      "text/latex": [
       "$\\displaystyle \\left[\\begin{matrix}ox_{dot}\\\\\\frac{f_{z} \\left(\\sin{\\left(\\alpha \\right)} \\sin{\\left(\\gamma \\right)} + \\sin{\\left(\\beta \\right)} \\cos{\\left(\\alpha \\right)} \\cos{\\left(\\gamma \\right)}\\right)}{m}\\\\oy_{dot}\\\\\\frac{f_{z} \\left(\\sin{\\left(\\alpha \\right)} \\sin{\\left(\\beta \\right)} \\cos{\\left(\\gamma \\right)} - \\sin{\\left(\\gamma \\right)} \\cos{\\left(\\alpha \\right)}\\right)}{m}\\\\oz_{dot}\\\\\\frac{f_{z} \\cos{\\left(\\beta \\right)} \\cos{\\left(\\gamma \\right)}}{m} - 9.81\\\\\\frac{w_{x} \\sin{\\left(\\beta \\right)} \\cos{\\left(\\gamma \\right)}}{\\sin^{2}{\\left(\\gamma \\right)} \\cos{\\left(\\beta \\right)} + \\cos{\\left(\\beta \\right)} \\cos^{2}{\\left(\\gamma \\right)}} + \\frac{w_{y} \\sin{\\left(\\beta \\right)} \\sin{\\left(\\gamma \\right)}}{\\sin^{2}{\\left(\\gamma \\right)} \\cos{\\left(\\beta \\right)} + \\cos{\\left(\\beta \\right)} \\cos^{2}{\\left(\\gamma \\right)}} + w_{z}\\\\- \\frac{w_{x} \\sin{\\left(\\gamma \\right)}}{\\sin^{2}{\\left(\\gamma \\right)} + \\cos^{2}{\\left(\\gamma \\right)}} + \\frac{w_{y} \\cos{\\left(\\gamma \\right)}}{\\sin^{2}{\\left(\\gamma \\right)} + \\cos^{2}{\\left(\\gamma \\right)}}\\\\\\frac{w_{x} \\cos{\\left(\\gamma \\right)}}{\\sin^{2}{\\left(\\gamma \\right)} \\cos{\\left(\\beta \\right)} + \\cos{\\left(\\beta \\right)} \\cos^{2}{\\left(\\gamma \\right)}} + \\frac{w_{y} \\sin{\\left(\\gamma \\right)}}{\\sin^{2}{\\left(\\gamma \\right)} \\cos{\\left(\\beta \\right)} + \\cos{\\left(\\beta \\right)} \\cos^{2}{\\left(\\gamma \\right)}}\\\\\\frac{J_{y} w_{y} w_{z} - J_{z} w_{y} w_{z} + \\tau_{x}}{J_{x}}\\\\\\frac{- J_{x} w_{x} w_{z} + J_{z} w_{x} w_{z} + \\tau_{y}}{J_{y}}\\\\\\frac{J_{x} w_{x} w_{y} - J_{y} w_{x} w_{y} + \\tau_{z}}{J_{z}}\\end{matrix}\\right]$"
      ],
      "text/plain": [
       "Matrix([\n",
       "[                                                                                                                                                                     ox_{dot}],\n",
       "[                                                                                                         f_z*(sin(\\alpha)*sin(\\gamma) + sin(\\beta)*cos(\\alpha)*cos(\\gamma))/m],\n",
       "[                                                                                                                                                                     oy_{dot}],\n",
       "[                                                                                                         f_z*(sin(\\alpha)*sin(\\beta)*cos(\\gamma) - sin(\\gamma)*cos(\\alpha))/m],\n",
       "[                                                                                                                                                                     oz_{dot}],\n",
       "[                                                                                                                                          f_z*cos(\\beta)*cos(\\gamma)/m - 9.81],\n",
       "[w_x*sin(\\beta)*cos(\\gamma)/(sin(\\gamma)**2*cos(\\beta) + cos(\\beta)*cos(\\gamma)**2) + w_y*sin(\\beta)*sin(\\gamma)/(sin(\\gamma)**2*cos(\\beta) + cos(\\beta)*cos(\\gamma)**2) + w_z],\n",
       "[                                                                       -w_x*sin(\\gamma)/(sin(\\gamma)**2 + cos(\\gamma)**2) + w_y*cos(\\gamma)/(sin(\\gamma)**2 + cos(\\gamma)**2)],\n",
       "[                            w_x*cos(\\gamma)/(sin(\\gamma)**2*cos(\\beta) + cos(\\beta)*cos(\\gamma)**2) + w_y*sin(\\gamma)/(sin(\\gamma)**2*cos(\\beta) + cos(\\beta)*cos(\\gamma)**2)],\n",
       "[                                                                                                                                      (J_y*w_y*w_z - J_z*w_y*w_z + tau_x)/J_x],\n",
       "[                                                                                                                                     (-J_x*w_x*w_z + J_z*w_x*w_z + tau_y)/J_y],\n",
       "[                                                                                                                                      (J_x*w_x*w_y - J_y*w_x*w_y + tau_z)/J_z]])"
      ]
     },
     "execution_count": 11,
     "metadata": {},
     "output_type": "execute_result"
    }
   ],
   "source": [
    "o_x, o_y, o_z, alpha, beta, gamma, wx, wy, wz, ox_dot, oy_dot, oz_dot= sym.symbols(r'o_x o_y o_z \\alpha \\beta \\gamma w_x w_y w_z ox_{dot} oy_{dot} oz_{dot}')\n",
    "tau_x, tau_y, tau_z, f_z = sym.symbols('tau_x, tau_y, tau_z, f_z')\n",
    "m, Jx, Jy, Jz = sym.symbols('m J_x J_y J_z')\n",
    "J_in1 = sym.diag(Jx, Jy, Jz)\n",
    "tau_in1 = sym.Matrix([tau_x, tau_y, tau_z])\n",
    "w_01in1 = sym.Matrix([wx, wy, wz])\n",
    "# state: [o_x, o_x_dot, o_y, o_y_dot, o_z, o_z_dot, alpha, beta, gamma, wx, wy, wz]\n",
    "# inputs: [tau_x, tau_y, tau_z, f_z]\n",
    "Rotation_matrix = Rotate(alpha, beta, gamma)\n",
    "N = N_func(alpha, beta, gamma)\n",
    "second_derivatives = Rotation_matrix * sym.Matrix([0, 0, f_z])/m + sym.Matrix([0, 0, -g])\n",
    "angle_derivatives = N * sym.Matrix([wx, wy, wz]) # [gamma_dot, beta_dot, alpha_dot]\n",
    "w_derivatives = J_in1.inv() * (tau_in1 - w_01in1.cross(J_in1 * w_01in1))\n",
    "f_sym = sym.zeros(12,1)\n",
    "# f_sym[0] = ox_dot\n",
    "f_sym[1] = second_derivatives[0]\n",
    "# f_sym[2] = oy_dot\n",
    "f_sym[3] = second_derivatives[1]\n",
    "# f_sym[4] = oz_dot\n",
    "f_sym[5] = second_derivatives[2]\n",
    "f_sym[6] = angle_derivatives[2]\n",
    "f_sym[7] = angle_derivatives[1]\n",
    "f_sym[8] = angle_derivatives[0]\n",
    "f_sym[9] = w_derivatives[0]\n",
    "f_sym[10] = w_derivatives[1]\n",
    "f_sym[11] = w_derivatives[2]\n",
    "\n",
    "# Mapping vx_dot, vy_dot, vz_dot to ox_dot, oy_dot, oz_dot\n",
    "f_sym[0] = Rotation_matrix @ f_sym[9]\n",
    "f_sym[2] = Rotation_matrix @ f_sym[10]\n",
    "f_sym[4] = Rotation_matrix @ f_sym[11]\n",
    "\n",
    "f_sym"
   ]
  },
  {
   "cell_type": "code",
   "execution_count": 12,
   "metadata": {},
   "outputs": [],
   "source": [
    "s = [o_x, ox_dot, o_y, oy_dot, o_z, oz_dot, alpha, beta, gamma, wx, wy, wz]\n",
    "i = [tau_x, tau_y, tau_z, f_z]\n",
    "p = [m, Jx, Jy, Jz]"
   ]
  },
  {
   "cell_type": "code",
   "execution_count": 13,
   "metadata": {},
   "outputs": [
    {
     "data": {
      "text/plain": [
       "<function _lambdifygenerated(o_x, ox_dot, o_y, oy_dot, o_z, oz_dot, Dummy_162, Dummy_161, _Dummy_160, w_x, w_y, w_z, tau_x, tau_y, tau_z, f_z, m, J_x, J_y, J_z)>"
      ]
     },
     "execution_count": 13,
     "metadata": {},
     "output_type": "execute_result"
    }
   ],
   "source": [
    "f = sym.lambdify(s + i + p, f_sym)\n",
    "f"
   ]
  },
  {
   "cell_type": "code",
   "execution_count": 14,
   "metadata": {},
   "outputs": [],
   "source": [
    "# Mass\n",
    "m = 0.044\n",
    "\n",
    "# Principle moments of inertia\n",
    "J_x = 1.57e-05\n",
    "J_y = 1.60e-05\n",
    "J_z = 2.05e-05\n",
    "\n",
    "# Acceleration of gravity\n",
    "g = 9.81\n",
    "\n",
    "p_eq = [m, J_x, J_y, J_z]"
   ]
  },
  {
   "cell_type": "code",
   "execution_count": 15,
   "metadata": {},
   "outputs": [],
   "source": [
    "s_eq = [0., 0., 0., 0., 0., 0., 0., 0., 0., 0., 0., 0.]\n",
    "i_eq = [0., 0., 0., g*(m)]"
   ]
  },
  {
   "cell_type": "code",
   "execution_count": 17,
   "metadata": {},
   "outputs": [
    {
     "name": "stdout",
     "output_type": "stream",
     "text": [
      "[[0.]\n",
      " [0.]\n",
      " [0.]\n",
      " [0.]\n",
      " [0.]\n",
      " [0.]\n",
      " [0.]\n",
      " [0.]\n",
      " [0.]\n",
      " [0.]\n",
      " [0.]\n",
      " [0.]]\n"
     ]
    }
   ],
   "source": [
    "print(f(*s_eq, *i_eq, *p_eq))"
   ]
  },
  {
   "cell_type": "code",
   "execution_count": 18,
   "metadata": {},
   "outputs": [],
   "source": [
    "A_sym = f_sym.jacobian(s)\n",
    "B_sym = f_sym.jacobian(i)\n",
    "\n",
    "A_num = sym.lambdify(s + i + p, A_sym)\n",
    "B_num = sym.lambdify(s + i + p, B_sym)\n",
    "\n",
    "A = A_num(*s_eq, *i_eq, *p_eq)\n",
    "B = B_num(*s_eq, *i_eq, *p_eq)"
   ]
  },
  {
   "cell_type": "code",
   "execution_count": 48,
   "metadata": {},
   "outputs": [],
   "source": [
    "# state: [o_x, o_x_dot, o_y, o_y_dot, o_z, o_z_dot, alpha, beta, gamma, wx, wy, wz, r, s, rdot, sdot]\n",
    "############# JANK SHIT    ##############################\n",
    "A_mod = np.vstack((np.hstack((A, np.zeros((12, 4)))), np.zeros((4,16))))\n",
    "A_mod[12,14] = 1.0\n",
    "A_mod[13,15] = 1.0\n",
    "A_mod[14,12] = g/l_pen\n",
    "A_mod[14, 7] = -g\n",
    "A_mod[15,13] = g/l_pen\n",
    "A_mod[15, 8] = g\n",
    "\n",
    "B_mod = np.vstack((B, np.zeros((4,4))))"
   ]
  },
  {
   "cell_type": "code",
   "execution_count": 49,
   "metadata": {},
   "outputs": [
    {
     "name": "stdout",
     "output_type": "stream",
     "text": [
      "A = [[ 0.00  1.00  0.00  0.00  0.00  0.00  0.00  0.00  0.00  0.00  0.00  0.00  0.00  0.00  0.00  0.00]\n",
      "     [ 0.00  0.00  0.00  0.00  0.00  0.00  0.00  9.81  0.00  0.00  0.00  0.00  0.00  0.00  0.00  0.00]\n",
      "     [ 0.00  0.00  0.00  1.00  0.00  0.00  0.00  0.00  0.00  0.00  0.00  0.00  0.00  0.00  0.00  0.00]\n",
      "     [ 0.00  0.00  0.00  0.00  0.00  0.00  0.00  0.00 -9.81  0.00  0.00  0.00  0.00  0.00  0.00  0.00]\n",
      "     [ 0.00  0.00  0.00  0.00  0.00  1.00  0.00  0.00  0.00  0.00  0.00  0.00  0.00  0.00  0.00  0.00]\n",
      "     [ 0.00  0.00  0.00  0.00  0.00  0.00  0.00 -0.00 -0.00  0.00  0.00  0.00  0.00  0.00  0.00  0.00]\n",
      "     [ 0.00  0.00  0.00  0.00  0.00  0.00  0.00  0.00  0.00  0.00  0.00  1.00  0.00  0.00  0.00  0.00]\n",
      "     [ 0.00  0.00  0.00  0.00  0.00  0.00  0.00  0.00 -0.00 -0.00  1.00  0.00  0.00  0.00  0.00  0.00]\n",
      "     [ 0.00  0.00  0.00  0.00  0.00  0.00  0.00  0.00  0.00  1.00  0.00  0.00  0.00  0.00  0.00  0.00]\n",
      "     [ 0.00  0.00  0.00  0.00  0.00  0.00  0.00  0.00  0.00  0.00  0.00  0.00  0.00  0.00  0.00  0.00]\n",
      "     [ 0.00  0.00  0.00  0.00  0.00  0.00  0.00  0.00  0.00  0.00  0.00  0.00  0.00  0.00  0.00  0.00]\n",
      "     [ 0.00  0.00  0.00  0.00  0.00  0.00  0.00  0.00  0.00  0.00  0.00  0.00  0.00  0.00  0.00  0.00]\n",
      "     [ 0.00  0.00  0.00  0.00  0.00  0.00  0.00  0.00  0.00  0.00  0.00  0.00  0.00  0.00  1.00  0.00]\n",
      "     [ 0.00  0.00  0.00  0.00  0.00  0.00  0.00  0.00  0.00  0.00  0.00  0.00  0.00  0.00  0.00  1.00]\n",
      "     [ 0.00  0.00  0.00  0.00  0.00  0.00  0.00 -9.81  0.00  0.00  0.00  0.00 15.82  0.00  0.00  0.00]\n",
      "     [ 0.00  0.00  0.00  0.00  0.00  0.00  0.00  0.00  9.81  0.00  0.00  0.00  0.00 15.82  0.00  0.00]]\n"
     ]
    }
   ],
   "source": [
    "\n",
    "A_str = np.array2string(A_mod,\n",
    "                        formatter={'float_kind': lambda x: f'{x:5.2f}'},\n",
    "                        prefix='    ',\n",
    "                        max_line_width=np.inf)\n",
    "\n",
    "print(f'A = {A_str}')"
   ]
  },
  {
   "cell_type": "code",
   "execution_count": 50,
   "metadata": {},
   "outputs": [
    {
     "name": "stdout",
     "output_type": "stream",
     "text": [
      "B = [[      0.00       0.00       0.00       0.00]\n",
      "     [      0.00       0.00       0.00       0.00]\n",
      "     [      0.00       0.00       0.00       0.00]\n",
      "     [      0.00       0.00       0.00       0.00]\n",
      "     [      0.00       0.00       0.00       0.00]\n",
      "     [      0.00       0.00       0.00      22.73]\n",
      "     [      0.00       0.00       0.00       0.00]\n",
      "     [      0.00       0.00       0.00       0.00]\n",
      "     [      0.00       0.00       0.00       0.00]\n",
      "     [  63694.27       0.00       0.00       0.00]\n",
      "     [      0.00   62500.00       0.00       0.00]\n",
      "     [      0.00       0.00   48780.49       0.00]\n",
      "     [      0.00       0.00       0.00       0.00]\n",
      "     [      0.00       0.00       0.00       0.00]\n",
      "     [      0.00       0.00       0.00       0.00]\n",
      "     [      0.00       0.00       0.00       0.00]]\n"
     ]
    }
   ],
   "source": [
    "B_str = np.array2string(B_mod,\n",
    "                        formatter={'float_kind': lambda x: f'{x:10.2f}'},\n",
    "                        prefix='    ',\n",
    "                        max_line_width=np.inf)\n",
    "B\n",
    "print(f'B = {B_str}')"
   ]
  },
  {
   "cell_type": "code",
   "execution_count": 51,
   "metadata": {},
   "outputs": [],
   "source": [
    "Q = np.diag([\n",
    "    1., \n",
    "    1., \n",
    "    1., \n",
    "    1., \n",
    "    1., \n",
    "    1., \n",
    "    1.,\n",
    "    1.,\n",
    "    1.,\n",
    "    1.,\n",
    "    1.,\n",
    "    1.,\n",
    "    1.,\n",
    "    1.,\n",
    "    1.,\n",
    "    1.\n",
    "])\n",
    "\n",
    "R = np.diag([\n",
    "    1E6, #tau_x\n",
    "    1E6,#tau_y\n",
    "    1E6,\n",
    "    10,\n",
    "])\n",
    "\n",
    "def lqr(A, B, Q, R):\n",
    "    P = linalg.solve_continuous_are(A, B, Q, R)\n",
    "    K = linalg.inv(R) @  B.T @ P\n",
    "    return K\n"
   ]
  },
  {
   "cell_type": "code",
   "execution_count": 52,
   "metadata": {},
   "outputs": [
    {
     "data": {
      "text/plain": [
       "array([[-5.29778089e-16, -3.60880523e-16,  1.00000000e-03,\n",
       "         1.97854229e-03,  4.86422286e-17,  7.66640838e-18,\n",
       "        -4.10433930e-17,  3.16936081e-16,  1.49060113e-02,\n",
       "         1.21163062e-03,  1.40037562e-18, -3.41410149e-17,\n",
       "        -2.88537526e-15,  4.71004344e-02, -7.27847972e-16,\n",
       "         1.18804338e-02],\n",
       "       [-1.00000000e-03, -1.97883026e-03, -6.27118644e-17,\n",
       "        -1.10589968e-16, -1.44068131e-16, -1.35962612e-16,\n",
       "         2.39862484e-16,  1.49329422e-02, -3.62011990e-16,\n",
       "         1.37411857e-18,  1.21567025e-03,  1.79840404e-17,\n",
       "        -4.71528871e-02, -1.74979260e-15, -1.18935765e-02,\n",
       "        -4.68173885e-16],\n",
       "       [-2.32041728e-16, -4.02207201e-16,  2.63397585e-16,\n",
       "         1.84098486e-16, -8.91189097e-19, -2.15850277e-19,\n",
       "         1.00000000e-03,  1.05152028e-15,  2.22428512e-17,\n",
       "        -2.61470212e-17,  1.40363242e-17,  1.02029408e-03,\n",
       "        -5.49628657e-15,  1.18580960e-15, -1.38172443e-15,\n",
       "         2.91266519e-16],\n",
       "       [-1.95946718e-14, -2.69913126e-14,  3.17768139e-14,\n",
       "         3.66263281e-14,  3.16227766e-01,  3.57530479e-01,\n",
       "         8.29056804e-17, -3.36006563e-13,  2.41898778e-14,\n",
       "         2.73551390e-16, -4.94409498e-15, -1.00566606e-17,\n",
       "         4.53621724e-13,  3.39270757e-13,  1.12141111e-13,\n",
       "         8.50616865e-14]])"
      ]
     },
     "execution_count": 52,
     "metadata": {},
     "output_type": "execute_result"
    }
   ],
   "source": [
    "K = lqr(A_mod, B_mod, Q, R)\n",
    "\n",
    "K"
   ]
  },
  {
   "cell_type": "code",
   "execution_count": null,
   "metadata": {},
   "outputs": [],
   "source": []
  }
 ],
 "metadata": {
  "kernelspec": {
   "display_name": "Python 3.9.13 ('base')",
   "language": "python",
   "name": "python3"
  },
  "language_info": {
   "codemirror_mode": {
    "name": "ipython",
    "version": 3
   },
   "file_extension": ".py",
   "mimetype": "text/x-python",
   "name": "python",
   "nbconvert_exporter": "python",
   "pygments_lexer": "ipython3",
   "version": "3.9.13"
  },
  "orig_nbformat": 4,
  "vscode": {
   "interpreter": {
    "hash": "a8aa08b4109e02faef70797796bfd5fb313790bd5a534ff08957d24923938621"
   }
  }
 },
 "nbformat": 4,
 "nbformat_minor": 2
}
