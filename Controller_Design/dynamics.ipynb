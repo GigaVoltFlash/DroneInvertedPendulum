{
 "cells": [
  {
   "cell_type": "markdown",
   "metadata": {},
   "source": [
    "# Inverted Pendulum on a Drone"
   ]
  },
  {
   "cell_type": "code",
   "execution_count": 436,
   "metadata": {},
   "outputs": [],
   "source": [
    "import numpy as np\n",
    "import sympy as sym\n",
    "import matplotlib.pyplot as plt\n",
    "from numpy import linalg\n",
    "import scipy\n",
    "\n",
    "import json\n",
    "from scipy import linalg\n",
    "from sympy.physics.mechanics import *"
   ]
  },
  {
   "cell_type": "markdown",
   "metadata": {},
   "source": [
    "### Standard Inverted Pendulum Dynamics\n",
    "\n",
    "This is based on the Kinematics derivation of just the drone with the addition of the kinematics of the pendulum's angle."
   ]
  },
  {
   "cell_type": "markdown",
   "metadata": {},
   "source": [
    "Define states"
   ]
  },
  {
   "cell_type": "code",
   "execution_count": 437,
   "metadata": {},
   "outputs": [],
   "source": [
    "# components of position (meters)\n",
    "o_x, o_y, o_z = sym.symbols('o_x, o_y, o_z')\n",
    "\n",
    "# yaw, pitch, and roll angles (radians)\n",
    "psi, theta, phi = sym.symbols('psi, theta, phi')\n",
    "\n",
    "# components of linear velocity (meters / second)\n",
    "v_x, v_y, v_z = sym.symbols('v_x, v_y, v_z')\n",
    "\n",
    "# components of angular velocity (radians / second)\n",
    "w_x, w_y, w_z = sym.symbols('w_x, w_y, w_z')\n",
    "\n",
    "# states of the pendulum\n",
    "alpha, alpha_dot = sym.symbols('alpha, alpha_dot')"
   ]
  },
  {
   "cell_type": "markdown",
   "metadata": {},
   "source": [
    "Define inputs"
   ]
  },
  {
   "cell_type": "code",
   "execution_count": 438,
   "metadata": {},
   "outputs": [],
   "source": [
    "# components of net rotor torque\n",
    "tau_x, tau_y, tau_z = sym.symbols('tau_x, tau_y, tau_z')\n",
    "\n",
    "# net rotor force\n",
    "f_z = sym.symbols('f_z')"
   ]
  },
  {
   "cell_type": "markdown",
   "metadata": {},
   "source": [
    "Define parameters.\n",
    "$m_{pen}$ is the mass of the pendulum and $l_{pen}$ is the distance of the center of mass of the pendulum from its base."
   ]
  },
  {
   "cell_type": "code",
   "execution_count": 439,
   "metadata": {},
   "outputs": [],
   "source": [
    "m, J_x, J_y, J_z, g, m_pen, l_pen = sym.symbols('m, J_x, J_y, J_z, g, m_pen, l_pen')"
   ]
  },
  {
   "cell_type": "markdown",
   "id": "fad29d40",
   "metadata": {},
   "source": [
    "Create linear and angular velocity vectors (in coordinates of the body frame)."
   ]
  },
  {
   "cell_type": "code",
   "execution_count": 440,
   "id": "b6a0ff50",
   "metadata": {
    "jupyter": {
     "outputs_hidden": true,
     "source_hidden": true
    }
   },
   "outputs": [],
   "source": [
    "v_01in1 = sym.Matrix([v_x, v_y, v_z])\n",
    "w_01in1 = sym.Matrix([w_x, w_y, w_z])"
   ]
  },
  {
   "cell_type": "markdown",
   "id": "4b9eeab1",
   "metadata": {},
   "source": [
    "Create moment of inertia matrix (in coordinates of the body frame)."
   ]
  },
  {
   "cell_type": "code",
   "execution_count": 441,
   "id": "f199de0b",
   "metadata": {
    "jupyter": {
     "outputs_hidden": true,
     "source_hidden": true
    }
   },
   "outputs": [],
   "source": [
    "J_in1 = sym.diag(J_x, J_y, J_z)"
   ]
  },
  {
   "cell_type": "markdown",
   "id": "00763ccd",
   "metadata": {},
   "source": [
    "## 2.2 Define kinematics of orientation"
   ]
  },
  {
   "cell_type": "markdown",
   "id": "63be69c1",
   "metadata": {},
   "source": [
    "### 2.2.1 Rotation matrix in terms of yaw, pitch, roll angles"
   ]
  },
  {
   "cell_type": "markdown",
   "id": "07a09405",
   "metadata": {},
   "source": [
    "Define individual rotation matrices."
   ]
  },
  {
   "cell_type": "code",
   "execution_count": 442,
   "id": "4e37b553",
   "metadata": {
    "jupyter": {
     "outputs_hidden": true,
     "source_hidden": true
    }
   },
   "outputs": [],
   "source": [
    "Rz = sym.Matrix([[sym.cos(psi), -sym.sin(psi), 0],\n",
    "                 [sym.sin(psi), sym.cos(psi), 0],\n",
    "                 [0, 0, 1]])\n",
    "\n",
    "Ry = sym.Matrix([[sym.cos(theta), 0, sym.sin(theta)],\n",
    "                 [0, 1, 0],\n",
    "                 [-sym.sin(theta), 0, sym.cos(theta)]])\n",
    "\n",
    "Rx = sym.Matrix([[1, 0, 0],\n",
    "                 [0, sym.cos(phi), -sym.sin(phi)],\n",
    "                 [0, sym.sin(phi), sym.cos(phi)]])"
   ]
  },
  {
   "cell_type": "markdown",
   "id": "59f23502",
   "metadata": {},
   "source": [
    "Apply sequential transformation to compute the rotation matrix that describes the orientation of the drone (i.e., of frame 1 in the coordinates of frame 0)."
   ]
  },
  {
   "cell_type": "code",
   "execution_count": 443,
   "id": "1a7fb65f",
   "metadata": {
    "jupyter": {
     "outputs_hidden": true,
     "source_hidden": true
    }
   },
   "outputs": [],
   "source": [
    "R_1in0 = Rz * Ry * Rx"
   ]
  },
  {
   "cell_type": "code",
   "execution_count": 444,
   "id": "dbd1ce15",
   "metadata": {
    "jupyter": {
     "outputs_hidden": true,
     "source_hidden": true
    }
   },
   "outputs": [
    {
     "data": {
      "text/latex": [
       "$\\displaystyle \\left[\\begin{matrix}\\cos{\\left(\\psi \\right)} \\cos{\\left(\\theta \\right)} & \\sin{\\left(\\phi \\right)} \\sin{\\left(\\theta \\right)} \\cos{\\left(\\psi \\right)} - \\sin{\\left(\\psi \\right)} \\cos{\\left(\\phi \\right)} & \\sin{\\left(\\phi \\right)} \\sin{\\left(\\psi \\right)} + \\sin{\\left(\\theta \\right)} \\cos{\\left(\\phi \\right)} \\cos{\\left(\\psi \\right)}\\\\\\sin{\\left(\\psi \\right)} \\cos{\\left(\\theta \\right)} & \\sin{\\left(\\phi \\right)} \\sin{\\left(\\psi \\right)} \\sin{\\left(\\theta \\right)} + \\cos{\\left(\\phi \\right)} \\cos{\\left(\\psi \\right)} & - \\sin{\\left(\\phi \\right)} \\cos{\\left(\\psi \\right)} + \\sin{\\left(\\psi \\right)} \\sin{\\left(\\theta \\right)} \\cos{\\left(\\phi \\right)}\\\\- \\sin{\\left(\\theta \\right)} & \\sin{\\left(\\phi \\right)} \\cos{\\left(\\theta \\right)} & \\cos{\\left(\\phi \\right)} \\cos{\\left(\\theta \\right)}\\end{matrix}\\right]$"
      ],
      "text/plain": [
       "⎡cos(ψ)⋅cos(θ)  sin(φ)⋅sin(θ)⋅cos(ψ) - sin(ψ)⋅cos(φ)  sin(φ)⋅sin(ψ) + sin(θ)⋅c\n",
       "⎢                                                                             \n",
       "⎢sin(ψ)⋅cos(θ)  sin(φ)⋅sin(ψ)⋅sin(θ) + cos(φ)⋅cos(ψ)  -sin(φ)⋅cos(ψ) + sin(ψ)⋅\n",
       "⎢                                                                             \n",
       "⎣   -sin(θ)                sin(φ)⋅cos(θ)                          cos(φ)⋅cos(θ\n",
       "\n",
       "os(φ)⋅cos(ψ) ⎤\n",
       "             ⎥\n",
       "sin(θ)⋅cos(φ)⎥\n",
       "             ⎥\n",
       ")            ⎦"
      ]
     },
     "execution_count": 444,
     "metadata": {},
     "output_type": "execute_result"
    }
   ],
   "source": [
    "R_1in0"
   ]
  },
  {
   "cell_type": "markdown",
   "id": "8bd1e691",
   "metadata": {},
   "source": [
    "### 2.2.2 Map from angular velocity to angular rates"
   ]
  },
  {
   "cell_type": "markdown",
   "id": "a338dc12",
   "metadata": {},
   "source": [
    "Recall that\n",
    "\n",
    "$$\\begin{bmatrix} \\dot{\\psi} \\\\ \\dot{\\theta} \\\\ \\dot{\\phi} \\end{bmatrix} = N w_{0, 1}^{1}$$\n",
    "\n",
    "for some matrix $N$. Here is how to compute that matrix for a ZYX (yaw, pitch, roll) Euler angle sequence.  First, we compute its inverse:"
   ]
  },
  {
   "cell_type": "code",
   "execution_count": 445,
   "id": "693d1972",
   "metadata": {
    "jupyter": {
     "outputs_hidden": true,
     "source_hidden": true
    }
   },
   "outputs": [],
   "source": [
    "Ninv = sym.Matrix.hstack((Ry * Rx).T * sym.Matrix([0, 0, 1]),\n",
    "                              (Rx).T * sym.Matrix([0, 1, 0]),\n",
    "                                       sym.Matrix([1, 0, 0]))"
   ]
  },
  {
   "cell_type": "markdown",
   "id": "771b48b7",
   "metadata": {},
   "source": [
    "Then, we compute $N$ by taking the inverse of $N^{-1}$:"
   ]
  },
  {
   "cell_type": "code",
   "execution_count": 446,
   "id": "52625946",
   "metadata": {
    "jupyter": {
     "outputs_hidden": true,
     "source_hidden": true
    }
   },
   "outputs": [],
   "source": [
    "N = sym.simplify(Ninv.inv())"
   ]
  },
  {
   "cell_type": "code",
   "execution_count": 447,
   "id": "400ae340",
   "metadata": {
    "jupyter": {
     "outputs_hidden": true,
     "source_hidden": true
    }
   },
   "outputs": [
    {
     "data": {
      "text/latex": [
       "$\\displaystyle \\left[\\begin{matrix}0 & \\frac{\\sin{\\left(\\phi \\right)}}{\\cos{\\left(\\theta \\right)}} & \\frac{\\cos{\\left(\\phi \\right)}}{\\cos{\\left(\\theta \\right)}}\\\\0 & \\cos{\\left(\\phi \\right)} & - \\sin{\\left(\\phi \\right)}\\\\1 & \\sin{\\left(\\phi \\right)} \\tan{\\left(\\theta \\right)} & \\cos{\\left(\\phi \\right)} \\tan{\\left(\\theta \\right)}\\end{matrix}\\right]$"
      ],
      "text/plain": [
       "⎡      sin(φ)         cos(φ)    ⎤\n",
       "⎢0     ──────         ──────    ⎥\n",
       "⎢      cos(θ)         cos(θ)    ⎥\n",
       "⎢                               ⎥\n",
       "⎢0     cos(φ)         -sin(φ)   ⎥\n",
       "⎢                               ⎥\n",
       "⎣1  sin(φ)⋅tan(θ)  cos(φ)⋅tan(θ)⎦"
      ]
     },
     "execution_count": 447,
     "metadata": {},
     "output_type": "execute_result"
    }
   ],
   "source": [
    "N"
   ]
  },
  {
   "cell_type": "markdown",
   "metadata": {},
   "source": [
    "### Deriving the Kinematics of the Pendulum\n",
    "\n",
    "Generalized Co-ordinates: $x$, $z$ (in the world frame), $\\theta$ (pitch) and $\\alpha$ (angle of the drone from the world $z_0$)\n",
    "\n",
    "\n",
    "![pendulum_kin](Inverted_Pendulum_Kinematics.jpg)"
   ]
  },
  {
   "cell_type": "code",
   "execution_count": 448,
   "metadata": {},
   "outputs": [
    {
     "data": {
      "text/latex": [
       "$\\displaystyle \\left[\\begin{matrix}1.0 m \\ddot{o}_{x} + 0.5 m_{pen} \\left(- 2 l_{pen} \\sin{\\left(\\alpha \\right)} \\dot{\\alpha}^{2} + 2 l_{pen} \\cos{\\left(\\alpha \\right)} \\ddot{\\alpha} + 2 \\ddot{o}_{x}\\right)\\\\1.0 m \\ddot{o}_{z} - 0.5 m_{pen} \\left(- g m - g m_{pen}\\right) + 0.5 m_{pen} \\left(- 2 l_{pen} \\sin{\\left(\\alpha \\right)} \\ddot{\\alpha} - 2 l_{pen} \\cos{\\left(\\alpha \\right)} \\dot{\\alpha}^{2} + 2 \\ddot{o}_{z}\\right)\\\\0.5 m_{pen} \\left(2 l_{pen}^{2} \\ddot{\\alpha} + 2 l_{pen} \\left(- \\sin{\\left(\\alpha \\right)} \\dot{\\alpha} \\dot{o}_{x} - \\sin{\\left(\\alpha \\right)} \\ddot{o}_{z} - \\cos{\\left(\\alpha \\right)} \\dot{\\alpha} \\dot{o}_{z} + \\cos{\\left(\\alpha \\right)} \\ddot{o}_{x}\\right)\\right) - 0.5 m_{pen} \\left(g l_{pen} m_{pen} \\sin{\\left(\\alpha \\right)} + 2 l_{pen} \\left(- \\sin{\\left(\\alpha \\right)} \\dot{o}_{x} - \\cos{\\left(\\alpha \\right)} \\dot{o}_{z}\\right) \\dot{\\alpha}\\right)\\\\1.0 J_{y} \\ddot{\\theta}\\end{matrix}\\right]$"
      ],
      "text/plain": [
       "⎡                                                                             \n",
       "⎢                                                             1.0⋅m⋅oₓ̈ + 0.5⋅\n",
       "⎢                                                                             \n",
       "⎢                                                                             \n",
       "⎢                                               1.0⋅m⋅o_̈z - 0.5⋅mₚₑₙ⋅(-g⋅m - \n",
       "⎢                                                                             \n",
       "⎢         ⎛      2                                                            \n",
       "⎢0.5⋅mₚₑₙ⋅⎝2⋅lₚₑₙ ⋅\\alp̈ha + 2⋅lₚₑₙ⋅(-sin(\\alpha)⋅\\alṗha⋅oₓ̇ - sin(\\alpha)⋅o_\n",
       "⎢                                                                             \n",
       "⎣                                                                             \n",
       "\n",
       "    ⎛                           2                                   ⎞         \n",
       "mₚₑₙ⋅⎝- 2⋅lₚₑₙ⋅sin(\\alpha)⋅\\alṗha  + 2⋅lₚₑₙ⋅cos(\\alpha)⋅\\alp̈ha + 2⋅oₓ̈⎠     \n",
       "                                                                              \n",
       "                  ⎛                                                      2    \n",
       "g⋅mₚₑₙ) + 0.5⋅mₚₑₙ⋅⎝-2⋅lₚₑₙ⋅sin(\\alpha)⋅\\alp̈ha - 2⋅lₚₑₙ⋅cos(\\alpha)⋅\\alṗha  \n",
       "                                                                              \n",
       "                                         ⎞                                    \n",
       "̈z - cos(\\alpha)⋅\\alṗha⋅o_̇z + cos(\\alpha)⋅oₓ̈)⎠ - 0.5⋅mₚₑₙ⋅(g⋅lₚₑₙ⋅mₚₑₙ⋅sin(\n",
       "                                                                              \n",
       "                    1.0⋅J_y⋅\\thëta                                           \n",
       "\n",
       "                                                     ⎤\n",
       "                                                         ⎥\n",
       "                                                     ⎥\n",
       "    ⎞                                                ⎥\n",
       "+ 2⋅o_̈z⎠                                                ⎥\n",
       "                                                     ⎥\n",
       "                                                     ⎥\n",
       "\\alpha) + 2⋅lₚₑₙ⋅(-sin(\\alpha)⋅oₓ̇ - cos(\\alpha)⋅o_̇z)⋅\\alṗha)⎥\n",
       "                                                     ⎥\n",
       "                                                      ⎦"
      ]
     },
     "execution_count": 448,
     "metadata": {},
     "output_type": "execute_result"
    }
   ],
   "source": [
    "dyn_o_x, dyn_o_z, dyn_alpha, dyn_theta = dynamicsymbols(r'o_x o_z \\alpha \\theta')\n",
    "dyn_o_xd, dyn_o_zd, dyn_alphad, dyn_thetad = dynamicsymbols(r'o_x o_z \\alpha \\theta', 1)\n",
    "dyn_o_xdd, dyn_o_zdd, dyn_alphadd, dyn_thetadd = dynamicsymbols(r'o_x o_z \\alpha \\theta', 2)\n",
    "L_with_z = 1/2*m*(dyn_o_xd**2 + dyn_o_zd**2) + 1/2*J_y*(dyn_thetad**2) + 1/2*m_pen*(dyn_o_xd**2 + dyn_o_zd**2 + l_pen**2 * dyn_alphad**2 + 2*l_pen*dyn_alphad*(dyn_o_xd*sym.cos(dyn_alpha) - dyn_o_zd*sym.sin(dyn_alpha)) - m*g*dyn_o_z - m_pen*g*(dyn_o_z + l_pen*sym.cos(dyn_alpha)))\n",
    "\n",
    "LM_with_z = LagrangesMethod(L_with_z, [dyn_o_x, dyn_o_z, dyn_alpha, dyn_theta])\n",
    "mechanics_printing(pretty_print=True)\n",
    "Equations_with_z = LM_with_z.form_lagranges_equations()\n",
    "Equations_with_z"
   ]
  },
  {
   "cell_type": "code",
   "execution_count": 492,
   "metadata": {},
   "outputs": [
    {
     "data": {
      "image/png": "[encoded data removed]",
      "text/latex": [
       "$\\displaystyle \\frac{1.0 l_{pen} m_{pen} \\sin{\\left(\\alpha \\right)} \\dot{\\alpha}^{2}}{m + m_{pen}}$"
      ],
      "text/plain": [
       "                                2\n",
       "1.0⋅lₚₑₙ⋅mₚₑₙ⋅sin(\\alpha)⋅\\alṗha \n",
       "─────────────────────────────────\n",
       "             m + mₚₑₙ            "
      ]
     },
     "execution_count": 492,
     "metadata": {},
     "output_type": "execute_result"
    }
   ],
   "source": [
    "alpha_ddot_eqn = sym.solve(Equations_with_z[2], dyn_alphadd)[0]\n",
    "Equation_0 = Equations_with_z[0].subs(dyn_alphadd, alpha_ddot_eqn)\n",
    "ox_ddot_with_alphaddot_zddot = sym.solve(Equation_0, dyn_o_xdd)[0]\n",
    "Equation_1 = Equations_with_z[1].subs(dyn_alphadd, alpha_ddot_eqn)\n",
    "Equation_1_subbed = Equation_1.subs(dyn_o_xdd, ox_ddot_with_alphaddot_zddot)\n",
    "oz_ddot_soln = sym.solve(Equation_1_subbed, dyn_o_zdd)[0]\n",
    "oz_ddot_soln\n",
    "ox_ddot_soln = sym.simplify(ox_ddot_with_alphaddot_zddot.subs(dyn_o_zdd, oz_ddot_soln))\n",
    "alpha_ddot_soln = sym.simplify(alpha_ddot_eqn.subs([(dyn_o_xdd, ox_ddot_soln), (dyn_o_zdd, oz_ddot_soln)]))\n",
    "alpha_ddot_soln\n",
    "\n",
    "\n",
    "# ox_ddot_with_alphaddot = sym.solve(Equations_with_z[0], dyn_o_xdd)[0]\n",
    "# oz_ddot_with_alphaddot = sym.solve(Equations_with_z[1], dyn_o_zdd)[0]\n",
    "# alpha_ddot_eqn = Equations_with_z[2].subs([(dyn_o_xdd, ox_ddot_with_alphaddot), (dyn_o_zdd, oz_ddot_with_alphaddot)])\n",
    "# alpha_ddot_soln = sym.simplify(sym.solve(alpha_ddot_eqn, dyn_alphadd)[0])\n",
    "# alpha_ddot_soln\n",
    "ox_ddot_soln"
   ]
  },
  {
   "cell_type": "code",
   "execution_count": 450,
   "metadata": {},
   "outputs": [],
   "source": [
    "# Get expressions for oxddot, ozddot and alphaddot wrt only the states\n",
    "# # Lambdify, linearize about the equilibrium point but replace theta ddot to be tau_y\n",
    "f_planar_eq = []\n",
    "# Compare to Bretl's"
   ]
  },
  {
   "cell_type": "code",
   "execution_count": 451,
   "metadata": {},
   "outputs": [],
   "source": [
    "# oz_ddot_soln =  sym.solve(Equations_with_z[1], dyn_o_zdd)[0]\n",
    "# oz_ddot_soln"
   ]
  },
  {
   "cell_type": "markdown",
   "metadata": {},
   "source": [
    "Solving the kinematic equation for $\\ddot{\\alpha}$:"
   ]
  },
  {
   "cell_type": "code",
   "execution_count": 452,
   "metadata": {},
   "outputs": [
    {
     "data": {
      "image/png": "[encoded data removed]",
      "text/latex": [
       "$\\displaystyle \\frac{0.5 g m_{pen} \\sin{\\left(\\alpha \\right)} + \\sin{\\left(\\alpha \\right)} \\ddot{o}_{z} - \\cos{\\left(\\alpha \\right)} \\ddot{o}_{x}}{l_{pen}}$"
      ],
      "text/plain": [
       "0.5⋅g⋅mₚₑₙ⋅sin(α) + sin(α)⋅o_̈z - cos(α)⋅oₓ̈\n",
       "──────────────────────────────────────────\n",
       "                   lₚₑₙ                   "
      ]
     },
     "execution_count": 452,
     "metadata": {},
     "output_type": "execute_result"
    }
   ],
   "source": [
    "alpha_ddot_soln = sym.solve(Equations_with_z[2], dyn_alphadd)[0]\n",
    "alpha_ddot_soln = alpha_ddot_soln.subs(dyn_alpha, alpha)\n",
    "alpha_ddot_soln"
   ]
  },
  {
   "cell_type": "markdown",
   "metadata": {},
   "source": [
    "The equation for $\\ddot{\\alpha}$ is still in terms of $\\ddot{o_x}$ and $\\ddot{o_z}$. In the notebook `acceleration_derivation.ipynb`, these are recalculated to be in terms of the states in $s$. The result is typed out here."
   ]
  },
  {
   "cell_type": "code",
   "execution_count": 453,
   "metadata": {},
   "outputs": [],
   "source": [
    "o_x_ddot = f_z*(sym.sin(phi)*sym.sin(psi) + sym.sin(theta)*sym.cos(phi)*sym.cos(psi))/m\n",
    "o_z_ddot = f_z*(sym.cos(phi)*sym.cos(theta))/m - g"
   ]
  },
  {
   "cell_type": "code",
   "execution_count": 454,
   "metadata": {},
   "outputs": [
    {
     "data": {
      "image/png": "[encoded data removed]",
      "text/latex": [
       "$\\displaystyle \\frac{- f_{z} \\left(\\sin{\\left(\\phi \\right)} \\sin{\\left(\\psi \\right)} + \\sin{\\left(\\theta \\right)} \\cos{\\left(\\phi \\right)} \\cos{\\left(\\psi \\right)}\\right) \\cos{\\left(\\alpha \\right)} + 0.5 g m m_{pen} \\sin{\\left(\\alpha \\right)} + \\left(f_{z} \\cos{\\left(\\phi \\right)} \\cos{\\left(\\theta \\right)} - g m\\right) \\sin{\\left(\\alpha \\right)}}{l_{pen} m}$"
      ],
      "text/plain": [
       "-f_z⋅(sin(φ)⋅sin(ψ) + sin(θ)⋅cos(φ)⋅cos(ψ))⋅cos(α) + 0.5⋅g⋅m⋅mₚₑₙ⋅sin(α) + (f_\n",
       "──────────────────────────────────────────────────────────────────────────────\n",
       "                                                   lₚₑₙ⋅m                     \n",
       "\n",
       "z⋅cos(φ)⋅cos(θ) - g⋅m)⋅sin(α)\n",
       "─────────────────────────────\n",
       "                             "
      ]
     },
     "execution_count": 454,
     "metadata": {},
     "output_type": "execute_result"
    }
   ],
   "source": [
    "alpha_ddot_soln = sym.simplify(alpha_ddot_soln.subs([(dyn_o_xdd, o_x_ddot), (dyn_o_zdd, o_z_ddot)]))\n",
    "alpha_ddot_soln"
   ]
  },
  {
   "cell_type": "markdown",
   "metadata": {},
   "source": [
    "## 2.3 Define equations of motion"
   ]
  },
  {
   "cell_type": "markdown",
   "metadata": {},
   "source": [
    "This is where this document differs  widely from the standard equations of motion given in the class. The pendulum's affect on the motion of the drone is assumed to be negligible (is this true for the crazyflie? idk, we'll see)"
   ]
  },
  {
   "cell_type": "markdown",
   "id": "68afb173",
   "metadata": {},
   "source": [
    "Forces."
   ]
  },
  {
   "cell_type": "code",
   "execution_count": 455,
   "id": "07718e4a",
   "metadata": {
    "jupyter": {
     "outputs_hidden": true,
     "source_hidden": true
    }
   },
   "outputs": [],
   "source": [
    "f_in1 = R_1in0.T * sym.Matrix([0, 0, -m * g]) + sym.Matrix([0, 0, f_z])"
   ]
  },
  {
   "cell_type": "markdown",
   "id": "c897dd8c",
   "metadata": {},
   "source": [
    "Torques."
   ]
  },
  {
   "cell_type": "code",
   "execution_count": 456,
   "id": "08aae2b2",
   "metadata": {
    "jupyter": {
     "outputs_hidden": true,
     "source_hidden": true
    }
   },
   "outputs": [],
   "source": [
    "tau_in1 = sym.Matrix([tau_x, tau_y, tau_z])"
   ]
  },
  {
   "cell_type": "code",
   "execution_count": 457,
   "id": "66ebefd3",
   "metadata": {
    "jupyter": {
     "outputs_hidden": true,
     "source_hidden": true
    }
   },
   "outputs": [
    {
     "data": {
      "text/latex": [
       "$\\displaystyle \\left[\\begin{matrix}g m \\sin{\\left(\\theta \\right)}\\\\- g m \\sin{\\left(\\phi \\right)} \\cos{\\left(\\theta \\right)}\\\\f_{z} - g m \\cos{\\left(\\phi \\right)} \\cos{\\left(\\theta \\right)}\\end{matrix}\\right]$"
      ],
      "text/plain": [
       "⎡      g⋅m⋅sin(θ)       ⎤\n",
       "⎢                       ⎥\n",
       "⎢  -g⋅m⋅sin(φ)⋅cos(θ)   ⎥\n",
       "⎢                       ⎥\n",
       "⎣f_z - g⋅m⋅cos(φ)⋅cos(θ)⎦"
      ]
     },
     "execution_count": 457,
     "metadata": {},
     "output_type": "execute_result"
    }
   ],
   "source": [
    "f_in1"
   ]
  },
  {
   "cell_type": "code",
   "execution_count": 458,
   "id": "e2a2ea82",
   "metadata": {
    "jupyter": {
     "outputs_hidden": true,
     "source_hidden": true
    }
   },
   "outputs": [
    {
     "data": {
      "text/latex": [
       "$\\displaystyle \\left[\\begin{matrix}\\tau_{x}\\\\\\tau_{y}\\\\\\tau_{z}\\end{matrix}\\right]$"
      ],
      "text/plain": [
       "⎡τₓ ⎤\n",
       "⎢   ⎥\n",
       "⎢τ_y⎥\n",
       "⎢   ⎥\n",
       "⎣τ_z⎦"
      ]
     },
     "execution_count": 458,
     "metadata": {},
     "output_type": "execute_result"
    }
   ],
   "source": [
    "tau_in1"
   ]
  },
  {
   "cell_type": "markdown",
   "id": "baa3f625",
   "metadata": {},
   "source": [
    "Create equations of motion."
   ]
  },
  {
   "cell_type": "code",
   "execution_count": 459,
   "id": "6077f8a0",
   "metadata": {
    "jupyter": {
     "outputs_hidden": true,
     "source_hidden": true
    }
   },
   "outputs": [],
   "source": [
    "f_sym = sym.Matrix.vstack(R_1in0 * v_01in1,\n",
    "                          N * w_01in1,\n",
    "                          (1 / m) * (f_in1 - w_01in1.cross(m * v_01in1)),\n",
    "                          J_in1.inv() * (tau_in1 - w_01in1.cross(J_in1 * w_01in1)),\n",
    "                          sym.Matrix([alpha_dot]),\n",
    "                          sym.Matrix([alpha_ddot_soln])\n",
    "                          )"
   ]
  },
  {
   "cell_type": "markdown",
   "id": "ab3d7500",
   "metadata": {},
   "source": [
    "Show equations of motion, which have the form\n",
    "\n",
    "$$\\dot{s} = f(s, i, p)$$\n",
    "\n",
    "for states\n",
    "\n",
    "$$\n",
    "s = \\begin{bmatrix} o_x \\\\ o_y \\\\ o_z \\\\ \\psi \\\\ \\theta \\\\ \\phi \\\\ v_x \\\\ v_y \\\\ v_z \\\\ w_x \\\\ w_y \\\\ w_z \\\\ \\alpha \\\\ \\dot{\\alpha} \\end{bmatrix},\n",
    "$$\n",
    "\n",
    "inputs\n",
    "$$\n",
    "i = \\begin{bmatrix} \\tau_x \\\\ \\tau_y \\\\ \\tau_z \\\\ f_z \\end{bmatrix},\n",
    "$$\n",
    "\n",
    "and parameters\n",
    "$$\n",
    "p = \\begin{bmatrix} m \\\\ J_x \\\\ J_y \\\\ J_z \\\\ g \\\\ m_{pen} \\\\ l_{pen} \\end{bmatrix}.\n",
    "$$"
   ]
  },
  {
   "cell_type": "code",
   "execution_count": 460,
   "id": "4b372e68",
   "metadata": {
    "jupyter": {
     "outputs_hidden": true,
     "source_hidden": true
    }
   },
   "outputs": [
    {
     "data": {
      "text/latex": [
       "$\\displaystyle \\left[\\begin{matrix}v_{x} \\cos{\\left(\\psi \\right)} \\cos{\\left(\\theta \\right)} + v_{y} \\left(\\sin{\\left(\\phi \\right)} \\sin{\\left(\\theta \\right)} \\cos{\\left(\\psi \\right)} - \\sin{\\left(\\psi \\right)} \\cos{\\left(\\phi \\right)}\\right) + v_{z} \\left(\\sin{\\left(\\phi \\right)} \\sin{\\left(\\psi \\right)} + \\sin{\\left(\\theta \\right)} \\cos{\\left(\\phi \\right)} \\cos{\\left(\\psi \\right)}\\right)\\\\v_{x} \\sin{\\left(\\psi \\right)} \\cos{\\left(\\theta \\right)} + v_{y} \\left(\\sin{\\left(\\phi \\right)} \\sin{\\left(\\psi \\right)} \\sin{\\left(\\theta \\right)} + \\cos{\\left(\\phi \\right)} \\cos{\\left(\\psi \\right)}\\right) + v_{z} \\left(- \\sin{\\left(\\phi \\right)} \\cos{\\left(\\psi \\right)} + \\sin{\\left(\\psi \\right)} \\sin{\\left(\\theta \\right)} \\cos{\\left(\\phi \\right)}\\right)\\\\- v_{x} \\sin{\\left(\\theta \\right)} + v_{y} \\sin{\\left(\\phi \\right)} \\cos{\\left(\\theta \\right)} + v_{z} \\cos{\\left(\\phi \\right)} \\cos{\\left(\\theta \\right)}\\\\\\frac{w_{y} \\sin{\\left(\\phi \\right)}}{\\cos{\\left(\\theta \\right)}} + \\frac{w_{z} \\cos{\\left(\\phi \\right)}}{\\cos{\\left(\\theta \\right)}}\\\\w_{y} \\cos{\\left(\\phi \\right)} - w_{z} \\sin{\\left(\\phi \\right)}\\\\w_{x} + w_{y} \\sin{\\left(\\phi \\right)} \\tan{\\left(\\theta \\right)} + w_{z} \\cos{\\left(\\phi \\right)} \\tan{\\left(\\theta \\right)}\\\\\\frac{g m \\sin{\\left(\\theta \\right)} + m v_{y} w_{z} - m v_{z} w_{y}}{m}\\\\\\frac{- g m \\sin{\\left(\\phi \\right)} \\cos{\\left(\\theta \\right)} - m v_{x} w_{z} + m v_{z} w_{x}}{m}\\\\\\frac{f_{z} - g m \\cos{\\left(\\phi \\right)} \\cos{\\left(\\theta \\right)} + m v_{x} w_{y} - m v_{y} w_{x}}{m}\\\\\\frac{J_{y} w_{y} w_{z} - J_{z} w_{y} w_{z} + \\tau_{x}}{J_{x}}\\\\\\frac{- J_{x} w_{x} w_{z} + J_{z} w_{x} w_{z} + \\tau_{y}}{J_{y}}\\\\\\frac{J_{x} w_{x} w_{y} - J_{y} w_{x} w_{y} + \\tau_{z}}{J_{z}}\\\\\\alpha_{dot}\\\\\\frac{- f_{z} \\left(\\sin{\\left(\\phi \\right)} \\sin{\\left(\\psi \\right)} + \\sin{\\left(\\theta \\right)} \\cos{\\left(\\phi \\right)} \\cos{\\left(\\psi \\right)}\\right) \\cos{\\left(\\alpha \\right)} + 0.5 g m m_{pen} \\sin{\\left(\\alpha \\right)} + \\left(f_{z} \\cos{\\left(\\phi \\right)} \\cos{\\left(\\theta \\right)} - g m\\right) \\sin{\\left(\\alpha \\right)}}{l_{pen} m}\\end{matrix}\\right]$"
      ],
      "text/plain": [
       "⎡vₓ⋅cos(ψ)⋅cos(θ) + v_y⋅(sin(φ)⋅sin(θ)⋅cos(ψ) - sin(ψ)⋅cos(φ)) + v_z⋅(sin(φ)⋅s\n",
       "⎢                                                                             \n",
       "⎢vₓ⋅sin(ψ)⋅cos(θ) + v_y⋅(sin(φ)⋅sin(ψ)⋅sin(θ) + cos(φ)⋅cos(ψ)) + v_z⋅(-sin(φ)⋅\n",
       "⎢                                                                             \n",
       "⎢                            -vₓ⋅sin(θ) + v_y⋅sin(φ)⋅cos(θ) + v_z⋅cos(φ)⋅cos(θ\n",
       "⎢                                                                             \n",
       "⎢                                          w_y⋅sin(φ)   w_z⋅cos(φ)            \n",
       "⎢                                          ────────── + ──────────            \n",
       "⎢                                            cos(θ)       cos(θ)              \n",
       "⎢                                                                             \n",
       "⎢                                          w_y⋅cos(φ) - w_z⋅sin(φ)            \n",
       "⎢                                                                             \n",
       "⎢                                wₓ + w_y⋅sin(φ)⋅tan(θ) + w_z⋅cos(φ)⋅tan(θ)   \n",
       "⎢                                                                             \n",
       "⎢                                    g⋅m⋅sin(θ) + m⋅v_y⋅w_z - m⋅v_z⋅w_y       \n",
       "⎢                                    ──────────────────────────────────       \n",
       "⎢                                                    m                        \n",
       "⎢                                                                             \n",
       "⎢                                 -g⋅m⋅sin(φ)⋅cos(θ) - m⋅vₓ⋅w_z + m⋅v_z⋅wₓ    \n",
       "⎢                                 ────────────────────────────────────────    \n",
       "⎢                                                    m                        \n",
       "⎢                                                                             \n",
       "⎢                               f_z - g⋅m⋅cos(φ)⋅cos(θ) + m⋅vₓ⋅w_y - m⋅v_y⋅wₓ \n",
       "⎢                               ───────────────────────────────────────────── \n",
       "⎢                                                     m                       \n",
       "⎢                                                                             \n",
       "⎢                                      J_y⋅w_y⋅w_z - J_z⋅w_y⋅w_z + τₓ         \n",
       "⎢                                      ──────────────────────────────         \n",
       "⎢                                                    Jₓ                       \n",
       "⎢                                                                             \n",
       "⎢                                       -Jₓ⋅wₓ⋅w_z + J_z⋅wₓ⋅w_z + τ_y         \n",
       "⎢                                       ─────────────────────────────         \n",
       "⎢                                                    J_y                      \n",
       "⎢                                                                             \n",
       "⎢                                       Jₓ⋅wₓ⋅w_y - J_y⋅wₓ⋅w_y + τ_z          \n",
       "⎢                                       ────────────────────────────          \n",
       "⎢                                                   J_z                       \n",
       "⎢                                                                             \n",
       "⎢                                                   α_dot                     \n",
       "⎢                                                                             \n",
       "⎢-f_z⋅(sin(φ)⋅sin(ψ) + sin(θ)⋅cos(φ)⋅cos(ψ))⋅cos(α) + 0.5⋅g⋅m⋅mₚₑₙ⋅sin(α) + (f\n",
       "⎢─────────────────────────────────────────────────────────────────────────────\n",
       "⎣                                                   lₚₑₙ⋅m                    \n",
       "\n",
       "in(ψ) + sin(θ)⋅cos(φ)⋅cos(ψ)) ⎤\n",
       "                              ⎥\n",
       "cos(ψ) + sin(ψ)⋅sin(θ)⋅cos(φ))⎥\n",
       "                              ⎥\n",
       ")                             ⎥\n",
       "                              ⎥\n",
       "                              ⎥\n",
       "                              ⎥\n",
       "                              ⎥\n",
       "                              ⎥\n",
       "                              ⎥\n",
       "                              ⎥\n",
       "                              ⎥\n",
       "                              ⎥\n",
       "                              ⎥\n",
       "                              ⎥\n",
       "                              ⎥\n",
       "                              ⎥\n",
       "                              ⎥\n",
       "                              ⎥\n",
       "                              ⎥\n",
       "                              ⎥\n",
       "                              ⎥\n",
       "                              ⎥\n",
       "                              ⎥\n",
       "                              ⎥\n",
       "                              ⎥\n",
       "                              ⎥\n",
       "                              ⎥\n",
       "                              ⎥\n",
       "                              ⎥\n",
       "                              ⎥\n",
       "                              ⎥\n",
       "                              ⎥\n",
       "                              ⎥\n",
       "                              ⎥\n",
       "                              ⎥\n",
       "                              ⎥\n",
       "                              ⎥\n",
       "                              ⎥\n",
       "_z⋅cos(φ)⋅cos(θ) - g⋅m)⋅sin(α)⎥\n",
       "──────────────────────────────⎥\n",
       "                              ⎦"
      ]
     },
     "execution_count": 460,
     "metadata": {},
     "output_type": "execute_result"
    }
   ],
   "source": [
    "f_sym"
   ]
  },
  {
   "cell_type": "markdown",
   "id": "0b9e2120",
   "metadata": {},
   "source": [
    "# 3. Derive state-space model"
   ]
  },
  {
   "cell_type": "markdown",
   "id": "ee01cc07",
   "metadata": {},
   "source": [
    "## 3.1 Choose equilibrium point\n",
    "\n",
    "An equilibrium point of the nonlinear system is a choice of states $s_\\text{eq}$ and inputs $i_\\text{eq}$ - along with constant parameters $p_\\text{eq}$ - for which\n",
    "\n",
    "$$0 = f(s_\\text{eq}, i_\\text{eq}, p_\\text{eq}).$$"
   ]
  },
  {
   "cell_type": "markdown",
   "id": "2019b91b",
   "metadata": {},
   "source": [
    "Create a list of states, inputs, and parameters as symbolic variables."
   ]
  },
  {
   "cell_type": "code",
   "execution_count": 461,
   "id": "75830a11",
   "metadata": {
    "jupyter": {
     "outputs_hidden": true,
     "source_hidden": true
    }
   },
   "outputs": [],
   "source": [
    "s = [o_x, o_y, o_z, psi, theta, phi, v_x, v_y, v_z, w_x, w_y, w_z, alpha, alpha_dot]\n",
    "i = [tau_x, tau_y, tau_z, f_z]\n",
    "p = [m, J_x, J_y, J_z, g, m_pen, l_pen]"
   ]
  },
  {
   "cell_type": "markdown",
   "id": "d3da9d25",
   "metadata": {},
   "source": [
    "Create a list of states to track as symbolic variables. These are states whose desired values will be specified by a client."
   ]
  },
  {
   "cell_type": "code",
   "execution_count": 462,
   "id": "633e55f4",
   "metadata": {
    "jupyter": {
     "outputs_hidden": true,
     "source_hidden": true
    }
   },
   "outputs": [],
   "source": [
    "s_with_des = [o_x, o_y, o_z]"
   ]
  },
  {
   "cell_type": "markdown",
   "id": "cfa42f86",
   "metadata": {},
   "source": [
    "Create a function that evaluates $f(\\cdot)$ at particular values of $s$, $i$, and $p$."
   ]
  },
  {
   "cell_type": "code",
   "execution_count": 463,
   "id": "f73a1883",
   "metadata": {
    "jupyter": {
     "outputs_hidden": true,
     "source_hidden": true
    }
   },
   "outputs": [],
   "source": [
    "f = sym.lambdify(s + i + p, f_sym)"
   ]
  },
  {
   "cell_type": "code",
   "execution_count": 464,
   "metadata": {},
   "outputs": [
    {
     "data": {
      "text/plain": [
       "<function _lambdifygenerated(o_x, o_y, o_z, psi, theta, phi, v_x, v_y, v_z, w_x, w_y, w_z, alpha, alpha_dot, tau_x, tau_y, tau_z, f_z, m, J_x, J_y, J_z, g, m_pen, l_pen)>"
      ]
     },
     "execution_count": 464,
     "metadata": {},
     "output_type": "execute_result"
    }
   ],
   "source": [
    "f"
   ]
  },
  {
   "cell_type": "markdown",
   "id": "d2782d33",
   "metadata": {},
   "source": [
    "Define constants."
   ]
  },
  {
   "cell_type": "code",
   "execution_count": 465,
   "id": "f874a240",
   "metadata": {
    "jupyter": {
     "outputs_hidden": true,
     "source_hidden": true
    }
   },
   "outputs": [],
   "source": [
    "# Mass\n",
    "m = 0.044\n",
    "\n",
    "# Principle moments of inertia\n",
    "J_x = 1.57e-05\n",
    "J_y = 1.60e-05\n",
    "J_z = 2.05e-05\n",
    "\n",
    "# Acceleration of gravity\n",
    "g = 9.81\n",
    "\n",
    "# Pendulum parameters\n",
    "l_pen = 150e-3 # maybe m\n",
    "m_pen = 0.006"
   ]
  },
  {
   "cell_type": "markdown",
   "id": "99146c26",
   "metadata": {},
   "source": [
    "Create a list of parameter values in the **same order** as the symbolic list. These are the parameter estimates we found in our experiments. They are not choices. (We use the subscript `_eq` to be consistent with what follows, and could say \"parameter values *at equilibrium*,\" but don't be misled. These parameter values are *given* and are *constant* - again, they aren't choices.)"
   ]
  },
  {
   "cell_type": "code",
   "execution_count": 466,
   "id": "a19a1ea0",
   "metadata": {
    "jupyter": {
     "outputs_hidden": true,
     "source_hidden": true
    }
   },
   "outputs": [],
   "source": [
    "p_eq = [m, J_x, J_y, J_z, g, m_pen, l_pen]"
   ]
  },
  {
   "cell_type": "markdown",
   "id": "9522c1d6",
   "metadata": {},
   "source": [
    "Create a list of state and input values at equilibrium in the **same order** as the symbolic lists."
   ]
  },
  {
   "cell_type": "code",
   "execution_count": 467,
   "id": "7ec2fcdf",
   "metadata": {
    "jupyter": {
     "outputs_hidden": true,
     "source_hidden": true
    }
   },
   "outputs": [],
   "source": [
    "s_eq = [0., 0., 0., 0., 0., 0., 0., 0., 0., 0., 0., 0., 0., 0.]\n",
    "i_eq = [0., 0., 0., g*m]"
   ]
  },
  {
   "cell_type": "markdown",
   "id": "6934b546",
   "metadata": {},
   "source": [
    "Evaluate the equations of motion at the equilibrium point - if it actually *is* an equilibrium point, then the result should be an array of zeros:"
   ]
  },
  {
   "cell_type": "code",
   "execution_count": 468,
   "id": "ce88daaa",
   "metadata": {
    "jupyter": {
     "outputs_hidden": true,
     "source_hidden": true
    }
   },
   "outputs": [
    {
     "name": "stdout",
     "output_type": "stream",
     "text": [
      "[[0.]\n",
      " [0.]\n",
      " [0.]\n",
      " [0.]\n",
      " [0.]\n",
      " [0.]\n",
      " [0.]\n",
      " [0.]\n",
      " [0.]\n",
      " [0.]\n",
      " [0.]\n",
      " [0.]\n",
      " [0.]\n",
      " [0.]]\n"
     ]
    }
   ],
   "source": [
    "print(f(*s_eq, *i_eq, *p_eq))"
   ]
  },
  {
   "cell_type": "markdown",
   "id": "be5bce64",
   "metadata": {},
   "source": [
    "Note that this equilibrium point would remain an equilibrium point for any choice of `o_x`, `o_y`, and `o_z` - that is one thing that allows the controller to track desired values of these variables."
   ]
  },
  {
   "cell_type": "markdown",
   "id": "e3543554",
   "metadata": {},
   "source": [
    "## 3.2 Compute A and B"
   ]
  },
  {
   "cell_type": "markdown",
   "id": "d8afe6f5",
   "metadata": {},
   "source": [
    "We want to find\n",
    "\n",
    "$$\n",
    "A = \\frac{\\partial f}{\\partial s}\\biggr\\vert_{(s, i, p) = (s_\\text{eq}, i_\\text{eq}, p_\\text{eq})}\n",
    "\\qquad\\text{and}\\qquad\n",
    "B = \\frac{\\partial f}{\\partial i}\\biggr\\vert_{(s, i, p) = (s_\\text{eq}, i_\\text{eq}, p_\\text{eq})}.\n",
    "$$\n",
    "\n",
    "First, we compute each Jacobian (i.e., each matrix of partial derivatives) in symbolic form."
   ]
  },
  {
   "cell_type": "code",
   "execution_count": 469,
   "id": "d4df938c",
   "metadata": {
    "jupyter": {
     "outputs_hidden": true,
     "source_hidden": true
    }
   },
   "outputs": [],
   "source": [
    "A_sym = f_sym.jacobian(s)\n",
    "B_sym = f_sym.jacobian(i)"
   ]
  },
  {
   "cell_type": "markdown",
   "id": "810c9f50",
   "metadata": {},
   "source": [
    "Then, we create functions that allow us to evaluate these Jacobians at particular values of $s$, $i$, and $p$."
   ]
  },
  {
   "cell_type": "code",
   "execution_count": 470,
   "id": "2aaa735a",
   "metadata": {
    "jupyter": {
     "outputs_hidden": true,
     "source_hidden": true
    }
   },
   "outputs": [],
   "source": [
    "A_num = sym.lambdify(s + i + p, A_sym)\n",
    "B_num = sym.lambdify(s + i + p, B_sym)"
   ]
  },
  {
   "cell_type": "markdown",
   "id": "f82bf177",
   "metadata": {},
   "source": [
    "Finally, we plug in our equilibrium point."
   ]
  },
  {
   "cell_type": "code",
   "execution_count": 471,
   "id": "6954a473",
   "metadata": {
    "jupyter": {
     "outputs_hidden": true,
     "source_hidden": true
    }
   },
   "outputs": [],
   "source": [
    "A = A_num(*s_eq, *i_eq, *p_eq)\n",
    "B = B_num(*s_eq, *i_eq, *p_eq)"
   ]
  },
  {
   "cell_type": "markdown",
   "id": "f6995b94",
   "metadata": {},
   "source": [
    "Show $A$ (formatted nicely)."
   ]
  },
  {
   "cell_type": "code",
   "execution_count": 472,
   "id": "1b3711cb",
   "metadata": {
    "jupyter": {
     "outputs_hidden": true,
     "source_hidden": true
    }
   },
   "outputs": [
    {
     "name": "stdout",
     "output_type": "stream",
     "text": [
      "A = [[ 0.00  0.00  0.00  0.00  0.00  0.00  1.00  0.00  0.00  0.00  0.00  0.00  0.00  0.00]\n",
      "     [ 0.00  0.00  0.00  0.00  0.00  0.00  0.00  1.00  0.00  0.00  0.00  0.00  0.00  0.00]\n",
      "     [ 0.00  0.00  0.00  0.00 -0.00  0.00 -0.00  0.00  1.00  0.00  0.00  0.00  0.00  0.00]\n",
      "     [ 0.00  0.00  0.00  0.00  0.00  0.00  0.00  0.00  0.00  0.00  0.00  1.00  0.00  0.00]\n",
      "     [ 0.00  0.00  0.00  0.00  0.00 -0.00  0.00  0.00  0.00  0.00  1.00 -0.00  0.00  0.00]\n",
      "     [ 0.00  0.00  0.00  0.00  0.00  0.00  0.00  0.00  0.00  1.00  0.00  0.00  0.00  0.00]\n",
      "     [ 0.00  0.00  0.00  0.00  9.81  0.00  0.00  0.00 -0.00  0.00 -0.00  0.00  0.00  0.00]\n",
      "     [ 0.00  0.00  0.00  0.00  0.00 -9.81 -0.00  0.00  0.00  0.00  0.00 -0.00  0.00  0.00]\n",
      "     [ 0.00  0.00  0.00  0.00  0.00  0.00  0.00 -0.00  0.00 -0.00  0.00  0.00  0.00  0.00]\n",
      "     [ 0.00  0.00  0.00  0.00  0.00  0.00  0.00  0.00  0.00  0.00  0.00  0.00  0.00  0.00]\n",
      "     [ 0.00  0.00  0.00  0.00  0.00  0.00  0.00  0.00  0.00  0.00  0.00  0.00  0.00  0.00]\n",
      "     [ 0.00  0.00  0.00  0.00  0.00  0.00  0.00  0.00  0.00  0.00  0.00  0.00  0.00  0.00]\n",
      "     [ 0.00  0.00  0.00  0.00  0.00  0.00  0.00  0.00  0.00  0.00  0.00  0.00  0.00  1.00]\n",
      "     [ 0.00  0.00  0.00 -0.00 -65.40 -0.00  0.00  0.00  0.00  0.00  0.00  0.00  0.20  0.00]]\n"
     ]
    }
   ],
   "source": [
    "A_str = np.array2string(A,\n",
    "                        formatter={'float_kind': lambda x: f'{x:5.2f}'},\n",
    "                        prefix='    ',\n",
    "                        max_line_width=np.inf)\n",
    "\n",
    "print(f'A = {A_str}')"
   ]
  },
  {
   "cell_type": "markdown",
   "id": "d04f7ffd",
   "metadata": {},
   "source": [
    "Show $B$ (formatted nicely)."
   ]
  },
  {
   "cell_type": "code",
   "execution_count": 473,
   "id": "931bbe9b",
   "metadata": {
    "jupyter": {
     "outputs_hidden": true,
     "source_hidden": true
    }
   },
   "outputs": [
    {
     "name": "stdout",
     "output_type": "stream",
     "text": [
      "B = [[      0.00       0.00       0.00       0.00]\n",
      "     [      0.00       0.00       0.00       0.00]\n",
      "     [      0.00       0.00       0.00       0.00]\n",
      "     [      0.00       0.00       0.00       0.00]\n",
      "     [      0.00       0.00       0.00       0.00]\n",
      "     [      0.00       0.00       0.00       0.00]\n",
      "     [      0.00       0.00       0.00       0.00]\n",
      "     [      0.00       0.00       0.00       0.00]\n",
      "     [      0.00       0.00       0.00      22.73]\n",
      "     [  63694.27       0.00       0.00       0.00]\n",
      "     [      0.00   62500.00       0.00       0.00]\n",
      "     [      0.00       0.00   48780.49       0.00]\n",
      "     [      0.00       0.00       0.00       0.00]\n",
      "     [      0.00       0.00       0.00       0.00]]\n"
     ]
    }
   ],
   "source": [
    "B_str = np.array2string(B,\n",
    "                        formatter={'float_kind': lambda x: f'{x:10.2f}'},\n",
    "                        prefix='    ',\n",
    "                        max_line_width=np.inf)\n",
    "\n",
    "print(f'B = {B_str}')"
   ]
  },
  {
   "cell_type": "code",
   "execution_count": 474,
   "metadata": {},
   "outputs": [],
   "source": [
    "# Saving A and B to MATLAB \n",
    "scipy.io.savemat('./matlab_A_B.mat', mdict={'A': A, 'B': B})"
   ]
  },
  {
   "cell_type": "markdown",
   "id": "bb9c9fdf",
   "metadata": {},
   "source": [
    "The state-space system is described by\n",
    "\n",
    "$$ \\dot{x} = Ax + Bu $$\n",
    "\n",
    "where\n",
    "\n",
    "$$ x = s - s_\\text{eq} $$\n",
    "\n",
    "and\n",
    "\n",
    "$$ u = i - i_\\text{eq}. $$"
   ]
  },
  {
   "cell_type": "markdown",
   "id": "a36135fa",
   "metadata": {},
   "source": [
    "Note that $A$ and $B$ would remain the same for any choice of `o_x`, `o_y`, and `o_z` - that is the other thing that allows the controller to track desired values of these variables."
   ]
  },
  {
   "cell_type": "markdown",
   "metadata": {},
   "source": [
    "Check controllability:"
   ]
  },
  {
   "cell_type": "code",
   "execution_count": 475,
   "metadata": {},
   "outputs": [
    {
     "data": {
      "text/plain": [
       "array([4.21168654e+06, 4.21168654e+06, 6.24840764e+05, 6.24840764e+05,\n",
       "       1.19062181e+05, 1.19062181e+05, 6.36942675e+04, 6.36942675e+04,\n",
       "       6.25000000e+04, 6.25000000e+04, 4.87804878e+04, 4.87804878e+04,\n",
       "       2.27272727e+01, 2.27272727e+01])"
      ]
     },
     "execution_count": 475,
     "metadata": {},
     "output_type": "execute_result"
    }
   ],
   "source": [
    "W = np.block([[B, A @ B, A @ A @ B, np.linalg.matrix_power(A, 3) @ B, np.linalg.matrix_power(A, 4) @ B, np.linalg.matrix_power(A, 5) @ B, np.linalg.matrix_power(A, 6) @ B, np.linalg.matrix_power(A, 7) @ B, np.linalg.matrix_power(A, 8) @ B, np.linalg.matrix_power(A, 9) @ B, np.linalg.matrix_power(A,10) @ B, np.linalg.matrix_power(A, 11) @ B, np.linalg.matrix_power(A, 12) @ B, np.linalg.matrix_power(A, 13) @ B]])\n",
    "\n",
    "#np.linalg.matrix_rank(W) # If 14, the system is controllable\n",
    "linalg.svdvals(W)"
   ]
  },
  {
   "cell_type": "markdown",
   "id": "a2fb7647",
   "metadata": {},
   "source": [
    "# 4. Design method of power distribution\n",
    "\n",
    "It should only be necessary to do this once."
   ]
  },
  {
   "cell_type": "markdown",
   "id": "97dfd9a8",
   "metadata": {},
   "source": [
    "Define constants."
   ]
  },
  {
   "cell_type": "code",
   "execution_count": 476,
   "id": "51bce0eb",
   "metadata": {
    "jupyter": {
     "outputs_hidden": true,
     "source_hidden": true
    }
   },
   "outputs": [],
   "source": [
    "k_F = 2.04e-06\n",
    "k_M = 6.33e-09\n",
    "l = .0325 "
   ]
  },
  {
   "cell_type": "markdown",
   "id": "28502701",
   "metadata": {},
   "source": [
    "Define the matrix $P$ that maps motor power commands ($m_1$, $m_2$, $m_3$, $m_4$) to inputs ($\\tau_x$, $\\tau_y$, $\\tau_z$, $f_z$)."
   ]
  },
  {
   "cell_type": "code",
   "execution_count": 477,
   "id": "9d1a1e7b",
   "metadata": {
    "jupyter": {
     "outputs_hidden": true,
     "source_hidden": true
    }
   },
   "outputs": [],
   "source": [
    "P = np.array([[ -l * k_F, -l * k_F,  l * k_F,  l * k_F  ],\n",
    "              [ -l * k_F, l * k_F,   l * k_F,  -l * k_F ],\n",
    "              [ -k_M,     k_M,       -k_M,     k_M      ],\n",
    "              [ k_F,      k_F,       k_F,      k_F      ]])"
   ]
  },
  {
   "cell_type": "markdown",
   "id": "60fded0f",
   "metadata": {},
   "source": [
    "Compute the matrix $P^{-1}$ that maps inputs to motor power commands."
   ]
  },
  {
   "cell_type": "code",
   "execution_count": 478,
   "id": "0628e8c7",
   "metadata": {
    "jupyter": {
     "outputs_hidden": true,
     "source_hidden": true
    }
   },
   "outputs": [],
   "source": [
    "Pinv = linalg.inv(P)"
   ]
  },
  {
   "cell_type": "markdown",
   "id": "8da0cfb0",
   "metadata": {},
   "source": [
    "Print code that implements the method of power distribution in python (for simulation)."
   ]
  },
  {
   "cell_type": "code",
   "execution_count": 479,
   "id": "55036101",
   "metadata": {
    "jupyter": {
     "outputs_hidden": true,
     "source_hidden": true
    }
   },
   "outputs": [
    {
     "name": "stdout",
     "output_type": "stream",
     "text": [
      "m_1 = self.limitUint16( -3770739.1 * tau_x -3770739.1 * tau_y -39494470.8 * tau_z + 122549.0 * f_z )\n",
      "m_2 = self.limitUint16( -3770739.1 * tau_x + 3770739.1 * tau_y + 39494470.8 * tau_z + 122549.0 * f_z )\n",
      "m_3 = self.limitUint16( 3770739.1 * tau_x + 3770739.1 * tau_y -39494470.8 * tau_z + 122549.0 * f_z )\n",
      "m_4 = self.limitUint16( 3770739.1 * tau_x -3770739.1 * tau_y + 39494470.8 * tau_z + 122549.0 * f_z )\n"
     ]
    }
   ],
   "source": [
    "def export_power_distribution(Pinv,\n",
    "                              limiter='self.limitUint16',\n",
    "                              decimals=1,\n",
    "                              suffix='',\n",
    "                              line_ending=''):\n",
    "    \"\"\"\n",
    "    Pinv is a 4 x 4 matrix that maps inputs (tau_x, tau_y, tau_z, f_z)\n",
    "        to motor power commands (m_1, m_2, m_3, m_4)\n",
    "    limiter is the name of the function to apply that ensures each\n",
    "        motor power command is valid (i.e., an integer within bounds),\n",
    "        for example \"limitUint16\" when exporting to C\n",
    "    decimals is the number of decimals to include when printing\n",
    "        each value\n",
    "    suffix is the character (if any) to print after each number,\n",
    "        for example 'f' to indicate a \"float\" when exporting to C\n",
    "    line_ending is the character (if any) to print after each\n",
    "        line, for example ';' when exporting to C\n",
    "    \"\"\"\n",
    "    \n",
    "    i_name = ['tau_x', 'tau_y', 'tau_z', 'f_z']\n",
    "    m_name = ['m_1', 'm_2', 'm_3', 'm_4']\n",
    "    for row in range(len(m_name)):\n",
    "        input_string = ''\n",
    "        for col in range(len(i_name)):\n",
    "            k = Pinv[row, col]\n",
    "            if not np.isclose(k, 0.):\n",
    "                if (k > 0) and input_string:\n",
    "                    input_string += ' +'\n",
    "                n = i_name[col]\n",
    "                input_string += f' {k:.{decimals}f}{suffix} * {n}'\n",
    "        print(f'{m_name[row]} = {limiter}({input_string} ){line_ending}')\n",
    "\n",
    "\n",
    "\n",
    "export_power_distribution(Pinv)"
   ]
  },
  {
   "cell_type": "markdown",
   "id": "e2528f26",
   "metadata": {},
   "source": [
    "Print code that implements the method of power distribution in C (for hardware)."
   ]
  },
  {
   "cell_type": "code",
   "execution_count": 480,
   "id": "c59d74f2",
   "metadata": {
    "jupyter": {
     "outputs_hidden": true,
     "source_hidden": true
    }
   },
   "outputs": [
    {
     "name": "stdout",
     "output_type": "stream",
     "text": [
      "m_1 = limitUint16( -3770739.1f * tau_x -3770739.1f * tau_y -39494470.8f * tau_z + 122549.0f * f_z );\n",
      "m_2 = limitUint16( -3770739.1f * tau_x + 3770739.1f * tau_y + 39494470.8f * tau_z + 122549.0f * f_z );\n",
      "m_3 = limitUint16( 3770739.1f * tau_x + 3770739.1f * tau_y -39494470.8f * tau_z + 122549.0f * f_z );\n",
      "m_4 = limitUint16( 3770739.1f * tau_x -3770739.1f * tau_y + 39494470.8f * tau_z + 122549.0f * f_z );\n"
     ]
    }
   ],
   "source": [
    "export_power_distribution(\n",
    "    Pinv,\n",
    "    limiter='limitUint16',\n",
    "    suffix='f',\n",
    "    line_ending=';',\n",
    ")"
   ]
  },
  {
   "cell_type": "markdown",
   "id": "bbcf64a4",
   "metadata": {},
   "source": [
    "## 5.1 Flight test\n",
    "\n",
    "Each time you duplicate this section, replace the title with a brief description of your current flight test."
   ]
  },
  {
   "cell_type": "markdown",
   "id": "e5b69d8d",
   "metadata": {},
   "source": [
    "### 5.1.1 Control design"
   ]
  },
  {
   "cell_type": "markdown",
   "id": "83014d38",
   "metadata": {},
   "source": [
    "For your controller, we suggest you use linear state feedback of the form\n",
    "\n",
    "$$u = - K (x - x_\\text{des})$$\n",
    "\n",
    "where the gain matrix $K$ is chosen by solving an infinite-horizon LQR problem (e.g., with the helper function `lqr`) and where\n",
    "\n",
    "$$x_\\text{des} = \\begin{bmatrix} o_{x, \\text{des}} \\\\ o_{y, \\text{des}} \\\\ o_{z, \\text{des}} \\\\ 0 \\\\ 0 \\\\ 0 \\\\ 0 \\\\ 0 \\\\ 0 \\\\ 0 \\\\ 0 \\\\ 0 \\\\ 0 \\\\ 0\\end{bmatrix}.$$\n",
    "\n",
    "Remember that the LQR problem is defined by the choice of weights $Q$ and $R$. Both must be square matrices, $Q$ must be positive semidefinite, and $R$ must be positive definite. Both $Q$ and $R$ are almost always chosen to be diagonal. Remember that $Q$ penalizes non-zero states (i.e., non-zero values of $x$) and that $R$ penalizes non-zero inputs (i.e., non-zero values of $u$). If you want smaller states, increase $Q$. If you want smaller inputs, increase $R$."
   ]
  },
  {
   "cell_type": "code",
   "execution_count": 556,
   "id": "1e17d37f",
   "metadata": {},
   "outputs": [],
   "source": [
    "Q = np.diag([\n",
    "    0.01, # x\n",
    "    7., # y\n",
    "    5., # z\n",
    "    1., # psi (yaw)\n",
    "    20., # theta (pitch)\n",
    "    .01, # phi (roll)\n",
    "    0.02,\n",
    "    0.8,\n",
    "    1.,\n",
    "    1.,\n",
    "    0.01,\n",
    "    1.,\n",
    "    10., #alpha\n",
    "    2. #alpha_dot\n",
    "])\n",
    "\n",
    "R = np.diag([\n",
    "    1E6, #tau_x\n",
    "    1E9,#tau_y\n",
    "    1E6,\n",
    "    10,\n",
    "])\n"
   ]
  },
  {
   "cell_type": "markdown",
   "id": "da5e7a70",
   "metadata": {},
   "source": [
    "Find $K$ for the chosen $Q$ and $R$."
   ]
  },
  {
   "cell_type": "markdown",
   "id": "9f8a39a8",
   "metadata": {
    "jupyter": {
     "source_hidden": true
    }
   },
   "source": [
    "Here is a function that solves the linear quadratic regulator (LQR) problem - i.e., that finds the matrix $K$ for which\n",
    "\n",
    "$$u(t) = - K x(t)$$\n",
    "\n",
    "is the optimal solution to\n",
    "\n",
    "$$\n",
    "\\begin{align*}\n",
    "\\underset{u_{[t_{0}, \\infty)}}{\\text{minimize}} &\\qquad \\int_{t_{0}}^{\\infty}\\left( x(t)^{T}Qx(t)+u(t)^{T}Ru(t)\\right)dt \\\\\n",
    "\\text{subject to} &\\qquad \\dot{x}(t) = Ax(t)+Bu(t), \\quad x(t_{0})=x_{0}.\n",
    "\\end{align*}\n",
    "$$"
   ]
  },
  {
   "cell_type": "code",
   "execution_count": 557,
   "id": "7af3826a",
   "metadata": {
    "jupyter": {
     "source_hidden": true
    }
   },
   "outputs": [],
   "source": [
    "def lqr(A, B, Q, R):\n",
    "    P = linalg.solve_continuous_are(A, B, Q, R)\n",
    "    K = linalg.inv(R) @  B.T @ P\n",
    "    return K"
   ]
  },
  {
   "cell_type": "code",
   "execution_count": 558,
   "id": "da485a90",
   "metadata": {
    "collapsed": true,
    "jupyter": {
     "outputs_hidden": true
    }
   },
   "outputs": [
    {
     "data": {
      "text/plain": [
       "array([[ 2.13522248e-15, -2.64575131e-03, -2.86780871e-18,\n",
       "         9.91553184e-18,  1.95083391e-13,  6.66549006e-03,\n",
       "         7.49657638e-14, -2.09651082e-03, -4.79722009e-18,\n",
       "         1.09968013e-03,  3.04741802e-14,  3.48546752e-17,\n",
       "        -1.10217273e-14,  1.30000384e-15],\n",
       "       [-3.16227765e-06,  2.24817296e-16, -1.20744007e-17,\n",
       "         4.01042923e-17,  1.44413987e-03,  4.25320982e-18,\n",
       "        -1.49531728e-04,  5.20277586e-17, -4.08225955e-18,\n",
       "         2.99027893e-17,  2.14994129e-04, -9.19422675e-18,\n",
       "        -1.08285734e-04, -1.03904412e-04],\n",
       "       [ 6.56804123e-16, -1.27556850e-16,  7.81254345e-17,\n",
       "         1.00000000e-03, -5.52786818e-14,  4.65341256e-16,\n",
       "         3.20982259e-14, -1.26414451e-16,  9.14170050e-18,\n",
       "         2.66935805e-17, -7.17598186e-15,  1.02029408e-03,\n",
       "         4.91627061e-15,  8.06377663e-15],\n",
       "       [ 6.01227226e-14,  1.31362015e-15,  7.07106781e-01,\n",
       "         8.73117925e-16, -8.96053936e-13, -7.59055100e-15,\n",
       "         2.73831957e-12,  1.56540273e-15,  4.02772140e-01,\n",
       "        -1.71173535e-16, -1.48445802e-13,  4.25920137e-16,\n",
       "         1.22047582e-13,  4.66053179e-13]])"
      ]
     },
     "execution_count": 558,
     "metadata": {},
     "output_type": "execute_result"
    }
   ],
   "source": [
    "K = lqr(A, B, Q, R)\n",
    "\n",
    "K"
   ]
  },
  {
   "cell_type": "markdown",
   "id": "f01135e1",
   "metadata": {},
   "source": [
    "Show $K$ (formatted nicely)."
   ]
  },
  {
   "cell_type": "code",
   "execution_count": 559,
   "id": "6408582a",
   "metadata": {},
   "outputs": [
    {
     "name": "stdout",
     "output_type": "stream",
     "text": [
      "K = [[ 0.000 -0.003 -0.000  0.000  0.000  0.007  0.000 -0.002 -0.000  0.001  0.000  0.000 -0.000  0.000]\n",
      "     [-0.000  0.000 -0.000  0.000  0.001  0.000 -0.000  0.000 -0.000  0.000  0.000 -0.000 -0.000 -0.000]\n",
      "     [ 0.000 -0.000  0.000  0.001 -0.000  0.000  0.000 -0.000  0.000  0.000 -0.000  0.001  0.000  0.000]\n",
      "     [ 0.000  0.000  0.707  0.000 -0.000 -0.000  0.000  0.000  0.403 -0.000 -0.000  0.000  0.000  0.000]]\n"
     ]
    }
   ],
   "source": [
    "K_str = np.array2string(K,\n",
    "                        formatter={'float_kind': lambda x: f'{x:6.3f}'},\n",
    "                        prefix='    ',\n",
    "                        max_line_width=np.inf)\n",
    "\n",
    "print(f'K = {K_str}')"
   ]
  },
  {
   "cell_type": "markdown",
   "id": "96e49b1f",
   "metadata": {},
   "source": [
    "Print code that implements the controller in python (for simulation)."
   ]
  },
  {
   "cell_type": "code",
   "execution_count": 560,
   "id": "cfd55d74",
   "metadata": {},
   "outputs": [
    {
     "name": "stdout",
     "output_type": "stream",
     "text": [
      "tau_x = 0.00264575 * (o_y - o_y_des) -0.00666549 * phi + 0.00209651 * v_y -0.00109968 * w_x\n",
      "tau_y = 0.00000316 * (o_x - o_x_des) -0.00144414 * theta + 0.00014953 * v_x -0.00021499 * w_y + 0.00010829 * alpha + 0.00010390 * alpha_dot\n",
      "tau_z = -0.00100000 * psi -0.00102029 * w_z\n",
      "f_z = -0.70710678 * (o_z - o_z_des) -0.40277214 * v_z + 0.43164000\n"
     ]
    }
   ],
   "source": [
    "def export_controller(K, s, i, s_with_des, i_eq,\n",
    "                      decimals=8,\n",
    "                      suffix='',\n",
    "                      line_ending=''):\n",
    "    \"\"\"\n",
    "    K is a gain matrix, of size m x n\n",
    "    s is a list of states as symbolic variables, of length n\n",
    "    i is a list of inputs as symbolic variables, of length m\n",
    "    s_with_des is a list of states that have desired values, as\n",
    "        symbolic variables - if there are no such states, then\n",
    "        this should be an empty list []\n",
    "    i_eq is a list of equilibrium values of inputs, of length m\n",
    "    decimals is the number of decimals to include when printing\n",
    "        each value\n",
    "    suffix is the character (if any) to print after each number,\n",
    "        for example 'f' to indicate a \"float\" when exporting to C\n",
    "    line_ending is the character (if any) to print after each\n",
    "        line, for example ';' when exporting to C\n",
    "    \"\"\"\n",
    "    \n",
    "    s_name = [scur.name for scur in s]\n",
    "    i_name = [icur.name for icur in i]\n",
    "    for row in range(len(i_name)):\n",
    "        input_string = ''\n",
    "        for col in range(len(s_name)):\n",
    "            k = K[row, col]\n",
    "            if not np.isclose(k, 0.):\n",
    "                if (k < 0) and input_string:\n",
    "                    input_string += ' +'\n",
    "                if s[col] in s_with_des:\n",
    "                    n = f'({s_name[col]} - {s_name[col]}_des)'\n",
    "                else:\n",
    "                    n = s_name[col]\n",
    "                input_string += f' {-k:.{decimals}f}{suffix} * {n}'\n",
    "        if not np.isclose(i_eq[row], 0.):\n",
    "            if (i_eq[row] > 0) and input_string:\n",
    "                input_string += ' +'\n",
    "            input_string += f' {i_eq[row]:.{decimals}f}{suffix}'\n",
    "        print(f'{i_name[row]} ={input_string}{line_ending}')\n",
    "\n",
    "\n",
    "\n",
    "# export_controller(\n",
    "#     K,               # the gain matrix\n",
    "#     s,               # list of states as symbolic variables\n",
    "#     i,               # list of inputs as symbolic variables\n",
    "#     s_with_des,      # list of states that have desired values as symbolic variables\n",
    "#     i_eq,            # list of equilibrium values of inputs\n",
    "# )\n",
    "\n",
    "export_controller(\n",
    "    K,               # the gain matrix\n",
    "    s,               # list of states as symbolic variables\n",
    "    i,               # list of inputs as symbolic variables\n",
    "    s_with_des,      # list of states that have desired values as symbolic variables\n",
    "    i_eq,            # list of equilibrium values of inputs\n",
    "    suffix='f',      # character to print after each number (indicates a \"float\")\n",
    "    line_ending=';'  # character to print after each line\n",
    ")\n"
   ]
  },
  {
   "cell_type": "markdown",
   "metadata": {},
   "source": [
    "### Plot results from test (simulation or flight)"
   ]
  },
  {
   "cell_type": "code",
   "execution_count": 486,
   "metadata": {},
   "outputs": [],
   "source": [
    "def load_simulation_data(filename, dronename):\n",
    "    # load data for all drones\n",
    "    with open(filename, 'r') as f:\n",
    "        data = json.load(f)\n",
    "    \n",
    "    # get data for one drone only\n",
    "    data = data[dronename]\n",
    "    \n",
    "    # convert lists to numpy arrays\n",
    "    for key in data.keys():\n",
    "        if isinstance(data[key], dict):\n",
    "            for subkey in data[key].keys():\n",
    "                data[key][subkey] = np.array(data[key][subkey])\n",
    "        else:\n",
    "            data[key] = np.array(data[key])\n",
    "    \n",
    "    # return the data\n",
    "    return data"
   ]
  },
  {
   "cell_type": "code",
   "execution_count": 565,
   "metadata": {},
   "outputs": [],
   "source": [
    "data = load_simulation_data(\n",
    "    '../Simulation/pendulum_initial_test.json', \n",
    "    'my_drone',              \n",
    ")"
   ]
  },
  {
   "cell_type": "code",
   "execution_count": null,
   "metadata": {},
   "outputs": [],
   "source": []
  },
  {
   "cell_type": "code",
   "execution_count": 566,
   "metadata": {},
   "outputs": [],
   "source": [
    "# time\n",
    "t = data['t']\n",
    "\n",
    "# position\n",
    "o_x = data['state']['o_x']\n",
    "o_y = data['state']['o_y']\n",
    "o_z = data['state']['o_z']\n",
    "\n",
    "# desired position\n",
    "o_x_des = data['setpoint']['o_x']\n",
    "o_y_des = data['setpoint']['o_y']\n",
    "o_z_des = data['setpoint']['o_z']\n",
    "\n",
    "# orientation\n",
    "psi = data['state']['psi']\n",
    "theta = data['state']['theta']\n",
    "phi = data['state']['phi']\n",
    "\n",
    "# pendulum data\n",
    "alpha = data['state']['alpha']\n",
    "alpha_dot = data['state']['alpha_dot']\n",
    "\n",
    "# motor power commands\n",
    "m_1 = data['power']['m_1']\n",
    "m_2 = data['power']['m_2']\n",
    "m_3 = data['power']['m_3']\n",
    "m_4 = data['power']['m_4']\n",
    "\n",
    "# # tau\n",
    "# tau_x = data['input']['tau_x']\n",
    "# tau_y = data['input']['tau_y']\n",
    "# tau_z = data['input']['tau_z']\n",
    "# f_z = data['input']['f_z']"
   ]
  },
  {
   "cell_type": "code",
   "execution_count": 567,
   "metadata": {},
   "outputs": [],
   "source": [
    "# Compute error in position (this is a function of time).\n",
    " \n",
    "o_x_err = o_x - o_x_des\n",
    "o_y_err = o_y - o_y_des\n",
    "o_z_err = o_z - o_z_des"
   ]
  },
  {
   "cell_type": "code",
   "execution_count": 568,
   "metadata": {},
   "outputs": [
    {
     "data": {
      "text/plain": [
       "Text(0.5, 0, 'time (s)')"
      ]
     },
     "execution_count": 568,
     "metadata": {},
     "output_type": "execute_result"
    },
    {
     "data": {
      "image/png": "[encoded data removed]",
      "text/plain": [
       "<Figure size 1200x1200 with 5 Axes>"
      ]
     },
     "metadata": {},
     "output_type": "display_data"
    }
   ],
   "source": [
    "# Plot position error, orientation, pendulum pose and motor power commands\n",
    "\n",
    "fig, (ax_pos, ax_ori, ax_pow, ax_pen, ax_dot_pen) = plt.subplots(5, 1, figsize=(12, 12), sharex=True)\n",
    "ax_pos.plot(t, o_x_err, label='x position error')\n",
    "ax_pos.plot(t, o_y_err, label='y position error')\n",
    "ax_pos.plot(t, o_z_err, label='z position error')\n",
    "ax_pos.legend()\n",
    "ax_pos.grid()\n",
    "ax_ori.plot(t, psi, label='psi')\n",
    "ax_ori.plot(t, theta, label='theta')\n",
    "ax_ori.plot(t, phi, label='phi')\n",
    "ax_ori.legend()\n",
    "ax_ori.grid()\n",
    "ax_pow.plot(t, m_1, label='m_1')\n",
    "ax_pow.plot(t, m_2, label='m_2')\n",
    "ax_pow.plot(t, m_3, label='m_3')\n",
    "ax_pow.plot(t, m_4, label='m_4')\n",
    "ax_pow.legend()\n",
    "ax_pow.grid()\n",
    "ax_pen.plot(t, alpha, label='alpha')\n",
    "ax_pen.legend()\n",
    "ax_pen.grid()\n",
    "ax_dot_pen.plot(t, alpha_dot, label='alpha_dot')\n",
    "ax_dot_pen.legend()\n",
    "ax_dot_pen.grid()\n",
    "ax_pow.set_xlabel('time (s)')"
   ]
  },
  {
   "cell_type": "code",
   "execution_count": 569,
   "metadata": {},
   "outputs": [
    {
     "name": "stdout",
     "output_type": "stream",
     "text": [
      "[ 0.00000000e+00  0.00000000e+00  0.00000000e+00  0.00000000e+00\n",
      "  0.00000000e+00  0.00000000e+00  0.00000000e+00  0.00000000e+00\n",
      "  0.00000000e+00  5.95888613e-10  1.53522486e-09  2.42955036e-09\n",
      "  3.83952300e-09  6.07343746e-09  9.05108679e-09  1.20610818e-08\n",
      "  1.52054286e-08  1.86874423e-08  2.23225423e-08  2.58914935e-08\n",
      "  2.97365404e-08  3.33172150e-08  3.59229499e-08  3.77587886e-08\n",
      "  3.87441270e-08  3.77808185e-08  3.39554113e-08  2.72720207e-08\n",
      "  1.74511113e-08  3.79341672e-09 -1.44665083e-08 -3.81595094e-08\n",
      " -6.81812300e-08 -1.05491408e-07 -1.51113210e-07 -2.06132579e-07\n",
      " -2.71101610e-07 -3.47482447e-07 -4.36934392e-07 -5.40823454e-07\n",
      " -6.59978707e-07 -7.96136356e-07 -9.51226714e-07 -1.12628787e-06\n",
      " -1.32266689e-06 -1.54275138e-06 -1.78817088e-06 -2.06050840e-06\n",
      " -2.36178904e-06 -2.69412602e-06 -3.05971998e-06 -3.46085791e-06\n",
      " -3.89991184e-06 -4.37933835e-06 -4.90227347e-06 -5.47108729e-06\n",
      " -6.08869078e-06 -6.75758021e-06 -7.48019568e-06 -8.25941009e-06\n",
      " -9.09817487e-06 -1.00001156e-05 -1.09680867e-05 -1.20048825e-05\n",
      " -1.31143216e-05 -1.42994488e-05 -1.55632475e-05 -1.69091275e-05\n",
      " -1.83405719e-05 -1.98611363e-05 -2.14744481e-05 -2.31842053e-05\n",
      " -2.49941754e-05 -2.69081952e-05 -2.89301713e-05 -3.10640776e-05\n",
      " -3.33139545e-05 -3.56839101e-05 -3.81781177e-05 -4.08008147e-05\n",
      " -4.35563043e-05 -4.64489527e-05 -4.94831896e-05 -5.26629113e-05\n",
      " -5.59929239e-05 -5.94782319e-05 -6.31229505e-05 -6.69315072e-05\n",
      " -7.09093731e-05 -7.50618607e-05 -7.93933922e-05 -8.39086980e-05\n",
      " -8.86129529e-05 -9.35120191e-05 -9.86115957e-05 -1.03916486e-04\n",
      " -1.09432395e-04 -1.15164618e-04 -1.21118405e-04 -1.27300039e-04\n",
      " -1.33715039e-04 -1.40368872e-04 -1.47267446e-04 -1.54416751e-04\n",
      " -1.61822857e-04 -1.69491921e-04 -1.77430178e-04 -1.85643943e-04\n",
      " -1.94139013e-04 -2.02922115e-04 -2.11999591e-04 -2.21378358e-04\n",
      " -2.31065545e-04 -2.41067404e-04 -2.51390516e-04 -2.62042520e-04\n",
      " -2.73030907e-04 -2.84362890e-04 -2.96045155e-04 -3.08084711e-04\n",
      " -3.20489023e-04 -3.33266255e-04 -3.46423829e-04 -3.59969127e-04\n",
      " -3.73910583e-04 -3.88255882e-04 -4.03012675e-04 -4.18189059e-04\n",
      " -4.33793229e-04 -4.49832882e-04 -4.66316657e-04 -4.83253425e-04\n",
      " -5.00651797e-04 -5.18520478e-04 -5.36868261e-04 -5.55703433e-04\n",
      " -5.75035218e-04 -5.94873070e-04 -6.15226169e-04 -6.36103193e-04\n",
      " -6.57513152e-04 -6.79465530e-04 -7.01969336e-04 -7.25034546e-04\n",
      " -7.48671389e-04 -7.72889856e-04 -7.97700051e-04 -8.23111595e-04\n",
      " -8.49134477e-04 -8.75779181e-04 -9.03056337e-04 -9.30976718e-04\n",
      " -9.59551239e-04 -9.88790963e-04 -1.01870649e-03 -1.04930940e-03\n",
      " -1.08061156e-03 -1.11262462e-03 -1.14535974e-03 -1.17882849e-03\n",
      " -1.21304296e-03 -1.24801540e-03 -1.28375821e-03 -1.32028398e-03\n",
      " -1.35760543e-03 -1.39573545e-03 -1.43468710e-03 -1.47447357e-03\n",
      " -1.51510822e-03 -1.55660455e-03 -1.59897563e-03 -1.64223493e-03\n",
      " -1.68639643e-03 -1.73147432e-03 -1.77748237e-03 -1.82443476e-03\n",
      " -1.87234626e-03 -1.92123183e-03 -1.97110666e-03 -2.02198613e-03\n",
      " -2.07388523e-03 -2.12681999e-03 -2.18080680e-03 -2.23586127e-03\n",
      " -2.29199947e-03 -2.34923806e-03 -2.40759392e-03 -2.46708355e-03\n",
      " -2.52772453e-03 -2.58953421e-03 -2.65253004e-03 -2.71673008e-03\n",
      " -2.78215204e-03 -2.84881472e-03 -2.91673671e-03 -2.98593734e-03\n",
      " -3.05643570e-03 -3.12825105e-03 -3.20140324e-03 -3.27591178e-03\n",
      " -3.35179674e-03 -3.42907879e-03 -3.50777894e-03 -3.58791786e-03\n",
      " -3.66951736e-03 -3.75259910e-03 -3.83718490e-03 -3.92329726e-03\n",
      " -4.01095897e-03 -4.10019316e-03 -4.19102263e-03 -4.28347076e-03\n",
      " -4.37756103e-03 -4.47331807e-03 -4.57076640e-03 -4.66993074e-03\n",
      " -4.77083657e-03 -4.87350907e-03 -4.97797407e-03 -5.08425751e-03\n",
      " -5.19238655e-03 -5.30238888e-03 -5.41429161e-03 -5.52812245e-03\n",
      " -5.64390989e-03 -5.76168220e-03 -5.88146830e-03 -6.00329728e-03\n",
      " -6.12719891e-03 -6.25320377e-03 -6.38134285e-03 -6.51164761e-03\n",
      " -6.64414994e-03 -6.77888156e-03 -6.91587489e-03 -7.05516314e-03\n",
      " -7.19677940e-03 -7.34075742e-03 -7.48713185e-03 -7.63593716e-03\n",
      " -7.78720798e-03 -7.94098006e-03 -8.09728941e-03 -8.25617283e-03\n",
      " -8.41766804e-03 -8.58181269e-03 -8.74864525e-03 -8.91820513e-03\n",
      " -9.09053169e-03 -9.26566511e-03 -9.44364655e-03 -9.62451714e-03\n",
      " -9.80831882e-03 -9.99509456e-03 -1.01848873e-02 -1.03777408e-02\n",
      " -1.05736993e-02 -1.07728073e-02 -1.09751105e-02 -1.11806556e-02\n",
      " -1.13894902e-02 -1.16016617e-02 -1.18172186e-02 -1.20362097e-02\n",
      " -1.22586843e-02 -1.24846930e-02 -1.27142867e-02 -1.29475175e-02\n",
      " -1.31844385e-02 -1.34251031e-02 -1.36695649e-02 -1.39178791e-02\n",
      " -1.41701014e-02 -1.44262883e-02 -1.46864972e-02 -1.49507859e-02\n",
      " -1.52192136e-02 -1.54918406e-02 -1.57687272e-02 -1.60499347e-02\n",
      " -1.63355263e-02 -1.66255653e-02 -1.69201156e-02 -1.72192429e-02\n",
      " -1.75230132e-02 -1.78314933e-02 -1.81447516e-02 -1.84628572e-02\n",
      " -1.87858798e-02 -1.91138903e-02 -1.94469609e-02 -1.97851656e-02\n",
      " -2.01285780e-02 -2.04772732e-02 -2.08313273e-02 -2.11908175e-02\n",
      " -2.15558232e-02 -2.19264236e-02 -2.23026996e-02 -2.26847333e-02\n",
      " -2.30726077e-02 -2.34664070e-02 -2.38662167e-02 -2.42721240e-02\n",
      " -2.46842173e-02 -2.51025857e-02 -2.55273198e-02 -2.59585114e-02\n",
      " -2.63962536e-02 -2.68406410e-02 -2.72917695e-02 -2.77497364e-02\n",
      " -2.82146404e-02 -2.86865816e-02 -2.91656617e-02 -2.96519838e-02\n",
      " -3.01456526e-02 -3.06467741e-02 -3.11554561e-02 -3.16718079e-02\n",
      " -3.21959397e-02 -3.27279643e-02 -3.32679956e-02 -3.38161496e-02\n",
      " -3.43725435e-02 -3.49372963e-02 -3.55105288e-02 -3.60923631e-02\n",
      " -3.66829239e-02 -3.72823372e-02 -3.78907309e-02 -3.85082348e-02\n",
      " -3.91349804e-02 -3.97711009e-02 -4.04167316e-02 -4.10720097e-02\n",
      " -4.17370750e-02 -4.24120687e-02 -4.30971343e-02 -4.37924177e-02\n",
      " -4.44980662e-02 -4.52142299e-02 -4.59410604e-02 -4.66787114e-02\n",
      " -4.74273393e-02 -4.81871032e-02 -4.89581640e-02 -4.97406845e-02\n",
      " -5.05348304e-02 -5.13407699e-02 -5.21586728e-02 -5.29887118e-02\n",
      " -5.38310618e-02 -5.46859012e-02 -5.55534105e-02 -5.64337726e-02\n",
      " -5.73271730e-02 -5.82338001e-02 -5.91538449e-02 -6.00875017e-02\n",
      " -6.10349678e-02 -6.19964426e-02 -6.29721287e-02 -6.39622308e-02\n",
      " -6.49669571e-02 -6.59865190e-02 -6.70211310e-02 -6.80710116e-02\n",
      " -6.91363815e-02 -7.02174646e-02 -7.13144881e-02 -7.24276827e-02\n",
      " -7.35572820e-02 -7.47035229e-02 -7.58666459e-02 -7.70468949e-02\n",
      " -7.82445180e-02 -7.94597653e-02 -8.06928914e-02 -8.19441546e-02\n",
      " -8.32138174e-02 -8.45021458e-02 -8.58094095e-02 -8.71358824e-02\n",
      " -8.84818426e-02 -8.98475716e-02 -9.12333559e-02 -9.26394849e-02\n",
      " -9.40662523e-02 -9.55139574e-02 -9.69829031e-02 -9.84733968e-02\n",
      " -9.99857497e-02 -1.01520278e-01 -1.03077301e-01 -1.04657147e-01\n",
      " -1.06260144e-01 -1.07886627e-01 -1.09536937e-01 -1.11211418e-01\n",
      " -1.12910420e-01 -1.14634297e-01 -1.16383410e-01 -1.18158123e-01\n",
      " -1.19958807e-01 -1.21785837e-01 -1.23639595e-01 -1.25520467e-01\n",
      " -1.27428846e-01 -1.29365130e-01 -1.31329723e-01 -1.33323034e-01\n",
      " -1.35345480e-01 -1.37397482e-01 -1.39479466e-01 -1.41591868e-01\n",
      " -1.43735128e-01 -1.45909692e-01 -1.48116013e-01 -1.50354550e-01\n",
      " -1.52625770e-01 -1.54930146e-01 -1.57268157e-01 -1.59640291e-01\n",
      " -1.62047041e-01 -1.64488908e-01 -1.66966400e-01 -1.69480033e-01\n",
      " -1.72030331e-01 -1.74617823e-01 -1.77243049e-01 -1.79906554e-01\n",
      " -1.82608893e-01 -1.85350628e-01 -1.88132329e-01 -1.90954576e-01\n",
      " -1.93817955e-01 -1.96723062e-01 -1.99670500e-01 -2.02660882e-01\n",
      " -2.05694831e-01 -2.08772978e-01 -2.11895962e-01 -2.15064433e-01\n",
      " -2.18279048e-01 -2.21540477e-01 -2.24849399e-01 -2.28206501e-01\n",
      " -2.31612480e-01 -2.35068044e-01 -2.38573912e-01 -2.42130812e-01\n",
      " -2.45739485e-01 -2.49400680e-01 -2.53115158e-01 -2.56883691e-01\n",
      " -2.60707062e-01 -2.64586065e-01 -2.68521509e-01 -2.72514209e-01\n",
      " -2.76564996e-01 -2.80674711e-01 -2.84844209e-01 -2.89074356e-01\n",
      " -2.93366032e-01 -2.97720128e-01 -3.02137549e-01 -3.06619214e-01\n",
      " -3.11166053e-01 -3.15779011e-01 -3.20459048e-01 -3.25207135e-01\n",
      " -3.30024260e-01 -3.34911424e-01 -3.39869643e-01 -3.44899947e-01\n",
      " -3.50003382e-01 -3.55181009e-01 -3.60433905e-01 -3.65763161e-01\n",
      " -3.71169885e-01 -3.76655201e-01 -3.82220251e-01 -3.87866191e-01\n",
      " -3.93594196e-01 -3.99405456e-01 -4.05301181e-01 -4.11282598e-01\n",
      " -4.17350950e-01 -4.23507501e-01 -4.29753532e-01 -4.36090341e-01\n",
      " -4.42519249e-01 -4.49041594e-01 -4.55658733e-01 -4.62372045e-01\n",
      " -4.69182925e-01 -4.76092794e-01 -4.83103091e-01 -4.90215276e-01\n",
      " -4.97430832e-01 -5.04751261e-01 -5.12178091e-01 -5.19712868e-01\n",
      " -5.27357165e-01 -5.35112575e-01 -5.42980716e-01 -5.50963228e-01\n",
      " -5.59061777e-01 -5.67278053e-01 -5.75613772e-01 -5.84070675e-01\n",
      " -5.92650527e-01 -6.01355122e-01 -6.10186277e-01 -6.19145839e-01\n",
      " -6.28235680e-01 -6.37457701e-01 -6.46813831e-01 -6.56306028e-01\n",
      " -6.65936278e-01 -6.75706596e-01 -6.85619029e-01 -6.95675653e-01\n",
      " -7.05878575e-01 -7.16229934e-01 -7.26731903e-01 -7.37386684e-01\n",
      " -7.48196514e-01 -7.59163663e-01 -7.70290434e-01 -7.81579167e-01\n",
      " -7.93032234e-01 -8.04652044e-01 -8.16441044e-01 -8.28401716e-01\n",
      " -8.40536578e-01 -8.52848188e-01 -8.65339145e-01 -8.78012084e-01\n",
      " -8.90869681e-01 -9.03914652e-01 -9.17149755e-01 -9.30577789e-01\n",
      " -9.44201595e-01 -9.58024059e-01 -9.72048111e-01 -9.86276726e-01\n",
      " -1.00071292e+00 -1.01535977e+00 -1.03022038e+00 -1.04529791e+00\n",
      " -1.06059558e+00 -1.07611665e+00 -1.09186442e+00 -1.10784226e+00\n",
      " -1.12405359e+00 -1.14050186e+00 -1.15719060e+00 -1.17412339e+00\n",
      " -1.19130386e+00 -1.20873571e+00 -1.22642267e+00 -1.24436855e+00\n",
      " -1.26257723e+00 -1.28105263e+00 -1.29979875e+00 -1.31881963e+00\n",
      " -1.33811940e+00 -1.35770225e+00 -1.37757242e+00 -1.39773424e+00\n",
      " -1.41819210e+00 -1.43895047e+00 -1.46001388e+00 -1.48138694e+00\n",
      " -1.50307434e+00 -1.52508083e+00 -1.54741126e+00 -1.57007055e+00\n",
      " -1.59306371e+00 -1.61639580e+00 -1.64007202e+00 -1.66409762e+00\n",
      " -1.68847794e+00 -1.71321842e+00 -1.73832459e+00 -1.76380208e+00\n",
      " -1.78965660e+00 -1.81589398e+00 -1.84252013e+00 -1.86954107e+00\n",
      " -1.89696294e+00 -1.92479197e+00 -1.95303451e+00 -1.98169701e+00\n",
      " -2.01078604e+00 -2.04030830e+00 -2.07027060e+00 -2.10067987e+00]\n"
     ]
    }
   ],
   "source": [
    "print(o_x)"
   ]
  },
  {
   "cell_type": "code",
   "execution_count": null,
   "metadata": {},
   "outputs": [],
   "source": []
  }
 ],
 "metadata": {
  "kernelspec": {
   "display_name": "Python 3.9.12 64-bit ('Miniconda3')",
   "language": "python",
   "name": "python3"
  },
  "language_info": {
   "codemirror_mode": {
    "name": "ipython",
    "version": 3
   },
   "file_extension": ".py",
   "mimetype": "text/x-python",
   "name": "python",
   "nbconvert_exporter": "python",
   "pygments_lexer": "ipython3",
   "version": "3.10.8"
  },
  "orig_nbformat": 4,
  "vscode": {
   "interpreter": {
    "hash": "a07904d2f73b9031e6a78ce257f7fa610e020f290428279d8880d4c46bcb25c7"
   }
  }
 },
 "nbformat": 4,
 "nbformat_minor": 2
}
