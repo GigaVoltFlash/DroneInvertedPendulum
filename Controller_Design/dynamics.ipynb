{
 "cells": [
  {
   "cell_type": "markdown",
   "metadata": {},
   "source": [
    "# Inverted Pendulum on a Drone"
   ]
  },
  {
   "cell_type": "code",
   "execution_count": 301,
   "metadata": {},
   "outputs": [],
   "source": [
    "import numpy as np\n",
    "import sympy as sym\n",
    "import matplotlib.pyplot as plt\n",
    "from numpy import linalg\n",
    "import scipy\n",
    "\n",
    "import json\n",
    "from scipy import linalg\n",
    "from sympy.physics.mechanics import *"
   ]
  },
  {
   "cell_type": "markdown",
   "metadata": {},
   "source": [
    "### Standard Inverted Pendulum Dynamics\n",
    "\n",
    "This is based on the Kinematics derivation of just the drone with the addition of the kinematics of the pendulum's angle."
   ]
  },
  {
   "cell_type": "markdown",
   "metadata": {},
   "source": [
    "Define states"
   ]
  },
  {
   "cell_type": "code",
   "execution_count": 361,
   "metadata": {},
   "outputs": [],
   "source": [
    "# components of position (meters)\n",
    "o_x, o_y, o_z = sym.symbols('o_x, o_y, o_z')\n",
    "\n",
    "# yaw, pitch, and roll angles (radians)\n",
    "psi, theta, phi = sym.symbols('psi, theta, phi')\n",
    "\n",
    "# components of linear velocity (meters / second)\n",
    "v_x, v_y, v_z = sym.symbols('v_x, v_y, v_z')\n",
    "\n",
    "# components of angular velocity (radians / second)\n",
    "w_x, w_y, w_z = sym.symbols('w_x, w_y, w_z')\n",
    "\n",
    "# states of the pendulum\n",
    "alpha, alpha_dot = sym.symbols('alpha, alpha_dot')"
   ]
  },
  {
   "cell_type": "markdown",
   "metadata": {},
   "source": [
    "Define inputs"
   ]
  },
  {
   "cell_type": "code",
   "execution_count": 362,
   "metadata": {},
   "outputs": [],
   "source": [
    "# components of net rotor torque\n",
    "tau_x, tau_y, tau_z = sym.symbols('tau_x, tau_y, tau_z')\n",
    "\n",
    "# net rotor force\n",
    "f_z = sym.symbols('f_z')"
   ]
  },
  {
   "cell_type": "markdown",
   "metadata": {},
   "source": [
    "Define parameters.\n",
    "$m_{pen}$ is the mass of the pendulum and $l_{pen}$ is the distance of the center of mass of the pendulum from its base."
   ]
  },
  {
   "cell_type": "code",
   "execution_count": 363,
   "metadata": {},
   "outputs": [],
   "source": [
    "m, J_x, J_y, J_z, g, m_pen, l_pen = sym.symbols('m, J_x, J_y, J_z, g, m_pen, l_pen')"
   ]
  },
  {
   "cell_type": "markdown",
   "id": "fad29d40",
   "metadata": {},
   "source": [
    "Create linear and angular velocity vectors (in coordinates of the body frame)."
   ]
  },
  {
   "cell_type": "code",
   "execution_count": 364,
   "id": "b6a0ff50",
   "metadata": {
    "jupyter": {
     "outputs_hidden": true,
     "source_hidden": true
    }
   },
   "outputs": [],
   "source": [
    "v_01in1 = sym.Matrix([v_x, v_y, v_z])\n",
    "w_01in1 = sym.Matrix([w_x, w_y, w_z])"
   ]
  },
  {
   "cell_type": "markdown",
   "id": "4b9eeab1",
   "metadata": {},
   "source": [
    "Create moment of inertia matrix (in coordinates of the body frame)."
   ]
  },
  {
   "cell_type": "code",
   "execution_count": 365,
   "id": "f199de0b",
   "metadata": {
    "jupyter": {
     "outputs_hidden": true,
     "source_hidden": true
    }
   },
   "outputs": [],
   "source": [
    "J_in1 = sym.diag(J_x, J_y, J_z)"
   ]
  },
  {
   "cell_type": "markdown",
   "id": "00763ccd",
   "metadata": {},
   "source": [
    "## 2.2 Define kinematics of orientation"
   ]
  },
  {
   "cell_type": "markdown",
   "id": "63be69c1",
   "metadata": {},
   "source": [
    "### 2.2.1 Rotation matrix in terms of yaw, pitch, roll angles"
   ]
  },
  {
   "cell_type": "markdown",
   "id": "07a09405",
   "metadata": {},
   "source": [
    "Define individual rotation matrices."
   ]
  },
  {
   "cell_type": "code",
   "execution_count": 366,
   "id": "4e37b553",
   "metadata": {
    "jupyter": {
     "outputs_hidden": true,
     "source_hidden": true
    }
   },
   "outputs": [],
   "source": [
    "Rz = sym.Matrix([[sym.cos(psi), -sym.sin(psi), 0],\n",
    "                 [sym.sin(psi), sym.cos(psi), 0],\n",
    "                 [0, 0, 1]])\n",
    "\n",
    "Ry = sym.Matrix([[sym.cos(theta), 0, sym.sin(theta)],\n",
    "                 [0, 1, 0],\n",
    "                 [-sym.sin(theta), 0, sym.cos(theta)]])\n",
    "\n",
    "Rx = sym.Matrix([[1, 0, 0],\n",
    "                 [0, sym.cos(phi), -sym.sin(phi)],\n",
    "                 [0, sym.sin(phi), sym.cos(phi)]])"
   ]
  },
  {
   "cell_type": "markdown",
   "id": "59f23502",
   "metadata": {},
   "source": [
    "Apply sequential transformation to compute the rotation matrix that describes the orientation of the drone (i.e., of frame 1 in the coordinates of frame 0)."
   ]
  },
  {
   "cell_type": "code",
   "execution_count": 367,
   "id": "1a7fb65f",
   "metadata": {
    "jupyter": {
     "outputs_hidden": true,
     "source_hidden": true
    }
   },
   "outputs": [],
   "source": [
    "R_1in0 = Rz * Ry * Rx"
   ]
  },
  {
   "cell_type": "code",
   "execution_count": 368,
   "id": "dbd1ce15",
   "metadata": {
    "jupyter": {
     "outputs_hidden": true,
     "source_hidden": true
    }
   },
   "outputs": [
    {
     "data": {
      "text/latex": [
       "$\\displaystyle \\left[\\begin{matrix}\\cos{\\left(\\psi \\right)} \\cos{\\left(\\theta \\right)} & \\sin{\\left(\\phi \\right)} \\sin{\\left(\\theta \\right)} \\cos{\\left(\\psi \\right)} - \\sin{\\left(\\psi \\right)} \\cos{\\left(\\phi \\right)} & \\sin{\\left(\\phi \\right)} \\sin{\\left(\\psi \\right)} + \\sin{\\left(\\theta \\right)} \\cos{\\left(\\phi \\right)} \\cos{\\left(\\psi \\right)}\\\\\\sin{\\left(\\psi \\right)} \\cos{\\left(\\theta \\right)} & \\sin{\\left(\\phi \\right)} \\sin{\\left(\\psi \\right)} \\sin{\\left(\\theta \\right)} + \\cos{\\left(\\phi \\right)} \\cos{\\left(\\psi \\right)} & - \\sin{\\left(\\phi \\right)} \\cos{\\left(\\psi \\right)} + \\sin{\\left(\\psi \\right)} \\sin{\\left(\\theta \\right)} \\cos{\\left(\\phi \\right)}\\\\- \\sin{\\left(\\theta \\right)} & \\sin{\\left(\\phi \\right)} \\cos{\\left(\\theta \\right)} & \\cos{\\left(\\phi \\right)} \\cos{\\left(\\theta \\right)}\\end{matrix}\\right]$"
      ],
      "text/plain": [
       "⎡cos(ψ)⋅cos(θ)  sin(φ)⋅sin(θ)⋅cos(ψ) - sin(ψ)⋅cos(φ)  sin(φ)⋅sin(ψ) + sin(θ)⋅c\n",
       "⎢                                                                             \n",
       "⎢sin(ψ)⋅cos(θ)  sin(φ)⋅sin(ψ)⋅sin(θ) + cos(φ)⋅cos(ψ)  -sin(φ)⋅cos(ψ) + sin(ψ)⋅\n",
       "⎢                                                                             \n",
       "⎣   -sin(θ)                sin(φ)⋅cos(θ)                          cos(φ)⋅cos(θ\n",
       "\n",
       "os(φ)⋅cos(ψ) ⎤\n",
       "             ⎥\n",
       "sin(θ)⋅cos(φ)⎥\n",
       "             ⎥\n",
       ")            ⎦"
      ]
     },
     "execution_count": 368,
     "metadata": {},
     "output_type": "execute_result"
    }
   ],
   "source": [
    "R_1in0"
   ]
  },
  {
   "cell_type": "markdown",
   "id": "8bd1e691",
   "metadata": {},
   "source": [
    "### 2.2.2 Map from angular velocity to angular rates"
   ]
  },
  {
   "cell_type": "markdown",
   "id": "a338dc12",
   "metadata": {},
   "source": [
    "Recall that\n",
    "\n",
    "$$\\begin{bmatrix} \\dot{\\psi} \\\\ \\dot{\\theta} \\\\ \\dot{\\phi} \\end{bmatrix} = N w_{0, 1}^{1}$$\n",
    "\n",
    "for some matrix $N$. Here is how to compute that matrix for a ZYX (yaw, pitch, roll) Euler angle sequence.  First, we compute its inverse:"
   ]
  },
  {
   "cell_type": "code",
   "execution_count": 369,
   "id": "693d1972",
   "metadata": {
    "jupyter": {
     "outputs_hidden": true,
     "source_hidden": true
    }
   },
   "outputs": [],
   "source": [
    "Ninv = sym.Matrix.hstack((Ry * Rx).T * sym.Matrix([0, 0, 1]),\n",
    "                              (Rx).T * sym.Matrix([0, 1, 0]),\n",
    "                                       sym.Matrix([1, 0, 0]))"
   ]
  },
  {
   "cell_type": "markdown",
   "id": "771b48b7",
   "metadata": {},
   "source": [
    "Then, we compute $N$ by taking the inverse of $N^{-1}$:"
   ]
  },
  {
   "cell_type": "code",
   "execution_count": 370,
   "id": "52625946",
   "metadata": {
    "jupyter": {
     "outputs_hidden": true,
     "source_hidden": true
    }
   },
   "outputs": [],
   "source": [
    "N = sym.simplify(Ninv.inv())"
   ]
  },
  {
   "cell_type": "code",
   "execution_count": 371,
   "id": "400ae340",
   "metadata": {
    "jupyter": {
     "outputs_hidden": true,
     "source_hidden": true
    }
   },
   "outputs": [
    {
     "data": {
      "text/latex": [
       "$\\displaystyle \\left[\\begin{matrix}0 & \\frac{\\sin{\\left(\\phi \\right)}}{\\cos{\\left(\\theta \\right)}} & \\frac{\\cos{\\left(\\phi \\right)}}{\\cos{\\left(\\theta \\right)}}\\\\0 & \\cos{\\left(\\phi \\right)} & - \\sin{\\left(\\phi \\right)}\\\\1 & \\sin{\\left(\\phi \\right)} \\tan{\\left(\\theta \\right)} & \\cos{\\left(\\phi \\right)} \\tan{\\left(\\theta \\right)}\\end{matrix}\\right]$"
      ],
      "text/plain": [
       "⎡      sin(φ)         cos(φ)    ⎤\n",
       "⎢0     ──────         ──────    ⎥\n",
       "⎢      cos(θ)         cos(θ)    ⎥\n",
       "⎢                               ⎥\n",
       "⎢0     cos(φ)         -sin(φ)   ⎥\n",
       "⎢                               ⎥\n",
       "⎣1  sin(φ)⋅tan(θ)  cos(φ)⋅tan(θ)⎦"
      ]
     },
     "execution_count": 371,
     "metadata": {},
     "output_type": "execute_result"
    }
   ],
   "source": [
    "N"
   ]
  },
  {
   "cell_type": "markdown",
   "metadata": {},
   "source": [
    "### Deriving the Kinematics of the Pendulum\n",
    "\n",
    "Generalized Co-ordinates: $x$, $z$ (in the world frame), $\\theta$ (pitch) and $\\alpha$ (angle of the drone from the world $z_0$)\n",
    "\n",
    "\n",
    "![pendulum_kin](Inverted_Pendulum_Kinematics.jpg)"
   ]
  },
  {
   "cell_type": "code",
   "execution_count": 378,
   "metadata": {},
   "outputs": [
    {
     "data": {
      "text/latex": [
       "$\\displaystyle \\left[\\begin{matrix}1.0 m \\ddot{o}_{x} + 0.5 m_{pen} \\left(- 2 l_{pen} \\sin{\\left(\\alpha \\right)} \\dot{\\alpha}^{2} + 2 l_{pen} \\cos{\\left(\\alpha \\right)} \\ddot{\\alpha} + 2 \\ddot{o}_{x}\\right)\\\\1.0 m \\ddot{o}_{z} - 0.5 m_{pen} \\left(- g m - g m_{pen}\\right) + 0.5 m_{pen} \\left(- 2 l_{pen} \\sin{\\left(\\alpha \\right)} \\ddot{\\alpha} - 2 l_{pen} \\cos{\\left(\\alpha \\right)} \\dot{\\alpha}^{2} + 2 \\ddot{o}_{z}\\right)\\\\0.5 m_{pen} \\left(2 l_{pen}^{2} \\ddot{\\alpha} + 2 l_{pen} \\left(- \\sin{\\left(\\alpha \\right)} \\dot{\\alpha} \\dot{o}_{x} - \\sin{\\left(\\alpha \\right)} \\ddot{o}_{z} - \\cos{\\left(\\alpha \\right)} \\dot{\\alpha} \\dot{o}_{z} + \\cos{\\left(\\alpha \\right)} \\ddot{o}_{x}\\right)\\right) - 0.5 m_{pen} \\left(g l_{pen} m_{pen} \\sin{\\left(\\alpha \\right)} + 2 l_{pen} \\left(- \\sin{\\left(\\alpha \\right)} \\dot{o}_{x} - \\cos{\\left(\\alpha \\right)} \\dot{o}_{z}\\right) \\dot{\\alpha}\\right)\\\\1.0 J_{y} \\ddot{\\theta}\\end{matrix}\\right]$"
      ],
      "text/plain": [
       "⎡                                                                             \n",
       "⎢                                                             1.0⋅m⋅oₓ̈ + 0.5⋅\n",
       "⎢                                                                             \n",
       "⎢                                                                             \n",
       "⎢                                               1.0⋅m⋅o_̈z - 0.5⋅mₚₑₙ⋅(-g⋅m - \n",
       "⎢                                                                             \n",
       "⎢         ⎛      2                                                            \n",
       "⎢0.5⋅mₚₑₙ⋅⎝2⋅lₚₑₙ ⋅\\alp̈ha + 2⋅lₚₑₙ⋅(-sin(\\alpha)⋅\\alṗha⋅oₓ̇ - sin(\\alpha)⋅o_\n",
       "⎢                                                                             \n",
       "⎣                                                                             \n",
       "\n",
       "    ⎛                           2                                   ⎞         \n",
       "mₚₑₙ⋅⎝- 2⋅lₚₑₙ⋅sin(\\alpha)⋅\\alṗha  + 2⋅lₚₑₙ⋅cos(\\alpha)⋅\\alp̈ha + 2⋅oₓ̈⎠     \n",
       "                                                                              \n",
       "                  ⎛                                                      2    \n",
       "g⋅mₚₑₙ) + 0.5⋅mₚₑₙ⋅⎝-2⋅lₚₑₙ⋅sin(\\alpha)⋅\\alp̈ha - 2⋅lₚₑₙ⋅cos(\\alpha)⋅\\alṗha  \n",
       "                                                                              \n",
       "                                         ⎞                                    \n",
       "̈z - cos(\\alpha)⋅\\alṗha⋅o_̇z + cos(\\alpha)⋅oₓ̈)⎠ - 0.5⋅mₚₑₙ⋅(g⋅lₚₑₙ⋅mₚₑₙ⋅sin(\n",
       "                                                                              \n",
       "                    1.0⋅J_y⋅\\thëta                                           \n",
       "\n",
       "                                                     ⎤\n",
       "                                                         ⎥\n",
       "                                                     ⎥\n",
       "    ⎞                                                ⎥\n",
       "+ 2⋅o_̈z⎠                                                ⎥\n",
       "                                                     ⎥\n",
       "                                                     ⎥\n",
       "\\alpha) + 2⋅lₚₑₙ⋅(-sin(\\alpha)⋅oₓ̇ - cos(\\alpha)⋅o_̇z)⋅\\alṗha)⎥\n",
       "                                                     ⎥\n",
       "                                                      ⎦"
      ]
     },
     "execution_count": 378,
     "metadata": {},
     "output_type": "execute_result"
    }
   ],
   "source": [
    "dyn_o_x, dyn_o_z, dyn_alpha, dyn_theta = dynamicsymbols(r'o_x o_z \\alpha \\theta')\n",
    "dyn_o_xd, dyn_o_zd, dyn_alphad, dyn_thetad = dynamicsymbols(r'o_x o_z \\alpha \\theta', 1)\n",
    "dyn_o_xdd, dyn_o_zdd, dyn_alphadd, dyn_thetadd = dynamicsymbols(r'o_x o_z \\alpha \\theta', 2)\n",
    "L_with_z = 1/2*m*(dyn_o_xd**2 + dyn_o_zd**2) + 1/2*J_y*(dyn_thetad**2) + 1/2*m_pen*(dyn_o_xd**2 + dyn_o_zd**2 + l_pen**2 * dyn_alphad**2 + 2*l_pen*dyn_alphad*(dyn_o_xd*sym.cos(dyn_alpha) - dyn_o_zd*sym.sin(dyn_alpha)) - m*g*dyn_o_z - m_pen*g*(dyn_o_z + l_pen*sym.cos(dyn_alpha)))\n",
    "\n",
    "LM_with_z = LagrangesMethod(L_with_z, [dyn_o_x, dyn_o_z, dyn_alpha, dyn_theta])\n",
    "mechanics_printing(pretty_print=True)\n",
    "Equations_with_z = LM_with_z.form_lagranges_equations()\n",
    "Equations_with_z"
   ]
  },
  {
   "cell_type": "code",
   "execution_count": 373,
   "metadata": {},
   "outputs": [],
   "source": [
    "# oz_ddot_soln =  sym.solve(Equations_with_z[1], dyn_o_zdd)[0]\n",
    "# oz_ddot_soln"
   ]
  },
  {
   "cell_type": "markdown",
   "metadata": {},
   "source": [
    "Solving the kinematic equation for $\\ddot{\\alpha}$:"
   ]
  },
  {
   "cell_type": "code",
   "execution_count": 315,
   "metadata": {},
   "outputs": [
    {
     "data": {
      "image/png": "[encoded data removed]",
      "text/latex": [
       "$\\displaystyle \\frac{0.5 g m_{pen} \\sin{\\left(\\alpha \\right)} + \\sin{\\left(\\alpha \\right)} \\ddot{o}_{z} - \\cos{\\left(\\alpha \\right)} \\ddot{o}_{x}}{l_{pen}}$"
      ],
      "text/plain": [
       "0.5⋅g⋅mₚₑₙ⋅sin(α) + sin(α)⋅o_̈z - cos(α)⋅oₓ̈\n",
       "──────────────────────────────────────────\n",
       "                   lₚₑₙ                   "
      ]
     },
     "execution_count": 315,
     "metadata": {},
     "output_type": "execute_result"
    }
   ],
   "source": [
    "alpha_ddot_soln = sym.solve(Equations_with_z[2], dyn_alphadd)[0]\n",
    "alpha_ddot_soln = alpha_ddot_soln.subs(dyn_alpha, alpha)\n",
    "alpha_ddot_soln"
   ]
  },
  {
   "cell_type": "markdown",
   "metadata": {},
   "source": [
    "The equation for $\\ddot{\\alpha}$ is still in terms of $\\ddot{o_x}$ and $\\ddot{o_z}$. In the notebook `acceleration_derivation.ipynb`, these are recalculated to be in terms of the states in $s$. The result is typed out here."
   ]
  },
  {
   "cell_type": "code",
   "execution_count": 316,
   "metadata": {},
   "outputs": [],
   "source": [
    "o_x_ddot = f_z*(sym.sin(phi)*sym.sin(psi) + sym.sin(theta)*sym.cos(phi)*sym.cos(psi))/m\n",
    "o_z_ddot = f_z*(sym.cos(phi)*sym.cos(theta))/m - g"
   ]
  },
  {
   "cell_type": "code",
   "execution_count": 317,
   "metadata": {},
   "outputs": [
    {
     "data": {
      "image/png": "[encoded data removed]",
      "text/latex": [
       "$\\displaystyle \\frac{- f_{z} \\left(\\sin{\\left(\\phi \\right)} \\sin{\\left(\\psi \\right)} + \\sin{\\left(\\theta \\right)} \\cos{\\left(\\phi \\right)} \\cos{\\left(\\psi \\right)}\\right) \\cos{\\left(\\alpha \\right)} + 0.5 g m m_{pen} \\sin{\\left(\\alpha \\right)} + \\left(f_{z} \\cos{\\left(\\phi \\right)} \\cos{\\left(\\theta \\right)} - g m\\right) \\sin{\\left(\\alpha \\right)}}{l_{pen} m}$"
      ],
      "text/plain": [
       "-f_z⋅(sin(φ)⋅sin(ψ) + sin(θ)⋅cos(φ)⋅cos(ψ))⋅cos(α) + 0.5⋅g⋅m⋅mₚₑₙ⋅sin(α) + (f_\n",
       "──────────────────────────────────────────────────────────────────────────────\n",
       "                                                   lₚₑₙ⋅m                     \n",
       "\n",
       "z⋅cos(φ)⋅cos(θ) - g⋅m)⋅sin(α)\n",
       "─────────────────────────────\n",
       "                             "
      ]
     },
     "execution_count": 317,
     "metadata": {},
     "output_type": "execute_result"
    }
   ],
   "source": [
    "alpha_ddot_soln = sym.simplify(alpha_ddot_soln.subs([(dyn_o_xdd, o_x_ddot), (dyn_o_zdd, o_z_ddot)]))\n",
    "alpha_ddot_soln"
   ]
  },
  {
   "cell_type": "markdown",
   "metadata": {},
   "source": [
    "## 2.3 Define equations of motion"
   ]
  },
  {
   "cell_type": "markdown",
   "metadata": {},
   "source": [
    "This is where this document differs  widely from the standard equations of motion given in the class. The pendulum's affect on the motion of the drone is assumed to be negligible (is this true for the crazyflie? idk, we'll see)"
   ]
  },
  {
   "cell_type": "markdown",
   "id": "68afb173",
   "metadata": {},
   "source": [
    "Forces."
   ]
  },
  {
   "cell_type": "code",
   "execution_count": 318,
   "id": "07718e4a",
   "metadata": {
    "jupyter": {
     "outputs_hidden": true,
     "source_hidden": true
    }
   },
   "outputs": [],
   "source": [
    "f_in1 = R_1in0.T * sym.Matrix([0, 0, -m * g]) + sym.Matrix([0, 0, f_z])"
   ]
  },
  {
   "cell_type": "markdown",
   "id": "c897dd8c",
   "metadata": {},
   "source": [
    "Torques."
   ]
  },
  {
   "cell_type": "code",
   "execution_count": 319,
   "id": "08aae2b2",
   "metadata": {
    "jupyter": {
     "outputs_hidden": true,
     "source_hidden": true
    }
   },
   "outputs": [],
   "source": [
    "tau_in1 = sym.Matrix([tau_x, tau_y, tau_z])"
   ]
  },
  {
   "cell_type": "code",
   "execution_count": 320,
   "id": "66ebefd3",
   "metadata": {
    "jupyter": {
     "outputs_hidden": true,
     "source_hidden": true
    }
   },
   "outputs": [
    {
     "data": {
      "text/latex": [
       "$\\displaystyle \\left[\\begin{matrix}g m \\sin{\\left(\\theta \\right)}\\\\- g m \\sin{\\left(\\phi \\right)} \\cos{\\left(\\theta \\right)}\\\\f_{z} - g m \\cos{\\left(\\phi \\right)} \\cos{\\left(\\theta \\right)}\\end{matrix}\\right]$"
      ],
      "text/plain": [
       "⎡      g⋅m⋅sin(θ)       ⎤\n",
       "⎢                       ⎥\n",
       "⎢  -g⋅m⋅sin(φ)⋅cos(θ)   ⎥\n",
       "⎢                       ⎥\n",
       "⎣f_z - g⋅m⋅cos(φ)⋅cos(θ)⎦"
      ]
     },
     "execution_count": 320,
     "metadata": {},
     "output_type": "execute_result"
    }
   ],
   "source": [
    "f_in1"
   ]
  },
  {
   "cell_type": "code",
   "execution_count": 321,
   "id": "e2a2ea82",
   "metadata": {
    "jupyter": {
     "outputs_hidden": true,
     "source_hidden": true
    }
   },
   "outputs": [
    {
     "data": {
      "text/latex": [
       "$\\displaystyle \\left[\\begin{matrix}\\tau_{x}\\\\\\tau_{y}\\\\\\tau_{z}\\end{matrix}\\right]$"
      ],
      "text/plain": [
       "⎡τₓ ⎤\n",
       "⎢   ⎥\n",
       "⎢τ_y⎥\n",
       "⎢   ⎥\n",
       "⎣τ_z⎦"
      ]
     },
     "execution_count": 321,
     "metadata": {},
     "output_type": "execute_result"
    }
   ],
   "source": [
    "tau_in1"
   ]
  },
  {
   "cell_type": "markdown",
   "id": "baa3f625",
   "metadata": {},
   "source": [
    "Create equations of motion."
   ]
  },
  {
   "cell_type": "code",
   "execution_count": 322,
   "id": "6077f8a0",
   "metadata": {
    "jupyter": {
     "outputs_hidden": true,
     "source_hidden": true
    }
   },
   "outputs": [],
   "source": [
    "f_sym = sym.Matrix.vstack(R_1in0 * v_01in1,\n",
    "                          N * w_01in1,\n",
    "                          (1 / m) * (f_in1 - w_01in1.cross(m * v_01in1)),\n",
    "                          J_in1.inv() * (tau_in1 - w_01in1.cross(J_in1 * w_01in1)),\n",
    "                          -sym.Matrix([alpha_dot]),\n",
    "                          sym.Matrix([alpha_ddot_soln])\n",
    "                          )"
   ]
  },
  {
   "cell_type": "markdown",
   "id": "ab3d7500",
   "metadata": {},
   "source": [
    "Show equations of motion, which have the form\n",
    "\n",
    "$$\\dot{s} = f(s, i, p)$$\n",
    "\n",
    "for states\n",
    "\n",
    "$$\n",
    "s = \\begin{bmatrix} o_x \\\\ o_y \\\\ o_z \\\\ \\psi \\\\ \\theta \\\\ \\phi \\\\ v_x \\\\ v_y \\\\ v_z \\\\ w_x \\\\ w_y \\\\ w_z \\\\ \\alpha \\\\ \\dot{\\alpha} \\end{bmatrix},\n",
    "$$\n",
    "\n",
    "inputs\n",
    "$$\n",
    "i = \\begin{bmatrix} \\tau_x \\\\ \\tau_y \\\\ \\tau_z \\\\ f_z \\end{bmatrix},\n",
    "$$\n",
    "\n",
    "and parameters\n",
    "$$\n",
    "p = \\begin{bmatrix} m \\\\ J_x \\\\ J_y \\\\ J_z \\\\ g \\\\ m_{pen} \\\\ l_{pen} \\end{bmatrix}.\n",
    "$$"
   ]
  },
  {
   "cell_type": "code",
   "execution_count": 323,
   "id": "4b372e68",
   "metadata": {
    "jupyter": {
     "outputs_hidden": true,
     "source_hidden": true
    }
   },
   "outputs": [
    {
     "data": {
      "text/latex": [
       "$\\displaystyle \\left[\\begin{matrix}v_{x} \\cos{\\left(\\psi \\right)} \\cos{\\left(\\theta \\right)} + v_{y} \\left(\\sin{\\left(\\phi \\right)} \\sin{\\left(\\theta \\right)} \\cos{\\left(\\psi \\right)} - \\sin{\\left(\\psi \\right)} \\cos{\\left(\\phi \\right)}\\right) + v_{z} \\left(\\sin{\\left(\\phi \\right)} \\sin{\\left(\\psi \\right)} + \\sin{\\left(\\theta \\right)} \\cos{\\left(\\phi \\right)} \\cos{\\left(\\psi \\right)}\\right)\\\\v_{x} \\sin{\\left(\\psi \\right)} \\cos{\\left(\\theta \\right)} + v_{y} \\left(\\sin{\\left(\\phi \\right)} \\sin{\\left(\\psi \\right)} \\sin{\\left(\\theta \\right)} + \\cos{\\left(\\phi \\right)} \\cos{\\left(\\psi \\right)}\\right) + v_{z} \\left(- \\sin{\\left(\\phi \\right)} \\cos{\\left(\\psi \\right)} + \\sin{\\left(\\psi \\right)} \\sin{\\left(\\theta \\right)} \\cos{\\left(\\phi \\right)}\\right)\\\\- v_{x} \\sin{\\left(\\theta \\right)} + v_{y} \\sin{\\left(\\phi \\right)} \\cos{\\left(\\theta \\right)} + v_{z} \\cos{\\left(\\phi \\right)} \\cos{\\left(\\theta \\right)}\\\\\\frac{w_{y} \\sin{\\left(\\phi \\right)}}{\\cos{\\left(\\theta \\right)}} + \\frac{w_{z} \\cos{\\left(\\phi \\right)}}{\\cos{\\left(\\theta \\right)}}\\\\w_{y} \\cos{\\left(\\phi \\right)} - w_{z} \\sin{\\left(\\phi \\right)}\\\\w_{x} + w_{y} \\sin{\\left(\\phi \\right)} \\tan{\\left(\\theta \\right)} + w_{z} \\cos{\\left(\\phi \\right)} \\tan{\\left(\\theta \\right)}\\\\\\frac{g m \\sin{\\left(\\theta \\right)} + m v_{y} w_{z} - m v_{z} w_{y}}{m}\\\\\\frac{- g m \\sin{\\left(\\phi \\right)} \\cos{\\left(\\theta \\right)} - m v_{x} w_{z} + m v_{z} w_{x}}{m}\\\\\\frac{f_{z} - g m \\cos{\\left(\\phi \\right)} \\cos{\\left(\\theta \\right)} + m v_{x} w_{y} - m v_{y} w_{x}}{m}\\\\\\frac{J_{y} w_{y} w_{z} - J_{z} w_{y} w_{z} + \\tau_{x}}{J_{x}}\\\\\\frac{- J_{x} w_{x} w_{z} + J_{z} w_{x} w_{z} + \\tau_{y}}{J_{y}}\\\\\\frac{J_{x} w_{x} w_{y} - J_{y} w_{x} w_{y} + \\tau_{z}}{J_{z}}\\\\- \\alpha_{dot}\\\\\\frac{- f_{z} \\left(\\sin{\\left(\\phi \\right)} \\sin{\\left(\\psi \\right)} + \\sin{\\left(\\theta \\right)} \\cos{\\left(\\phi \\right)} \\cos{\\left(\\psi \\right)}\\right) \\cos{\\left(\\alpha \\right)} + 0.5 g m m_{pen} \\sin{\\left(\\alpha \\right)} + \\left(f_{z} \\cos{\\left(\\phi \\right)} \\cos{\\left(\\theta \\right)} - g m\\right) \\sin{\\left(\\alpha \\right)}}{l_{pen} m}\\end{matrix}\\right]$"
      ],
      "text/plain": [
       "⎡vₓ⋅cos(ψ)⋅cos(θ) + v_y⋅(sin(φ)⋅sin(θ)⋅cos(ψ) - sin(ψ)⋅cos(φ)) + v_z⋅(sin(φ)⋅s\n",
       "⎢                                                                             \n",
       "⎢vₓ⋅sin(ψ)⋅cos(θ) + v_y⋅(sin(φ)⋅sin(ψ)⋅sin(θ) + cos(φ)⋅cos(ψ)) + v_z⋅(-sin(φ)⋅\n",
       "⎢                                                                             \n",
       "⎢                            -vₓ⋅sin(θ) + v_y⋅sin(φ)⋅cos(θ) + v_z⋅cos(φ)⋅cos(θ\n",
       "⎢                                                                             \n",
       "⎢                                          w_y⋅sin(φ)   w_z⋅cos(φ)            \n",
       "⎢                                          ────────── + ──────────            \n",
       "⎢                                            cos(θ)       cos(θ)              \n",
       "⎢                                                                             \n",
       "⎢                                          w_y⋅cos(φ) - w_z⋅sin(φ)            \n",
       "⎢                                                                             \n",
       "⎢                                wₓ + w_y⋅sin(φ)⋅tan(θ) + w_z⋅cos(φ)⋅tan(θ)   \n",
       "⎢                                                                             \n",
       "⎢                                    g⋅m⋅sin(θ) + m⋅v_y⋅w_z - m⋅v_z⋅w_y       \n",
       "⎢                                    ──────────────────────────────────       \n",
       "⎢                                                    m                        \n",
       "⎢                                                                             \n",
       "⎢                                 -g⋅m⋅sin(φ)⋅cos(θ) - m⋅vₓ⋅w_z + m⋅v_z⋅wₓ    \n",
       "⎢                                 ────────────────────────────────────────    \n",
       "⎢                                                    m                        \n",
       "⎢                                                                             \n",
       "⎢                               f_z - g⋅m⋅cos(φ)⋅cos(θ) + m⋅vₓ⋅w_y - m⋅v_y⋅wₓ \n",
       "⎢                               ───────────────────────────────────────────── \n",
       "⎢                                                     m                       \n",
       "⎢                                                                             \n",
       "⎢                                      J_y⋅w_y⋅w_z - J_z⋅w_y⋅w_z + τₓ         \n",
       "⎢                                      ──────────────────────────────         \n",
       "⎢                                                    Jₓ                       \n",
       "⎢                                                                             \n",
       "⎢                                       -Jₓ⋅wₓ⋅w_z + J_z⋅wₓ⋅w_z + τ_y         \n",
       "⎢                                       ─────────────────────────────         \n",
       "⎢                                                    J_y                      \n",
       "⎢                                                                             \n",
       "⎢                                       Jₓ⋅wₓ⋅w_y - J_y⋅wₓ⋅w_y + τ_z          \n",
       "⎢                                       ────────────────────────────          \n",
       "⎢                                                   J_z                       \n",
       "⎢                                                                             \n",
       "⎢                                                  -α_dot                     \n",
       "⎢                                                                             \n",
       "⎢-f_z⋅(sin(φ)⋅sin(ψ) + sin(θ)⋅cos(φ)⋅cos(ψ))⋅cos(α) + 0.5⋅g⋅m⋅mₚₑₙ⋅sin(α) + (f\n",
       "⎢─────────────────────────────────────────────────────────────────────────────\n",
       "⎣                                                   lₚₑₙ⋅m                    \n",
       "\n",
       "in(ψ) + sin(θ)⋅cos(φ)⋅cos(ψ)) ⎤\n",
       "                              ⎥\n",
       "cos(ψ) + sin(ψ)⋅sin(θ)⋅cos(φ))⎥\n",
       "                              ⎥\n",
       ")                             ⎥\n",
       "                              ⎥\n",
       "                              ⎥\n",
       "                              ⎥\n",
       "                              ⎥\n",
       "                              ⎥\n",
       "                              ⎥\n",
       "                              ⎥\n",
       "                              ⎥\n",
       "                              ⎥\n",
       "                              ⎥\n",
       "                              ⎥\n",
       "                              ⎥\n",
       "                              ⎥\n",
       "                              ⎥\n",
       "                              ⎥\n",
       "                              ⎥\n",
       "                              ⎥\n",
       "                              ⎥\n",
       "                              ⎥\n",
       "                              ⎥\n",
       "                              ⎥\n",
       "                              ⎥\n",
       "                              ⎥\n",
       "                              ⎥\n",
       "                              ⎥\n",
       "                              ⎥\n",
       "                              ⎥\n",
       "                              ⎥\n",
       "                              ⎥\n",
       "                              ⎥\n",
       "                              ⎥\n",
       "                              ⎥\n",
       "                              ⎥\n",
       "                              ⎥\n",
       "                              ⎥\n",
       "_z⋅cos(φ)⋅cos(θ) - g⋅m)⋅sin(α)⎥\n",
       "──────────────────────────────⎥\n",
       "                              ⎦"
      ]
     },
     "execution_count": 323,
     "metadata": {},
     "output_type": "execute_result"
    }
   ],
   "source": [
    "f_sym"
   ]
  },
  {
   "cell_type": "markdown",
   "id": "0b9e2120",
   "metadata": {},
   "source": [
    "# 3. Derive state-space model"
   ]
  },
  {
   "cell_type": "markdown",
   "id": "ee01cc07",
   "metadata": {},
   "source": [
    "## 3.1 Choose equilibrium point\n",
    "\n",
    "An equilibrium point of the nonlinear system is a choice of states $s_\\text{eq}$ and inputs $i_\\text{eq}$ - along with constant parameters $p_\\text{eq}$ - for which\n",
    "\n",
    "$$0 = f(s_\\text{eq}, i_\\text{eq}, p_\\text{eq}).$$"
   ]
  },
  {
   "cell_type": "markdown",
   "id": "2019b91b",
   "metadata": {},
   "source": [
    "Create a list of states, inputs, and parameters as symbolic variables."
   ]
  },
  {
   "cell_type": "code",
   "execution_count": 324,
   "id": "75830a11",
   "metadata": {
    "jupyter": {
     "outputs_hidden": true,
     "source_hidden": true
    }
   },
   "outputs": [],
   "source": [
    "s = [o_x, o_y, o_z, psi, theta, phi, v_x, v_y, v_z, w_x, w_y, w_z, alpha, alpha_dot]\n",
    "i = [tau_x, tau_y, tau_z, f_z]\n",
    "p = [m, J_x, J_y, J_z, g, m_pen, l_pen]"
   ]
  },
  {
   "cell_type": "markdown",
   "id": "d3da9d25",
   "metadata": {},
   "source": [
    "Create a list of states to track as symbolic variables. These are states whose desired values will be specified by a client."
   ]
  },
  {
   "cell_type": "code",
   "execution_count": 325,
   "id": "633e55f4",
   "metadata": {
    "jupyter": {
     "outputs_hidden": true,
     "source_hidden": true
    }
   },
   "outputs": [],
   "source": [
    "s_with_des = [o_x, o_y, o_z]"
   ]
  },
  {
   "cell_type": "markdown",
   "id": "cfa42f86",
   "metadata": {},
   "source": [
    "Create a function that evaluates $f(\\cdot)$ at particular values of $s$, $i$, and $p$."
   ]
  },
  {
   "cell_type": "code",
   "execution_count": 326,
   "id": "f73a1883",
   "metadata": {
    "jupyter": {
     "outputs_hidden": true,
     "source_hidden": true
    }
   },
   "outputs": [],
   "source": [
    "f = sym.lambdify(s + i + p, f_sym)"
   ]
  },
  {
   "cell_type": "code",
   "execution_count": 327,
   "metadata": {},
   "outputs": [
    {
     "data": {
      "text/plain": [
       "<function _lambdifygenerated(o_x, o_y, o_z, psi, theta, phi, v_x, v_y, v_z, w_x, w_y, w_z, alpha, alpha_dot, tau_x, tau_y, tau_z, f_z, m, J_x, J_y, J_z, g, m_pen, l_pen)>"
      ]
     },
     "execution_count": 327,
     "metadata": {},
     "output_type": "execute_result"
    }
   ],
   "source": [
    "f"
   ]
  },
  {
   "cell_type": "markdown",
   "id": "d2782d33",
   "metadata": {},
   "source": [
    "Define constants."
   ]
  },
  {
   "cell_type": "code",
   "execution_count": 328,
   "id": "f874a240",
   "metadata": {
    "jupyter": {
     "outputs_hidden": true,
     "source_hidden": true
    }
   },
   "outputs": [],
   "source": [
    "# Mass\n",
    "m = 0.044\n",
    "\n",
    "# Principle moments of inertia\n",
    "J_x = 1.57e-05\n",
    "J_y = 1.60e-05\n",
    "J_z = 2.05e-05\n",
    "\n",
    "# Acceleration of gravity\n",
    "g = 9.81\n",
    "\n",
    "# Pendulum parameters\n",
    "l_pen = 150e-3 # maybe m\n",
    "m_pen = 0.006"
   ]
  },
  {
   "cell_type": "markdown",
   "id": "99146c26",
   "metadata": {},
   "source": [
    "Create a list of parameter values in the **same order** as the symbolic list. These are the parameter estimates we found in our experiments. They are not choices. (We use the subscript `_eq` to be consistent with what follows, and could say \"parameter values *at equilibrium*,\" but don't be misled. These parameter values are *given* and are *constant* - again, they aren't choices.)"
   ]
  },
  {
   "cell_type": "code",
   "execution_count": 329,
   "id": "a19a1ea0",
   "metadata": {
    "jupyter": {
     "outputs_hidden": true,
     "source_hidden": true
    }
   },
   "outputs": [],
   "source": [
    "p_eq = [m, J_x, J_y, J_z, g, m_pen, l_pen]"
   ]
  },
  {
   "cell_type": "markdown",
   "id": "9522c1d6",
   "metadata": {},
   "source": [
    "Create a list of state and input values at equilibrium in the **same order** as the symbolic lists."
   ]
  },
  {
   "cell_type": "code",
   "execution_count": 330,
   "id": "7ec2fcdf",
   "metadata": {
    "jupyter": {
     "outputs_hidden": true,
     "source_hidden": true
    }
   },
   "outputs": [],
   "source": [
    "s_eq = [0., 0., 0., 0., 0., 0., 0., 0., 0., 0., 0., 0., 0., 0.]\n",
    "i_eq = [0., 0., 0., g*m]"
   ]
  },
  {
   "cell_type": "markdown",
   "id": "6934b546",
   "metadata": {},
   "source": [
    "Evaluate the equations of motion at the equilibrium point - if it actually *is* an equilibrium point, then the result should be an array of zeros:"
   ]
  },
  {
   "cell_type": "code",
   "execution_count": 331,
   "id": "ce88daaa",
   "metadata": {
    "jupyter": {
     "outputs_hidden": true,
     "source_hidden": true
    }
   },
   "outputs": [
    {
     "name": "stdout",
     "output_type": "stream",
     "text": [
      "[[ 0.]\n",
      " [ 0.]\n",
      " [ 0.]\n",
      " [ 0.]\n",
      " [ 0.]\n",
      " [ 0.]\n",
      " [ 0.]\n",
      " [ 0.]\n",
      " [ 0.]\n",
      " [ 0.]\n",
      " [ 0.]\n",
      " [ 0.]\n",
      " [-0.]\n",
      " [ 0.]]\n"
     ]
    }
   ],
   "source": [
    "print(f(*s_eq, *i_eq, *p_eq))"
   ]
  },
  {
   "cell_type": "markdown",
   "id": "be5bce64",
   "metadata": {},
   "source": [
    "Note that this equilibrium point would remain an equilibrium point for any choice of `o_x`, `o_y`, and `o_z` - that is one thing that allows the controller to track desired values of these variables."
   ]
  },
  {
   "cell_type": "markdown",
   "id": "e3543554",
   "metadata": {},
   "source": [
    "## 3.2 Compute A and B"
   ]
  },
  {
   "cell_type": "markdown",
   "id": "d8afe6f5",
   "metadata": {},
   "source": [
    "We want to find\n",
    "\n",
    "$$\n",
    "A = \\frac{\\partial f}{\\partial s}\\biggr\\vert_{(s, i, p) = (s_\\text{eq}, i_\\text{eq}, p_\\text{eq})}\n",
    "\\qquad\\text{and}\\qquad\n",
    "B = \\frac{\\partial f}{\\partial i}\\biggr\\vert_{(s, i, p) = (s_\\text{eq}, i_\\text{eq}, p_\\text{eq})}.\n",
    "$$\n",
    "\n",
    "First, we compute each Jacobian (i.e., each matrix of partial derivatives) in symbolic form."
   ]
  },
  {
   "cell_type": "code",
   "execution_count": 332,
   "id": "d4df938c",
   "metadata": {
    "jupyter": {
     "outputs_hidden": true,
     "source_hidden": true
    }
   },
   "outputs": [],
   "source": [
    "A_sym = f_sym.jacobian(s)\n",
    "B_sym = f_sym.jacobian(i)"
   ]
  },
  {
   "cell_type": "markdown",
   "id": "810c9f50",
   "metadata": {},
   "source": [
    "Then, we create functions that allow us to evaluate these Jacobians at particular values of $s$, $i$, and $p$."
   ]
  },
  {
   "cell_type": "code",
   "execution_count": 333,
   "id": "2aaa735a",
   "metadata": {
    "jupyter": {
     "outputs_hidden": true,
     "source_hidden": true
    }
   },
   "outputs": [],
   "source": [
    "A_num = sym.lambdify(s + i + p, A_sym)\n",
    "B_num = sym.lambdify(s + i + p, B_sym)"
   ]
  },
  {
   "cell_type": "markdown",
   "id": "f82bf177",
   "metadata": {},
   "source": [
    "Finally, we plug in our equilibrium point."
   ]
  },
  {
   "cell_type": "code",
   "execution_count": 334,
   "id": "6954a473",
   "metadata": {
    "jupyter": {
     "outputs_hidden": true,
     "source_hidden": true
    }
   },
   "outputs": [],
   "source": [
    "A = A_num(*s_eq, *i_eq, *p_eq)\n",
    "B = B_num(*s_eq, *i_eq, *p_eq)"
   ]
  },
  {
   "cell_type": "markdown",
   "id": "f6995b94",
   "metadata": {},
   "source": [
    "Show $A$ (formatted nicely)."
   ]
  },
  {
   "cell_type": "code",
   "execution_count": 335,
   "id": "1b3711cb",
   "metadata": {
    "jupyter": {
     "outputs_hidden": true,
     "source_hidden": true
    }
   },
   "outputs": [
    {
     "name": "stdout",
     "output_type": "stream",
     "text": [
      "A = [[ 0.00  0.00  0.00  0.00  0.00  0.00  1.00  0.00  0.00  0.00  0.00  0.00  0.00  0.00]\n",
      "     [ 0.00  0.00  0.00  0.00  0.00  0.00  0.00  1.00  0.00  0.00  0.00  0.00  0.00  0.00]\n",
      "     [ 0.00  0.00  0.00  0.00 -0.00  0.00 -0.00  0.00  1.00  0.00  0.00  0.00  0.00  0.00]\n",
      "     [ 0.00  0.00  0.00  0.00  0.00  0.00  0.00  0.00  0.00  0.00  0.00  1.00  0.00  0.00]\n",
      "     [ 0.00  0.00  0.00  0.00  0.00 -0.00  0.00  0.00  0.00  0.00  1.00 -0.00  0.00  0.00]\n",
      "     [ 0.00  0.00  0.00  0.00  0.00  0.00  0.00  0.00  0.00  1.00  0.00  0.00  0.00  0.00]\n",
      "     [ 0.00  0.00  0.00  0.00  9.81  0.00  0.00  0.00 -0.00  0.00 -0.00  0.00  0.00  0.00]\n",
      "     [ 0.00  0.00  0.00  0.00  0.00 -9.81 -0.00  0.00  0.00  0.00  0.00 -0.00  0.00  0.00]\n",
      "     [ 0.00  0.00  0.00  0.00  0.00  0.00  0.00 -0.00  0.00 -0.00  0.00  0.00  0.00  0.00]\n",
      "     [ 0.00  0.00  0.00  0.00  0.00  0.00  0.00  0.00  0.00  0.00  0.00  0.00  0.00  0.00]\n",
      "     [ 0.00  0.00  0.00  0.00  0.00  0.00  0.00  0.00  0.00  0.00  0.00  0.00  0.00  0.00]\n",
      "     [ 0.00  0.00  0.00  0.00  0.00  0.00  0.00  0.00  0.00  0.00  0.00  0.00  0.00  0.00]\n",
      "     [ 0.00  0.00  0.00  0.00  0.00  0.00  0.00  0.00  0.00  0.00  0.00  0.00  0.00 -1.00]\n",
      "     [ 0.00  0.00  0.00 -0.00 -65.40 -0.00  0.00  0.00  0.00  0.00  0.00  0.00  0.20  0.00]]\n"
     ]
    }
   ],
   "source": [
    "A_str = np.array2string(A,\n",
    "                        formatter={'float_kind': lambda x: f'{x:5.2f}'},\n",
    "                        prefix='    ',\n",
    "                        max_line_width=np.inf)\n",
    "\n",
    "print(f'A = {A_str}')"
   ]
  },
  {
   "cell_type": "markdown",
   "id": "d04f7ffd",
   "metadata": {},
   "source": [
    "Show $B$ (formatted nicely)."
   ]
  },
  {
   "cell_type": "code",
   "execution_count": 336,
   "id": "931bbe9b",
   "metadata": {
    "jupyter": {
     "outputs_hidden": true,
     "source_hidden": true
    }
   },
   "outputs": [
    {
     "name": "stdout",
     "output_type": "stream",
     "text": [
      "B = [[      0.00       0.00       0.00       0.00]\n",
      "     [      0.00       0.00       0.00       0.00]\n",
      "     [      0.00       0.00       0.00       0.00]\n",
      "     [      0.00       0.00       0.00       0.00]\n",
      "     [      0.00       0.00       0.00       0.00]\n",
      "     [      0.00       0.00       0.00       0.00]\n",
      "     [      0.00       0.00       0.00       0.00]\n",
      "     [      0.00       0.00       0.00       0.00]\n",
      "     [      0.00       0.00       0.00      22.73]\n",
      "     [  63694.27       0.00       0.00       0.00]\n",
      "     [      0.00   62500.00       0.00       0.00]\n",
      "     [      0.00       0.00   48780.49       0.00]\n",
      "     [      0.00       0.00       0.00       0.00]\n",
      "     [      0.00       0.00       0.00       0.00]]\n"
     ]
    }
   ],
   "source": [
    "B_str = np.array2string(B,\n",
    "                        formatter={'float_kind': lambda x: f'{x:10.2f}'},\n",
    "                        prefix='    ',\n",
    "                        max_line_width=np.inf)\n",
    "\n",
    "print(f'B = {B_str}')"
   ]
  },
  {
   "cell_type": "code",
   "execution_count": 547,
   "metadata": {},
   "outputs": [],
   "source": [
    "# Saving A and B to MATLAB \n",
    "scipy.io.savemat('./matlab_A_B.mat', mdict={'A': A, 'B': B})"
   ]
  },
  {
   "cell_type": "markdown",
   "id": "bb9c9fdf",
   "metadata": {},
   "source": [
    "The state-space system is described by\n",
    "\n",
    "$$ \\dot{x} = Ax + Bu $$\n",
    "\n",
    "where\n",
    "\n",
    "$$ x = s - s_\\text{eq} $$\n",
    "\n",
    "and\n",
    "\n",
    "$$ u = i - i_\\text{eq}. $$"
   ]
  },
  {
   "cell_type": "markdown",
   "id": "a36135fa",
   "metadata": {},
   "source": [
    "Note that $A$ and $B$ would remain the same for any choice of `o_x`, `o_y`, and `o_z` - that is the other thing that allows the controller to track desired values of these variables."
   ]
  },
  {
   "cell_type": "markdown",
   "metadata": {},
   "source": [
    "Check controllability:"
   ]
  },
  {
   "cell_type": "code",
   "execution_count": 337,
   "metadata": {},
   "outputs": [
    {
     "data": {
      "text/plain": [
       "array([4.21168654e+06, 4.21168654e+06, 6.24840764e+05, 6.24840764e+05,\n",
       "       1.19062181e+05, 1.19062181e+05, 6.36942675e+04, 6.36942675e+04,\n",
       "       6.25000000e+04, 6.25000000e+04, 4.87804878e+04, 4.87804878e+04,\n",
       "       2.27272727e+01, 2.27272727e+01])"
      ]
     },
     "execution_count": 337,
     "metadata": {},
     "output_type": "execute_result"
    }
   ],
   "source": [
    "W = np.block([[B, A @ B, A @ A @ B, np.linalg.matrix_power(A, 3) @ B, np.linalg.matrix_power(A, 4) @ B, np.linalg.matrix_power(A, 5) @ B, np.linalg.matrix_power(A, 6) @ B, np.linalg.matrix_power(A, 7) @ B, np.linalg.matrix_power(A, 8) @ B, np.linalg.matrix_power(A, 9) @ B, np.linalg.matrix_power(A,10) @ B, np.linalg.matrix_power(A, 11) @ B, np.linalg.matrix_power(A, 12) @ B, np.linalg.matrix_power(A, 13) @ B]])\n",
    "\n",
    "#np.linalg.matrix_rank(W) # If 14, the system is controllable\n",
    "linalg.svdvals(W)"
   ]
  },
  {
   "cell_type": "markdown",
   "id": "a2fb7647",
   "metadata": {},
   "source": [
    "# 4. Design method of power distribution\n",
    "\n",
    "It should only be necessary to do this once."
   ]
  },
  {
   "cell_type": "markdown",
   "id": "97dfd9a8",
   "metadata": {},
   "source": [
    "Define constants."
   ]
  },
  {
   "cell_type": "code",
   "execution_count": 338,
   "id": "51bce0eb",
   "metadata": {
    "jupyter": {
     "outputs_hidden": true,
     "source_hidden": true
    }
   },
   "outputs": [],
   "source": [
    "k_F = 2.04e-06\n",
    "k_M = 6.33e-09\n",
    "l = .0325 "
   ]
  },
  {
   "cell_type": "markdown",
   "id": "28502701",
   "metadata": {},
   "source": [
    "Define the matrix $P$ that maps motor power commands ($m_1$, $m_2$, $m_3$, $m_4$) to inputs ($\\tau_x$, $\\tau_y$, $\\tau_z$, $f_z$)."
   ]
  },
  {
   "cell_type": "code",
   "execution_count": 339,
   "id": "9d1a1e7b",
   "metadata": {
    "jupyter": {
     "outputs_hidden": true,
     "source_hidden": true
    }
   },
   "outputs": [],
   "source": [
    "P = np.array([[ -l * k_F, -l * k_F,  l * k_F,  l * k_F  ],\n",
    "              [ -l * k_F, l * k_F,   l * k_F,  -l * k_F ],\n",
    "              [ -k_M,     k_M,       -k_M,     k_M      ],\n",
    "              [ k_F,      k_F,       k_F,      k_F      ]])"
   ]
  },
  {
   "cell_type": "markdown",
   "id": "60fded0f",
   "metadata": {},
   "source": [
    "Compute the matrix $P^{-1}$ that maps inputs to motor power commands."
   ]
  },
  {
   "cell_type": "code",
   "execution_count": 340,
   "id": "0628e8c7",
   "metadata": {
    "jupyter": {
     "outputs_hidden": true,
     "source_hidden": true
    }
   },
   "outputs": [],
   "source": [
    "Pinv = linalg.inv(P)"
   ]
  },
  {
   "cell_type": "markdown",
   "id": "8da0cfb0",
   "metadata": {},
   "source": [
    "Print code that implements the method of power distribution in python (for simulation)."
   ]
  },
  {
   "cell_type": "code",
   "execution_count": 341,
   "id": "55036101",
   "metadata": {
    "jupyter": {
     "outputs_hidden": true,
     "source_hidden": true
    }
   },
   "outputs": [
    {
     "name": "stdout",
     "output_type": "stream",
     "text": [
      "m_1 = self.limitUint16( -3770739.1 * tau_x -3770739.1 * tau_y -39494470.8 * tau_z + 122549.0 * f_z )\n",
      "m_2 = self.limitUint16( -3770739.1 * tau_x + 3770739.1 * tau_y + 39494470.8 * tau_z + 122549.0 * f_z )\n",
      "m_3 = self.limitUint16( 3770739.1 * tau_x + 3770739.1 * tau_y -39494470.8 * tau_z + 122549.0 * f_z )\n",
      "m_4 = self.limitUint16( 3770739.1 * tau_x -3770739.1 * tau_y + 39494470.8 * tau_z + 122549.0 * f_z )\n"
     ]
    }
   ],
   "source": [
    "def export_power_distribution(Pinv,\n",
    "                              limiter='self.limitUint16',\n",
    "                              decimals=1,\n",
    "                              suffix='',\n",
    "                              line_ending=''):\n",
    "    \"\"\"\n",
    "    Pinv is a 4 x 4 matrix that maps inputs (tau_x, tau_y, tau_z, f_z)\n",
    "        to motor power commands (m_1, m_2, m_3, m_4)\n",
    "    limiter is the name of the function to apply that ensures each\n",
    "        motor power command is valid (i.e., an integer within bounds),\n",
    "        for example \"limitUint16\" when exporting to C\n",
    "    decimals is the number of decimals to include when printing\n",
    "        each value\n",
    "    suffix is the character (if any) to print after each number,\n",
    "        for example 'f' to indicate a \"float\" when exporting to C\n",
    "    line_ending is the character (if any) to print after each\n",
    "        line, for example ';' when exporting to C\n",
    "    \"\"\"\n",
    "    \n",
    "    i_name = ['tau_x', 'tau_y', 'tau_z', 'f_z']\n",
    "    m_name = ['m_1', 'm_2', 'm_3', 'm_4']\n",
    "    for row in range(len(m_name)):\n",
    "        input_string = ''\n",
    "        for col in range(len(i_name)):\n",
    "            k = Pinv[row, col]\n",
    "            if not np.isclose(k, 0.):\n",
    "                if (k > 0) and input_string:\n",
    "                    input_string += ' +'\n",
    "                n = i_name[col]\n",
    "                input_string += f' {k:.{decimals}f}{suffix} * {n}'\n",
    "        print(f'{m_name[row]} = {limiter}({input_string} ){line_ending}')\n",
    "\n",
    "\n",
    "\n",
    "export_power_distribution(Pinv)"
   ]
  },
  {
   "cell_type": "markdown",
   "id": "e2528f26",
   "metadata": {},
   "source": [
    "Print code that implements the method of power distribution in C (for hardware)."
   ]
  },
  {
   "cell_type": "code",
   "execution_count": 342,
   "id": "c59d74f2",
   "metadata": {
    "jupyter": {
     "outputs_hidden": true,
     "source_hidden": true
    }
   },
   "outputs": [
    {
     "name": "stdout",
     "output_type": "stream",
     "text": [
      "m_1 = limitUint16( -3770739.1f * tau_x -3770739.1f * tau_y -39494470.8f * tau_z + 122549.0f * f_z );\n",
      "m_2 = limitUint16( -3770739.1f * tau_x + 3770739.1f * tau_y + 39494470.8f * tau_z + 122549.0f * f_z );\n",
      "m_3 = limitUint16( 3770739.1f * tau_x + 3770739.1f * tau_y -39494470.8f * tau_z + 122549.0f * f_z );\n",
      "m_4 = limitUint16( 3770739.1f * tau_x -3770739.1f * tau_y + 39494470.8f * tau_z + 122549.0f * f_z );\n"
     ]
    }
   ],
   "source": [
    "export_power_distribution(\n",
    "    Pinv,\n",
    "    limiter='limitUint16',\n",
    "    suffix='f',\n",
    "    line_ending=';',\n",
    ")"
   ]
  },
  {
   "cell_type": "markdown",
   "id": "bbcf64a4",
   "metadata": {},
   "source": [
    "## 5.1 Flight test\n",
    "\n",
    "Each time you duplicate this section, replace the title with a brief description of your current flight test."
   ]
  },
  {
   "cell_type": "markdown",
   "id": "e5b69d8d",
   "metadata": {},
   "source": [
    "### 5.1.1 Control design"
   ]
  },
  {
   "cell_type": "markdown",
   "id": "83014d38",
   "metadata": {},
   "source": [
    "For your controller, we suggest you use linear state feedback of the form\n",
    "\n",
    "$$u = - K (x - x_\\text{des})$$\n",
    "\n",
    "where the gain matrix $K$ is chosen by solving an infinite-horizon LQR problem (e.g., with the helper function `lqr`) and where\n",
    "\n",
    "$$x_\\text{des} = \\begin{bmatrix} o_{x, \\text{des}} \\\\ o_{y, \\text{des}} \\\\ o_{z, \\text{des}} \\\\ 0 \\\\ 0 \\\\ 0 \\\\ 0 \\\\ 0 \\\\ 0 \\\\ 0 \\\\ 0 \\\\ 0 \\\\ 0 \\\\ 0\\end{bmatrix}.$$\n",
    "\n",
    "Remember that the LQR problem is defined by the choice of weights $Q$ and $R$. Both must be square matrices, $Q$ must be positive semidefinite, and $R$ must be positive definite. Both $Q$ and $R$ are almost always chosen to be diagonal. Remember that $Q$ penalizes non-zero states (i.e., non-zero values of $x$) and that $R$ penalizes non-zero inputs (i.e., non-zero values of $u$). If you want smaller states, increase $Q$. If you want smaller inputs, increase $R$."
   ]
  },
  {
   "cell_type": "code",
   "execution_count": 567,
   "id": "1e17d37f",
   "metadata": {},
   "outputs": [],
   "source": [
    "Q = np.diag([\n",
    "    0.5, # x\n",
    "    7., # y\n",
    "    5, # z\n",
    "    1., # psi (yaw)\n",
    "    0.01, # theta (pitch)\n",
    "    .008, # phi (roll)\n",
    "    0.8,\n",
    "    0.8,\n",
    "    1.,\n",
    "    1,\n",
    "    0.1,\n",
    "    1.,\n",
    "    10.,\n",
    "    0.5\n",
    "])\n",
    "\n",
    "R = np.diag([\n",
    "    1E6,\n",
    "    1E6,\n",
    "    1E6,\n",
    "    50,\n",
    "])\n"
   ]
  },
  {
   "cell_type": "markdown",
   "id": "da5e7a70",
   "metadata": {},
   "source": [
    "Find $K$ for the chosen $Q$ and $R$."
   ]
  },
  {
   "cell_type": "markdown",
   "id": "9f8a39a8",
   "metadata": {
    "jupyter": {
     "source_hidden": true
    }
   },
   "source": [
    "Here is a function that solves the linear quadratic regulator (LQR) problem - i.e., that finds the matrix $K$ for which\n",
    "\n",
    "$$u(t) = - K x(t)$$\n",
    "\n",
    "is the optimal solution to\n",
    "\n",
    "$$\n",
    "\\begin{align*}\n",
    "\\underset{u_{[t_{0}, \\infty)}}{\\text{minimize}} &\\qquad \\int_{t_{0}}^{\\infty}\\left( x(t)^{T}Qx(t)+u(t)^{T}Ru(t)\\right)dt \\\\\n",
    "\\text{subject to} &\\qquad \\dot{x}(t) = Ax(t)+Bu(t), \\quad x(t_{0})=x_{0}.\n",
    "\\end{align*}\n",
    "$$"
   ]
  },
  {
   "cell_type": "code",
   "execution_count": 568,
   "id": "7af3826a",
   "metadata": {
    "jupyter": {
     "source_hidden": true
    }
   },
   "outputs": [],
   "source": [
    "def lqr(A, B, Q, R):\n",
    "    P = linalg.solve_continuous_are(A, B, Q, R)\n",
    "    K = linalg.inv(R) @  B.T @ P\n",
    "    return K"
   ]
  },
  {
   "cell_type": "code",
   "execution_count": 569,
   "id": "da485a90",
   "metadata": {
    "collapsed": true,
    "jupyter": {
     "outputs_hidden": true
    }
   },
   "outputs": [
    {
     "data": {
      "text/plain": [
       "array([[-1.76058495e-15, -2.64575131e-03,  1.11875998e-16,\n",
       "         3.01004224e-17, -1.82440299e-16,  6.66528941e-03,\n",
       "        -4.39282695e-14, -2.09648501e-03,  6.07679667e-17,\n",
       "         1.09967727e-03, -1.28487384e-17, -5.07828854e-18,\n",
       "        -2.37052309e-16, -6.54697345e-15],\n",
       "       [ 7.07106781e-04, -3.56761211e-16, -7.28091897e-17,\n",
       "        -2.14242743e-16,  9.79975190e-03,  5.15370608e-16,\n",
       "         1.24219619e-02, -1.62771453e-16, -1.98446269e-17,\n",
       "        -1.26078245e-17,  6.43111235e-04,  4.57539187e-18,\n",
       "         3.16506605e-03,  6.40371701e-04],\n",
       "       [ 2.75643548e-15,  1.47964958e-19,  9.73330748e-17,\n",
       "         1.00000000e-03,  2.46711953e-16, -1.87345018e-17,\n",
       "         4.83931801e-14,  7.63650284e-18,  1.86561466e-17,\n",
       "        -3.88922586e-18,  3.57103756e-18,  1.02029408e-03,\n",
       "         1.24884535e-16,  7.19626966e-15],\n",
       "       [-5.16017921e-14,  1.45318110e-14,  3.16227766e-01,\n",
       "        -2.78024122e-16, -5.53620991e-15, -1.18522330e-14,\n",
       "        -9.58647915e-13,  5.95799258e-15,  2.18696235e-01,\n",
       "         4.33662308e-16, -1.44324559e-16,  1.73841366e-16,\n",
       "        -2.91347501e-15, -1.42503279e-13]])"
      ]
     },
     "execution_count": 569,
     "metadata": {},
     "output_type": "execute_result"
    }
   ],
   "source": [
    "K = lqr(A, B, Q, R)\n",
    "# Place poles experiment\n",
    "# poles = np.linalg.eigvals(A - B@K)\n",
    "# poles[-2] = -4\n",
    "# poles[-1] = -3.5\n",
    "# K = (scipy.signal.place_poles(A, B, poles)).gain_matrix\n",
    "K"
   ]
  },
  {
   "cell_type": "markdown",
   "id": "f01135e1",
   "metadata": {},
   "source": [
    "Show $K$ (formatted nicely)."
   ]
  },
  {
   "cell_type": "code",
   "execution_count": 570,
   "id": "6408582a",
   "metadata": {},
   "outputs": [
    {
     "name": "stdout",
     "output_type": "stream",
     "text": [
      "K = [[-0.000 -0.003  0.000  0.000 -0.000  0.007 -0.000 -0.002  0.000  0.001 -0.000 -0.000 -0.000 -0.000]\n",
      "     [ 0.001 -0.000 -0.000 -0.000  0.010  0.000  0.012 -0.000 -0.000 -0.000  0.001  0.000  0.003  0.001]\n",
      "     [ 0.000  0.000  0.000  0.001  0.000 -0.000  0.000  0.000  0.000 -0.000  0.000  0.001  0.000  0.000]\n",
      "     [-0.000  0.000  0.316 -0.000 -0.000 -0.000 -0.000  0.000  0.219  0.000 -0.000  0.000 -0.000 -0.000]]\n"
     ]
    }
   ],
   "source": [
    "K_str = np.array2string(K,\n",
    "                        formatter={'float_kind': lambda x: f'{x:6.3f}'},\n",
    "                        prefix='    ',\n",
    "                        max_line_width=np.inf)\n",
    "\n",
    "print(f'K = {K_str}')"
   ]
  },
  {
   "cell_type": "markdown",
   "id": "96e49b1f",
   "metadata": {},
   "source": [
    "Print code that implements the controller in python (for simulation)."
   ]
  },
  {
   "cell_type": "code",
   "execution_count": 571,
   "id": "cfd55d74",
   "metadata": {},
   "outputs": [
    {
     "name": "stdout",
     "output_type": "stream",
     "text": [
      "tau_x = 0.00264575 * (o_y - o_y_des) -0.00666529 * phi + 0.00209649 * v_y -0.00109968 * w_x\n",
      "tau_y = -0.00070711 * (o_x - o_x_des) -0.00979975 * theta -0.01242196 * v_x -0.00064311 * w_y -0.00316507 * alpha -0.00064037 * alpha_dot\n",
      "tau_z = -0.00100000 * psi -0.00102029 * w_z\n",
      "f_z = -0.31622777 * (o_z - o_z_des) -0.21869624 * v_z + 0.43164000\n"
     ]
    }
   ],
   "source": [
    "def export_controller(K, s, i, s_with_des, i_eq,\n",
    "                      decimals=8,\n",
    "                      suffix='',\n",
    "                      line_ending=''):\n",
    "    \"\"\"\n",
    "    K is a gain matrix, of size m x n\n",
    "    s is a list of states as symbolic variables, of length n\n",
    "    i is a list of inputs as symbolic variables, of length m\n",
    "    s_with_des is a list of states that have desired values, as\n",
    "        symbolic variables - if there are no such states, then\n",
    "        this should be an empty list []\n",
    "    i_eq is a list of equilibrium values of inputs, of length m\n",
    "    decimals is the number of decimals to include when printing\n",
    "        each value\n",
    "    suffix is the character (if any) to print after each number,\n",
    "        for example 'f' to indicate a \"float\" when exporting to C\n",
    "    line_ending is the character (if any) to print after each\n",
    "        line, for example ';' when exporting to C\n",
    "    \"\"\"\n",
    "    \n",
    "    s_name = [scur.name for scur in s]\n",
    "    i_name = [icur.name for icur in i]\n",
    "    for row in range(len(i_name)):\n",
    "        input_string = ''\n",
    "        for col in range(len(s_name)):\n",
    "            k = K[row, col]\n",
    "            if not np.isclose(k, 0.):\n",
    "                if (k < 0) and input_string:\n",
    "                    input_string += ' +'\n",
    "                if s[col] in s_with_des:\n",
    "                    n = f'({s_name[col]} - {s_name[col]}_des)'\n",
    "                else:\n",
    "                    n = s_name[col]\n",
    "                input_string += f' {-k:.{decimals}f}{suffix} * {n}'\n",
    "        if not np.isclose(i_eq[row], 0.):\n",
    "            if (i_eq[row] > 0) and input_string:\n",
    "                input_string += ' +'\n",
    "            input_string += f' {i_eq[row]:.{decimals}f}{suffix}'\n",
    "        print(f'{i_name[row]} ={input_string}{line_ending}')\n",
    "\n",
    "\n",
    "\n",
    "export_controller(\n",
    "    K,               # the gain matrix\n",
    "    s,               # list of states as symbolic variables\n",
    "    i,               # list of inputs as symbolic variables\n",
    "    s_with_des,      # list of states that have desired values as symbolic variables\n",
    "    i_eq,            # list of equilibrium values of inputs\n",
    ")"
   ]
  },
  {
   "cell_type": "markdown",
   "metadata": {},
   "source": [
    "### Plot results from test (simulation or flight)"
   ]
  },
  {
   "cell_type": "code",
   "execution_count": 389,
   "metadata": {},
   "outputs": [],
   "source": [
    "def load_simulation_data(filename, dronename):\n",
    "    # load data for all drones\n",
    "    with open(filename, 'r') as f:\n",
    "        data = json.load(f)\n",
    "    \n",
    "    # get data for one drone only\n",
    "    data = data[dronename]\n",
    "    \n",
    "    # convert lists to numpy arrays\n",
    "    for key in data.keys():\n",
    "        if isinstance(data[key], dict):\n",
    "            for subkey in data[key].keys():\n",
    "                data[key][subkey] = np.array(data[key][subkey])\n",
    "        else:\n",
    "            data[key] = np.array(data[key])\n",
    "    \n",
    "    # return the data\n",
    "    return data"
   ]
  },
  {
   "cell_type": "code",
   "execution_count": 572,
   "metadata": {},
   "outputs": [],
   "source": [
    "data = load_simulation_data(\n",
    "    '../Simulation/pendulum_initial_test.json', \n",
    "    'my_drone',              \n",
    ")"
   ]
  },
  {
   "cell_type": "code",
   "execution_count": 573,
   "metadata": {},
   "outputs": [],
   "source": [
    "# time\n",
    "t = data['t']\n",
    "\n",
    "# position\n",
    "o_x = data['state']['o_x']\n",
    "o_y = data['state']['o_y']\n",
    "o_z = data['state']['o_z']\n",
    "\n",
    "# desired position\n",
    "o_x_des = data['setpoint']['o_x']\n",
    "o_y_des = data['setpoint']['o_y']\n",
    "o_z_des = data['setpoint']['o_z']\n",
    "\n",
    "# orientation\n",
    "psi = data['state']['psi']\n",
    "theta = data['state']['theta']\n",
    "phi = data['state']['phi']\n",
    "\n",
    "# pendulum data\n",
    "alpha = data['state']['alpha']\n",
    "alpha_dot = data['state']['alpha_dot']\n",
    "\n",
    "# motor power commands\n",
    "m_1 = data['power']['m_1']\n",
    "m_2 = data['power']['m_2']\n",
    "m_3 = data['power']['m_3']\n",
    "m_4 = data['power']['m_4']\n",
    "\n",
    "# # tau\n",
    "# tau_x = data['input']['tau_x']\n",
    "# tau_y = data['input']['tau_y']\n",
    "# tau_z = data['input']['tau_z']\n",
    "# f_z = data['input']['f_z']"
   ]
  },
  {
   "cell_type": "code",
   "execution_count": 574,
   "metadata": {},
   "outputs": [],
   "source": [
    "# Compute error in position (this is a function of time).\n",
    " \n",
    "o_x_err = o_x - o_x_des\n",
    "o_y_err = o_y - o_y_des\n",
    "o_z_err = o_z - o_z_des"
   ]
  },
  {
   "cell_type": "code",
   "execution_count": 575,
   "metadata": {},
   "outputs": [
    {
     "data": {
      "text/plain": [
       "Text(0.5, 0, 'time (s)')"
      ]
     },
     "execution_count": 575,
     "metadata": {},
     "output_type": "execute_result"
    },
    {
     "data": {
      "image/png": "[encoded data removed]",
      "text/plain": [
       "<Figure size 1200x1200 with 5 Axes>"
      ]
     },
     "metadata": {},
     "output_type": "display_data"
    }
   ],
   "source": [
    "# Plot position error, orientation, pendulum pose and motor power commands\n",
    "\n",
    "fig, (ax_pos, ax_ori, ax_pow, ax_pen, ax_dot_pen) = plt.subplots(5, 1, figsize=(12, 12), sharex=True)\n",
    "ax_pos.plot(t, o_x_err, label='x position error')\n",
    "ax_pos.plot(t, o_y_err, label='y position error')\n",
    "ax_pos.plot(t, o_z_err, label='z position error')\n",
    "ax_pos.legend()\n",
    "ax_pos.grid()\n",
    "ax_ori.plot(t, psi, label='psi')\n",
    "ax_ori.plot(t, theta, label='theta')\n",
    "ax_ori.plot(t, phi, label='phi')\n",
    "ax_ori.legend()\n",
    "ax_ori.grid()\n",
    "ax_pow.plot(t, m_1, label='m_1')\n",
    "ax_pow.plot(t, m_2, label='m_2')\n",
    "ax_pow.plot(t, m_3, label='m_3')\n",
    "ax_pow.plot(t, m_4, label='m_4')\n",
    "ax_pow.legend()\n",
    "ax_pow.grid()\n",
    "ax_pen.plot(t, alpha, label='alpha')\n",
    "ax_pen.legend()\n",
    "ax_pen.grid()\n",
    "ax_dot_pen.plot(t, alpha_dot, label='alpha_dot')\n",
    "ax_dot_pen.legend()\n",
    "ax_dot_pen.grid()\n",
    "ax_pow.set_xlabel('time (s)')"
   ]
  },
  {
   "cell_type": "code",
   "execution_count": null,
   "metadata": {},
   "outputs": [],
   "source": []
  },
  {
   "cell_type": "code",
   "execution_count": null,
   "metadata": {},
   "outputs": [],
   "source": []
  }
 ],
 "metadata": {
  "kernelspec": {
   "display_name": "Python 3.9.12 64-bit ('Miniconda3')",
   "language": "python",
   "name": "python3"
  },
  "language_info": {
   "codemirror_mode": {
    "name": "ipython",
    "version": 3
   },
   "file_extension": ".py",
   "mimetype": "text/x-python",
   "name": "python",
   "nbconvert_exporter": "python",
   "pygments_lexer": "ipython3",
   "version": "3.10.8"
  },
  "orig_nbformat": 4,
  "vscode": {
   "interpreter": {
    "hash": "a07904d2f73b9031e6a78ce257f7fa610e020f290428279d8880d4c46bcb25c7"
   }
  }
 },
 "nbformat": 4,
 "nbformat_minor": 2
}
