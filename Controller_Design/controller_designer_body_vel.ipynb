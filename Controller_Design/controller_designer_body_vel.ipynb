{
 "cells": [
  {
   "cell_type": "code",
   "execution_count": 59,
   "metadata": {},
   "outputs": [],
   "source": [
    "import numpy as np\n",
    "import matplotlib.pyplot as plt\n",
    "import sympy as sym\n",
    "from scipy import linalg"
   ]
  },
  {
   "attachments": {},
   "cell_type": "markdown",
   "metadata": {},
   "source": [
    "### Controller Design (with vx, vy, vz)\n"
   ]
  },
  {
   "cell_type": "code",
   "execution_count": 60,
   "metadata": {},
   "outputs": [],
   "source": [
    "# Mass\n",
    "m = 0.046\n",
    "\n",
    "# Principle moments of inertia\n",
    "J_x = 1.57e-05\n",
    "J_y = 1.60e-05\n",
    "J_z = 2.05e-05\n",
    "\n",
    "# Acceleration of gravity\n",
    "g = 9.81\n",
    "\n",
    "p_eq = [m, J_x, J_y, J_z]"
   ]
  },
  {
   "cell_type": "code",
   "execution_count": 61,
   "metadata": {},
   "outputs": [],
   "source": [
    "def Rotate(alpha, beta, gamma):\n",
    "    Rz = sym.Matrix([[sym.cos(alpha), -sym.sin(alpha), 0],\n",
    "                 [sym.sin(alpha), sym.cos(alpha), 0],\n",
    "                 [0, 0, 1]])\n",
    "\n",
    "    Ry = sym.Matrix([[sym.cos(beta), 0, sym.sin(beta)],\n",
    "                 [0, 1, 0],\n",
    "                 [-sym.sin(beta), 0, sym.cos(beta)]])\n",
    "\n",
    "    Rx = sym.Matrix([[1, 0, 0],\n",
    "                 [0, sym.cos(gamma), -sym.sin(gamma)],\n",
    "                 [0, sym.sin(gamma), sym.cos(gamma)]])\n",
    "\n",
    "    R_VtoO = Rz * Ry * Rx\n",
    "\n",
    "    return R_VtoO\n",
    "\n",
    "def N_func(alpha, beta, gamma):\n",
    "    Ninv = sym.Matrix([[sym.cos(beta)*sym.cos(gamma), -sym.sin(gamma), 0],\n",
    "                       [sym.cos(beta)*sym.sin(gamma), sym.cos(gamma), 0],\n",
    "                       [-sym.sin(beta), 0, 1]])\n",
    "\n",
    "    # N = sym.simplify(Ninv.inv())\n",
    "    N = Ninv.inv()\n",
    "    return N"
   ]
  },
  {
   "cell_type": "code",
   "execution_count": 62,
   "metadata": {},
   "outputs": [
    {
     "data": {
      "text/latex": [
       "$\\displaystyle \\left[\\begin{matrix}vx \\cos{\\left(\\alpha \\right)} \\cos{\\left(\\beta \\right)} + vy \\left(- \\sin{\\left(\\alpha \\right)} \\cos{\\left(\\gamma \\right)} + \\sin{\\left(\\beta \\right)} \\sin{\\left(\\gamma \\right)} \\cos{\\left(\\alpha \\right)}\\right) + vz \\left(\\sin{\\left(\\alpha \\right)} \\sin{\\left(\\gamma \\right)} + \\sin{\\left(\\beta \\right)} \\cos{\\left(\\alpha \\right)} \\cos{\\left(\\gamma \\right)}\\right)\\\\\\frac{m vy w_{z} - m vz w_{y} + 9.81 m \\sin{\\left(\\beta \\right)}}{m}\\\\vx \\sin{\\left(\\alpha \\right)} \\cos{\\left(\\beta \\right)} + vy \\left(\\sin{\\left(\\alpha \\right)} \\sin{\\left(\\beta \\right)} \\sin{\\left(\\gamma \\right)} + \\cos{\\left(\\alpha \\right)} \\cos{\\left(\\gamma \\right)}\\right) + vz \\left(\\sin{\\left(\\alpha \\right)} \\sin{\\left(\\beta \\right)} \\cos{\\left(\\gamma \\right)} - \\sin{\\left(\\gamma \\right)} \\cos{\\left(\\alpha \\right)}\\right)\\\\\\frac{- m vx w_{z} + m vz w_{x} - 9.81 m \\sin{\\left(\\gamma \\right)} \\cos{\\left(\\beta \\right)}}{m}\\\\- vx \\sin{\\left(\\beta \\right)} + vy \\sin{\\left(\\gamma \\right)} \\cos{\\left(\\beta \\right)} + vz \\cos{\\left(\\beta \\right)} \\cos{\\left(\\gamma \\right)}\\\\\\frac{f_{z} + m vx w_{y} - m vy w_{x} - 9.81 m \\cos{\\left(\\beta \\right)} \\cos{\\left(\\gamma \\right)}}{m}\\\\\\frac{w_{x} \\sin{\\left(\\beta \\right)} \\cos{\\left(\\gamma \\right)}}{\\sin^{2}{\\left(\\gamma \\right)} \\cos{\\left(\\beta \\right)} + \\cos{\\left(\\beta \\right)} \\cos^{2}{\\left(\\gamma \\right)}} + \\frac{w_{y} \\sin{\\left(\\beta \\right)} \\sin{\\left(\\gamma \\right)}}{\\sin^{2}{\\left(\\gamma \\right)} \\cos{\\left(\\beta \\right)} + \\cos{\\left(\\beta \\right)} \\cos^{2}{\\left(\\gamma \\right)}} + w_{z}\\\\- \\frac{w_{x} \\sin{\\left(\\gamma \\right)}}{\\sin^{2}{\\left(\\gamma \\right)} + \\cos^{2}{\\left(\\gamma \\right)}} + \\frac{w_{y} \\cos{\\left(\\gamma \\right)}}{\\sin^{2}{\\left(\\gamma \\right)} + \\cos^{2}{\\left(\\gamma \\right)}}\\\\\\frac{w_{x} \\cos{\\left(\\gamma \\right)}}{\\sin^{2}{\\left(\\gamma \\right)} \\cos{\\left(\\beta \\right)} + \\cos{\\left(\\beta \\right)} \\cos^{2}{\\left(\\gamma \\right)}} + \\frac{w_{y} \\sin{\\left(\\gamma \\right)}}{\\sin^{2}{\\left(\\gamma \\right)} \\cos{\\left(\\beta \\right)} + \\cos{\\left(\\beta \\right)} \\cos^{2}{\\left(\\gamma \\right)}}\\\\\\frac{J_{y} w_{y} w_{z} - J_{z} w_{y} w_{z} + \\tau_{x}}{J_{x}}\\\\\\frac{- J_{x} w_{x} w_{z} + J_{z} w_{x} w_{z} + \\tau_{y}}{J_{y}}\\\\\\frac{J_{x} w_{x} w_{y} - J_{y} w_{x} w_{y} + \\tau_{z}}{J_{z}}\\end{matrix}\\right]$"
      ],
      "text/plain": [
       "Matrix([\n",
       "[           vx*cos(\\alpha)*cos(\\beta) + vy*(-sin(\\alpha)*cos(\\gamma) + sin(\\beta)*sin(\\gamma)*cos(\\alpha)) + vz*(sin(\\alpha)*sin(\\gamma) + sin(\\beta)*cos(\\alpha)*cos(\\gamma))],\n",
       "[                                                                                                                                  (m*vy*w_z - m*vz*w_y + 9.81*m*sin(\\beta))/m],\n",
       "[            vx*sin(\\alpha)*cos(\\beta) + vy*(sin(\\alpha)*sin(\\beta)*sin(\\gamma) + cos(\\alpha)*cos(\\gamma)) + vz*(sin(\\alpha)*sin(\\beta)*cos(\\gamma) - sin(\\gamma)*cos(\\alpha))],\n",
       "[                                                                                                                     (-m*vx*w_z + m*vz*w_x - 9.81*m*sin(\\gamma)*cos(\\beta))/m],\n",
       "[                                                                                                       -vx*sin(\\beta) + vy*sin(\\gamma)*cos(\\beta) + vz*cos(\\beta)*cos(\\gamma)],\n",
       "[                                                                                                                (f_z + m*vx*w_y - m*vy*w_x - 9.81*m*cos(\\beta)*cos(\\gamma))/m],\n",
       "[w_x*sin(\\beta)*cos(\\gamma)/(sin(\\gamma)**2*cos(\\beta) + cos(\\beta)*cos(\\gamma)**2) + w_y*sin(\\beta)*sin(\\gamma)/(sin(\\gamma)**2*cos(\\beta) + cos(\\beta)*cos(\\gamma)**2) + w_z],\n",
       "[                                                                       -w_x*sin(\\gamma)/(sin(\\gamma)**2 + cos(\\gamma)**2) + w_y*cos(\\gamma)/(sin(\\gamma)**2 + cos(\\gamma)**2)],\n",
       "[                            w_x*cos(\\gamma)/(sin(\\gamma)**2*cos(\\beta) + cos(\\beta)*cos(\\gamma)**2) + w_y*sin(\\gamma)/(sin(\\gamma)**2*cos(\\beta) + cos(\\beta)*cos(\\gamma)**2)],\n",
       "[                                                                                                                                      (J_y*w_y*w_z - J_z*w_y*w_z + tau_x)/J_x],\n",
       "[                                                                                                                                     (-J_x*w_x*w_z + J_z*w_x*w_z + tau_y)/J_y],\n",
       "[                                                                                                                                      (J_x*w_x*w_y - J_y*w_x*w_y + tau_z)/J_z]])"
      ]
     },
     "execution_count": 62,
     "metadata": {},
     "output_type": "execute_result"
    }
   ],
   "source": [
    "# Added vx,vy,vz as part of state variables\n",
    "o_x, o_y, o_z, vx, vy, vz, alpha, beta, gamma, wx, wy, wz, ox_dot, oy_dot, oz_dot= sym.symbols(r'o_x o_y o_z vx vy vz \\alpha \\beta \\gamma w_x w_y w_z ox_{dot} oy_{dot} oz_{dot}')\n",
    "tau_x, tau_y, tau_z, f_z = sym.symbols('tau_x, tau_y, tau_z, f_z')\n",
    "m, Jx, Jy, Jz = sym.symbols('m J_x J_y J_z')\n",
    "J_in1 = sym.diag(Jx, Jy, Jz)\n",
    "tau_in1 = sym.Matrix([tau_x, tau_y, tau_z])\n",
    "w_01in1 = sym.Matrix([wx, wy, wz])\n",
    "# state: [o_x, o_x_dot, o_y, o_y_dot, o_z, o_z_dot, alpha, beta, gamma, wx, wy, wz]\n",
    "\n",
    "# state: [o_x, vx, o_y, vy, o_z, vz, alpha, beta, gamma, wx, wy, wz]\n",
    "# state_dot: [o_x_dot, vx_dot, o_y_dot, vy_dot, o_z_dot, vz_dot, alpha_dot, beta_dot, gamma_dot, wx_dot, wy_dot, wz_dot]\n",
    "\n",
    "# inputs: [tau_x, tau_y, tau_z, f_z]\n",
    "Rotation_matrix = Rotate(alpha, beta, gamma)\n",
    "N = N_func(alpha, beta, gamma)\n",
    "# second_derivatives = Rotation_matrix * sym.Matrix([0, 0, f_z])/m + sym.Matrix([0, 0, -g])\n",
    "angle_derivatives = N * sym.Matrix([wx, wy, wz]) # [gamma_dot, beta_dot, alpha_dot]\n",
    "w_derivatives = J_in1.inv() * (tau_in1 - w_01in1.cross(J_in1 * w_01in1))\n",
    "f_in1 = Rotation_matrix.T * sym.Matrix([0, 0, -m * g]) + sym.Matrix([0, 0, f_z])\n",
    "f_sym = sym.zeros(12,1)\n",
    "# # f_sym[0] = ox_dot\n",
    "# f_sym[1] = second_derivatives[0]\n",
    "# # f_sym[2] = oy_dot\n",
    "# f_sym[3] = second_derivatives[1]\n",
    "# # f_sym[4] = oz_dot\n",
    "# f_sym[5] = second_derivatives[2]\n",
    "f_sym[6] = angle_derivatives[2]\n",
    "f_sym[7] = angle_derivatives[1]\n",
    "f_sym[8] = angle_derivatives[0]\n",
    "f_sym[9] = w_derivatives[0]\n",
    "f_sym[10] = w_derivatives[1]\n",
    "f_sym[11] = w_derivatives[2]\n",
    "\n",
    "# NEW CHANGES\n",
    "\n",
    "v_01in1 = sym.Matrix([vx, vy, vz])\n",
    "o_dot = Rotation_matrix @ v_01in1 # o_dot matrix in terms of vx,vy,vz\n",
    "v_dot = (1 / m) * (f_in1 - w_01in1.cross(m * v_01in1))\n",
    "f_sym[0] = o_dot[0]\n",
    "f_sym[1] = v_dot[0]\n",
    "f_sym[2] = o_dot[1]\n",
    "f_sym[3] = v_dot[1]\n",
    "f_sym[4] = o_dot[2]\n",
    "f_sym[5] = v_dot[2]\n",
    "\n",
    "f_sym"
   ]
  },
  {
   "cell_type": "code",
   "execution_count": 63,
   "metadata": {},
   "outputs": [],
   "source": [
    "s = [o_x, vx, o_y, vy, o_z, vz, alpha, beta, gamma, wx, wy, wz]\n",
    "i = [tau_x, tau_y, tau_z, f_z]\n",
    "p = [m, Jx, Jy, Jz]\n",
    "s_with_des = [o_x, o_y, o_z]"
   ]
  },
  {
   "cell_type": "code",
   "execution_count": 64,
   "metadata": {},
   "outputs": [
    {
     "data": {
      "text/plain": [
       "<function _lambdifygenerated(o_x, vx, o_y, vy, o_z, vz, Dummy_174, Dummy_173, _Dummy_172, w_x, w_y, w_z, tau_x, tau_y, tau_z, f_z, m, J_x, J_y, J_z)>"
      ]
     },
     "execution_count": 64,
     "metadata": {},
     "output_type": "execute_result"
    }
   ],
   "source": [
    "f = sym.lambdify(s + i + p, f_sym)\n",
    "f"
   ]
  },
  {
   "cell_type": "code",
   "execution_count": 65,
   "metadata": {},
   "outputs": [],
   "source": [
    "# Mass\n",
    "m = 0.046\n",
    "\n",
    "# Principle moments of inertia\n",
    "J_x = 1.57e-05\n",
    "J_y = 1.60e-05\n",
    "J_z = 2.05e-05\n",
    "\n",
    "# Acceleration of gravity\n",
    "l_pen = 320e-3 # m\n",
    "\n",
    "p_eq = [m, J_x, J_y, J_z]"
   ]
  },
  {
   "cell_type": "code",
   "execution_count": 66,
   "metadata": {},
   "outputs": [],
   "source": [
    "s_eq = [0., 0., 0., 0., 0., 0., 0., 0., 0., 0., 0., 0.]\n",
    "i_eq = [0., 0., 0., g*(m)]"
   ]
  },
  {
   "cell_type": "code",
   "execution_count": 67,
   "metadata": {},
   "outputs": [
    {
     "name": "stdout",
     "output_type": "stream",
     "text": [
      "[[0.]\n",
      " [0.]\n",
      " [0.]\n",
      " [0.]\n",
      " [0.]\n",
      " [0.]\n",
      " [0.]\n",
      " [0.]\n",
      " [0.]\n",
      " [0.]\n",
      " [0.]\n",
      " [0.]]\n"
     ]
    }
   ],
   "source": [
    "print(f(*s_eq, *i_eq, *p_eq))"
   ]
  },
  {
   "cell_type": "code",
   "execution_count": 68,
   "metadata": {},
   "outputs": [],
   "source": [
    "A_sym = f_sym.jacobian(s)\n",
    "B_sym = f_sym.jacobian(i)\n",
    "\n",
    "A_num = sym.lambdify(s + i + p, A_sym)\n",
    "B_num = sym.lambdify(s + i + p, B_sym)\n",
    "\n",
    "A = A_num(*s_eq, *i_eq, *p_eq)\n",
    "B = B_num(*s_eq, *i_eq, *p_eq)"
   ]
  },
  {
   "cell_type": "code",
   "execution_count": 69,
   "metadata": {},
   "outputs": [],
   "source": [
    "# state: [o_x, o_x_dot, o_y, o_y_dot, o_z, o_z_dot, alpha, beta, gamma, wx, wy, wz, r, s, rdot, sdot]\n",
    "############# JANK SHIT    ##############################\n",
    "A_mod = np.vstack((np.hstack((A, np.zeros((12, 4)))), np.zeros((4,16))))\n",
    "A_mod[12,14] = 1.0\n",
    "A_mod[13,15] = 1.0\n",
    "A_mod[14,12] = g/l_pen\n",
    "A_mod[14, 7] = -g\n",
    "A_mod[15,13] = g/l_pen\n",
    "A_mod[15, 8] = g\n",
    "\n",
    "B_mod = np.vstack((B, np.zeros((4,4))))"
   ]
  },
  {
   "cell_type": "code",
   "execution_count": 70,
   "metadata": {},
   "outputs": [
    {
     "name": "stdout",
     "output_type": "stream",
     "text": [
      "A = [[ 0.00  1.00  0.00  0.00  0.00  0.00  0.00  0.00  0.00  0.00  0.00  0.00  0.00  0.00  0.00  0.00]\n",
      "     [ 0.00  0.00  0.00  0.00  0.00 -0.00  0.00  9.81  0.00  0.00 -0.00  0.00  0.00  0.00  0.00  0.00]\n",
      "     [ 0.00  0.00  0.00  1.00  0.00  0.00  0.00  0.00  0.00  0.00  0.00  0.00  0.00  0.00  0.00  0.00]\n",
      "     [ 0.00 -0.00  0.00  0.00  0.00  0.00  0.00  0.00 -9.81  0.00  0.00 -0.00  0.00  0.00  0.00  0.00]\n",
      "     [ 0.00 -0.00  0.00  0.00  0.00  1.00  0.00 -0.00  0.00  0.00  0.00  0.00  0.00  0.00  0.00  0.00]\n",
      "     [ 0.00  0.00  0.00 -0.00  0.00  0.00  0.00  0.00  0.00 -0.00  0.00  0.00  0.00  0.00  0.00  0.00]\n",
      "     [ 0.00  0.00  0.00  0.00  0.00  0.00  0.00  0.00  0.00  0.00  0.00  1.00  0.00  0.00  0.00  0.00]\n",
      "     [ 0.00  0.00  0.00  0.00  0.00  0.00  0.00  0.00 -0.00 -0.00  1.00  0.00  0.00  0.00  0.00  0.00]\n",
      "     [ 0.00  0.00  0.00  0.00  0.00  0.00  0.00  0.00  0.00  1.00  0.00  0.00  0.00  0.00  0.00  0.00]\n",
      "     [ 0.00  0.00  0.00  0.00  0.00  0.00  0.00  0.00  0.00  0.00  0.00  0.00  0.00  0.00  0.00  0.00]\n",
      "     [ 0.00  0.00  0.00  0.00  0.00  0.00  0.00  0.00  0.00  0.00  0.00  0.00  0.00  0.00  0.00  0.00]\n",
      "     [ 0.00  0.00  0.00  0.00  0.00  0.00  0.00  0.00  0.00  0.00  0.00  0.00  0.00  0.00  0.00  0.00]\n",
      "     [ 0.00  0.00  0.00  0.00  0.00  0.00  0.00  0.00  0.00  0.00  0.00  0.00  0.00  0.00  1.00  0.00]\n",
      "     [ 0.00  0.00  0.00  0.00  0.00  0.00  0.00  0.00  0.00  0.00  0.00  0.00  0.00  0.00  0.00  1.00]\n",
      "     [ 0.00  0.00  0.00  0.00  0.00  0.00  0.00 -9.81  0.00  0.00  0.00  0.00 30.66  0.00  0.00  0.00]\n",
      "     [ 0.00  0.00  0.00  0.00  0.00  0.00  0.00  0.00  9.81  0.00  0.00  0.00  0.00 30.66  0.00  0.00]]\n"
     ]
    }
   ],
   "source": [
    "\n",
    "A_str = np.array2string(A_mod,\n",
    "                        formatter={'float_kind': lambda x: f'{x:5.2f}'},\n",
    "                        prefix='    ',\n",
    "                        max_line_width=np.inf)\n",
    "\n",
    "print(f'A = {A_str}')"
   ]
  },
  {
   "cell_type": "code",
   "execution_count": 71,
   "metadata": {},
   "outputs": [
    {
     "name": "stdout",
     "output_type": "stream",
     "text": [
      "B = [[      0.00       0.00       0.00       0.00]\n",
      "     [      0.00       0.00       0.00       0.00]\n",
      "     [      0.00       0.00       0.00       0.00]\n",
      "     [      0.00       0.00       0.00       0.00]\n",
      "     [      0.00       0.00       0.00       0.00]\n",
      "     [      0.00       0.00       0.00      21.74]\n",
      "     [      0.00       0.00       0.00       0.00]\n",
      "     [      0.00       0.00       0.00       0.00]\n",
      "     [      0.00       0.00       0.00       0.00]\n",
      "     [  63694.27       0.00       0.00       0.00]\n",
      "     [      0.00   62500.00       0.00       0.00]\n",
      "     [      0.00       0.00   48780.49       0.00]\n",
      "     [      0.00       0.00       0.00       0.00]\n",
      "     [      0.00       0.00       0.00       0.00]\n",
      "     [      0.00       0.00       0.00       0.00]\n",
      "     [      0.00       0.00       0.00       0.00]]\n"
     ]
    }
   ],
   "source": [
    "B_str = np.array2string(B_mod,\n",
    "                        formatter={'float_kind': lambda x: f'{x:10.2f}'},\n",
    "                        prefix='    ',\n",
    "                        max_line_width=np.inf)\n",
    "B\n",
    "print(f'B = {B_str}')"
   ]
  },
  {
   "cell_type": "code",
   "execution_count": 74,
   "metadata": {},
   "outputs": [],
   "source": [
    "Q = np.diag([\n",
    "    600., # o_x\n",
    "    100., # o_x_dot\n",
    "    600., # o_y\n",
    "    100., # o_y_dot\n",
    "    1., # o_z\n",
    "    1., # o_z_dot\n",
    "    1., # alpha\n",
    "    5., # beta\n",
    "    5., # gamma\n",
    "    1., # wx\n",
    "    1., # wy\n",
    "    1., # wz\n",
    "    20., # r\n",
    "    20., # s\n",
    "    1., # rdot\n",
    "    1.  # sdot\n",
    "])\n",
    "\n",
    "R = np.diag([\n",
    "    3 * 1E7, #tau_x\n",
    "    3 * 1E7,#tau_y\n",
    "    3 * 1E7,\n",
    "    3 * 100,\n",
    "])\n",
    "\n",
    "def lqr(A, B, Q, R):\n",
    "    P = linalg.solve_continuous_are(A, B, Q, R)\n",
    "    K = linalg.inv(R) @  B.T @ P\n",
    "    return K\n"
   ]
  },
  {
   "cell_type": "code",
   "execution_count": 75,
   "metadata": {},
   "outputs": [
    {
     "data": {
      "text/plain": [
       "array([[-6.17737039e-14, -4.95042886e-14,  4.47213595e-03,\n",
       "         4.36930478e-03,  4.14156508e-17,  6.09227844e-17,\n",
       "        -1.42486209e-16,  3.99161053e-14,  1.03152527e-02,\n",
       "         5.97689106e-04,  6.59116446e-16,  6.99584345e-17,\n",
       "        -6.07893048e-13,  8.62435385e-02, -1.09694080e-13,\n",
       "         1.55767705e-02],\n",
       "       [-4.47213595e-03, -4.37351999e-03, -1.18548340e-14,\n",
       "        -3.26871538e-16,  1.34704402e-17,  4.38367374e-17,\n",
       "         6.10320278e-16,  1.04060895e-02,  1.51976715e-14,\n",
       "         6.46758013e-16,  6.05250526e-04, -1.79386450e-16,\n",
       "        -8.66537157e-02,  8.80865500e-14, -1.56508507e-02,\n",
       "         1.59578306e-14],\n",
       "       [ 5.68858356e-15,  5.02552383e-15,  1.08573681e-14,\n",
       "         5.19714343e-15,  2.53564216e-18,  7.95018271e-18,\n",
       "         1.82574186e-04, -4.40944014e-15,  2.28408224e-15,\n",
       "         5.35779230e-17, -1.40008937e-16,  2.02036816e-04,\n",
       "         6.37036375e-14,  5.05120514e-14,  1.14800316e-14,\n",
       "         9.12282157e-15],\n",
       "       [-8.21623337e-14, -6.52389654e-14,  1.41001627e-13,\n",
       "         1.11946966e-13,  5.77350269e-02,  9.29782545e-02,\n",
       "         1.84703329e-15,  5.07261658e-14,  9.22355625e-14,\n",
       "         2.07932112e-15,  1.52475608e-15,  3.54301621e-16,\n",
       "        -7.85816591e-13,  1.37969058e-12, -1.41863977e-13,\n",
       "         2.49232183e-13]])"
      ]
     },
     "execution_count": 75,
     "metadata": {},
     "output_type": "execute_result"
    }
   ],
   "source": [
    "K = lqr(A_mod, B_mod, Q, R)\n",
    "\n",
    "K"
   ]
  },
  {
   "cell_type": "code",
   "execution_count": 56,
   "metadata": {},
   "outputs": [],
   "source": [
    "r, rdot, s, sdot = sym.symbols('r, rdot, s, sdot')\n",
    "real_s = [o_x, vx, o_y, vy, o_z, vz, alpha, beta, gamma, wx, wy, wz, r, s, rdot, sdot]"
   ]
  },
  {
   "cell_type": "code",
   "execution_count": 57,
   "metadata": {},
   "outputs": [
    {
     "name": "stdout",
     "output_type": "stream",
     "text": [
      "tau_x = -0.00447214f * (o_y - o_y_des) -0.00436930f * vy -0.01031525f * phi -0.00059769f * w_x -0.08624354f * s -0.01557677f * sdot;\n",
      "tau_y = 0.00447214f * (o_x - o_x_des) + 0.00437352f * vx -0.01040609f * theta -0.00060525f * w_y + 0.08665372f * r + 0.01565085f * rdot;\n",
      "tau_z = -0.00018257f * psi -0.00020204f * w_z;\n",
      "f_z = -0.05773503f * (o_z - o_z_des) -0.08520161f * vz + 0.33354000f;\n"
     ]
    }
   ],
   "source": [
    "def export_controller(K, s, i, s_with_des, i_eq,\n",
    "                      decimals=8,\n",
    "                      suffix='',\n",
    "                      line_ending=''):\n",
    "    \"\"\"\n",
    "    K is a gain matrix, of size m x n\n",
    "    s is a list of states as symbolic variables, of length n\n",
    "    i is a list of inputs as symbolic variables, of length m\n",
    "    s_with_des is a list of states that have desired values, as\n",
    "        symbolic variables - if there are no such states, then\n",
    "        this should be an empty list []\n",
    "    i_eq is a list of equilibrium values of inputs, of length m\n",
    "    decimals is the number of decimals to include when printing\n",
    "        each value\n",
    "    suffix is the character (if any) to print after each number,\n",
    "        for example 'f' to indicate a \"float\" when exporting to C\n",
    "    line_ending is the character (if any) to print after each\n",
    "        line, for example ';' when exporting to C\n",
    "    \"\"\"\n",
    "    \n",
    "    s_name = [scur.name for scur in s]\n",
    "    s_name[6] = 'psi'\n",
    "    s_name[7] = 'theta'\n",
    "    s_name[8] = 'phi'\n",
    "    i_name = [icur.name for icur in i]\n",
    "    for row in range(len(i_name)):\n",
    "        input_string = ''\n",
    "        for col in range(len(s_name)):\n",
    "            k = K[row, col]\n",
    "            if not np.isclose(k, 0.):\n",
    "                if (k < 0) and input_string:\n",
    "                    input_string += ' +'\n",
    "                if s[col] in s_with_des:\n",
    "                    n = f'({s_name[col]} - {s_name[col]}_des)'\n",
    "                else:\n",
    "                    n = s_name[col]\n",
    "                input_string += f' {-k:.{decimals}f}{suffix} * {n}'\n",
    "        if not np.isclose(i_eq[row], 0.):\n",
    "            if (i_eq[row] > 0) and input_string:\n",
    "                input_string += ' +'\n",
    "            input_string += f' {i_eq[row]:.{decimals}f}{suffix}'\n",
    "        print(f'{i_name[row]} ={input_string}{line_ending}')\n",
    "\n",
    "\n",
    "# # For python simulation\n",
    "# export_controller(\n",
    "#     K,               # the gain matrix\n",
    "#     s,               # list of states as symbolic variables\n",
    "#     i,               # list of inputs as symbolic variables\n",
    "#     s_with_des,      # list of states that have desired values as symbolic variables\n",
    "#     i_eq,            # list of equilibrium values of inputs\n",
    "# )\n",
    "\n",
    "# For C\n",
    "export_controller(\n",
    "    K,               # the gain matrix\n",
    "    real_s,               # list of states as symbolic variables\n",
    "    i,               # list of inputs as symbolic variables\n",
    "    s_with_des,      # list of states that have desired values as symbolic variables\n",
    "    i_eq,            # list of equilibrium values of inputs\n",
    "    suffix='f',      # character to print after each number (indicates a \"float\")\n",
    "    line_ending=';'  # character to print after each line\n",
    ")\n"
   ]
  },
  {
   "cell_type": "code",
   "execution_count": null,
   "metadata": {},
   "outputs": [],
   "source": []
  },
  {
   "cell_type": "code",
   "execution_count": null,
   "metadata": {},
   "outputs": [],
   "source": []
  }
 ],
 "metadata": {
  "kernelspec": {
   "display_name": "ae483",
   "language": "python",
   "name": "python3"
  },
  "language_info": {
   "codemirror_mode": {
    "name": "ipython",
    "version": 3
   },
   "file_extension": ".py",
   "mimetype": "text/x-python",
   "name": "python",
   "nbconvert_exporter": "python",
   "pygments_lexer": "ipython3",
   "version": "3.10.8"
  },
  "orig_nbformat": 4
 },
 "nbformat": 4,
 "nbformat_minor": 2
}
