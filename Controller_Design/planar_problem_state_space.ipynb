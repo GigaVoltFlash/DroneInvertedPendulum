{
 "cells": [
  {
   "cell_type": "code",
   "execution_count": 2,
   "metadata": {},
   "outputs": [],
   "source": [
    "import numpy as np\n",
    "import sympy as sym\n",
    "import matplotlib.pyplot as plt\n",
    "import scipy\n",
    "from sympy.physics.mechanics import *"
   ]
  },
  {
   "cell_type": "code",
   "execution_count": 13,
   "metadata": {},
   "outputs": [
    {
     "data": {
      "text/latex": [
       "$\\displaystyle 1.0 J_{y} \\frac{d^{2}}{d t^{2}} \\theta{\\left(t \\right)} - \\tau_{y}$"
      ],
      "text/plain": [
       "1.0*J_y*Derivative(\\theta(t), (t, 2)) - \\tau_y"
      ]
     },
     "execution_count": 13,
     "metadata": {},
     "output_type": "execute_result"
    }
   ],
   "source": [
    "o_x, o_z, o_x_dot, o_z_dot, theta, theta_dot, alpha, alpha_dot = \n",
    "\n",
    "m, J_x, J_y, J_z, g, m_pen, l_pen = sym.symbols('m, J_x, J_y, J_z, g, m_pen, l_pen')\n",
    "dyn_o_x, dyn_o_z, dyn_alpha, dyn_theta = dynamicsymbols(r'o_x o_z \\alpha \\theta')\n",
    "dyn_o_xd, dyn_o_zd, dyn_alphad, dyn_thetad = dynamicsymbols(r'o_x o_z \\alpha \\theta', 1)\n",
    "dyn_o_xdd, dyn_o_zdd, dyn_alphadd, dyn_thetadd = dynamicsymbols(r'o_x o_z \\alpha \\theta', 2)\n",
    "T = 1/2*m*(dyn_o_xd**2 + dyn_o_zd**2) + 1/2*J_y*(dyn_thetad**2) + 1/2*m_pen*(dyn_o_xd**2 + dyn_o_zd**2 + l_pen**2 * dyn_alphad**2 + 2*l_pen*dyn_alphad*(dyn_o_xd*sym.cos(dyn_alpha) - dyn_o_zd*sym.sin(dyn_alpha)))\n",
    "dyn_f_z, dyn_tau_y = sym.symbols(r'f_z, \\tau_y')\n",
    "t = sym.Symbol('t')\n",
    "\n",
    "Equations = sym.Matrix([[sym.simplify(sym.diff(sym.diff(T, dyn_o_xd), t) - sym.diff(T, dyn_o_x) - dyn_f_z*sym.sin(dyn_theta))],\n",
    "             [sym.simplify(sym.diff(sym.diff(T, dyn_o_zd), t) - sym.diff(T, dyn_o_z) - dyn_f_z*sym.cos(dyn_theta) + m*g)],\n",
    "             [sym.simplify(sym.diff(sym.diff(T, dyn_alphad), t) - sym.diff(T, dyn_alpha) - m_pen*l_pen*g*sym.sin(dyn_alpha))],\n",
    "             [sym.simplify(sym.diff(sym.diff(T, dyn_thetad), t) - sym.diff(T, dyn_theta) - dyn_tau_y)]])\n",
    "\n",
    "Equations[3,0]"
   ]
  },
  {
   "cell_type": "code",
   "execution_count": 17,
   "metadata": {},
   "outputs": [
    {
     "data": {
      "text/latex": [
       "$\\displaystyle \\frac{\\tau_{y}}{J_{y}}$"
      ],
      "text/plain": [
       "\\tau_y/J_y"
      ]
     },
     "execution_count": 17,
     "metadata": {},
     "output_type": "execute_result"
    }
   ],
   "source": [
    "ox_ddot_with_alphaddot = sym.solve(Equations[0,0], dyn_o_xdd)[0]\n",
    "oz_ddot_with_alphaddot = sym.solve(Equations[1,0], dyn_o_zdd)[0]\n",
    "alpha_ddot_eqn = Equations[2].subs([(dyn_o_xdd, ox_ddot_with_alphaddot), (dyn_o_zdd, oz_ddot_with_alphaddot)])\n",
    "alpha_ddot_soln = sym.simplify(sym.solve(alpha_ddot_eqn, dyn_alphadd)[0])\n",
    "new_ox_ddot = sym.simplify(ox_ddot_with_alphaddot.subs(dyn_alphadd, alpha_ddot_soln))\n",
    "new_oz_ddot = sym.simplify(oz_ddot_with_alphaddot.subs(dyn_alphadd, alpha_ddot_soln))\n",
    "theta_ddot_eqn = sym.solve(Equations[3,0], dyn_thetadd)[0]\n",
    "# new_ox_ddot = new_ox_ddot.subs([(dyn_f_z, f_z), (dyn_theta, theta), (dyn_alphad, alpha_dot)])\n",
    "# new_ox_ddot = new_ox_ddot.subs(dyn_alpha, alpha)\n",
    "# new_oz_ddot = new_oz_ddot.subs([(dyn_f_z, f_z), (dyn_theta, theta), (dyn_alphad, alpha_dot)])\n",
    "# new_oz_ddot = new_oz_ddot.subs(dyn_alpha, alpha)\n",
    "\n",
    "# alpha_ddot_soln = alpha_ddot_soln.subs([(dyn_alpha, alpha), (dyn_theta, theta), (dyn_f_z, f_z)])\n",
    "theta_ddot_eqn"
   ]
  },
  {
   "cell_type": "code",
   "execution_count": null,
   "metadata": {},
   "outputs": [],
   "source": []
  }
 ],
 "metadata": {
  "kernelspec": {
   "display_name": "Python 3.10.8 ('ae483')",
   "language": "python",
   "name": "python3"
  },
  "language_info": {
   "codemirror_mode": {
    "name": "ipython",
    "version": 3
   },
   "file_extension": ".py",
   "mimetype": "text/x-python",
   "name": "python",
   "nbconvert_exporter": "python",
   "pygments_lexer": "ipython3",
   "version": "3.10.8"
  },
  "orig_nbformat": 4,
  "vscode": {
   "interpreter": {
    "hash": "8c40dc438cbaf29904496e251f9298e4e78e6a453aad7c4f4912b52bbfbdf3f4"
   }
  }
 },
 "nbformat": 4,
 "nbformat_minor": 2
}
