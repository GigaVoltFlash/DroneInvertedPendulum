{
 "cells": [
  {
   "cell_type": "code",
   "execution_count": 2,
   "metadata": {},
   "outputs": [],
   "source": [
    "import numpy as np\n",
    "import matplotlib.pyplot as plt\n",
    "import sympy as sym\n",
    "from scipy import linalg"
   ]
  },
  {
   "attachments": {},
   "cell_type": "markdown",
   "metadata": {},
   "source": [
    "### Controller Design (with ox_dot, oy_dot, oz_dot)"
   ]
  },
  {
   "cell_type": "code",
   "execution_count": 5,
   "metadata": {},
   "outputs": [],
   "source": [
    "# Mass\n",
    "m = 0.034\n",
    "\n",
    "# Principle moments of inertia\n",
    "J_x = 1.57e-05\n",
    "J_y = 1.60e-05\n",
    "J_z = 2.05e-05\n",
    "\n",
    "# Acceleration of gravity\n",
    "g = 9.81\n",
    "l_pen = 320e-3 # m\n",
    "\n",
    "p_eq = [m, J_x, J_y, J_z]"
   ]
  },
  {
   "cell_type": "code",
   "execution_count": 6,
   "metadata": {},
   "outputs": [],
   "source": [
    "def Rotate(alpha, beta, gamma):\n",
    "    Rz = sym.Matrix([[sym.cos(alpha), -sym.sin(alpha), 0],\n",
    "                 [sym.sin(alpha), sym.cos(alpha), 0],\n",
    "                 [0, 0, 1]])\n",
    "\n",
    "    Ry = sym.Matrix([[sym.cos(beta), 0, sym.sin(beta)],\n",
    "                 [0, 1, 0],\n",
    "                 [-sym.sin(beta), 0, sym.cos(beta)]])\n",
    "\n",
    "    Rx = sym.Matrix([[1, 0, 0],\n",
    "                 [0, sym.cos(gamma), -sym.sin(gamma)],\n",
    "                 [0, sym.sin(gamma), sym.cos(gamma)]])\n",
    "\n",
    "    R_VtoO = Rz * Ry * Rx\n",
    "\n",
    "    return R_VtoO\n",
    "\n",
    "def N_func(alpha, beta, gamma):\n",
    "    Ninv = sym.Matrix([[sym.cos(beta)*sym.cos(gamma), -sym.sin(gamma), 0],\n",
    "                       [sym.cos(beta)*sym.sin(gamma), sym.cos(gamma), 0],\n",
    "                       [-sym.sin(beta), 0, 1]])\n",
    "\n",
    "    # N = sym.simplify(Ninv.inv())\n",
    "    N = Ninv.inv()\n",
    "    return N"
   ]
  },
  {
   "cell_type": "code",
   "execution_count": 7,
   "metadata": {},
   "outputs": [
    {
     "data": {
      "text/latex": [
       "$\\displaystyle \\left[\\begin{matrix}ox_{dot}\\\\\\frac{f_{z} \\left(\\sin{\\left(\\alpha \\right)} \\sin{\\left(\\gamma \\right)} + \\sin{\\left(\\beta \\right)} \\cos{\\left(\\alpha \\right)} \\cos{\\left(\\gamma \\right)}\\right)}{m}\\\\oy_{dot}\\\\\\frac{f_{z} \\left(\\sin{\\left(\\alpha \\right)} \\sin{\\left(\\beta \\right)} \\cos{\\left(\\gamma \\right)} - \\sin{\\left(\\gamma \\right)} \\cos{\\left(\\alpha \\right)}\\right)}{m}\\\\oz_{dot}\\\\\\frac{f_{z} \\cos{\\left(\\beta \\right)} \\cos{\\left(\\gamma \\right)}}{m} - 9.81\\\\\\frac{w_{x} \\sin{\\left(\\beta \\right)} \\cos{\\left(\\gamma \\right)}}{\\sin^{2}{\\left(\\gamma \\right)} \\cos{\\left(\\beta \\right)} + \\cos{\\left(\\beta \\right)} \\cos^{2}{\\left(\\gamma \\right)}} + \\frac{w_{y} \\sin{\\left(\\beta \\right)} \\sin{\\left(\\gamma \\right)}}{\\sin^{2}{\\left(\\gamma \\right)} \\cos{\\left(\\beta \\right)} + \\cos{\\left(\\beta \\right)} \\cos^{2}{\\left(\\gamma \\right)}} + w_{z}\\\\- \\frac{w_{x} \\sin{\\left(\\gamma \\right)}}{\\sin^{2}{\\left(\\gamma \\right)} + \\cos^{2}{\\left(\\gamma \\right)}} + \\frac{w_{y} \\cos{\\left(\\gamma \\right)}}{\\sin^{2}{\\left(\\gamma \\right)} + \\cos^{2}{\\left(\\gamma \\right)}}\\\\\\frac{w_{x} \\cos{\\left(\\gamma \\right)}}{\\sin^{2}{\\left(\\gamma \\right)} \\cos{\\left(\\beta \\right)} + \\cos{\\left(\\beta \\right)} \\cos^{2}{\\left(\\gamma \\right)}} + \\frac{w_{y} \\sin{\\left(\\gamma \\right)}}{\\sin^{2}{\\left(\\gamma \\right)} \\cos{\\left(\\beta \\right)} + \\cos{\\left(\\beta \\right)} \\cos^{2}{\\left(\\gamma \\right)}}\\\\\\frac{J_{y} w_{y} w_{z} - J_{z} w_{y} w_{z} + \\tau_{x}}{J_{x}}\\\\\\frac{- J_{x} w_{x} w_{z} + J_{z} w_{x} w_{z} + \\tau_{y}}{J_{y}}\\\\\\frac{J_{x} w_{x} w_{y} - J_{y} w_{x} w_{y} + \\tau_{z}}{J_{z}}\\end{matrix}\\right]$"
      ],
      "text/plain": [
       "Matrix([\n",
       "[                                                                                                                                                                     ox_{dot}],\n",
       "[                                                                                                         f_z*(sin(\\alpha)*sin(\\gamma) + sin(\\beta)*cos(\\alpha)*cos(\\gamma))/m],\n",
       "[                                                                                                                                                                     oy_{dot}],\n",
       "[                                                                                                         f_z*(sin(\\alpha)*sin(\\beta)*cos(\\gamma) - sin(\\gamma)*cos(\\alpha))/m],\n",
       "[                                                                                                                                                                     oz_{dot}],\n",
       "[                                                                                                                                          f_z*cos(\\beta)*cos(\\gamma)/m - 9.81],\n",
       "[w_x*sin(\\beta)*cos(\\gamma)/(sin(\\gamma)**2*cos(\\beta) + cos(\\beta)*cos(\\gamma)**2) + w_y*sin(\\beta)*sin(\\gamma)/(sin(\\gamma)**2*cos(\\beta) + cos(\\beta)*cos(\\gamma)**2) + w_z],\n",
       "[                                                                       -w_x*sin(\\gamma)/(sin(\\gamma)**2 + cos(\\gamma)**2) + w_y*cos(\\gamma)/(sin(\\gamma)**2 + cos(\\gamma)**2)],\n",
       "[                            w_x*cos(\\gamma)/(sin(\\gamma)**2*cos(\\beta) + cos(\\beta)*cos(\\gamma)**2) + w_y*sin(\\gamma)/(sin(\\gamma)**2*cos(\\beta) + cos(\\beta)*cos(\\gamma)**2)],\n",
       "[                                                                                                                                      (J_y*w_y*w_z - J_z*w_y*w_z + tau_x)/J_x],\n",
       "[                                                                                                                                     (-J_x*w_x*w_z + J_z*w_x*w_z + tau_y)/J_y],\n",
       "[                                                                                                                                      (J_x*w_x*w_y - J_y*w_x*w_y + tau_z)/J_z]])"
      ]
     },
     "execution_count": 7,
     "metadata": {},
     "output_type": "execute_result"
    }
   ],
   "source": [
    "o_x, o_y, o_z, alpha, beta, gamma, wx, wy, wz, ox_dot, oy_dot, oz_dot= sym.symbols(r'o_x o_y o_z \\alpha \\beta \\gamma w_x w_y w_z ox_{dot} oy_{dot} oz_{dot}')\n",
    "tau_x, tau_y, tau_z, f_z = sym.symbols('tau_x, tau_y, tau_z, f_z')\n",
    "m, Jx, Jy, Jz = sym.symbols('m J_x J_y J_z')\n",
    "J_in1 = sym.diag(Jx, Jy, Jz)\n",
    "tau_in1 = sym.Matrix([tau_x, tau_y, tau_z])\n",
    "w_01in1 = sym.Matrix([wx, wy, wz])\n",
    "# state: [o_x, o_x_dot, o_y, o_y_dot, o_z, o_z_dot, alpha, beta, gamma, wx, wy, wz]\n",
    "# inputs: [tau_x, tau_y, tau_z, f_z]\n",
    "Rotation_matrix = Rotate(alpha, beta, gamma)\n",
    "N = N_func(alpha, beta, gamma)\n",
    "second_derivatives = Rotation_matrix * sym.Matrix([0, 0, f_z])/m + sym.Matrix([0, 0, -g])\n",
    "angle_derivatives = N * sym.Matrix([wx, wy, wz]) # [gamma_dot, beta_dot, alpha_dot]\n",
    "w_derivatives = J_in1.inv() * (tau_in1 - w_01in1.cross(J_in1 * w_01in1))\n",
    "f_sym = sym.zeros(12,1)\n",
    "f_sym[0] = ox_dot\n",
    "f_sym[1] = second_derivatives[0]\n",
    "f_sym[2] = oy_dot\n",
    "f_sym[3] = second_derivatives[1]\n",
    "f_sym[4] = oz_dot\n",
    "f_sym[5] = second_derivatives[2]\n",
    "f_sym[6] = angle_derivatives[2]\n",
    "f_sym[7] = angle_derivatives[1]\n",
    "f_sym[8] = angle_derivatives[0]\n",
    "f_sym[9] = w_derivatives[0]\n",
    "f_sym[10] = w_derivatives[1]\n",
    "f_sym[11] = w_derivatives[2]\n",
    "f_sym"
   ]
  },
  {
   "cell_type": "code",
   "execution_count": 8,
   "metadata": {},
   "outputs": [],
   "source": [
    "s = [o_x, ox_dot, o_y, oy_dot, o_z, oz_dot, alpha, beta, gamma, wx, wy, wz]\n",
    "i = [tau_x, tau_y, tau_z, f_z]\n",
    "p = [m, Jx, Jy, Jz]"
   ]
  },
  {
   "cell_type": "code",
   "execution_count": 9,
   "metadata": {},
   "outputs": [],
   "source": [
    "# Mass\n",
    "m = 0.034\n",
    "\n",
    "# Principle moments of inertia\n",
    "J_x = 1.57e-05\n",
    "J_y = 1.60e-05\n",
    "J_z = 2.05e-05\n",
    "\n",
    "# Acceleration of gravity\n",
    "g = 9.81\n",
    "l_pen = 320e-3 # m\n",
    "\n",
    "p_eq = [m, J_x, J_y, J_z]"
   ]
  },
  {
   "cell_type": "code",
   "execution_count": 10,
   "metadata": {},
   "outputs": [
    {
     "data": {
      "text/plain": [
       "<function _lambdifygenerated(o_x, ox_dot, o_y, oy_dot, o_z, oz_dot, Dummy_112, Dummy_111, _Dummy_110, w_x, w_y, w_z, tau_x, tau_y, tau_z, f_z, m, J_x, J_y, J_z)>"
      ]
     },
     "execution_count": 10,
     "metadata": {},
     "output_type": "execute_result"
    }
   ],
   "source": [
    "f = sym.lambdify(s + i + p, f_sym)\n",
    "f"
   ]
  },
  {
   "cell_type": "code",
   "execution_count": 11,
   "metadata": {},
   "outputs": [],
   "source": [
    "s_eq = [0., 0., 0., 0., 0., 0., 0., 0., 0., 0., 0., 0.]\n",
    "i_eq = [0., 0., 0., g*(m)]"
   ]
  },
  {
   "cell_type": "code",
   "execution_count": 12,
   "metadata": {},
   "outputs": [
    {
     "name": "stdout",
     "output_type": "stream",
     "text": [
      "[[0.]\n",
      " [0.]\n",
      " [0.]\n",
      " [0.]\n",
      " [0.]\n",
      " [0.]\n",
      " [0.]\n",
      " [0.]\n",
      " [0.]\n",
      " [0.]\n",
      " [0.]\n",
      " [0.]]\n"
     ]
    }
   ],
   "source": [
    "print(f(*s_eq, *i_eq, *p_eq))"
   ]
  },
  {
   "cell_type": "code",
   "execution_count": 13,
   "metadata": {},
   "outputs": [],
   "source": [
    "A_sym = f_sym.jacobian(s)\n",
    "B_sym = f_sym.jacobian(i)\n",
    "\n",
    "A_num = sym.lambdify(s + i + p, A_sym)\n",
    "B_num = sym.lambdify(s + i + p, B_sym)\n",
    "\n",
    "A = A_num(*s_eq, *i_eq, *p_eq)\n",
    "B = B_num(*s_eq, *i_eq, *p_eq)"
   ]
  },
  {
   "cell_type": "code",
   "execution_count": 14,
   "metadata": {},
   "outputs": [],
   "source": [
    "# state: [o_x, o_x_dot, o_y, o_y_dot, o_z, o_z_dot, alpha, beta, gamma, wx, wy, wz, r, s, rdot, sdot]\n",
    "############# JANK SHIT    ##############################\n",
    "A_mod = np.vstack((np.hstack((A, np.zeros((12, 4)))), np.zeros((4,16))))\n",
    "A_mod[12,14] = 1.0\n",
    "A_mod[13,15] = 1.0\n",
    "A_mod[14,12] = g/l_pen\n",
    "A_mod[14, 7] = -g\n",
    "A_mod[15,13] = g/l_pen\n",
    "A_mod[15, 8] = g\n",
    "\n",
    "B_mod = np.vstack((B, np.zeros((4,4))))"
   ]
  },
  {
   "cell_type": "code",
   "execution_count": 18,
   "metadata": {},
   "outputs": [
    {
     "name": "stdout",
     "output_type": "stream",
     "text": [
      "A = [[ 0.00  1.00  0.00  0.00  0.00  0.00  0.00  0.00  0.00  0.00  0.00  0.00  0.00  0.00  0.00  0.00]\n",
      "     [ 0.00  0.00  0.00  0.00  0.00  0.00  0.00  9.81  0.00  0.00  0.00  0.00  0.00  0.00  0.00  0.00]\n",
      "     [ 0.00  0.00  0.00  1.00  0.00  0.00  0.00  0.00  0.00  0.00  0.00  0.00  0.00  0.00  0.00  0.00]\n",
      "     [ 0.00  0.00  0.00  0.00  0.00  0.00  0.00  0.00 -9.81  0.00  0.00  0.00  0.00  0.00  0.00  0.00]\n",
      "     [ 0.00  0.00  0.00  0.00  0.00  1.00  0.00  0.00  0.00  0.00  0.00  0.00  0.00  0.00  0.00  0.00]\n",
      "     [ 0.00  0.00  0.00  0.00  0.00  0.00  0.00 -0.00 -0.00  0.00  0.00  0.00  0.00  0.00  0.00  0.00]\n",
      "     [ 0.00  0.00  0.00  0.00  0.00  0.00  0.00  0.00  0.00  0.00  0.00  1.00  0.00  0.00  0.00  0.00]\n",
      "     [ 0.00  0.00  0.00  0.00  0.00  0.00  0.00  0.00 -0.00 -0.00  1.00  0.00  0.00  0.00  0.00  0.00]\n",
      "     [ 0.00  0.00  0.00  0.00  0.00  0.00  0.00  0.00  0.00  1.00  0.00  0.00  0.00  0.00  0.00  0.00]\n",
      "     [ 0.00  0.00  0.00  0.00  0.00  0.00  0.00  0.00  0.00  0.00  0.00  0.00  0.00  0.00  0.00  0.00]\n",
      "     [ 0.00  0.00  0.00  0.00  0.00  0.00  0.00  0.00  0.00  0.00  0.00  0.00  0.00  0.00  0.00  0.00]\n",
      "     [ 0.00  0.00  0.00  0.00  0.00  0.00  0.00  0.00  0.00  0.00  0.00  0.00  0.00  0.00  0.00  0.00]\n",
      "     [ 0.00  0.00  0.00  0.00  0.00  0.00  0.00  0.00  0.00  0.00  0.00  0.00  0.00  0.00  1.00  0.00]\n",
      "     [ 0.00  0.00  0.00  0.00  0.00  0.00  0.00  0.00  0.00  0.00  0.00  0.00  0.00  0.00  0.00  1.00]\n",
      "     [ 0.00  0.00  0.00  0.00  0.00  0.00  0.00 -9.81  0.00  0.00  0.00  0.00 30.66  0.00  0.00  0.00]\n",
      "     [ 0.00  0.00  0.00  0.00  0.00  0.00  0.00  0.00  9.81  0.00  0.00  0.00  0.00 30.66  0.00  0.00]]\n"
     ]
    }
   ],
   "source": [
    "A_str = np.array2string(A_mod,\n",
    "                        formatter={'float_kind': lambda x: f'{x:5.2f}'},\n",
    "                        prefix='    ',\n",
    "                        max_line_width=np.inf)\n",
    "\n",
    "print(f'A = {A_str}')"
   ]
  },
  {
   "cell_type": "code",
   "execution_count": 19,
   "metadata": {},
   "outputs": [
    {
     "name": "stdout",
     "output_type": "stream",
     "text": [
      "B = [[      0.00       0.00       0.00       0.00]\n",
      "     [      0.00       0.00       0.00       0.00]\n",
      "     [      0.00       0.00       0.00       0.00]\n",
      "     [      0.00       0.00       0.00       0.00]\n",
      "     [      0.00       0.00       0.00       0.00]\n",
      "     [      0.00       0.00       0.00      29.41]\n",
      "     [      0.00       0.00       0.00       0.00]\n",
      "     [      0.00       0.00       0.00       0.00]\n",
      "     [      0.00       0.00       0.00       0.00]\n",
      "     [  63694.27       0.00       0.00       0.00]\n",
      "     [      0.00   62500.00       0.00       0.00]\n",
      "     [      0.00       0.00   48780.49       0.00]\n",
      "     [      0.00       0.00       0.00       0.00]\n",
      "     [      0.00       0.00       0.00       0.00]\n",
      "     [      0.00       0.00       0.00       0.00]\n",
      "     [      0.00       0.00       0.00       0.00]]\n"
     ]
    }
   ],
   "source": [
    "B_str = np.array2string(B_mod,\n",
    "                        formatter={'float_kind': lambda x: f'{x:10.2f}'},\n",
    "                        prefix='    ',\n",
    "                        max_line_width=np.inf)\n",
    "B\n",
    "print(f'B = {B_str}')"
   ]
  },
  {
   "cell_type": "code",
   "execution_count": 28,
   "metadata": {},
   "outputs": [],
   "source": [
    "Q = np.diag([\n",
    "    50., # o_x\n",
    "    5., # o_x_dot\n",
    "    50., # o_y\n",
    "    5., # o_y_dot\n",
    "    1., # o_z\n",
    "    1., # o_z_dot\n",
    "    1., # alpha\n",
    "    5., # beta\n",
    "    5., # gamma\n",
    "    1., # wx\n",
    "    1., # wy\n",
    "    1., # wz\n",
    "    10., # r\n",
    "    10., # s\n",
    "    1., # rdot\n",
    "    1.  # sdot\n",
    "])\n",
    "\n",
    "R = np.diag([\n",
    "    1E6, #tau_x\n",
    "    1E6,#tau_y\n",
    "    1E6,\n",
    "    10,\n",
    "])\n",
    "\n",
    "def lqr(A, B, Q, R):\n",
    "    P = linalg.solve_continuous_are(A, B, Q, R)\n",
    "    K = linalg.inv(R) @  B.T @ P\n",
    "    return K\n"
   ]
  },
  {
   "cell_type": "code",
   "execution_count": 29,
   "metadata": {},
   "outputs": [
    {
     "data": {
      "text/plain": [
       "array([[-1.12405489e-14, -6.85017159e-15,  7.07106781e-03,\n",
       "         6.99189063e-03,  8.31378676e-18,  1.19192739e-17,\n",
       "         6.28650112e-17,  6.63212081e-15,  2.38516552e-02,\n",
       "         1.32247570e-03,  8.44293109e-17, -9.03919648e-19,\n",
       "        -9.10368702e-14,  1.69670327e-01, -1.66436115e-14,\n",
       "         3.06550575e-02],\n",
       "       [-7.07106781e-03, -6.99387830e-03,  8.41036473e-15,\n",
       "         6.30006278e-15,  1.16557878e-18,  2.06783201e-18,\n",
       "         8.44216770e-17,  2.39136220e-02,  2.65800641e-15,\n",
       "         8.28462614e-17,  1.32862181e-03, -1.23179949e-16,\n",
       "        -1.69924234e-01,  7.72495206e-14, -3.07008991e-02,\n",
       "         1.38445284e-14],\n",
       "       [ 6.54647245e-15,  5.29267383e-15, -1.53647680e-15,\n",
       "        -1.86456417e-15,  1.20419851e-17,  1.41986399e-17,\n",
       "         1.00000000e-03, -7.43161715e-15, -2.03918512e-15,\n",
       "        -6.92270169e-19, -9.61404483e-17,  1.02029408e-03,\n",
       "         8.29816523e-14, -2.76512309e-14,  1.50732466e-14,\n",
       "        -5.00335163e-15],\n",
       "       [-4.67476938e-15, -6.65146898e-15,  1.77916448e-14,\n",
       "         1.60210389e-14,  3.16227766e-01,  3.48573505e-01,\n",
       "         5.62871910e-16,  8.43537817e-15,  2.12508979e-14,\n",
       "         5.50390000e-16,  9.73097419e-17,  8.56094462e-16,\n",
       "        -1.02603620e-13,  2.46637038e-13, -1.88299252e-14,\n",
       "         4.45903381e-14]])"
      ]
     },
     "execution_count": 29,
     "metadata": {},
     "output_type": "execute_result"
    }
   ],
   "source": [
    "K = lqr(A_mod, B_mod, Q, R)\n",
    "\n",
    "K"
   ]
  },
  {
   "cell_type": "code",
   "execution_count": null,
   "metadata": {},
   "outputs": [],
   "source": []
  }
 ],
 "metadata": {
  "kernelspec": {
   "display_name": "ae483",
   "language": "python",
   "name": "python3"
  },
  "language_info": {
   "codemirror_mode": {
    "name": "ipython",
    "version": 3
   },
   "file_extension": ".py",
   "mimetype": "text/x-python",
   "name": "python",
   "nbconvert_exporter": "python",
   "pygments_lexer": "ipython3",
   "version": "3.10.8"
  },
  "orig_nbformat": 4
 },
 "nbformat": 4,
 "nbformat_minor": 2
}
